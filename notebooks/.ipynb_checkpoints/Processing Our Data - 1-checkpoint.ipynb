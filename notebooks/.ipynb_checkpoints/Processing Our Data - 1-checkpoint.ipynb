{
 "cells": [
  {
   "cell_type": "markdown",
   "id": "31bc2204-42bc-4f94-9ded-c1d49199631a",
   "metadata": {},
   "source": [
    "# Processing Our Data - 1"
   ]
  },
  {
   "cell_type": "code",
   "execution_count": 1,
   "id": "82da18a1-a3db-4ada-9b92-fb4e605e2474",
   "metadata": {},
   "outputs": [],
   "source": [
    "from astropy.io import fits\n",
    "import pandas as pd\n",
    "import numpy as np\n",
    "import os\n",
    "import re\n",
    "from concurrent.futures import ThreadPoolExecutor, as_completed\n",
    "import time\n",
    "from tqdm import tqdm\n",
    "import requests\n",
    "from scipy.interpolate import interp1d\n",
    "from astropy.io import fits\n",
    "import matplotlib.pyplot as plt\n",
    "from sklearn.manifold import TSNE\n",
    "import seaborn as sns\n",
    "from sklearn.preprocessing import StandardScaler"
   ]
  },
  {
   "cell_type": "code",
   "execution_count": 3,
   "id": "6d9e4f8e-a6fb-436c-996a-4d142031a25e",
   "metadata": {},
   "outputs": [],
   "source": [
    "accessed_star_database = fits.open(\"../data/specObj-dr17.fits\")"
   ]
  },
  {
   "cell_type": "code",
   "execution_count": 4,
   "id": "3537723f-98ea-483e-951b-caf8c4569fa6",
   "metadata": {},
   "outputs": [
    {
     "name": "stdout",
     "output_type": "stream",
     "text": [
      "Filename: ../data/specObj-dr17.fits\n",
      "No.    Name      Ver    Type      Cards   Dimensions   Format\n",
      "  0  PRIMARY       1 PrimaryHDU       6   ()      \n",
      "  1                1 BinTableHDU    283   5801200R x 133C   [6A, 4A, 16A, 27A, 16A, 8A, E, E, E, J, E, E, J, B, B, B, B, B, B, B, J, 22A, 19A, 19A, 22A, 20A, I, 4A, 7A, 7A, J, D, D, D, E, E, 25A, 8A, K, J, J, J, J, J, K, K, J, J, J, J, J, J, K, K, K, K, K, K, K, K, I, J, J, J, J, 5J, D, D, 6A, 21A, E, E, E, J, E, 24A, 10J, J, 10E, E, E, E, E, E, E, J, E, E, E, J, E, 5E, E, 10E, 10E, 10E, 5E, 5E, 5E, 5E, 5E, J, J, E, E, E, E, E, E, 25A, 21A, 12A, E, E, E, E, E, E, E, E, J, E, E, J, 6A, 21A, E, E, J, J, A, 5E, 5E]   \n"
     ]
    }
   ],
   "source": [
    "accessed_star_database.info()"
   ]
  },
  {
   "cell_type": "code",
   "execution_count": 5,
   "id": "5d72ba6a-1365-47ea-a51e-860d93e331be",
   "metadata": {},
   "outputs": [
    {
     "name": "stdout",
     "output_type": "stream",
     "text": [
      "['SURVEY', 'INSTRUMENT', 'CHUNK', 'PROGRAMNAME', 'PLATERUN', 'PLATEQUALITY', 'PLATESN2', 'DEREDSN2', 'LAMBDA_EFF', 'BLUEFIBER', 'ZOFFSET', 'SNTURNOFF', 'NTURNOFF', 'SPECPRIMARY', 'SPECSDSS', 'SPECLEGACY', 'SPECSEGUE', 'SPECSEGUE1', 'SPECSEGUE2', 'SPECBOSS', 'BOSS_SPECOBJ_ID', 'SPECOBJID', 'FLUXOBJID', 'BESTOBJID', 'TARGETOBJID', 'PLATEID', 'NSPECOBS', 'FIRSTRELEASE', 'RUN2D', 'RUN1D', 'DESIGNID', 'CX', 'CY', 'CZ', 'XFOCAL', 'YFOCAL', 'SOURCETYPE', 'TARGETTYPE', 'THING_ID_TARGETING', 'THING_ID', 'PRIMTARGET', 'SECTARGET', 'LEGACY_TARGET1', 'LEGACY_TARGET2', 'SPECIAL_TARGET1', 'SPECIAL_TARGET2', 'SEGUE1_TARGET1', 'SEGUE1_TARGET2', 'SEGUE2_TARGET1', 'SEGUE2_TARGET2', 'MARVELS_TARGET1', 'MARVELS_TARGET2', 'BOSS_TARGET1', 'BOSS_TARGET2', 'EBOSS_TARGET0', 'EBOSS_TARGET1', 'EBOSS_TARGET2', 'EBOSS_TARGET_ID', 'ANCILLARY_TARGET1', 'ANCILLARY_TARGET2', 'SPECTROGRAPHID', 'PLATE', 'TILE', 'MJD', 'FIBERID', 'OBJID', 'PLUG_RA', 'PLUG_DEC', 'CLASS', 'SUBCLASS', 'Z', 'Z_ERR', 'RCHI2', 'DOF', 'RCHI2DIFF', 'TFILE', 'TCOLUMN', 'NPOLY', 'THETA', 'VDISP', 'VDISP_ERR', 'VDISPZ', 'VDISPZ_ERR', 'VDISPCHI2', 'VDISPNPIX', 'VDISPDOF', 'WAVEMIN', 'WAVEMAX', 'WCOVERAGE', 'ZWARNING', 'SN_MEDIAN_ALL', 'SN_MEDIAN', 'CHI68P', 'FRACNSIGMA', 'FRACNSIGHI', 'FRACNSIGLO', 'SPECTROFLUX', 'SPECTROFLUX_IVAR', 'SPECTROSYNFLUX', 'SPECTROSYNFLUX_IVAR', 'SPECTROSKYFLUX', 'ANYANDMASK', 'ANYORMASK', 'SPEC1_G', 'SPEC1_R', 'SPEC1_I', 'SPEC2_G', 'SPEC2_R', 'SPEC2_I', 'ELODIE_FILENAME', 'ELODIE_OBJECT', 'ELODIE_SPTYPE', 'ELODIE_BV', 'ELODIE_TEFF', 'ELODIE_LOGG', 'ELODIE_FEH', 'ELODIE_Z', 'ELODIE_Z_ERR', 'ELODIE_Z_MODELERR', 'ELODIE_RCHI2', 'ELODIE_DOF', 'Z_NOQSO', 'Z_ERR_NOQSO', 'ZWARNING_NOQSO', 'CLASS_NOQSO', 'SUBCLASS_NOQSO', 'RCHI2DIFF_NOQSO', 'Z_PERSON', 'CLASS_PERSON', 'Z_CONF_PERSON', 'COMMENTS_PERSON', 'CALIBFLUX', 'CALIBFLUX_IVAR']\n"
     ]
    }
   ],
   "source": [
    "binary_table = accessed_star_database[1].data\n",
    "print(binary_table.columns.names)"
   ]
  },
  {
   "cell_type": "code",
   "execution_count": 6,
   "id": "1ee98b46-8b0f-47d6-a67c-f63289007a62",
   "metadata": {},
   "outputs": [
    {
     "data": {
      "text/html": [
       "<div>\n",
       "<style scoped>\n",
       "    .dataframe tbody tr th:only-of-type {\n",
       "        vertical-align: middle;\n",
       "    }\n",
       "\n",
       "    .dataframe tbody tr th {\n",
       "        vertical-align: top;\n",
       "    }\n",
       "\n",
       "    .dataframe thead th {\n",
       "        text-align: right;\n",
       "    }\n",
       "</style>\n",
       "<table border=\"1\" class=\"dataframe\">\n",
       "  <thead>\n",
       "    <tr style=\"text-align: right;\">\n",
       "      <th></th>\n",
       "      <th>SURVEY</th>\n",
       "      <th>INSTRUMENT</th>\n",
       "      <th>CHUNK</th>\n",
       "      <th>PROGRAMNAME</th>\n",
       "      <th>PLATERUN</th>\n",
       "      <th>PLATEQUALITY</th>\n",
       "      <th>PLATESN2</th>\n",
       "      <th>DEREDSN2</th>\n",
       "      <th>LAMBDA_EFF</th>\n",
       "      <th>BLUEFIBER</th>\n",
       "      <th>ZOFFSET</th>\n",
       "      <th>SNTURNOFF</th>\n",
       "      <th>NTURNOFF</th>\n",
       "      <th>SPECPRIMARY</th>\n",
       "      <th>SPECSDSS</th>\n",
       "      <th>SPECLEGACY</th>\n",
       "      <th>SPECSEGUE</th>\n",
       "      <th>SPECSEGUE1</th>\n",
       "      <th>SPECSEGUE2</th>\n",
       "      <th>SPECBOSS</th>\n",
       "      <th>BOSS_SPECOBJ_ID</th>\n",
       "      <th>SPECOBJID</th>\n",
       "      <th>FLUXOBJID</th>\n",
       "      <th>BESTOBJID</th>\n",
       "      <th>TARGETOBJID</th>\n",
       "      <th>PLATEID</th>\n",
       "      <th>NSPECOBS</th>\n",
       "      <th>FIRSTRELEASE</th>\n",
       "      <th>RUN2D</th>\n",
       "      <th>RUN1D</th>\n",
       "      <th>DESIGNID</th>\n",
       "      <th>CX</th>\n",
       "      <th>CY</th>\n",
       "      <th>CZ</th>\n",
       "      <th>XFOCAL</th>\n",
       "      <th>YFOCAL</th>\n",
       "      <th>SOURCETYPE</th>\n",
       "      <th>TARGETTYPE</th>\n",
       "      <th>THING_ID_TARGETING</th>\n",
       "      <th>THING_ID</th>\n",
       "      <th>PRIMTARGET</th>\n",
       "      <th>SECTARGET</th>\n",
       "      <th>LEGACY_TARGET1</th>\n",
       "      <th>LEGACY_TARGET2</th>\n",
       "      <th>SPECIAL_TARGET1</th>\n",
       "      <th>SPECIAL_TARGET2</th>\n",
       "      <th>SEGUE1_TARGET1</th>\n",
       "      <th>SEGUE1_TARGET2</th>\n",
       "      <th>SEGUE2_TARGET1</th>\n",
       "      <th>SEGUE2_TARGET2</th>\n",
       "      <th>MARVELS_TARGET1</th>\n",
       "      <th>MARVELS_TARGET2</th>\n",
       "      <th>BOSS_TARGET1</th>\n",
       "      <th>BOSS_TARGET2</th>\n",
       "      <th>EBOSS_TARGET0</th>\n",
       "      <th>EBOSS_TARGET1</th>\n",
       "      <th>EBOSS_TARGET2</th>\n",
       "      <th>EBOSS_TARGET_ID</th>\n",
       "      <th>ANCILLARY_TARGET1</th>\n",
       "      <th>ANCILLARY_TARGET2</th>\n",
       "      <th>SPECTROGRAPHID</th>\n",
       "      <th>PLATE</th>\n",
       "      <th>TILE</th>\n",
       "      <th>MJD</th>\n",
       "      <th>FIBERID</th>\n",
       "      <th>OBJID</th>\n",
       "      <th>PLUG_RA</th>\n",
       "      <th>PLUG_DEC</th>\n",
       "      <th>CLASS</th>\n",
       "      <th>SUBCLASS</th>\n",
       "      <th>Z</th>\n",
       "      <th>Z_ERR</th>\n",
       "      <th>RCHI2</th>\n",
       "      <th>DOF</th>\n",
       "      <th>RCHI2DIFF</th>\n",
       "      <th>TFILE</th>\n",
       "      <th>TCOLUMN</th>\n",
       "      <th>NPOLY</th>\n",
       "      <th>THETA</th>\n",
       "      <th>VDISP</th>\n",
       "      <th>VDISP_ERR</th>\n",
       "      <th>VDISPZ</th>\n",
       "      <th>VDISPZ_ERR</th>\n",
       "      <th>VDISPCHI2</th>\n",
       "      <th>VDISPNPIX</th>\n",
       "      <th>VDISPDOF</th>\n",
       "      <th>WAVEMIN</th>\n",
       "      <th>WAVEMAX</th>\n",
       "      <th>WCOVERAGE</th>\n",
       "      <th>ZWARNING</th>\n",
       "      <th>SN_MEDIAN_ALL</th>\n",
       "      <th>SN_MEDIAN</th>\n",
       "      <th>CHI68P</th>\n",
       "      <th>FRACNSIGMA</th>\n",
       "      <th>FRACNSIGHI</th>\n",
       "      <th>FRACNSIGLO</th>\n",
       "      <th>SPECTROFLUX</th>\n",
       "      <th>SPECTROFLUX_IVAR</th>\n",
       "      <th>SPECTROSYNFLUX</th>\n",
       "      <th>SPECTROSYNFLUX_IVAR</th>\n",
       "      <th>SPECTROSKYFLUX</th>\n",
       "      <th>ANYANDMASK</th>\n",
       "      <th>ANYORMASK</th>\n",
       "      <th>SPEC1_G</th>\n",
       "      <th>SPEC1_R</th>\n",
       "      <th>SPEC1_I</th>\n",
       "      <th>SPEC2_G</th>\n",
       "      <th>SPEC2_R</th>\n",
       "      <th>SPEC2_I</th>\n",
       "      <th>ELODIE_FILENAME</th>\n",
       "      <th>ELODIE_OBJECT</th>\n",
       "      <th>ELODIE_SPTYPE</th>\n",
       "      <th>ELODIE_BV</th>\n",
       "      <th>ELODIE_TEFF</th>\n",
       "      <th>ELODIE_LOGG</th>\n",
       "      <th>ELODIE_FEH</th>\n",
       "      <th>ELODIE_Z</th>\n",
       "      <th>ELODIE_Z_ERR</th>\n",
       "      <th>ELODIE_Z_MODELERR</th>\n",
       "      <th>ELODIE_RCHI2</th>\n",
       "      <th>ELODIE_DOF</th>\n",
       "      <th>Z_NOQSO</th>\n",
       "      <th>Z_ERR_NOQSO</th>\n",
       "      <th>ZWARNING_NOQSO</th>\n",
       "      <th>CLASS_NOQSO</th>\n",
       "      <th>SUBCLASS_NOQSO</th>\n",
       "      <th>RCHI2DIFF_NOQSO</th>\n",
       "      <th>Z_PERSON</th>\n",
       "      <th>CLASS_PERSON</th>\n",
       "      <th>Z_CONF_PERSON</th>\n",
       "      <th>COMMENTS_PERSON</th>\n",
       "      <th>CALIBFLUX</th>\n",
       "      <th>CALIBFLUX_IVAR</th>\n",
       "    </tr>\n",
       "  </thead>\n",
       "  <tbody>\n",
       "    <tr>\n",
       "      <th>0</th>\n",
       "      <td>sdss</td>\n",
       "      <td>SDSS</td>\n",
       "      <td>chunk4</td>\n",
       "      <td>legacy</td>\n",
       "      <td>chunk4</td>\n",
       "      <td>bad</td>\n",
       "      <td>7.67533</td>\n",
       "      <td>0.0</td>\n",
       "      <td>5000.0</td>\n",
       "      <td>-1</td>\n",
       "      <td>0.0</td>\n",
       "      <td>-9999.0</td>\n",
       "      <td>-1</td>\n",
       "      <td>0</td>\n",
       "      <td>0</td>\n",
       "      <td>0</td>\n",
       "      <td>0</td>\n",
       "      <td>0</td>\n",
       "      <td>0</td>\n",
       "      <td>0</td>\n",
       "      <td>0</td>\n",
       "      <td>299489676975171584</td>\n",
       "      <td>1237648720142401611</td>\n",
       "      <td>1237648720142401611</td>\n",
       "      <td>284722522357889</td>\n",
       "      <td>299489402097264640</td>\n",
       "      <td>2</td>\n",
       "      <td>dr7</td>\n",
       "      <td>26</td>\n",
       "      <td></td>\n",
       "      <td>-1</td>\n",
       "      <td>-0.835805</td>\n",
       "      <td>0.548725</td>\n",
       "      <td>-0.018173</td>\n",
       "      <td>179.036087</td>\n",
       "      <td>-240.321457</td>\n",
       "      <td>GALAXY</td>\n",
       "      <td>SCIENCE</td>\n",
       "      <td>0</td>\n",
       "      <td>0</td>\n",
       "      <td>96</td>\n",
       "      <td>0</td>\n",
       "      <td>96</td>\n",
       "      <td>0</td>\n",
       "      <td>0</td>\n",
       "      <td>0</td>\n",
       "      <td>0</td>\n",
       "      <td>0</td>\n",
       "      <td>0</td>\n",
       "      <td>0</td>\n",
       "      <td>0</td>\n",
       "      <td>0</td>\n",
       "      <td>0</td>\n",
       "      <td>0</td>\n",
       "      <td>0</td>\n",
       "      <td>0</td>\n",
       "      <td>0</td>\n",
       "      <td>0</td>\n",
       "      <td>0</td>\n",
       "      <td>0</td>\n",
       "      <td>1</td>\n",
       "      <td>266</td>\n",
       "      <td>122</td>\n",
       "      <td>51602</td>\n",
       "      <td>1</td>\n",
       "      <td>[756, 1, 1, 206, 129]</td>\n",
       "      <td>146.71421</td>\n",
       "      <td>-1.041304</td>\n",
       "      <td>GALAXY</td>\n",
       "      <td></td>\n",
       "      <td>0.021275</td>\n",
       "      <td>0.000009</td>\n",
       "      <td>1.074070</td>\n",
       "      <td>3770</td>\n",
       "      <td>3.873685</td>\n",
       "      <td>spEigenGal-53724.fits</td>\n",
       "      <td>[0, 1, 2, 3, -1, -1, -1, -1, -1, -1]</td>\n",
       "      <td>3</td>\n",
       "      <td>[0.010862293653190136, -0.0225241519510746, -0...</td>\n",
       "      <td>135.899567</td>\n",
       "      <td>4.085766</td>\n",
       "      <td>0.0</td>\n",
       "      <td>0.0</td>\n",
       "      <td>1677.303467</td>\n",
       "      <td>2168.0</td>\n",
       "      <td>2117</td>\n",
       "      <td>3806.273682</td>\n",
       "      <td>9202.376953</td>\n",
       "      <td>0.3777</td>\n",
       "      <td>0</td>\n",
       "      <td>38.055374</td>\n",
       "      <td>[5.470128536224365, 30.580841064453125, 45.513...</td>\n",
       "      <td>0.961614</td>\n",
       "      <td>[0.30076780915260315, 0.056129202246665955, 0....</td>\n",
       "      <td>[0.15064866840839386, 0.02621127851307392, 0.0...</td>\n",
       "      <td>[0.1501191407442093, 0.029917923733592033, 0.0...</td>\n",
       "      <td>[47.65951919555664, 140.48928833007812, 325.88...</td>\n",
       "      <td>[1.3083244562149048, 3.5849850177764893, 2.237...</td>\n",
       "      <td>[39.69293975830078, 140.70152282714844, 326.07...</td>\n",
       "      <td>[2.9729716777801514, 3.7280795574188232, 2.342...</td>\n",
       "      <td>[9.833003044128418, 15.357330322265625, 37.866...</td>\n",
       "      <td>230752256</td>\n",
       "      <td>266272768</td>\n",
       "      <td>20.858</td>\n",
       "      <td>16.172701</td>\n",
       "      <td>13.4718</td>\n",
       "      <td>13.3075</td>\n",
       "      <td>10.6615</td>\n",
       "      <td>7.67533</td>\n",
       "      <td></td>\n",
       "      <td></td>\n",
       "      <td></td>\n",
       "      <td>0.0</td>\n",
       "      <td>0.0</td>\n",
       "      <td>0.0</td>\n",
       "      <td>0.0</td>\n",
       "      <td>0.0</td>\n",
       "      <td>0.0</td>\n",
       "      <td>0.0</td>\n",
       "      <td>0.0</td>\n",
       "      <td>0</td>\n",
       "      <td>0.0</td>\n",
       "      <td>0.0</td>\n",
       "      <td>0</td>\n",
       "      <td></td>\n",
       "      <td></td>\n",
       "      <td>0.0</td>\n",
       "      <td>0.0</td>\n",
       "      <td>0</td>\n",
       "      <td>0</td>\n",
       "      <td></td>\n",
       "      <td>[30.75096321105957, 141.45950317382812, 329.55...</td>\n",
       "      <td>[3.9342143535614014, 5.019459247589111, 2.6404...</td>\n",
       "    </tr>\n",
       "    <tr>\n",
       "      <th>1</th>\n",
       "      <td>sdss</td>\n",
       "      <td>SDSS</td>\n",
       "      <td>chunk4</td>\n",
       "      <td>legacy</td>\n",
       "      <td>chunk4</td>\n",
       "      <td>bad</td>\n",
       "      <td>7.67533</td>\n",
       "      <td>0.0</td>\n",
       "      <td>5000.0</td>\n",
       "      <td>-1</td>\n",
       "      <td>0.0</td>\n",
       "      <td>-9999.0</td>\n",
       "      <td>-1</td>\n",
       "      <td>0</td>\n",
       "      <td>0</td>\n",
       "      <td>0</td>\n",
       "      <td>0</td>\n",
       "      <td>0</td>\n",
       "      <td>0</td>\n",
       "      <td>0</td>\n",
       "      <td>0</td>\n",
       "      <td>299489951853078528</td>\n",
       "      <td>1237648720142532891</td>\n",
       "      <td>1237648720142532891</td>\n",
       "      <td>284722522489067</td>\n",
       "      <td>299489402097264640</td>\n",
       "      <td>2</td>\n",
       "      <td>dr7</td>\n",
       "      <td>26</td>\n",
       "      <td></td>\n",
       "      <td>-1</td>\n",
       "      <td>-0.837779</td>\n",
       "      <td>0.545736</td>\n",
       "      <td>-0.017286</td>\n",
       "      <td>223.895264</td>\n",
       "      <td>-229.371475</td>\n",
       "      <td>GALAXY</td>\n",
       "      <td>SCIENCE</td>\n",
       "      <td>0</td>\n",
       "      <td>0</td>\n",
       "      <td>64</td>\n",
       "      <td>0</td>\n",
       "      <td>64</td>\n",
       "      <td>0</td>\n",
       "      <td>0</td>\n",
       "      <td>0</td>\n",
       "      <td>0</td>\n",
       "      <td>0</td>\n",
       "      <td>0</td>\n",
       "      <td>0</td>\n",
       "      <td>0</td>\n",
       "      <td>0</td>\n",
       "      <td>0</td>\n",
       "      <td>0</td>\n",
       "      <td>0</td>\n",
       "      <td>0</td>\n",
       "      <td>0</td>\n",
       "      <td>0</td>\n",
       "      <td>0</td>\n",
       "      <td>0</td>\n",
       "      <td>1</td>\n",
       "      <td>266</td>\n",
       "      <td>122</td>\n",
       "      <td>51602</td>\n",
       "      <td>2</td>\n",
       "      <td>[756, 1, 1, 208, 235]</td>\n",
       "      <td>146.91945</td>\n",
       "      <td>-0.990492</td>\n",
       "      <td>GALAXY</td>\n",
       "      <td></td>\n",
       "      <td>0.213925</td>\n",
       "      <td>0.000052</td>\n",
       "      <td>1.331336</td>\n",
       "      <td>3781</td>\n",
       "      <td>0.179131</td>\n",
       "      <td>spEigenGal-53724.fits</td>\n",
       "      <td>[0, 1, 2, 3, -1, -1, -1, -1, -1, -1]</td>\n",
       "      <td>3</td>\n",
       "      <td>[0.0010820967145264149, -0.0007276945398189127...</td>\n",
       "      <td>140.481186</td>\n",
       "      <td>15.037567</td>\n",
       "      <td>0.0</td>\n",
       "      <td>0.0</td>\n",
       "      <td>2411.130859</td>\n",
       "      <td>2168.0</td>\n",
       "      <td>2117</td>\n",
       "      <td>3806.273682</td>\n",
       "      <td>9202.376953</td>\n",
       "      <td>0.3788</td>\n",
       "      <td>0</td>\n",
       "      <td>6.404140</td>\n",
       "      <td>[0.2876650393009186, 2.889864921569824, 8.0417...</td>\n",
       "      <td>1.128138</td>\n",
       "      <td>[0.3732840418815613, 0.08236536383628845, 0.01...</td>\n",
       "      <td>[0.1906019002199173, 0.035902850329875946, 0.0...</td>\n",
       "      <td>[0.18268215656280518, 0.046462513506412506, 0....</td>\n",
       "      <td>[1.6532617807388306, 7.8250813484191895, 25.46...</td>\n",
       "      <td>[1.3083244562149048, 3.5849850177764893, 2.237...</td>\n",
       "      <td>[2.3984920978546143, 7.62562894821167, 26.0012...</td>\n",
       "      <td>[2.9729716777801514, 3.7280795574188232, 2.342...</td>\n",
       "      <td>[8.733312606811523, 14.05916976928711, 35.1544...</td>\n",
       "      <td>231800832</td>\n",
       "      <td>266272768</td>\n",
       "      <td>20.858</td>\n",
       "      <td>16.172701</td>\n",
       "      <td>13.4718</td>\n",
       "      <td>13.3075</td>\n",
       "      <td>10.6615</td>\n",
       "      <td>7.67533</td>\n",
       "      <td></td>\n",
       "      <td></td>\n",
       "      <td></td>\n",
       "      <td>0.0</td>\n",
       "      <td>0.0</td>\n",
       "      <td>0.0</td>\n",
       "      <td>0.0</td>\n",
       "      <td>0.0</td>\n",
       "      <td>0.0</td>\n",
       "      <td>0.0</td>\n",
       "      <td>0.0</td>\n",
       "      <td>0</td>\n",
       "      <td>0.0</td>\n",
       "      <td>0.0</td>\n",
       "      <td>0</td>\n",
       "      <td></td>\n",
       "      <td></td>\n",
       "      <td>0.0</td>\n",
       "      <td>0.0</td>\n",
       "      <td>0</td>\n",
       "      <td>0</td>\n",
       "      <td></td>\n",
       "      <td>[1.1392210721969604, 8.036629676818848, 26.473...</td>\n",
       "      <td>[21.752548217773438, 30.54243278503418, 11.013...</td>\n",
       "    </tr>\n",
       "    <tr>\n",
       "      <th>2</th>\n",
       "      <td>sdss</td>\n",
       "      <td>SDSS</td>\n",
       "      <td>chunk4</td>\n",
       "      <td>legacy</td>\n",
       "      <td>chunk4</td>\n",
       "      <td>bad</td>\n",
       "      <td>7.67533</td>\n",
       "      <td>0.0</td>\n",
       "      <td>5000.0</td>\n",
       "      <td>-1</td>\n",
       "      <td>0.0</td>\n",
       "      <td>-9999.0</td>\n",
       "      <td>-1</td>\n",
       "      <td>0</td>\n",
       "      <td>0</td>\n",
       "      <td>0</td>\n",
       "      <td>0</td>\n",
       "      <td>0</td>\n",
       "      <td>0</td>\n",
       "      <td>0</td>\n",
       "      <td>0</td>\n",
       "      <td>299490226730985472</td>\n",
       "      <td>1237648720142532813</td>\n",
       "      <td>1237648720142532813</td>\n",
       "      <td>284722522489016</td>\n",
       "      <td>299489402097264640</td>\n",
       "      <td>2</td>\n",
       "      <td>dr7</td>\n",
       "      <td>26</td>\n",
       "      <td></td>\n",
       "      <td>-1</td>\n",
       "      <td>-0.837617</td>\n",
       "      <td>0.545988</td>\n",
       "      <td>-0.017189</td>\n",
       "      <td>220.129578</td>\n",
       "      <td>-228.130875</td>\n",
       "      <td>SERENDIPITY_BLUE</td>\n",
       "      <td>SCIENCE</td>\n",
       "      <td>0</td>\n",
       "      <td>0</td>\n",
       "      <td>34603008</td>\n",
       "      <td>0</td>\n",
       "      <td>34603008</td>\n",
       "      <td>0</td>\n",
       "      <td>0</td>\n",
       "      <td>0</td>\n",
       "      <td>0</td>\n",
       "      <td>0</td>\n",
       "      <td>0</td>\n",
       "      <td>0</td>\n",
       "      <td>0</td>\n",
       "      <td>0</td>\n",
       "      <td>0</td>\n",
       "      <td>0</td>\n",
       "      <td>0</td>\n",
       "      <td>0</td>\n",
       "      <td>0</td>\n",
       "      <td>0</td>\n",
       "      <td>0</td>\n",
       "      <td>0</td>\n",
       "      <td>1</td>\n",
       "      <td>266</td>\n",
       "      <td>122</td>\n",
       "      <td>51602</td>\n",
       "      <td>3</td>\n",
       "      <td>[756, 1, 1, 208, 184]</td>\n",
       "      <td>146.90229</td>\n",
       "      <td>-0.984913</td>\n",
       "      <td>QSO</td>\n",
       "      <td>BROADLINE</td>\n",
       "      <td>0.652181</td>\n",
       "      <td>0.000133</td>\n",
       "      <td>1.387463</td>\n",
       "      <td>3756</td>\n",
       "      <td>0.168601</td>\n",
       "      <td>spEigenQSO-53724.fits</td>\n",
       "      <td>[0, 1, 2, 3, -1, -1, -1, -1, -1, -1]</td>\n",
       "      <td>3</td>\n",
       "      <td>[0.0006699670339003205, 4.1416144085815176e-05...</td>\n",
       "      <td>0.000000</td>\n",
       "      <td>0.000000</td>\n",
       "      <td>0.0</td>\n",
       "      <td>0.0</td>\n",
       "      <td>0.000000</td>\n",
       "      <td>0.0</td>\n",
       "      <td>0</td>\n",
       "      <td>3806.273682</td>\n",
       "      <td>9202.376953</td>\n",
       "      <td>0.3763</td>\n",
       "      <td>0</td>\n",
       "      <td>4.462337</td>\n",
       "      <td>[1.3341540098190308, 4.842894077301025, 4.8376...</td>\n",
       "      <td>1.134175</td>\n",
       "      <td>[0.3818761706352234, 0.09061918407678604, 0.01...</td>\n",
       "      <td>[0.18974222242832184, 0.04251926764845848, 0.0...</td>\n",
       "      <td>[0.19213393330574036, 0.04809992015361786, 0.0...</td>\n",
       "      <td>[5.1434478759765625, 11.376154899597168, 12.80...</td>\n",
       "      <td>[1.3083244562149048, 3.5849850177764893, 2.237...</td>\n",
       "      <td>[8.045738220214844, 11.113998413085938, 13.359...</td>\n",
       "      <td>[2.9729716777801514, 3.7280795574188232, 2.342...</td>\n",
       "      <td>[8.635135650634766, 13.784728050231934, 33.306...</td>\n",
       "      <td>231866368</td>\n",
       "      <td>266272768</td>\n",
       "      <td>20.858</td>\n",
       "      <td>16.172701</td>\n",
       "      <td>13.4718</td>\n",
       "      <td>13.3075</td>\n",
       "      <td>10.6615</td>\n",
       "      <td>7.67533</td>\n",
       "      <td></td>\n",
       "      <td></td>\n",
       "      <td></td>\n",
       "      <td>0.0</td>\n",
       "      <td>0.0</td>\n",
       "      <td>0.0</td>\n",
       "      <td>0.0</td>\n",
       "      <td>0.0</td>\n",
       "      <td>0.0</td>\n",
       "      <td>0.0</td>\n",
       "      <td>0.0</td>\n",
       "      <td>0</td>\n",
       "      <td>0.0</td>\n",
       "      <td>0.0</td>\n",
       "      <td>0</td>\n",
       "      <td></td>\n",
       "      <td></td>\n",
       "      <td>0.0</td>\n",
       "      <td>0.0</td>\n",
       "      <td>0</td>\n",
       "      <td>0</td>\n",
       "      <td></td>\n",
       "      <td>[10.227895736694336, 14.073773384094238, 15.54...</td>\n",
       "      <td>[8.148686408996582, 9.667607307434082, 12.6257...</td>\n",
       "    </tr>\n",
       "    <tr>\n",
       "      <th>3</th>\n",
       "      <td>sdss</td>\n",
       "      <td>SDSS</td>\n",
       "      <td>chunk4</td>\n",
       "      <td>legacy</td>\n",
       "      <td>chunk4</td>\n",
       "      <td>bad</td>\n",
       "      <td>7.67533</td>\n",
       "      <td>0.0</td>\n",
       "      <td>5000.0</td>\n",
       "      <td>-1</td>\n",
       "      <td>0.0</td>\n",
       "      <td>-9999.0</td>\n",
       "      <td>-1</td>\n",
       "      <td>0</td>\n",
       "      <td>0</td>\n",
       "      <td>0</td>\n",
       "      <td>0</td>\n",
       "      <td>0</td>\n",
       "      <td>0</td>\n",
       "      <td>0</td>\n",
       "      <td>0</td>\n",
       "      <td>299490501608892416</td>\n",
       "      <td>1237650795146576030</td>\n",
       "      <td>1237650795146576030</td>\n",
       "      <td>284705867301092</td>\n",
       "      <td>299489402097264640</td>\n",
       "      <td>2</td>\n",
       "      <td>dr7</td>\n",
       "      <td>26</td>\n",
       "      <td></td>\n",
       "      <td>-1</td>\n",
       "      <td>-0.837252</td>\n",
       "      <td>0.546635</td>\n",
       "      <td>-0.014118</td>\n",
       "      <td>210.720093</td>\n",
       "      <td>-189.606415</td>\n",
       "      <td>GALAXY</td>\n",
       "      <td>SCIENCE</td>\n",
       "      <td>0</td>\n",
       "      <td>0</td>\n",
       "      <td>96</td>\n",
       "      <td>0</td>\n",
       "      <td>96</td>\n",
       "      <td>0</td>\n",
       "      <td>0</td>\n",
       "      <td>0</td>\n",
       "      <td>0</td>\n",
       "      <td>0</td>\n",
       "      <td>0</td>\n",
       "      <td>0</td>\n",
       "      <td>0</td>\n",
       "      <td>0</td>\n",
       "      <td>0</td>\n",
       "      <td>0</td>\n",
       "      <td>0</td>\n",
       "      <td>0</td>\n",
       "      <td>0</td>\n",
       "      <td>0</td>\n",
       "      <td>0</td>\n",
       "      <td>0</td>\n",
       "      <td>1</td>\n",
       "      <td>266</td>\n",
       "      <td>122</td>\n",
       "      <td>51602</td>\n",
       "      <td>4</td>\n",
       "      <td>[752, 1, 2, 22, 228]</td>\n",
       "      <td>146.85983</td>\n",
       "      <td>-0.808902</td>\n",
       "      <td>GALAXY</td>\n",
       "      <td></td>\n",
       "      <td>0.126554</td>\n",
       "      <td>0.000062</td>\n",
       "      <td>1.338671</td>\n",
       "      <td>3763</td>\n",
       "      <td>0.153335</td>\n",
       "      <td>spEigenGal-53724.fits</td>\n",
       "      <td>[0, 1, 2, 3, -1, -1, -1, -1, -1, -1]</td>\n",
       "      <td>3</td>\n",
       "      <td>[0.000867346883751452, -0.003348070429638028, ...</td>\n",
       "      <td>201.574417</td>\n",
       "      <td>18.037975</td>\n",
       "      <td>0.0</td>\n",
       "      <td>0.0</td>\n",
       "      <td>2355.973389</td>\n",
       "      <td>2168.0</td>\n",
       "      <td>2117</td>\n",
       "      <td>3806.273682</td>\n",
       "      <td>9202.376953</td>\n",
       "      <td>0.3770</td>\n",
       "      <td>0</td>\n",
       "      <td>9.002916</td>\n",
       "      <td>[0.47428926825523376, 3.984527349472046, 11.33...</td>\n",
       "      <td>1.126414</td>\n",
       "      <td>[0.3718833029270172, 0.07877983897924423, 0.01...</td>\n",
       "      <td>[0.17851458489894867, 0.03156498819589615, 0.0...</td>\n",
       "      <td>[0.19336870312690735, 0.04721485450863838, 0.0...</td>\n",
       "      <td>[1.749979019165039, 9.648141860961914, 35.3430...</td>\n",
       "      <td>[1.3083244562149048, 3.5849850177764893, 2.237...</td>\n",
       "      <td>[2.5969996452331543, 9.484541893005371, 35.986...</td>\n",
       "      <td>[2.9729716777801514, 3.7280795574188232, 2.342...</td>\n",
       "      <td>[8.019085884094238, 13.614726066589355, 34.820...</td>\n",
       "      <td>230686720</td>\n",
       "      <td>266272768</td>\n",
       "      <td>20.858</td>\n",
       "      <td>16.172701</td>\n",
       "      <td>13.4718</td>\n",
       "      <td>13.3075</td>\n",
       "      <td>10.6615</td>\n",
       "      <td>7.67533</td>\n",
       "      <td></td>\n",
       "      <td></td>\n",
       "      <td></td>\n",
       "      <td>0.0</td>\n",
       "      <td>0.0</td>\n",
       "      <td>0.0</td>\n",
       "      <td>0.0</td>\n",
       "      <td>0.0</td>\n",
       "      <td>0.0</td>\n",
       "      <td>0.0</td>\n",
       "      <td>0.0</td>\n",
       "      <td>0</td>\n",
       "      <td>0.0</td>\n",
       "      <td>0.0</td>\n",
       "      <td>0</td>\n",
       "      <td></td>\n",
       "      <td></td>\n",
       "      <td>0.0</td>\n",
       "      <td>0.0</td>\n",
       "      <td>0</td>\n",
       "      <td>0</td>\n",
       "      <td></td>\n",
       "      <td>[1.3684866428375244, 10.183870315551758, 37.32...</td>\n",
       "      <td>[7.134973526000977, 30.622377395629883, 9.4628...</td>\n",
       "    </tr>\n",
       "    <tr>\n",
       "      <th>4</th>\n",
       "      <td>sdss</td>\n",
       "      <td>SDSS</td>\n",
       "      <td>chunk4</td>\n",
       "      <td>legacy</td>\n",
       "      <td>chunk4</td>\n",
       "      <td>bad</td>\n",
       "      <td>7.67533</td>\n",
       "      <td>0.0</td>\n",
       "      <td>5000.0</td>\n",
       "      <td>-1</td>\n",
       "      <td>0.0</td>\n",
       "      <td>-9999.0</td>\n",
       "      <td>-1</td>\n",
       "      <td>0</td>\n",
       "      <td>0</td>\n",
       "      <td>0</td>\n",
       "      <td>0</td>\n",
       "      <td>0</td>\n",
       "      <td>0</td>\n",
       "      <td>0</td>\n",
       "      <td>0</td>\n",
       "      <td>299490776486799360</td>\n",
       "      <td>1237650795146510903</td>\n",
       "      <td>1237650795146510903</td>\n",
       "      <td>284705867235621</td>\n",
       "      <td>299489402097264640</td>\n",
       "      <td>2</td>\n",
       "      <td>dr7</td>\n",
       "      <td>26</td>\n",
       "      <td></td>\n",
       "      <td>-1</td>\n",
       "      <td>-0.836331</td>\n",
       "      <td>0.548043</td>\n",
       "      <td>-0.014144</td>\n",
       "      <td>189.665039</td>\n",
       "      <td>-189.899948</td>\n",
       "      <td>GALAXY</td>\n",
       "      <td>SCIENCE</td>\n",
       "      <td>0</td>\n",
       "      <td>0</td>\n",
       "      <td>2097184</td>\n",
       "      <td>0</td>\n",
       "      <td>2097184</td>\n",
       "      <td>0</td>\n",
       "      <td>0</td>\n",
       "      <td>0</td>\n",
       "      <td>0</td>\n",
       "      <td>0</td>\n",
       "      <td>0</td>\n",
       "      <td>0</td>\n",
       "      <td>0</td>\n",
       "      <td>0</td>\n",
       "      <td>0</td>\n",
       "      <td>0</td>\n",
       "      <td>0</td>\n",
       "      <td>0</td>\n",
       "      <td>0</td>\n",
       "      <td>0</td>\n",
       "      <td>0</td>\n",
       "      <td>0</td>\n",
       "      <td>1</td>\n",
       "      <td>266</td>\n",
       "      <td>122</td>\n",
       "      <td>51602</td>\n",
       "      <td>5</td>\n",
       "      <td>[752, 1, 2, 21, 293]</td>\n",
       "      <td>146.76339</td>\n",
       "      <td>-0.810433</td>\n",
       "      <td>GALAXY</td>\n",
       "      <td></td>\n",
       "      <td>0.448645</td>\n",
       "      <td>0.000168</td>\n",
       "      <td>1.435746</td>\n",
       "      <td>3759</td>\n",
       "      <td>0.026126</td>\n",
       "      <td>spEigenGal-53724.fits</td>\n",
       "      <td>[0, 1, 2, 3, -1, -1, -1, -1, -1, -1]</td>\n",
       "      <td>3</td>\n",
       "      <td>[0.0004937481135129929, -0.0001606452424312010...</td>\n",
       "      <td>240.905869</td>\n",
       "      <td>69.598114</td>\n",
       "      <td>0.0</td>\n",
       "      <td>0.0</td>\n",
       "      <td>2728.642578</td>\n",
       "      <td>1885.0</td>\n",
       "      <td>1834</td>\n",
       "      <td>3805.397217</td>\n",
       "      <td>9202.376953</td>\n",
       "      <td>0.3766</td>\n",
       "      <td>0</td>\n",
       "      <td>2.466020</td>\n",
       "      <td>[-0.02107129618525505, 0.9717487692832947, 3.3...</td>\n",
       "      <td>1.173724</td>\n",
       "      <td>[0.387944757938385, 0.09399893879890442, 0.014...</td>\n",
       "      <td>[0.19835369288921356, 0.04195432737469673, 0.0...</td>\n",
       "      <td>[0.18959107995033264, 0.05204461142420769, 0.0...</td>\n",
       "      <td>[0.2979826033115387, 1.5419867038726807, 8.321...</td>\n",
       "      <td>[1.3083244562149048, 3.5849850177764893, 2.237...</td>\n",
       "      <td>[-0.05787355825304985, 1.4583728313446045, 8.5...</td>\n",
       "      <td>[2.9729716777801514, 3.7280795574188232, 2.342...</td>\n",
       "      <td>[2.9183361530303955, 9.525053024291992, 32.136...</td>\n",
       "      <td>230686720</td>\n",
       "      <td>266272768</td>\n",
       "      <td>20.858</td>\n",
       "      <td>16.172701</td>\n",
       "      <td>13.4718</td>\n",
       "      <td>13.3075</td>\n",
       "      <td>10.6615</td>\n",
       "      <td>7.67533</td>\n",
       "      <td></td>\n",
       "      <td></td>\n",
       "      <td></td>\n",
       "      <td>0.0</td>\n",
       "      <td>0.0</td>\n",
       "      <td>0.0</td>\n",
       "      <td>0.0</td>\n",
       "      <td>0.0</td>\n",
       "      <td>0.0</td>\n",
       "      <td>0.0</td>\n",
       "      <td>0.0</td>\n",
       "      <td>0</td>\n",
       "      <td>0.0</td>\n",
       "      <td>0.0</td>\n",
       "      <td>0</td>\n",
       "      <td></td>\n",
       "      <td></td>\n",
       "      <td>0.0</td>\n",
       "      <td>0.0</td>\n",
       "      <td>0</td>\n",
       "      <td>0</td>\n",
       "      <td></td>\n",
       "      <td>[0.32376256585121155, 1.6755646467208862, 8.88...</td>\n",
       "      <td>[24.748685836791992, 47.7746696472168, 15.4170...</td>\n",
       "    </tr>\n",
       "  </tbody>\n",
       "</table>\n",
       "</div>"
      ],
      "text/plain": [
       "   SURVEY INSTRUMENT             CHUNK                  PROGRAMNAME  \\\n",
       "0  sdss         SDSS  chunk4            legacy                        \n",
       "1  sdss         SDSS  chunk4            legacy                        \n",
       "2  sdss         SDSS  chunk4            legacy                        \n",
       "3  sdss         SDSS  chunk4            legacy                        \n",
       "4  sdss         SDSS  chunk4            legacy                        \n",
       "\n",
       "           PLATERUN PLATEQUALITY  PLATESN2  DEREDSN2  LAMBDA_EFF  BLUEFIBER  \\\n",
       "0  chunk4               bad        7.67533       0.0      5000.0         -1   \n",
       "1  chunk4               bad        7.67533       0.0      5000.0         -1   \n",
       "2  chunk4               bad        7.67533       0.0      5000.0         -1   \n",
       "3  chunk4               bad        7.67533       0.0      5000.0         -1   \n",
       "4  chunk4               bad        7.67533       0.0      5000.0         -1   \n",
       "\n",
       "   ZOFFSET  SNTURNOFF  NTURNOFF  SPECPRIMARY  SPECSDSS  SPECLEGACY  SPECSEGUE  \\\n",
       "0      0.0    -9999.0        -1            0         0           0          0   \n",
       "1      0.0    -9999.0        -1            0         0           0          0   \n",
       "2      0.0    -9999.0        -1            0         0           0          0   \n",
       "3      0.0    -9999.0        -1            0         0           0          0   \n",
       "4      0.0    -9999.0        -1            0         0           0          0   \n",
       "\n",
       "   SPECSEGUE1  SPECSEGUE2  SPECBOSS  BOSS_SPECOBJ_ID               SPECOBJID  \\\n",
       "0           0           0         0                0      299489676975171584   \n",
       "1           0           0         0                0      299489951853078528   \n",
       "2           0           0         0                0      299490226730985472   \n",
       "3           0           0         0                0      299490501608892416   \n",
       "4           0           0         0                0      299490776486799360   \n",
       "\n",
       "             FLUXOBJID            BESTOBJID             TARGETOBJID  \\\n",
       "0  1237648720142401611  1237648720142401611         284722522357889   \n",
       "1  1237648720142532891  1237648720142532891         284722522489067   \n",
       "2  1237648720142532813  1237648720142532813         284722522489016   \n",
       "3  1237650795146576030  1237650795146576030         284705867301092   \n",
       "4  1237650795146510903  1237650795146510903         284705867235621   \n",
       "\n",
       "                PLATEID  NSPECOBS FIRSTRELEASE    RUN2D    RUN1D  DESIGNID  \\\n",
       "0  299489402097264640           2         dr7   26                      -1   \n",
       "1  299489402097264640           2         dr7   26                      -1   \n",
       "2  299489402097264640           2         dr7   26                      -1   \n",
       "3  299489402097264640           2         dr7   26                      -1   \n",
       "4  299489402097264640           2         dr7   26                      -1   \n",
       "\n",
       "         CX        CY        CZ      XFOCAL      YFOCAL  \\\n",
       "0 -0.835805  0.548725 -0.018173  179.036087 -240.321457   \n",
       "1 -0.837779  0.545736 -0.017286  223.895264 -229.371475   \n",
       "2 -0.837617  0.545988 -0.017189  220.129578 -228.130875   \n",
       "3 -0.837252  0.546635 -0.014118  210.720093 -189.606415   \n",
       "4 -0.836331  0.548043 -0.014144  189.665039 -189.899948   \n",
       "\n",
       "                  SOURCETYPE TARGETTYPE  THING_ID_TARGETING  THING_ID  \\\n",
       "0  GALAXY                      SCIENCE                    0         0   \n",
       "1  GALAXY                      SCIENCE                    0         0   \n",
       "2  SERENDIPITY_BLUE            SCIENCE                    0         0   \n",
       "3  GALAXY                      SCIENCE                    0         0   \n",
       "4  GALAXY                      SCIENCE                    0         0   \n",
       "\n",
       "   PRIMTARGET  SECTARGET  LEGACY_TARGET1  LEGACY_TARGET2  SPECIAL_TARGET1  \\\n",
       "0          96          0              96               0                0   \n",
       "1          64          0              64               0                0   \n",
       "2    34603008          0        34603008               0                0   \n",
       "3          96          0              96               0                0   \n",
       "4     2097184          0         2097184               0                0   \n",
       "\n",
       "   SPECIAL_TARGET2  SEGUE1_TARGET1  SEGUE1_TARGET2  SEGUE2_TARGET1  \\\n",
       "0                0               0               0               0   \n",
       "1                0               0               0               0   \n",
       "2                0               0               0               0   \n",
       "3                0               0               0               0   \n",
       "4                0               0               0               0   \n",
       "\n",
       "   SEGUE2_TARGET2  MARVELS_TARGET1  MARVELS_TARGET2  BOSS_TARGET1  \\\n",
       "0               0                0                0             0   \n",
       "1               0                0                0             0   \n",
       "2               0                0                0             0   \n",
       "3               0                0                0             0   \n",
       "4               0                0                0             0   \n",
       "\n",
       "   BOSS_TARGET2  EBOSS_TARGET0  EBOSS_TARGET1  EBOSS_TARGET2  EBOSS_TARGET_ID  \\\n",
       "0             0              0              0              0                0   \n",
       "1             0              0              0              0                0   \n",
       "2             0              0              0              0                0   \n",
       "3             0              0              0              0                0   \n",
       "4             0              0              0              0                0   \n",
       "\n",
       "   ANCILLARY_TARGET1  ANCILLARY_TARGET2  SPECTROGRAPHID  PLATE  TILE    MJD  \\\n",
       "0                  0                  0               1    266   122  51602   \n",
       "1                  0                  0               1    266   122  51602   \n",
       "2                  0                  0               1    266   122  51602   \n",
       "3                  0                  0               1    266   122  51602   \n",
       "4                  0                  0               1    266   122  51602   \n",
       "\n",
       "   FIBERID                  OBJID    PLUG_RA  PLUG_DEC   CLASS  \\\n",
       "0        1  [756, 1, 1, 206, 129]  146.71421 -1.041304  GALAXY   \n",
       "1        2  [756, 1, 1, 208, 235]  146.91945 -0.990492  GALAXY   \n",
       "2        3  [756, 1, 1, 208, 184]  146.90229 -0.984913  QSO      \n",
       "3        4   [752, 1, 2, 22, 228]  146.85983 -0.808902  GALAXY   \n",
       "4        5   [752, 1, 2, 21, 293]  146.76339 -0.810433  GALAXY   \n",
       "\n",
       "                SUBCLASS         Z     Z_ERR     RCHI2   DOF  RCHI2DIFF  \\\n",
       "0                         0.021275  0.000009  1.074070  3770   3.873685   \n",
       "1                         0.213925  0.000052  1.331336  3781   0.179131   \n",
       "2  BROADLINE              0.652181  0.000133  1.387463  3756   0.168601   \n",
       "3                         0.126554  0.000062  1.338671  3763   0.153335   \n",
       "4                         0.448645  0.000168  1.435746  3759   0.026126   \n",
       "\n",
       "                      TFILE                               TCOLUMN  NPOLY  \\\n",
       "0  spEigenGal-53724.fits     [0, 1, 2, 3, -1, -1, -1, -1, -1, -1]      3   \n",
       "1  spEigenGal-53724.fits     [0, 1, 2, 3, -1, -1, -1, -1, -1, -1]      3   \n",
       "2  spEigenQSO-53724.fits     [0, 1, 2, 3, -1, -1, -1, -1, -1, -1]      3   \n",
       "3  spEigenGal-53724.fits     [0, 1, 2, 3, -1, -1, -1, -1, -1, -1]      3   \n",
       "4  spEigenGal-53724.fits     [0, 1, 2, 3, -1, -1, -1, -1, -1, -1]      3   \n",
       "\n",
       "                                               THETA       VDISP  VDISP_ERR  \\\n",
       "0  [0.010862293653190136, -0.0225241519510746, -0...  135.899567   4.085766   \n",
       "1  [0.0010820967145264149, -0.0007276945398189127...  140.481186  15.037567   \n",
       "2  [0.0006699670339003205, 4.1416144085815176e-05...    0.000000   0.000000   \n",
       "3  [0.000867346883751452, -0.003348070429638028, ...  201.574417  18.037975   \n",
       "4  [0.0004937481135129929, -0.0001606452424312010...  240.905869  69.598114   \n",
       "\n",
       "   VDISPZ  VDISPZ_ERR    VDISPCHI2  VDISPNPIX  VDISPDOF      WAVEMIN  \\\n",
       "0     0.0         0.0  1677.303467     2168.0      2117  3806.273682   \n",
       "1     0.0         0.0  2411.130859     2168.0      2117  3806.273682   \n",
       "2     0.0         0.0     0.000000        0.0         0  3806.273682   \n",
       "3     0.0         0.0  2355.973389     2168.0      2117  3806.273682   \n",
       "4     0.0         0.0  2728.642578     1885.0      1834  3805.397217   \n",
       "\n",
       "       WAVEMAX  WCOVERAGE  ZWARNING  SN_MEDIAN_ALL  \\\n",
       "0  9202.376953     0.3777         0      38.055374   \n",
       "1  9202.376953     0.3788         0       6.404140   \n",
       "2  9202.376953     0.3763         0       4.462337   \n",
       "3  9202.376953     0.3770         0       9.002916   \n",
       "4  9202.376953     0.3766         0       2.466020   \n",
       "\n",
       "                                           SN_MEDIAN    CHI68P  \\\n",
       "0  [5.470128536224365, 30.580841064453125, 45.513...  0.961614   \n",
       "1  [0.2876650393009186, 2.889864921569824, 8.0417...  1.128138   \n",
       "2  [1.3341540098190308, 4.842894077301025, 4.8376...  1.134175   \n",
       "3  [0.47428926825523376, 3.984527349472046, 11.33...  1.126414   \n",
       "4  [-0.02107129618525505, 0.9717487692832947, 3.3...  1.173724   \n",
       "\n",
       "                                          FRACNSIGMA  \\\n",
       "0  [0.30076780915260315, 0.056129202246665955, 0....   \n",
       "1  [0.3732840418815613, 0.08236536383628845, 0.01...   \n",
       "2  [0.3818761706352234, 0.09061918407678604, 0.01...   \n",
       "3  [0.3718833029270172, 0.07877983897924423, 0.01...   \n",
       "4  [0.387944757938385, 0.09399893879890442, 0.014...   \n",
       "\n",
       "                                          FRACNSIGHI  \\\n",
       "0  [0.15064866840839386, 0.02621127851307392, 0.0...   \n",
       "1  [0.1906019002199173, 0.035902850329875946, 0.0...   \n",
       "2  [0.18974222242832184, 0.04251926764845848, 0.0...   \n",
       "3  [0.17851458489894867, 0.03156498819589615, 0.0...   \n",
       "4  [0.19835369288921356, 0.04195432737469673, 0.0...   \n",
       "\n",
       "                                          FRACNSIGLO  \\\n",
       "0  [0.1501191407442093, 0.029917923733592033, 0.0...   \n",
       "1  [0.18268215656280518, 0.046462513506412506, 0....   \n",
       "2  [0.19213393330574036, 0.04809992015361786, 0.0...   \n",
       "3  [0.19336870312690735, 0.04721485450863838, 0.0...   \n",
       "4  [0.18959107995033264, 0.05204461142420769, 0.0...   \n",
       "\n",
       "                                         SPECTROFLUX  \\\n",
       "0  [47.65951919555664, 140.48928833007812, 325.88...   \n",
       "1  [1.6532617807388306, 7.8250813484191895, 25.46...   \n",
       "2  [5.1434478759765625, 11.376154899597168, 12.80...   \n",
       "3  [1.749979019165039, 9.648141860961914, 35.3430...   \n",
       "4  [0.2979826033115387, 1.5419867038726807, 8.321...   \n",
       "\n",
       "                                    SPECTROFLUX_IVAR  \\\n",
       "0  [1.3083244562149048, 3.5849850177764893, 2.237...   \n",
       "1  [1.3083244562149048, 3.5849850177764893, 2.237...   \n",
       "2  [1.3083244562149048, 3.5849850177764893, 2.237...   \n",
       "3  [1.3083244562149048, 3.5849850177764893, 2.237...   \n",
       "4  [1.3083244562149048, 3.5849850177764893, 2.237...   \n",
       "\n",
       "                                      SPECTROSYNFLUX  \\\n",
       "0  [39.69293975830078, 140.70152282714844, 326.07...   \n",
       "1  [2.3984920978546143, 7.62562894821167, 26.0012...   \n",
       "2  [8.045738220214844, 11.113998413085938, 13.359...   \n",
       "3  [2.5969996452331543, 9.484541893005371, 35.986...   \n",
       "4  [-0.05787355825304985, 1.4583728313446045, 8.5...   \n",
       "\n",
       "                                 SPECTROSYNFLUX_IVAR  \\\n",
       "0  [2.9729716777801514, 3.7280795574188232, 2.342...   \n",
       "1  [2.9729716777801514, 3.7280795574188232, 2.342...   \n",
       "2  [2.9729716777801514, 3.7280795574188232, 2.342...   \n",
       "3  [2.9729716777801514, 3.7280795574188232, 2.342...   \n",
       "4  [2.9729716777801514, 3.7280795574188232, 2.342...   \n",
       "\n",
       "                                      SPECTROSKYFLUX  ANYANDMASK  ANYORMASK  \\\n",
       "0  [9.833003044128418, 15.357330322265625, 37.866...   230752256  266272768   \n",
       "1  [8.733312606811523, 14.05916976928711, 35.1544...   231800832  266272768   \n",
       "2  [8.635135650634766, 13.784728050231934, 33.306...   231866368  266272768   \n",
       "3  [8.019085884094238, 13.614726066589355, 34.820...   230686720  266272768   \n",
       "4  [2.9183361530303955, 9.525053024291992, 32.136...   230686720  266272768   \n",
       "\n",
       "   SPEC1_G    SPEC1_R  SPEC1_I  SPEC2_G  SPEC2_R  SPEC2_I  \\\n",
       "0   20.858  16.172701  13.4718  13.3075  10.6615  7.67533   \n",
       "1   20.858  16.172701  13.4718  13.3075  10.6615  7.67533   \n",
       "2   20.858  16.172701  13.4718  13.3075  10.6615  7.67533   \n",
       "3   20.858  16.172701  13.4718  13.3075  10.6615  7.67533   \n",
       "4   20.858  16.172701  13.4718  13.3075  10.6615  7.67533   \n",
       "\n",
       "             ELODIE_FILENAME          ELODIE_OBJECT ELODIE_SPTYPE  ELODIE_BV  \\\n",
       "0                                                                        0.0   \n",
       "1                                                                        0.0   \n",
       "2                                                                        0.0   \n",
       "3                                                                        0.0   \n",
       "4                                                                        0.0   \n",
       "\n",
       "   ELODIE_TEFF  ELODIE_LOGG  ELODIE_FEH  ELODIE_Z  ELODIE_Z_ERR  \\\n",
       "0          0.0          0.0         0.0       0.0           0.0   \n",
       "1          0.0          0.0         0.0       0.0           0.0   \n",
       "2          0.0          0.0         0.0       0.0           0.0   \n",
       "3          0.0          0.0         0.0       0.0           0.0   \n",
       "4          0.0          0.0         0.0       0.0           0.0   \n",
       "\n",
       "   ELODIE_Z_MODELERR  ELODIE_RCHI2  ELODIE_DOF  Z_NOQSO  Z_ERR_NOQSO  \\\n",
       "0                0.0           0.0           0      0.0          0.0   \n",
       "1                0.0           0.0           0      0.0          0.0   \n",
       "2                0.0           0.0           0      0.0          0.0   \n",
       "3                0.0           0.0           0      0.0          0.0   \n",
       "4                0.0           0.0           0      0.0          0.0   \n",
       "\n",
       "   ZWARNING_NOQSO CLASS_NOQSO         SUBCLASS_NOQSO  RCHI2DIFF_NOQSO  \\\n",
       "0               0                                                 0.0   \n",
       "1               0                                                 0.0   \n",
       "2               0                                                 0.0   \n",
       "3               0                                                 0.0   \n",
       "4               0                                                 0.0   \n",
       "\n",
       "   Z_PERSON  CLASS_PERSON  Z_CONF_PERSON COMMENTS_PERSON  \\\n",
       "0       0.0             0              0                   \n",
       "1       0.0             0              0                   \n",
       "2       0.0             0              0                   \n",
       "3       0.0             0              0                   \n",
       "4       0.0             0              0                   \n",
       "\n",
       "                                           CALIBFLUX  \\\n",
       "0  [30.75096321105957, 141.45950317382812, 329.55...   \n",
       "1  [1.1392210721969604, 8.036629676818848, 26.473...   \n",
       "2  [10.227895736694336, 14.073773384094238, 15.54...   \n",
       "3  [1.3684866428375244, 10.183870315551758, 37.32...   \n",
       "4  [0.32376256585121155, 1.6755646467208862, 8.88...   \n",
       "\n",
       "                                      CALIBFLUX_IVAR  \n",
       "0  [3.9342143535614014, 5.019459247589111, 2.6404...  \n",
       "1  [21.752548217773438, 30.54243278503418, 11.013...  \n",
       "2  [8.148686408996582, 9.667607307434082, 12.6257...  \n",
       "3  [7.134973526000977, 30.622377395629883, 9.4628...  \n",
       "4  [24.748685836791992, 47.7746696472168, 15.4170...  "
      ]
     },
     "execution_count": 6,
     "metadata": {},
     "output_type": "execute_result"
    }
   ],
   "source": [
    "space_dataframe = pd.DataFrame(binary_table[:4000000].tolist(), columns=binary_table.columns.names)\n",
    "pd.set_option('display.max_columns', None)\n",
    "space_dataframe.head()"
   ]
  },
  {
   "cell_type": "code",
   "execution_count": 7,
   "id": "191ed8c8-6a64-40aa-82d3-38ed74cfddc8",
   "metadata": {},
   "outputs": [
    {
     "data": {
      "text/plain": [
       "(4000000, 18)"
      ]
     },
     "execution_count": 7,
     "metadata": {},
     "output_type": "execute_result"
    }
   ],
   "source": [
    "columns_to_keep = [\n",
    "    'PLATE', 'MJD', 'FIBERID',\n",
    "    'CLASS', 'SUBCLASS',\n",
    "    'ELODIE_SPTYPE', 'ELODIE_TEFF', 'ELODIE_LOGG', 'ELODIE_FEH',\n",
    "    'Z', 'Z_ERR', 'ZWARNING',\n",
    "    'VDISP', 'VDISP_ERR',\n",
    "    'SN_MEDIAN_ALL', 'RCHI2', 'DOF',\n",
    "    'SPECTROFLUX'  \n",
    "]\n",
    "space_dataframe_clean = space_dataframe[columns_to_keep]\n",
    "space_dataframe_clean.shape"
   ]
  },
  {
   "cell_type": "code",
   "execution_count": 8,
   "id": "67559d95-6012-42fd-88b7-8e6768661656",
   "metadata": {},
   "outputs": [
    {
     "name": "stdout",
     "output_type": "stream",
     "text": [
      "['GALAXY' 'QSO   ' 'STAR  ']\n"
     ]
    }
   ],
   "source": [
    "print(space_dataframe_clean['CLASS'].unique())"
   ]
  },
  {
   "cell_type": "code",
   "execution_count": 9,
   "id": "1def0c78-3f02-4a42-9463-5cce4e05bf72",
   "metadata": {},
   "outputs": [
    {
     "data": {
      "text/plain": [
       "(947925, 18)"
      ]
     },
     "execution_count": 9,
     "metadata": {},
     "output_type": "execute_result"
    }
   ],
   "source": [
    "star_dataframe = space_dataframe_clean[space_dataframe_clean['CLASS'].str.strip() == 'STAR']\n",
    "star_dataframe.shape"
   ]
  },
  {
   "cell_type": "code",
   "execution_count": 10,
   "id": "63a43887-18ea-476e-9bac-5f9b7ca86e9f",
   "metadata": {},
   "outputs": [],
   "source": [
    "def clean_subclass(label):\n",
    "    if pd.isnull(label):\n",
    "        return None\n",
    "    return re.sub(r'\\s*\\(.*\\)', '', label).strip()"
   ]
  },
  {
   "cell_type": "code",
   "execution_count": 11,
   "id": "e91b02a3-948e-4084-ab4f-1d5063c8d4b2",
   "metadata": {},
   "outputs": [
    {
     "name": "stdout",
     "output_type": "stream",
     "text": [
      "SUBCLASS_CLEAN\n",
      "F9        129881\n",
      "F5        107170\n",
      "A0         70392\n",
      "F3/F5V     58020\n",
      "K3         35378\n",
      "           ...  \n",
      "B2.5Ve        57\n",
      "B7IVe         49\n",
      "B2Ve          47\n",
      "B3Ve          39\n",
      "M5Iab:        36\n",
      "Name: count, Length: 152, dtype: int64\n"
     ]
    },
    {
     "name": "stderr",
     "output_type": "stream",
     "text": [
      "C:\\Users\\radiant\\AppData\\Local\\Temp\\ipykernel_308\\3650917493.py:1: SettingWithCopyWarning: \n",
      "A value is trying to be set on a copy of a slice from a DataFrame.\n",
      "Try using .loc[row_indexer,col_indexer] = value instead\n",
      "\n",
      "See the caveats in the documentation: https://pandas.pydata.org/pandas-docs/stable/user_guide/indexing.html#returning-a-view-versus-a-copy\n",
      "  star_dataframe['SUBCLASS_CLEAN'] = star_dataframe['SUBCLASS'].apply(clean_subclass)\n"
     ]
    }
   ],
   "source": [
    "star_dataframe['SUBCLASS_CLEAN'] = star_dataframe['SUBCLASS'].apply(clean_subclass)\n",
    "print(star_dataframe['SUBCLASS_CLEAN'].value_counts())"
   ]
  },
  {
   "cell_type": "code",
   "execution_count": 12,
   "id": "3577b403-e7fb-4500-b4f5-e9d96064558b",
   "metadata": {
    "scrolled": true
   },
   "outputs": [
    {
     "name": "stdout",
     "output_type": "stream",
     "text": [
      "SUBCLASS_CLEAN\n",
      "F9              129881\n",
      "F5              107170\n",
      "A0               70392\n",
      "F3/F5V           58020\n",
      "K3               35378\n",
      "K5               35339\n",
      "K1               34042\n",
      "G2               32381\n",
      "CV               21377\n",
      "K7               20680\n",
      "M1               20321\n",
      "M2               18450\n",
      "M3               17374\n",
      "G0               17072\n",
      "F2               16386\n",
      "WD               15799\n",
      "M0               14045\n",
      "M5III            13450\n",
      "F0IV             13119\n",
      "M4               12096\n",
      "F8V              10419\n",
      "K3V              10196\n",
      "T2               10061\n",
      "M4.5:III          9833\n",
      "M6                9331\n",
      "A2II              9129\n",
      "A4V               8760\n",
      "WDcooler          8631\n",
      "K5Ve              8476\n",
      "M5                7264\n",
      "G8V               7129\n",
      "F2V               6242\n",
      "L5.5              6002\n",
      "WDhotter          5893\n",
      "L9                5398\n",
      "G4V               5165\n",
      "K0V               4754\n",
      "M6III             4524\n",
      "WDmagnetic        4199\n",
      "M7                3600\n",
      "F0II              3495\n",
      "F6V               3391\n",
      "O                 3330\n",
      "G5                3155\n",
      "A9V               3134\n",
      "M3III             3063\n",
      "M0V               2843\n",
      "G0Va              2768\n",
      "F0V               2707\n",
      "Ldwarf            2508\n",
      "F0III             2364\n",
      "OB                2336\n",
      "A8V               2208\n",
      "B5                2181\n",
      "Carbon            2142\n",
      "A1V               2059\n",
      "CarbonWD          2020\n",
      "M8                2003\n",
      "A1III             1985\n",
      "CalciumWD         1853\n",
      "B9                1817\n",
      "A0p               1769\n",
      "K0IV              1765\n",
      "A5II              1730\n",
      "M9                1719\n",
      "F0Ib              1674\n",
      "G1V               1607\n",
      "sd:F0             1457\n",
      "L5                1384\n",
      "Carbon_lines      1341\n",
      "M2V               1274\n",
      "O8/O9             1216\n",
      "F2III             1197\n",
      "B6                1174\n",
      "sdF3              1061\n",
      "Name: count, dtype: int64\n"
     ]
    }
   ],
   "source": [
    "counts = star_dataframe['SUBCLASS_CLEAN'].value_counts()\n",
    "common_classes = counts[counts > 1000].index\n",
    "filtered_star_dataframe = star_dataframe[star_dataframe['SUBCLASS_CLEAN'].isin(common_classes)]\n",
    "counts_filtered = filtered_star_dataframe['SUBCLASS_CLEAN'].value_counts()\n",
    "pd.set_option('display.max_rows', None)\n",
    "print(counts_filtered)"
   ]
  },
  {
   "cell_type": "code",
   "execution_count": 19,
   "id": "7aede62d-160f-4d50-bd8e-c98ad75f70cc",
   "metadata": {},
   "outputs": [],
   "source": [
    "filtered_star_dataframe = pd.read_csv(\"../data/temp_processed.csv\")"
   ]
  },
  {
   "cell_type": "code",
   "execution_count": 20,
   "id": "4b356b80-7e6c-4dae-8f94-e012fde5f1f9",
   "metadata": {},
   "outputs": [],
   "source": [
    "def make_url(row):\n",
    "    plate = int(row['PLATE'])\n",
    "    mjd = int(row['MJD'])\n",
    "    fiberid = int(row['FIBERID'])\n",
    "    return f\"https://data.sdss.org/sas/dr17/eboss/spectro/redux/v5_13_2/spectra/full/{plate}/spec-{plate}-{mjd}-{fiberid:04d}.fits\""
   ]
  },
  {
   "cell_type": "code",
   "execution_count": 21,
   "id": "2746b3d5-ada8-4b90-8e61-5d19dd2cd69a",
   "metadata": {},
   "outputs": [],
   "source": [
    "filtered_star_dataframe['url'] = filtered_star_dataframe.apply(make_url, axis=1)"
   ]
  },
  {
   "cell_type": "code",
   "execution_count": 22,
   "id": "ba22b157-b288-4fb7-9a04-6968b283eb8c",
   "metadata": {},
   "outputs": [
    {
     "name": "stdout",
     "output_type": "stream",
     "text": [
      "Final sample size: 99963\n"
     ]
    }
   ],
   "source": [
    "representative_dataframe = filtered_star_dataframe.copy()\n",
    "\n",
    "target_total = 100_000\n",
    "subclass_counts = representative_dataframe['SUBCLASS_CLEAN'].value_counts()\n",
    "subclass_proportions = subclass_counts / subclass_counts.sum()\n",
    "\n",
    "subclass_target_sizes = (subclass_proportions * target_total).astype(int)\n",
    "\n",
    "sampled_df = pd.concat([\n",
    "    representative_dataframe[representative_dataframe['SUBCLASS_CLEAN'] == subclass].sample(\n",
    "        n=min(target_n, len(representative_dataframe[representative_dataframe['SUBCLASS_CLEAN'] == subclass])),\n",
    "        random_state=42\n",
    "    )\n",
    "    for subclass, target_n in subclass_target_sizes.items()\n",
    "])\n",
    "\n",
    "sampled_df = sampled_df.reset_index(drop=True)\n",
    "\n",
    "print(f\"Final sample size: {len(sampled_df)}\")"
   ]
  },
  {
   "cell_type": "code",
   "execution_count": 23,
   "id": "8ee51f84-5187-4826-85ad-fd88a1b469f3",
   "metadata": {},
   "outputs": [
    {
     "data": {
      "text/plain": [
       "SUBCLASS_CLEAN\n",
       "F9        14094\n",
       "F5        11629\n",
       "A0         7638\n",
       "F3/F5V     6296\n",
       "K3         3839\n",
       "          ...  \n",
       "M2V         138\n",
       "O8/O9       131\n",
       "F2III       129\n",
       "B6          127\n",
       "sdF3        115\n",
       "Name: count, Length: 75, dtype: int64"
      ]
     },
     "execution_count": 23,
     "metadata": {},
     "output_type": "execute_result"
    }
   ],
   "source": [
    "counts_filtered = sampled_df['SUBCLASS_CLEAN'].value_counts()\n",
    "counts_filtered"
   ]
  },
  {
   "cell_type": "code",
   "execution_count": 24,
   "id": "ee4613ef-4f68-4784-b521-cb5eb6878341",
   "metadata": {},
   "outputs": [
    {
     "data": {
      "text/html": [
       "<div>\n",
       "<style scoped>\n",
       "    .dataframe tbody tr th:only-of-type {\n",
       "        vertical-align: middle;\n",
       "    }\n",
       "\n",
       "    .dataframe tbody tr th {\n",
       "        vertical-align: top;\n",
       "    }\n",
       "\n",
       "    .dataframe thead th {\n",
       "        text-align: right;\n",
       "    }\n",
       "</style>\n",
       "<table border=\"1\" class=\"dataframe\">\n",
       "  <thead>\n",
       "    <tr style=\"text-align: right;\">\n",
       "      <th></th>\n",
       "      <th>Unnamed: 0</th>\n",
       "      <th>PLATE</th>\n",
       "      <th>MJD</th>\n",
       "      <th>FIBERID</th>\n",
       "      <th>CLASS</th>\n",
       "      <th>SUBCLASS</th>\n",
       "      <th>ELODIE_SPTYPE</th>\n",
       "      <th>ELODIE_TEFF</th>\n",
       "      <th>ELODIE_LOGG</th>\n",
       "      <th>ELODIE_FEH</th>\n",
       "      <th>...</th>\n",
       "      <th>Z_ERR</th>\n",
       "      <th>ZWARNING</th>\n",
       "      <th>VDISP</th>\n",
       "      <th>VDISP_ERR</th>\n",
       "      <th>SN_MEDIAN_ALL</th>\n",
       "      <th>RCHI2</th>\n",
       "      <th>DOF</th>\n",
       "      <th>SPECTROFLUX</th>\n",
       "      <th>SUBCLASS_CLEAN</th>\n",
       "      <th>url</th>\n",
       "    </tr>\n",
       "  </thead>\n",
       "  <tbody>\n",
       "    <tr>\n",
       "      <th>0</th>\n",
       "      <td>1840953</td>\n",
       "      <td>3466</td>\n",
       "      <td>54998</td>\n",
       "      <td>314</td>\n",
       "      <td>STAR</td>\n",
       "      <td>F9</td>\n",
       "      <td>G1V</td>\n",
       "      <td>5630.0</td>\n",
       "      <td>4.50</td>\n",
       "      <td>-0.45</td>\n",
       "      <td>...</td>\n",
       "      <td>0.000008</td>\n",
       "      <td>0</td>\n",
       "      <td>0.0</td>\n",
       "      <td>0.0</td>\n",
       "      <td>46.439968</td>\n",
       "      <td>1.150307</td>\n",
       "      <td>3680</td>\n",
       "      <td>[56.01532745361328, 159.52830505371094, 258.28...</td>\n",
       "      <td>F9</td>\n",
       "      <td>https://data.sdss.org/sas/dr17/eboss/spectro/r...</td>\n",
       "    </tr>\n",
       "    <tr>\n",
       "      <th>1</th>\n",
       "      <td>1160913</td>\n",
       "      <td>2060</td>\n",
       "      <td>53706</td>\n",
       "      <td>594</td>\n",
       "      <td>STAR</td>\n",
       "      <td>F9</td>\n",
       "      <td>G8IV-V</td>\n",
       "      <td>5563.0</td>\n",
       "      <td>4.23</td>\n",
       "      <td>-0.02</td>\n",
       "      <td>...</td>\n",
       "      <td>0.000010</td>\n",
       "      <td>0</td>\n",
       "      <td>0.0</td>\n",
       "      <td>0.0</td>\n",
       "      <td>26.838177</td>\n",
       "      <td>1.252383</td>\n",
       "      <td>3714</td>\n",
       "      <td>[8.48062801361084, 27.480884552001953, 50.9160...</td>\n",
       "      <td>F9</td>\n",
       "      <td>https://data.sdss.org/sas/dr17/eboss/spectro/r...</td>\n",
       "    </tr>\n",
       "    <tr>\n",
       "      <th>2</th>\n",
       "      <td>1665175</td>\n",
       "      <td>2938</td>\n",
       "      <td>54526</td>\n",
       "      <td>536</td>\n",
       "      <td>STAR</td>\n",
       "      <td>F9</td>\n",
       "      <td>G8IV-V</td>\n",
       "      <td>5563.0</td>\n",
       "      <td>4.23</td>\n",
       "      <td>-0.02</td>\n",
       "      <td>...</td>\n",
       "      <td>0.000009</td>\n",
       "      <td>0</td>\n",
       "      <td>0.0</td>\n",
       "      <td>0.0</td>\n",
       "      <td>60.171108</td>\n",
       "      <td>2.912636</td>\n",
       "      <td>3197</td>\n",
       "      <td>[43.02244186401367, 123.2289810180664, 204.893...</td>\n",
       "      <td>F9</td>\n",
       "      <td>https://data.sdss.org/sas/dr17/eboss/spectro/r...</td>\n",
       "    </tr>\n",
       "    <tr>\n",
       "      <th>3</th>\n",
       "      <td>1810930</td>\n",
       "      <td>3308</td>\n",
       "      <td>54919</td>\n",
       "      <td>371</td>\n",
       "      <td>STAR</td>\n",
       "      <td>F9</td>\n",
       "      <td>G1V</td>\n",
       "      <td>5630.0</td>\n",
       "      <td>4.50</td>\n",
       "      <td>-0.45</td>\n",
       "      <td>...</td>\n",
       "      <td>0.000008</td>\n",
       "      <td>0</td>\n",
       "      <td>0.0</td>\n",
       "      <td>0.0</td>\n",
       "      <td>66.076248</td>\n",
       "      <td>1.536676</td>\n",
       "      <td>3629</td>\n",
       "      <td>[90.08356475830078, 207.1901092529297, 319.572...</td>\n",
       "      <td>F9</td>\n",
       "      <td>https://data.sdss.org/sas/dr17/eboss/spectro/r...</td>\n",
       "    </tr>\n",
       "    <tr>\n",
       "      <th>4</th>\n",
       "      <td>1760881</td>\n",
       "      <td>3209</td>\n",
       "      <td>54906</td>\n",
       "      <td>242</td>\n",
       "      <td>STAR</td>\n",
       "      <td>F9</td>\n",
       "      <td>G5</td>\n",
       "      <td>5426.0</td>\n",
       "      <td>4.50</td>\n",
       "      <td>-0.04</td>\n",
       "      <td>...</td>\n",
       "      <td>0.000009</td>\n",
       "      <td>0</td>\n",
       "      <td>0.0</td>\n",
       "      <td>0.0</td>\n",
       "      <td>32.265663</td>\n",
       "      <td>1.224204</td>\n",
       "      <td>3512</td>\n",
       "      <td>[16.109405517578125, 45.38063049316406, 74.009...</td>\n",
       "      <td>F9</td>\n",
       "      <td>https://data.sdss.org/sas/dr17/eboss/spectro/r...</td>\n",
       "    </tr>\n",
       "  </tbody>\n",
       "</table>\n",
       "<p>5 rows × 21 columns</p>\n",
       "</div>"
      ],
      "text/plain": [
       "   Unnamed: 0  PLATE    MJD  FIBERID   CLASS               SUBCLASS  \\\n",
       "0     1840953   3466  54998      314  STAR    F9                      \n",
       "1     1160913   2060  53706      594  STAR    F9                      \n",
       "2     1665175   2938  54526      536  STAR    F9                      \n",
       "3     1810930   3308  54919      371  STAR    F9                      \n",
       "4     1760881   3209  54906      242  STAR    F9                      \n",
       "\n",
       "  ELODIE_SPTYPE  ELODIE_TEFF  ELODIE_LOGG  ELODIE_FEH  ...     Z_ERR  \\\n",
       "0  G1V                5630.0         4.50       -0.45  ...  0.000008   \n",
       "1  G8IV-V             5563.0         4.23       -0.02  ...  0.000010   \n",
       "2  G8IV-V             5563.0         4.23       -0.02  ...  0.000009   \n",
       "3  G1V                5630.0         4.50       -0.45  ...  0.000008   \n",
       "4  G5                 5426.0         4.50       -0.04  ...  0.000009   \n",
       "\n",
       "   ZWARNING  VDISP  VDISP_ERR  SN_MEDIAN_ALL     RCHI2   DOF  \\\n",
       "0         0    0.0        0.0      46.439968  1.150307  3680   \n",
       "1         0    0.0        0.0      26.838177  1.252383  3714   \n",
       "2         0    0.0        0.0      60.171108  2.912636  3197   \n",
       "3         0    0.0        0.0      66.076248  1.536676  3629   \n",
       "4         0    0.0        0.0      32.265663  1.224204  3512   \n",
       "\n",
       "                                         SPECTROFLUX SUBCLASS_CLEAN  \\\n",
       "0  [56.01532745361328, 159.52830505371094, 258.28...             F9   \n",
       "1  [8.48062801361084, 27.480884552001953, 50.9160...             F9   \n",
       "2  [43.02244186401367, 123.2289810180664, 204.893...             F9   \n",
       "3  [90.08356475830078, 207.1901092529297, 319.572...             F9   \n",
       "4  [16.109405517578125, 45.38063049316406, 74.009...             F9   \n",
       "\n",
       "                                                 url  \n",
       "0  https://data.sdss.org/sas/dr17/eboss/spectro/r...  \n",
       "1  https://data.sdss.org/sas/dr17/eboss/spectro/r...  \n",
       "2  https://data.sdss.org/sas/dr17/eboss/spectro/r...  \n",
       "3  https://data.sdss.org/sas/dr17/eboss/spectro/r...  \n",
       "4  https://data.sdss.org/sas/dr17/eboss/spectro/r...  \n",
       "\n",
       "[5 rows x 21 columns]"
      ]
     },
     "execution_count": 24,
     "metadata": {},
     "output_type": "execute_result"
    }
   ],
   "source": [
    "sampled_df.head()"
   ]
  },
  {
   "cell_type": "code",
   "execution_count": 25,
   "id": "22561f3d-d1ed-43e5-85ad-a7bd0fabcdd2",
   "metadata": {},
   "outputs": [],
   "source": [
    "sampled_df['url'].to_csv(\"urls_100k_proportional.txt\", index=False, header=False)"
   ]
  },
  {
   "cell_type": "code",
   "execution_count": 13,
   "id": "ea72248c-3fb1-4619-ba57-903624c3a7a6",
   "metadata": {},
   "outputs": [
    {
     "name": "stderr",
     "output_type": "stream",
     "text": [
      "  5%|▋            | 5040/99963 [01:31<08:37, 183.50it/s, checked=5040, valid=0]"
     ]
    },
    {
     "name": "stdout",
     "output_type": "stream",
     "text": [
      "Checked 5000 URLs —  0 valid so far\n"
     ]
    },
    {
     "name": "stderr",
     "output_type": "stream",
     "text": [
      " 10%|█▏          | 10026/99963 [03:29<09:37, 155.82it/s, checked=1e+4, valid=0]"
     ]
    },
    {
     "name": "stdout",
     "output_type": "stream",
     "text": [
      "Checked 10000 URLs —  0 valid so far\n"
     ]
    },
    {
     "name": "stderr",
     "output_type": "stream",
     "text": [
      " 15%|█▋         | 15029/99963 [04:40<06:13, 227.54it/s, checked=15038, valid=0]"
     ]
    },
    {
     "name": "stdout",
     "output_type": "stream",
     "text": [
      "Checked 15000 URLs —  0 valid so far\n"
     ]
    },
    {
     "name": "stderr",
     "output_type": "stream",
     "text": [
      " 20%|██▍         | 20039/99963 [06:40<05:28, 243.18it/s, checked=2e+4, valid=0]"
     ]
    },
    {
     "name": "stdout",
     "output_type": "stream",
     "text": [
      "Checked 20000 URLs —  0 valid so far\n"
     ]
    },
    {
     "name": "stderr",
     "output_type": "stream",
     "text": [
      " 25%|██▊        | 25011/99963 [08:37<04:46, 261.25it/s, checked=25027, valid=0]"
     ]
    },
    {
     "name": "stdout",
     "output_type": "stream",
     "text": [
      "Checked 25000 URLs —  0 valid so far\n"
     ]
    },
    {
     "name": "stderr",
     "output_type": "stream",
     "text": [
      " 30%|███▉         | 30015/99963 [10:37<13:14, 88.01it/s, checked=3e+4, valid=1]"
     ]
    },
    {
     "name": "stdout",
     "output_type": "stream",
     "text": [
      "Checked 30000 URLs —  1 valid so far\n"
     ]
    },
    {
     "name": "stderr",
     "output_type": "stream",
     "text": [
      " 35%|███▏     | 35002/99963 [12:36<51:10, 21.16it/s, checked=35002, valid=1374]"
     ]
    },
    {
     "name": "stdout",
     "output_type": "stream",
     "text": [
      "Checked 35000 URLs —  1373 valid so far\n"
     ]
    },
    {
     "name": "stderr",
     "output_type": "stream",
     "text": [
      " 40%|████      | 40011/99963 [14:42<10:04, 99.22it/s, checked=4e+4, valid=5714]"
     ]
    },
    {
     "name": "stdout",
     "output_type": "stream",
     "text": [
      "Checked 40000 URLs —  5714 valid so far\n"
     ]
    },
    {
     "name": "stderr",
     "output_type": "stream",
     "text": [
      " 45%|████     | 45004/99963 [16:20<28:56, 31.64it/s, checked=45004, valid=5889]"
     ]
    },
    {
     "name": "stdout",
     "output_type": "stream",
     "text": [
      "Checked 45000 URLs —  5888 valid so far\n"
     ]
    },
    {
     "name": "stderr",
     "output_type": "stream",
     "text": [
      " 50%|████▌    | 50008/99963 [17:53<03:51, 215.49it/s, checked=5e+4, valid=6179]"
     ]
    },
    {
     "name": "stdout",
     "output_type": "stream",
     "text": [
      "Checked 50000 URLs —  6179 valid so far\n"
     ]
    },
    {
     "name": "stderr",
     "output_type": "stream",
     "text": [
      " 55%|████▉    | 55016/99963 [20:00<09:04, 82.52it/s, checked=55023, valid=6560]"
     ]
    },
    {
     "name": "stdout",
     "output_type": "stream",
     "text": [
      "Checked 55000 URLs —  6544 valid so far\n"
     ]
    },
    {
     "name": "stderr",
     "output_type": "stream",
     "text": [
      " 60%|█████▍   | 60019/99963 [21:55<05:19, 124.85it/s, checked=6e+4, valid=7856]"
     ]
    },
    {
     "name": "stdout",
     "output_type": "stream",
     "text": [
      "Checked 60000 URLs —  7840 valid so far\n"
     ]
    },
    {
     "name": "stderr",
     "output_type": "stream",
     "text": [
      " 65%|█████▊   | 65005/99963 [23:25<17:22, 33.53it/s, checked=65013, valid=8300]"
     ]
    },
    {
     "name": "stdout",
     "output_type": "stream",
     "text": [
      "Checked 65000 URLs —  8300 valid so far\n"
     ]
    },
    {
     "name": "stderr",
     "output_type": "stream",
     "text": [
      " 70%|██████▎  | 70034/99963 [25:08<02:24, 207.32it/s, checked=7e+4, valid=8700]"
     ]
    },
    {
     "name": "stdout",
     "output_type": "stream",
     "text": [
      "Checked 70000 URLs —  8700 valid so far\n"
     ]
    },
    {
     "name": "stderr",
     "output_type": "stream",
     "text": [
      " 75%|█████▎ | 75050/99963 [27:18<01:53, 219.34it/s, checked=75053, valid=11094]"
     ]
    },
    {
     "name": "stdout",
     "output_type": "stream",
     "text": [
      "Checked 75000 URLs —  11094 valid so far\n"
     ]
    },
    {
     "name": "stderr",
     "output_type": "stream",
     "text": [
      " 80%|██████▍ | 80022/99963 [29:11<02:50, 116.71it/s, checked=8e+4, valid=13652]"
     ]
    },
    {
     "name": "stdout",
     "output_type": "stream",
     "text": [
      "Checked 80000 URLs —  13624 valid so far\n"
     ]
    },
    {
     "name": "stderr",
     "output_type": "stream",
     "text": [
      " 85%|█████▉ | 85021/99963 [31:17<02:24, 103.71it/s, checked=85025, valid=17198]"
     ]
    },
    {
     "name": "stdout",
     "output_type": "stream",
     "text": [
      "Checked 85000 URLs —  17173 valid so far\n"
     ]
    },
    {
     "name": "stderr",
     "output_type": "stream",
     "text": [
      " 90%|████████ | 90008/99963 [33:13<01:40, 99.00it/s, checked=9e+4, valid=19557]"
     ]
    },
    {
     "name": "stdout",
     "output_type": "stream",
     "text": [
      "Checked 90000 URLs —  19543 valid so far\n"
     ]
    },
    {
     "name": "stderr",
     "output_type": "stream",
     "text": [
      " 95%|███████▌| 95003/99963 [35:03<03:49, 21.65it/s, checked=95003, valid=22469]"
     ]
    },
    {
     "name": "stdout",
     "output_type": "stream",
     "text": [
      "Checked 95000 URLs —  22467 valid so far\n"
     ]
    },
    {
     "name": "stderr",
     "output_type": "stream",
     "text": [
      "100%|█████████| 99963/99963 [36:55<00:00, 45.11it/s, checked=1e+5, valid=24889]\n"
     ]
    },
    {
     "name": "stdout",
     "output_type": "stream",
     "text": [
      "Finished. Total valid spectra: 24889\n"
     ]
    }
   ],
   "source": [
    "sampled = sampled_df.copy()\n",
    "\n",
    "sampled['url'] = sampled.apply(\n",
    "    lambda row: f\"https://data.sdss.org/sas/dr17/eboss/spectro/redux/v5_13_2/spectra/full/{int(row['PLATE'])}/spec-{int(row['PLATE'])}-{int(row['MJD'])}-{int(row['FIBERID']):04d}.fits\",\n",
    "    axis=1\n",
    ")\n",
    "\n",
    "def check_url(row):\n",
    "    try:\n",
    "        r = requests.head(row['url'], timeout=5)\n",
    "        if r.status_code == 200:\n",
    "            return row\n",
    "    except:\n",
    "        pass\n",
    "    return None\n",
    "\n",
    "valid_rows = []\n",
    "counter = 0\n",
    "valid_count = 0\n",
    "\n",
    "with ThreadPoolExecutor(max_workers=64) as executor:\n",
    "    futures = [executor.submit(check_url, row) for _, row in sampled.iterrows()]\n",
    "    progress = tqdm(as_completed(futures), total=len(futures))\n",
    "\n",
    "    for f in progress:\n",
    "        result = f.result()\n",
    "        counter += 1\n",
    "        if result is not None:\n",
    "            valid_rows.append(result)\n",
    "            valid_count += 1\n",
    "\n",
    "        if counter % 5000 == 0:\n",
    "            print(f\"Checked {counter} URLs —  {valid_count} valid so far\")\n",
    "        \n",
    "        progress.set_postfix(valid=valid_count, checked=counter)\n",
    "\n",
    "valid_df = pd.DataFrame(valid_rows)\n",
    "print(f\"Finished. Total valid spectra: {len(valid_df)}\")\n",
    "\n",
    "valid_df.to_csv(\"../data/sampled_metadata_valid.csv\", index=False)\n",
    "valid_df['url'].to_csv(\"../data/urls_100k_valid.txt\", index=False, header=False)\n"
   ]
  },
  {
   "cell_type": "code",
   "execution_count": 27,
   "id": "b32bf27d-216c-4cf5-8c3e-abcc17edb6d0",
   "metadata": {},
   "outputs": [
    {
     "name": "stdout",
     "output_type": "stream",
     "text": [
      "\n",
      "🔍 Processing subclass: F0V (currently 293)\n"
     ]
    },
    {
     "name": "stderr",
     "output_type": "stream",
     "text": [
      "F0V:  36%|████████████▌                      | 105/293 [00:02<00:04, 40.82it/s]"
     ]
    },
    {
     "name": "stdout",
     "output_type": "stream",
     "text": [
      "Checked 100 — Collected 100/300\n"
     ]
    },
    {
     "name": "stderr",
     "output_type": "stream",
     "text": [
      "F0V:  70%|████████████████████████▍          | 205/293 [00:05<00:02, 43.79it/s]"
     ]
    },
    {
     "name": "stdout",
     "output_type": "stream",
     "text": [
      "Checked 200 — Collected 200/300\n"
     ]
    },
    {
     "name": "stderr",
     "output_type": "stream",
     "text": [
      "F0V: 100%|███████████████████████████████████| 293/293 [00:08<00:00, 34.70it/s]\n"
     ]
    },
    {
     "name": "stdout",
     "output_type": "stream",
     "text": [
      "F0V: Collected 293 new valid samples\n",
      "\n",
      "🔍 Processing subclass: Ldwarf (currently 272)\n"
     ]
    },
    {
     "name": "stderr",
     "output_type": "stream",
     "text": [
      "Ldwarf:  39%|████████████▌                   | 107/272 [00:02<00:03, 45.94it/s]"
     ]
    },
    {
     "name": "stdout",
     "output_type": "stream",
     "text": [
      "Checked 100 — Collected 100/300\n"
     ]
    },
    {
     "name": "stderr",
     "output_type": "stream",
     "text": [
      "Ldwarf:  76%|████████████████████████▏       | 206/272 [00:05<00:01, 40.04it/s]"
     ]
    },
    {
     "name": "stdout",
     "output_type": "stream",
     "text": [
      "Checked 200 — Collected 200/300\n"
     ]
    },
    {
     "name": "stderr",
     "output_type": "stream",
     "text": [
      "Ldwarf: 100%|████████████████████████████████| 272/272 [00:06<00:00, 42.21it/s]\n"
     ]
    },
    {
     "name": "stdout",
     "output_type": "stream",
     "text": [
      "Ldwarf: Collected 272 new valid samples\n",
      "\n",
      "🔍 Processing subclass: F0III (currently 256)\n"
     ]
    },
    {
     "name": "stderr",
     "output_type": "stream",
     "text": [
      "F0III:  44%|██████████████▌                  | 113/256 [00:01<00:02, 62.89it/s]"
     ]
    },
    {
     "name": "stdout",
     "output_type": "stream",
     "text": [
      "Checked 100 — Collected 100/300\n"
     ]
    },
    {
     "name": "stderr",
     "output_type": "stream",
     "text": [
      "F0III:  82%|███████████████████████████      | 210/256 [00:03<00:00, 72.59it/s]"
     ]
    },
    {
     "name": "stdout",
     "output_type": "stream",
     "text": [
      "Checked 200 — Collected 200/300\n"
     ]
    },
    {
     "name": "stderr",
     "output_type": "stream",
     "text": [
      "F0III: 100%|█████████████████████████████████| 256/256 [00:04<00:00, 57.42it/s]\n"
     ]
    },
    {
     "name": "stdout",
     "output_type": "stream",
     "text": [
      "F0III: Collected 256 new valid samples\n",
      "\n",
      "🔍 Processing subclass: OB (currently 253)\n"
     ]
    },
    {
     "name": "stderr",
     "output_type": "stream",
     "text": [
      "OB:  49%|█████████████████▎                 | 125/253 [00:00<00:00, 173.34it/s]"
     ]
    },
    {
     "name": "stdout",
     "output_type": "stream",
     "text": [
      "Checked 100 — Collected 0/300\n"
     ]
    },
    {
     "name": "stderr",
     "output_type": "stream",
     "text": [
      "OB:  84%|█████████████████████████████▍     | 213/253 [00:01<00:00, 176.54it/s]"
     ]
    },
    {
     "name": "stdout",
     "output_type": "stream",
     "text": [
      "Checked 200 — Collected 0/300\n"
     ]
    },
    {
     "name": "stderr",
     "output_type": "stream",
     "text": [
      "OB: 100%|███████████████████████████████████| 253/253 [00:01<00:00, 154.71it/s]\n"
     ]
    },
    {
     "name": "stdout",
     "output_type": "stream",
     "text": [
      "OB: Collected 0 new valid samples\n",
      "\n",
      "🔍 Processing subclass: A8V (currently 239)\n"
     ]
    },
    {
     "name": "stderr",
     "output_type": "stream",
     "text": [
      "A8V:  45%|███████████████▋                   | 107/239 [00:01<00:02, 49.59it/s]"
     ]
    },
    {
     "name": "stdout",
     "output_type": "stream",
     "text": [
      "Checked 100 — Collected 100/300\n"
     ]
    },
    {
     "name": "stderr",
     "output_type": "stream",
     "text": [
      "A8V:  90%|███████████████████████████████▍   | 215/239 [00:03<00:00, 82.22it/s]"
     ]
    },
    {
     "name": "stdout",
     "output_type": "stream",
     "text": [
      "Checked 200 — Collected 200/300\n"
     ]
    },
    {
     "name": "stderr",
     "output_type": "stream",
     "text": [
      "A8V: 100%|███████████████████████████████████| 239/239 [00:03<00:00, 65.88it/s]\n"
     ]
    },
    {
     "name": "stdout",
     "output_type": "stream",
     "text": [
      "A8V: Collected 239 new valid samples\n",
      "\n",
      "🔍 Processing subclass: B5 (currently 236)\n"
     ]
    },
    {
     "name": "stderr",
     "output_type": "stream",
     "text": [
      "B5:  45%|████████████████▎                   | 107/236 [00:01<00:01, 70.47it/s]"
     ]
    },
    {
     "name": "stdout",
     "output_type": "stream",
     "text": [
      "Checked 100 — Collected 100/300\n"
     ]
    },
    {
     "name": "stderr",
     "output_type": "stream",
     "text": [
      "B5:  89%|████████████████████████████████▏   | 211/236 [00:03<00:00, 75.51it/s]"
     ]
    },
    {
     "name": "stdout",
     "output_type": "stream",
     "text": [
      "Checked 200 — Collected 200/300\n"
     ]
    },
    {
     "name": "stderr",
     "output_type": "stream",
     "text": [
      "B5: 100%|████████████████████████████████████| 236/236 [00:03<00:00, 67.14it/s]\n"
     ]
    },
    {
     "name": "stdout",
     "output_type": "stream",
     "text": [
      "B5: Collected 236 new valid samples\n",
      "\n",
      "🔍 Processing subclass: Carbon (currently 232)\n"
     ]
    },
    {
     "name": "stderr",
     "output_type": "stream",
     "text": [
      "Carbon:  52%|████████████████               | 120/232 [00:01<00:00, 134.47it/s]"
     ]
    },
    {
     "name": "stdout",
     "output_type": "stream",
     "text": [
      "Checked 100 — Collected 39/300\n"
     ]
    },
    {
     "name": "stderr",
     "output_type": "stream",
     "text": [
      "Carbon:  91%|████████████████████████████   | 210/232 [00:01<00:00, 129.04it/s]"
     ]
    },
    {
     "name": "stdout",
     "output_type": "stream",
     "text": [
      "Checked 200 — Collected 72/300\n"
     ]
    },
    {
     "name": "stderr",
     "output_type": "stream",
     "text": [
      "Carbon: 100%|███████████████████████████████| 232/232 [00:01<00:00, 121.10it/s]\n"
     ]
    },
    {
     "name": "stdout",
     "output_type": "stream",
     "text": [
      "Carbon: Collected 83 new valid samples\n",
      "\n",
      "🔍 Processing subclass: A1V (currently 223)\n"
     ]
    },
    {
     "name": "stderr",
     "output_type": "stream",
     "text": [
      "A1V:  48%|████████████████▉                  | 108/223 [00:01<00:01, 70.84it/s]"
     ]
    },
    {
     "name": "stdout",
     "output_type": "stream",
     "text": [
      "Checked 100 — Collected 100/300\n"
     ]
    },
    {
     "name": "stderr",
     "output_type": "stream",
     "text": [
      "A1V:  94%|███████████████████████████████▊  | 209/223 [00:02<00:00, 103.20it/s]"
     ]
    },
    {
     "name": "stdout",
     "output_type": "stream",
     "text": [
      "Checked 200 — Collected 200/300\n"
     ]
    },
    {
     "name": "stderr",
     "output_type": "stream",
     "text": [
      "A1V: 100%|███████████████████████████████████| 223/223 [00:03<00:00, 72.73it/s]\n"
     ]
    },
    {
     "name": "stdout",
     "output_type": "stream",
     "text": [
      "A1V: Collected 223 new valid samples\n",
      "\n",
      "🔍 Processing subclass: CarbonWD (currently 219)\n"
     ]
    },
    {
     "name": "stderr",
     "output_type": "stream",
     "text": [
      "CarbonWD:  48%|██████████████               | 106/219 [00:00<00:00, 209.04it/s]"
     ]
    },
    {
     "name": "stdout",
     "output_type": "stream",
     "text": [
      "Checked 100 — Collected 0/300\n"
     ]
    },
    {
     "name": "stderr",
     "output_type": "stream",
     "text": [
      "CarbonWD: 100%|█████████████████████████████| 219/219 [00:01<00:00, 185.79it/s]\n"
     ]
    },
    {
     "name": "stdout",
     "output_type": "stream",
     "text": [
      "Checked 200 — Collected 0/300\n",
      "CarbonWD: Collected 0 new valid samples\n",
      "\n",
      "🔍 Processing subclass: M8 (currently 217)\n"
     ]
    },
    {
     "name": "stderr",
     "output_type": "stream",
     "text": [
      "M8:  59%|████████████████████▊              | 129/217 [00:00<00:00, 206.16it/s]"
     ]
    },
    {
     "name": "stdout",
     "output_type": "stream",
     "text": [
      "Checked 100 — Collected 0/300\n"
     ]
    },
    {
     "name": "stderr",
     "output_type": "stream",
     "text": [
      "M8: 100%|███████████████████████████████████| 217/217 [00:00<00:00, 217.62it/s]\n"
     ]
    },
    {
     "name": "stdout",
     "output_type": "stream",
     "text": [
      "Checked 200 — Collected 0/300\n",
      "M8: Collected 0 new valid samples\n",
      "\n",
      "🔍 Processing subclass: A1III (currently 215)\n"
     ]
    },
    {
     "name": "stderr",
     "output_type": "stream",
     "text": [
      "A1III:  48%|███████████████▉                 | 104/215 [00:01<00:02, 53.76it/s]"
     ]
    },
    {
     "name": "stdout",
     "output_type": "stream",
     "text": [
      "Checked 100 — Collected 100/300\n"
     ]
    },
    {
     "name": "stderr",
     "output_type": "stream",
     "text": [
      "A1III:  93%|██████████████████████████████▌  | 199/215 [00:03<00:00, 59.50it/s]"
     ]
    },
    {
     "name": "stdout",
     "output_type": "stream",
     "text": [
      "Checked 200 — Collected 200/300\n"
     ]
    },
    {
     "name": "stderr",
     "output_type": "stream",
     "text": [
      "A1III: 100%|█████████████████████████████████| 215/215 [00:04<00:00, 53.29it/s]\n"
     ]
    },
    {
     "name": "stdout",
     "output_type": "stream",
     "text": [
      "A1III: Collected 215 new valid samples\n",
      "\n",
      "🔍 Processing subclass: CalciumWD (currently 201)\n"
     ]
    },
    {
     "name": "stderr",
     "output_type": "stream",
     "text": [
      "CalciumWD:  55%|███████████████▊             | 110/201 [00:02<00:01, 52.33it/s]"
     ]
    },
    {
     "name": "stdout",
     "output_type": "stream",
     "text": [
      "Checked 100 — Collected 100/300\n"
     ]
    },
    {
     "name": "stderr",
     "output_type": "stream",
     "text": [
      "CalciumWD: 100%|█████████████████████████████| 201/201 [00:03<00:00, 51.30it/s]\n"
     ]
    },
    {
     "name": "stdout",
     "output_type": "stream",
     "text": [
      "Checked 200 — Collected 200/300\n",
      "CalciumWD: Collected 201 new valid samples\n",
      "\n",
      "🔍 Processing subclass: B9 (currently 197)\n"
     ]
    },
    {
     "name": "stderr",
     "output_type": "stream",
     "text": [
      "B9:  64%|██████████████████████▍            | 126/197 [00:00<00:00, 211.64it/s]"
     ]
    },
    {
     "name": "stdout",
     "output_type": "stream",
     "text": [
      "Checked 100 — Collected 23/300\n"
     ]
    },
    {
     "name": "stderr",
     "output_type": "stream",
     "text": [
      "B9: 100%|███████████████████████████████████| 197/197 [00:01<00:00, 173.15it/s]\n"
     ]
    },
    {
     "name": "stdout",
     "output_type": "stream",
     "text": [
      "B9: Collected 43 new valid samples\n",
      "\n",
      "🔍 Processing subclass: A0p (currently 191)\n"
     ]
    },
    {
     "name": "stderr",
     "output_type": "stream",
     "text": [
      "A0p:  66%|██████████████████████▍           | 126/191 [00:00<00:00, 154.65it/s]"
     ]
    },
    {
     "name": "stdout",
     "output_type": "stream",
     "text": [
      "Checked 100 — Collected 0/300\n"
     ]
    },
    {
     "name": "stderr",
     "output_type": "stream",
     "text": [
      "A0p: 100%|██████████████████████████████████| 191/191 [00:01<00:00, 125.24it/s]\n"
     ]
    },
    {
     "name": "stdout",
     "output_type": "stream",
     "text": [
      "A0p: Collected 0 new valid samples\n",
      "\n",
      "🔍 Processing subclass: K0IV (currently 191)\n"
     ]
    },
    {
     "name": "stderr",
     "output_type": "stream",
     "text": [
      "K0IV:  58%|███████████████████▊              | 111/191 [00:01<00:00, 82.11it/s]"
     ]
    },
    {
     "name": "stdout",
     "output_type": "stream",
     "text": [
      "Checked 100 — Collected 100/300\n"
     ]
    },
    {
     "name": "stderr",
     "output_type": "stream",
     "text": [
      "K0IV: 100%|██████████████████████████████████| 191/191 [00:02<00:00, 71.86it/s]\n"
     ]
    },
    {
     "name": "stdout",
     "output_type": "stream",
     "text": [
      "K0IV: Collected 191 new valid samples\n",
      "\n",
      "🔍 Processing subclass: A5II (currently 187)\n"
     ]
    },
    {
     "name": "stderr",
     "output_type": "stream",
     "text": [
      "A5II:  58%|███████████████████▊              | 109/187 [00:05<00:03, 24.97it/s]"
     ]
    },
    {
     "name": "stdout",
     "output_type": "stream",
     "text": [
      "Checked 100 — Collected 66/300\n"
     ]
    },
    {
     "name": "stderr",
     "output_type": "stream",
     "text": [
      "A5II: 100%|██████████████████████████████████| 187/187 [00:10<00:00, 17.60it/s]\n"
     ]
    },
    {
     "name": "stdout",
     "output_type": "stream",
     "text": [
      "A5II: Collected 75 new valid samples\n",
      "\n",
      "🔍 Processing subclass: M9 (currently 186)\n"
     ]
    },
    {
     "name": "stderr",
     "output_type": "stream",
     "text": [
      "M9:  52%|███████████████████▎                 | 97/186 [00:05<00:03, 24.77it/s]"
     ]
    },
    {
     "name": "stdout",
     "output_type": "stream",
     "text": [
      "Checked 100 — Collected 0/300\n"
     ]
    },
    {
     "name": "stderr",
     "output_type": "stream",
     "text": [
      "M9: 100%|████████████████████████████████████| 186/186 [00:15<00:00, 12.39it/s]\n"
     ]
    },
    {
     "name": "stdout",
     "output_type": "stream",
     "text": [
      "M9: Collected 0 new valid samples\n",
      "\n",
      "🔍 Processing subclass: F0Ib (currently 181)\n"
     ]
    },
    {
     "name": "stderr",
     "output_type": "stream",
     "text": [
      "F0Ib:  55%|███████████████████▏               | 99/181 [00:05<00:02, 27.46it/s]"
     ]
    },
    {
     "name": "stdout",
     "output_type": "stream",
     "text": [
      "Checked 100 — Collected 40/300\n"
     ]
    },
    {
     "name": "stderr",
     "output_type": "stream",
     "text": [
      "F0Ib: 100%|██████████████████████████████████| 181/181 [00:15<00:00, 12.06it/s]\n"
     ]
    },
    {
     "name": "stdout",
     "output_type": "stream",
     "text": [
      "F0Ib: Collected 53 new valid samples\n",
      "\n",
      "🔍 Processing subclass: G1V (currently 174)\n"
     ]
    },
    {
     "name": "stderr",
     "output_type": "stream",
     "text": [
      "G1V:  64%|██████████████████████▎            | 111/174 [00:02<00:00, 64.68it/s]"
     ]
    },
    {
     "name": "stdout",
     "output_type": "stream",
     "text": [
      "Checked 100 — Collected 100/300\n"
     ]
    },
    {
     "name": "stderr",
     "output_type": "stream",
     "text": [
      "G1V: 100%|███████████████████████████████████| 174/174 [00:03<00:00, 47.26it/s]\n"
     ]
    },
    {
     "name": "stdout",
     "output_type": "stream",
     "text": [
      "G1V: Collected 174 new valid samples\n",
      "\n",
      "🔍 Processing subclass: sd:F0 (currently 158)\n"
     ]
    },
    {
     "name": "stderr",
     "output_type": "stream",
     "text": [
      "sd:F0:  68%|██████████████████████▌          | 108/158 [00:01<00:00, 75.18it/s]"
     ]
    },
    {
     "name": "stdout",
     "output_type": "stream",
     "text": [
      "Checked 100 — Collected 100/300\n"
     ]
    },
    {
     "name": "stderr",
     "output_type": "stream",
     "text": [
      "sd:F0: 100%|█████████████████████████████████| 158/158 [00:02<00:00, 69.40it/s]\n"
     ]
    },
    {
     "name": "stdout",
     "output_type": "stream",
     "text": [
      "sd:F0: Collected 158 new valid samples\n",
      "\n",
      "🔍 Processing subclass: L5 (currently 150)\n"
     ]
    },
    {
     "name": "stderr",
     "output_type": "stream",
     "text": [
      "L5:  43%|███████████████▌                    | 65/150 [00:00<00:00, 156.92it/s]"
     ]
    },
    {
     "name": "stdout",
     "output_type": "stream",
     "text": [
      "Checked 100 — Collected 0/300\n"
     ]
    },
    {
     "name": "stderr",
     "output_type": "stream",
     "text": [
      "L5: 100%|███████████████████████████████████| 150/150 [00:00<00:00, 161.27it/s]\n"
     ]
    },
    {
     "name": "stdout",
     "output_type": "stream",
     "text": [
      "L5: Collected 0 new valid samples\n",
      "\n",
      "🔍 Processing subclass: Carbon_lines (currently 145)\n"
     ]
    },
    {
     "name": "stderr",
     "output_type": "stream",
     "text": [
      "Carbon_lines:  67%|██████████████████         | 97/145 [00:01<00:00, 63.96it/s]"
     ]
    },
    {
     "name": "stdout",
     "output_type": "stream",
     "text": [
      "Checked 100 — Collected 0/300\n"
     ]
    },
    {
     "name": "stderr",
     "output_type": "stream",
     "text": [
      "Carbon_lines: 100%|██████████████████████████| 145/145 [00:02<00:00, 69.72it/s]\n"
     ]
    },
    {
     "name": "stdout",
     "output_type": "stream",
     "text": [
      "Carbon_lines: Collected 0 new valid samples\n",
      "\n",
      "🔍 Processing subclass: M2V (currently 138)\n"
     ]
    },
    {
     "name": "stderr",
     "output_type": "stream",
     "text": [
      "M2V:  95%|████████████████████████████████▎ | 131/138 [00:00<00:00, 181.67it/s]"
     ]
    },
    {
     "name": "stdout",
     "output_type": "stream",
     "text": [
      "Checked 100 — Collected 0/300\n"
     ]
    },
    {
     "name": "stderr",
     "output_type": "stream",
     "text": [
      "M2V: 100%|██████████████████████████████████| 138/138 [00:00<00:00, 164.57it/s]\n"
     ]
    },
    {
     "name": "stdout",
     "output_type": "stream",
     "text": [
      "M2V: Collected 0 new valid samples\n",
      "\n",
      "🔍 Processing subclass: O8/O9 (currently 131)\n"
     ]
    },
    {
     "name": "stderr",
     "output_type": "stream",
     "text": [
      "O8/O9:  83%|███████████████████████████▍     | 109/131 [00:01<00:00, 70.80it/s]"
     ]
    },
    {
     "name": "stdout",
     "output_type": "stream",
     "text": [
      "Checked 100 — Collected 100/300\n"
     ]
    },
    {
     "name": "stderr",
     "output_type": "stream",
     "text": [
      "O8/O9: 100%|█████████████████████████████████| 131/131 [00:02<00:00, 60.94it/s]\n"
     ]
    },
    {
     "name": "stdout",
     "output_type": "stream",
     "text": [
      "O8/O9: Collected 131 new valid samples\n",
      "\n",
      "🔍 Processing subclass: F2III (currently 129)\n"
     ]
    },
    {
     "name": "stderr",
     "output_type": "stream",
     "text": [
      "F2III:  74%|█████████████████████████         | 95/129 [00:01<00:00, 82.09it/s]"
     ]
    },
    {
     "name": "stdout",
     "output_type": "stream",
     "text": [
      "Checked 100 — Collected 100/300\n"
     ]
    },
    {
     "name": "stderr",
     "output_type": "stream",
     "text": [
      "F2III: 100%|█████████████████████████████████| 129/129 [00:02<00:00, 54.65it/s]\n"
     ]
    },
    {
     "name": "stdout",
     "output_type": "stream",
     "text": [
      "F2III: Collected 129 new valid samples\n",
      "\n",
      "🔍 Processing subclass: B6 (currently 127)\n"
     ]
    },
    {
     "name": "stderr",
     "output_type": "stream",
     "text": [
      "B6: 100%|████████████████████████████████████| 127/127 [00:10<00:00, 12.68it/s]\n"
     ]
    },
    {
     "name": "stdout",
     "output_type": "stream",
     "text": [
      "Checked 100 — Collected 0/300\n",
      "B6: Collected 0 new valid samples\n",
      "\n",
      "🔍 Processing subclass: sdF3 (currently 115)\n"
     ]
    },
    {
     "name": "stderr",
     "output_type": "stream",
     "text": [
      "sdF3: 100%|██████████████████████████████████| 115/115 [00:10<00:00, 11.47it/s]"
     ]
    },
    {
     "name": "stdout",
     "output_type": "stream",
     "text": [
      "Checked 100 — Collected 30/300\n",
      "sdF3: Collected 30 new valid samples\n",
      "\n",
      "🎉 Finished collecting. Total new valid samples: 3002\n"
     ]
    },
    {
     "name": "stderr",
     "output_type": "stream",
     "text": [
      "\n"
     ]
    }
   ],
   "source": [
    "sampled = sampled_df.copy()\n",
    "\n",
    "\n",
    "existing_valid_df = pd.read_csv(\"../data/sampled_metadata_valid.csv\")  \n",
    "valid_counts = existing_valid_df['SUBCLASS_CLEAN'].value_counts().to_dict() if 'sampled_metadata_valid.csv' in locals() else {}\n",
    "\n",
    "TARGET = 300\n",
    "valid_rows = []\n",
    "\n",
    "def check_url(row):\n",
    "    try:\n",
    "        r = requests.head(row['url'], timeout=5)\n",
    "        if r.status_code == 200:\n",
    "            return row\n",
    "    except:\n",
    "        pass\n",
    "    return None\n",
    "\n",
    "underrepresented = sampled['SUBCLASS_CLEAN'].value_counts()\n",
    "underrepresented = underrepresented[underrepresented < TARGET]\n",
    "\n",
    "for subclass, current_count in underrepresented.items():\n",
    "    print(f\"\\n🔍 Processing subclass: {subclass} (currently {current_count})\")\n",
    "    needed = TARGET - valid_counts.get(subclass, 0)\n",
    "\n",
    "    candidates = sampled[sampled['SUBCLASS_CLEAN'] == subclass]\n",
    "\n",
    "    if len(candidates) == 0 or needed <= 0:\n",
    "        continue\n",
    "\n",
    "    candidates = candidates.sample(frac=1, random_state=42)\n",
    "\n",
    "    checked = 0\n",
    "    collected = 0\n",
    "    with ThreadPoolExecutor(max_workers=64) as executor:\n",
    "        futures = {executor.submit(check_url, row): row for _, row in candidates.iterrows()}\n",
    "        for f in tqdm(as_completed(futures), total=len(futures), desc=f\"{subclass}\"):\n",
    "            result = f.result()\n",
    "            checked += 1\n",
    "            if result is not None:\n",
    "                valid_rows.append(result)\n",
    "                collected += 1\n",
    "                if collected >= needed:\n",
    "                    break\n",
    "            if checked % 100 == 0:\n",
    "                tqdm.write(f\"Checked {checked} — Collected {collected}/{needed}\")\n",
    "\n",
    "    print(f\"{subclass}: Collected {collected} new valid samples\")\n",
    "\n",
    "final_valid_df = pd.DataFrame(valid_rows)\n",
    "print(f\"\\n Finished collecting. Total new valid samples: {len(final_valid_df)}\")\n",
    "\n",
    "final_valid_df.to_csv(\"../data/sampled_metadata_valid_min300.csv\", index=False)\n",
    "final_valid_df['url'].to_csv(\"../data/urls_valid_min300.txt\", index=False, header=False)"
   ]
  },
  {
   "cell_type": "code",
   "execution_count": 31,
   "id": "22cc1eca-e585-465b-831c-544651f4f783",
   "metadata": {
    "scrolled": true
   },
   "outputs": [
    {
     "data": {
      "text/plain": [
       "SUBCLASS_CLEAN\n",
       "F0V          293\n",
       "Ldwarf       272\n",
       "F0III        256\n",
       "A8V          239\n",
       "B5           236\n",
       "A1V          223\n",
       "A1III        215\n",
       "CalciumWD    201\n",
       "K0IV         191\n",
       "G1V          174\n",
       "sd:F0        158\n",
       "O8/O9        131\n",
       "F2III        129\n",
       "Carbon        83\n",
       "A5II          75\n",
       "F0Ib          53\n",
       "B9            43\n",
       "sdF3          30\n",
       "Name: count, dtype: int64"
      ]
     },
     "execution_count": 31,
     "metadata": {},
     "output_type": "execute_result"
    }
   ],
   "source": [
    "counts_final = final_valid_df['SUBCLASS_CLEAN'].value_counts()\n",
    "pd.set_option('display.max_rows', None)\n",
    "counts_final"
   ]
  },
  {
   "cell_type": "code",
   "execution_count": 40,
   "id": "f702cbc9-1059-4abe-b957-f7927112b2d4",
   "metadata": {
    "scrolled": true
   },
   "outputs": [
    {
     "data": {
      "text/plain": [
       "SUBCLASS_CLEAN\n",
       "F3/F5V      5711\n",
       "CV          1489\n",
       "F0IV        1268\n",
       "M5III       1126\n",
       "F8V         1077\n",
       "M4.5:III    1067\n",
       "K3V         1034\n",
       "A2II         990\n",
       "K5Ve         899\n",
       "A4V          852\n",
       "M1           632\n",
       "F2V          624\n",
       "WDcooler     595\n",
       "G4V          540\n",
       "K0V          515\n",
       "F0III        512\n",
       "WDhotter     511\n",
       "M6III        490\n",
       "A8V          478\n",
       "B5           472\n",
       "K5           465\n",
       "Ldwarf       451\n",
       "A1V          446\n",
       "G0           400\n",
       "F0V          391\n",
       "G8V          388\n",
       "K0IV         382\n",
       "F6V          367\n",
       "G1V          348\n",
       "A9V          340\n",
       "M3III        332\n",
       "F0II         300\n",
       "A1III        298\n",
       "A5II         262\n",
       "F0Ib         234\n",
       "O8/O9        192\n",
       "F2III        183\n",
       "B9            82\n",
       "Name: count, dtype: int64"
      ]
     },
     "execution_count": 40,
     "metadata": {},
     "output_type": "execute_result"
    }
   ],
   "source": [
    "final_dataframe = pd.concat([valid_df, final_valid_df], ignore_index=True)\n",
    "drop_subclasses = [\n",
    "    \"Carbon\", \"G0Va\", \"A0\", \"sdF3\", \"sd:F0\",\n",
    "    \"WDmagnetic\", \"CalciumWD\"\n",
    "]\n",
    "final_dataframe = final_dataframe[~final_dataframe['SUBCLASS_CLEAN'].isin(drop_subclasses)]\n",
    "final_counts = final_dataframe['SUBCLASS_CLEAN'].value_counts()\n",
    "final_counts"
   ]
  },
  {
   "cell_type": "code",
   "execution_count": 46,
   "id": "29bb5507-5c16-474d-8735-f2e30f13d17f",
   "metadata": {},
   "outputs": [
    {
     "data": {
      "text/plain": [
       "SPECTRAL_GROUP\n",
       "F     10667\n",
       "A      3666\n",
       "M      3647\n",
       "K      3295\n",
       "G      1676\n",
       "CV     1489\n",
       "WD     1106\n",
       "B       746\n",
       "L       451\n",
       "Name: count, dtype: int64"
      ]
     },
     "execution_count": 46,
     "metadata": {},
     "output_type": "execute_result"
    }
   ],
   "source": [
    "subclass_to_group = {\n",
    "    \"O8/O9\": \"B\", # If we were to assign this into an 'O' class rather than merging, it would have only 192 examples, which would be practically irrelevant. \n",
    "    \"B5\": \"B\",\n",
    "    \"B9\": \"B\",\n",
    "    \"A1V\": \"A\",\n",
    "    \"A1III\": \"A\",\n",
    "    \"A2II\": \"A\",\n",
    "    \"A4V\": \"A\",\n",
    "    \"A5II\": \"A\",\n",
    "    \"A8V\": \"A\",\n",
    "    \"A9V\": \"A\",\n",
    "    \"F0IV\": \"F\",\n",
    "    \"F0III\": \"F\",\n",
    "    \"F0II\": \"F\",\n",
    "    \"F0V\": \"F\",\n",
    "    \"F0Ib\": \"F\",\n",
    "    \"F2III\": \"F\",\n",
    "    \"F2V\": \"F\",\n",
    "    \"F3/F5V\": \"F\",\n",
    "    \"F6V\": \"F\",\n",
    "    \"F8V\": \"F\",\n",
    "    \"G0\": \"G\",\n",
    "    \"G1V\": \"G\",\n",
    "    \"G4V\": \"G\",\n",
    "    \"G8V\": \"G\",\n",
    "    \"K0IV\": \"K\",\n",
    "    \"K0V\": \"K\",\n",
    "    \"K3V\": \"K\",\n",
    "    \"K5\": \"K\",\n",
    "    \"K5Ve\": \"K\",\n",
    "    \"M1\": \"M\",\n",
    "    \"M3III\": \"M\",\n",
    "    \"M4.5:III\": \"M\",\n",
    "    \"M5III\": \"M\",\n",
    "    \"M6III\": \"M\",\n",
    "    \"WDcooler\": \"WD\",\n",
    "    \"WDhotter\": \"WD\",\n",
    "    \"CV\": \"CV\",\n",
    "    \"Ldwarf\": \"L\"\n",
    "}\n",
    "final_dataframe[\"SPECTRAL_GROUP\"] = final_dataframe[\"SUBCLASS_CLEAN\"].map(subclass_to_group)\n",
    "spectral_group_counts = final_dataframe[\"SPECTRAL_GROUP\"].value_counts()\n",
    "spectral_group_counts"
   ]
  },
  {
   "cell_type": "code",
   "execution_count": 48,
   "id": "221608c7-1101-4774-9202-3ba5bce20b51",
   "metadata": {},
   "outputs": [
    {
     "data": {
      "text/html": [
       "<div>\n",
       "<style scoped>\n",
       "    .dataframe tbody tr th:only-of-type {\n",
       "        vertical-align: middle;\n",
       "    }\n",
       "\n",
       "    .dataframe tbody tr th {\n",
       "        vertical-align: top;\n",
       "    }\n",
       "\n",
       "    .dataframe thead th {\n",
       "        text-align: right;\n",
       "    }\n",
       "</style>\n",
       "<table border=\"1\" class=\"dataframe\">\n",
       "  <thead>\n",
       "    <tr style=\"text-align: right;\">\n",
       "      <th></th>\n",
       "      <th>Unnamed: 0</th>\n",
       "      <th>PLATE</th>\n",
       "      <th>MJD</th>\n",
       "      <th>FIBERID</th>\n",
       "      <th>CLASS</th>\n",
       "      <th>SUBCLASS</th>\n",
       "      <th>ELODIE_SPTYPE</th>\n",
       "      <th>ELODIE_TEFF</th>\n",
       "      <th>ELODIE_LOGG</th>\n",
       "      <th>ELODIE_FEH</th>\n",
       "      <th>...</th>\n",
       "      <th>ZWARNING</th>\n",
       "      <th>VDISP</th>\n",
       "      <th>VDISP_ERR</th>\n",
       "      <th>SN_MEDIAN_ALL</th>\n",
       "      <th>RCHI2</th>\n",
       "      <th>DOF</th>\n",
       "      <th>SPECTROFLUX</th>\n",
       "      <th>SUBCLASS_CLEAN</th>\n",
       "      <th>url</th>\n",
       "      <th>SPECTRAL_GROUP</th>\n",
       "    </tr>\n",
       "  </thead>\n",
       "  <tbody>\n",
       "    <tr>\n",
       "      <th>3</th>\n",
       "      <td>3507131</td>\n",
       "      <td>6051</td>\n",
       "      <td>56093</td>\n",
       "      <td>932</td>\n",
       "      <td>STAR</td>\n",
       "      <td>F3/F5V (30743)</td>\n",
       "      <td>M1V</td>\n",
       "      <td>3705.0</td>\n",
       "      <td>4.800</td>\n",
       "      <td>0.60</td>\n",
       "      <td>...</td>\n",
       "      <td>0</td>\n",
       "      <td>0.0</td>\n",
       "      <td>0.0</td>\n",
       "      <td>19.021759</td>\n",
       "      <td>0.880377</td>\n",
       "      <td>4542</td>\n",
       "      <td>[19.371477127075195, 31.882356643676758, 42.20...</td>\n",
       "      <td>F3/F5V</td>\n",
       "      <td>https://data.sdss.org/sas/dr17/eboss/spectro/r...</td>\n",
       "      <td>F</td>\n",
       "    </tr>\n",
       "    <tr>\n",
       "      <th>4</th>\n",
       "      <td>2310409</td>\n",
       "      <td>4287</td>\n",
       "      <td>55483</td>\n",
       "      <td>210</td>\n",
       "      <td>STAR</td>\n",
       "      <td>F3/F5V (30743)</td>\n",
       "      <td>M1V</td>\n",
       "      <td>3705.0</td>\n",
       "      <td>4.800</td>\n",
       "      <td>0.60</td>\n",
       "      <td>...</td>\n",
       "      <td>0</td>\n",
       "      <td>0.0</td>\n",
       "      <td>0.0</td>\n",
       "      <td>22.828102</td>\n",
       "      <td>1.034391</td>\n",
       "      <td>4487</td>\n",
       "      <td>[20.819482803344727, 33.85621643066406, 44.854...</td>\n",
       "      <td>F3/F5V</td>\n",
       "      <td>https://data.sdss.org/sas/dr17/eboss/spectro/r...</td>\n",
       "      <td>F</td>\n",
       "    </tr>\n",
       "    <tr>\n",
       "      <th>5</th>\n",
       "      <td>2548088</td>\n",
       "      <td>4569</td>\n",
       "      <td>55631</td>\n",
       "      <td>889</td>\n",
       "      <td>STAR</td>\n",
       "      <td>F3/F5V (30743)</td>\n",
       "      <td>M1V</td>\n",
       "      <td>3705.0</td>\n",
       "      <td>4.800</td>\n",
       "      <td>0.60</td>\n",
       "      <td>...</td>\n",
       "      <td>0</td>\n",
       "      <td>0.0</td>\n",
       "      <td>0.0</td>\n",
       "      <td>28.743233</td>\n",
       "      <td>0.948585</td>\n",
       "      <td>4505</td>\n",
       "      <td>[31.04962921142578, 56.28861999511719, 76.5466...</td>\n",
       "      <td>F3/F5V</td>\n",
       "      <td>https://data.sdss.org/sas/dr17/eboss/spectro/r...</td>\n",
       "      <td>F</td>\n",
       "    </tr>\n",
       "    <tr>\n",
       "      <th>6</th>\n",
       "      <td>3289893</td>\n",
       "      <td>5770</td>\n",
       "      <td>56014</td>\n",
       "      <td>694</td>\n",
       "      <td>STAR</td>\n",
       "      <td>F3/F5V (30743)</td>\n",
       "      <td>M1V</td>\n",
       "      <td>3705.0</td>\n",
       "      <td>4.800</td>\n",
       "      <td>0.60</td>\n",
       "      <td>...</td>\n",
       "      <td>0</td>\n",
       "      <td>0.0</td>\n",
       "      <td>0.0</td>\n",
       "      <td>23.706001</td>\n",
       "      <td>0.875567</td>\n",
       "      <td>4568</td>\n",
       "      <td>[19.188594818115234, 33.665863037109375, 45.82...</td>\n",
       "      <td>F3/F5V</td>\n",
       "      <td>https://data.sdss.org/sas/dr17/eboss/spectro/r...</td>\n",
       "      <td>F</td>\n",
       "    </tr>\n",
       "    <tr>\n",
       "      <th>7</th>\n",
       "      <td>1953399</td>\n",
       "      <td>3784</td>\n",
       "      <td>55269</td>\n",
       "      <td>200</td>\n",
       "      <td>STAR</td>\n",
       "      <td>F3/F5V (30743)</td>\n",
       "      <td>O9.5Ib...</td>\n",
       "      <td>9899.0</td>\n",
       "      <td>2.924</td>\n",
       "      <td>0.09</td>\n",
       "      <td>...</td>\n",
       "      <td>0</td>\n",
       "      <td>0.0</td>\n",
       "      <td>0.0</td>\n",
       "      <td>2.716969</td>\n",
       "      <td>0.984394</td>\n",
       "      <td>4395</td>\n",
       "      <td>[1.5342345237731934, 2.4548885822296143, 3.740...</td>\n",
       "      <td>F3/F5V</td>\n",
       "      <td>https://data.sdss.org/sas/dr17/eboss/spectro/r...</td>\n",
       "      <td>F</td>\n",
       "    </tr>\n",
       "  </tbody>\n",
       "</table>\n",
       "<p>5 rows × 22 columns</p>\n",
       "</div>"
      ],
      "text/plain": [
       "   Unnamed: 0  PLATE    MJD  FIBERID   CLASS               SUBCLASS  \\\n",
       "3     3507131   6051  56093      932  STAR    F3/F5V (30743)          \n",
       "4     2310409   4287  55483      210  STAR    F3/F5V (30743)          \n",
       "5     2548088   4569  55631      889  STAR    F3/F5V (30743)          \n",
       "6     3289893   5770  56014      694  STAR    F3/F5V (30743)          \n",
       "7     1953399   3784  55269      200  STAR    F3/F5V (30743)          \n",
       "\n",
       "  ELODIE_SPTYPE  ELODIE_TEFF  ELODIE_LOGG  ELODIE_FEH  ...  ZWARNING  VDISP  \\\n",
       "3  M1V                3705.0        4.800        0.60  ...         0    0.0   \n",
       "4  M1V                3705.0        4.800        0.60  ...         0    0.0   \n",
       "5  M1V                3705.0        4.800        0.60  ...         0    0.0   \n",
       "6  M1V                3705.0        4.800        0.60  ...         0    0.0   \n",
       "7  O9.5Ib...          9899.0        2.924        0.09  ...         0    0.0   \n",
       "\n",
       "   VDISP_ERR  SN_MEDIAN_ALL     RCHI2   DOF  \\\n",
       "3        0.0      19.021759  0.880377  4542   \n",
       "4        0.0      22.828102  1.034391  4487   \n",
       "5        0.0      28.743233  0.948585  4505   \n",
       "6        0.0      23.706001  0.875567  4568   \n",
       "7        0.0       2.716969  0.984394  4395   \n",
       "\n",
       "                                         SPECTROFLUX  SUBCLASS_CLEAN  \\\n",
       "3  [19.371477127075195, 31.882356643676758, 42.20...          F3/F5V   \n",
       "4  [20.819482803344727, 33.85621643066406, 44.854...          F3/F5V   \n",
       "5  [31.04962921142578, 56.28861999511719, 76.5466...          F3/F5V   \n",
       "6  [19.188594818115234, 33.665863037109375, 45.82...          F3/F5V   \n",
       "7  [1.5342345237731934, 2.4548885822296143, 3.740...          F3/F5V   \n",
       "\n",
       "                                                 url SPECTRAL_GROUP  \n",
       "3  https://data.sdss.org/sas/dr17/eboss/spectro/r...              F  \n",
       "4  https://data.sdss.org/sas/dr17/eboss/spectro/r...              F  \n",
       "5  https://data.sdss.org/sas/dr17/eboss/spectro/r...              F  \n",
       "6  https://data.sdss.org/sas/dr17/eboss/spectro/r...              F  \n",
       "7  https://data.sdss.org/sas/dr17/eboss/spectro/r...              F  \n",
       "\n",
       "[5 rows x 22 columns]"
      ]
     },
     "execution_count": 48,
     "metadata": {},
     "output_type": "execute_result"
    }
   ],
   "source": [
    "final_dataframe.head()"
   ]
  },
  {
   "cell_type": "code",
   "execution_count": 54,
   "id": "7ba4fd94-ab9d-4512-8f3f-8a4aea6c1fb6",
   "metadata": {},
   "outputs": [],
   "source": [
    "final_dataframe.to_csv(\"../data/final_dataframe\")\n",
    "final_dataframe['url'].to_csv(\"../data/final_urls.txt\", index=False, header=False)"
   ]
  },
  {
   "cell_type": "code",
   "execution_count": 55,
   "id": "e710549b-1310-4f0f-9dd4-3f9302939a5c",
   "metadata": {},
   "outputs": [
    {
     "name": "stderr",
     "output_type": "stream",
     "text": [
      "  4%|█▍                                  | 999/24889 [05:16<2:02:47,  3.24it/s]"
     ]
    },
    {
     "name": "stdout",
     "output_type": "stream",
     "text": [
      "Status: 1000/1000 files successfully downloaded\n"
     ]
    },
    {
     "name": "stderr",
     "output_type": "stream",
     "text": [
      "  8%|██▊                                | 2000/24889 [10:55<1:36:57,  3.93it/s]"
     ]
    },
    {
     "name": "stdout",
     "output_type": "stream",
     "text": [
      "Status: 2000/2000 files successfully downloaded\n"
     ]
    },
    {
     "name": "stderr",
     "output_type": "stream",
     "text": [
      " 12%|████▏                              | 3000/24889 [16:28<1:44:19,  3.50it/s]"
     ]
    },
    {
     "name": "stdout",
     "output_type": "stream",
     "text": [
      "Status: 3000/3000 files successfully downloaded\n"
     ]
    },
    {
     "name": "stderr",
     "output_type": "stream",
     "text": [
      " 16%|█████▉                               | 3999/24889 [22:11<47:31,  7.33it/s]"
     ]
    },
    {
     "name": "stdout",
     "output_type": "stream",
     "text": [
      "Status: 4000/4000 files successfully downloaded\n"
     ]
    },
    {
     "name": "stderr",
     "output_type": "stream",
     "text": [
      " 20%|███████                            | 5000/24889 [28:20<1:44:52,  3.16it/s]"
     ]
    },
    {
     "name": "stdout",
     "output_type": "stream",
     "text": [
      "Status: 5000/5000 files successfully downloaded\n"
     ]
    },
    {
     "name": "stderr",
     "output_type": "stream",
     "text": [
      " 24%|████████▍                          | 6000/24889 [34:55<2:22:04,  2.22it/s]"
     ]
    },
    {
     "name": "stdout",
     "output_type": "stream",
     "text": [
      "Status: 6000/6000 files successfully downloaded\n"
     ]
    },
    {
     "name": "stderr",
     "output_type": "stream",
     "text": [
      " 28%|██████████▍                          | 7000/24889 [41:17<59:33,  5.01it/s]"
     ]
    },
    {
     "name": "stdout",
     "output_type": "stream",
     "text": [
      "Status: 7000/7000 files successfully downloaded\n"
     ]
    },
    {
     "name": "stderr",
     "output_type": "stream",
     "text": [
      " 32%|███████████▏                       | 8000/24889 [47:24<1:23:10,  3.38it/s]"
     ]
    },
    {
     "name": "stdout",
     "output_type": "stream",
     "text": [
      "Status: 8000/8000 files successfully downloaded\n"
     ]
    },
    {
     "name": "stderr",
     "output_type": "stream",
     "text": [
      " 36%|████████████▋                      | 9002/24889 [54:26<1:24:46,  3.12it/s]"
     ]
    },
    {
     "name": "stdout",
     "output_type": "stream",
     "text": [
      "Status: 9000/9000 files successfully downloaded\n"
     ]
    },
    {
     "name": "stderr",
     "output_type": "stream",
     "text": [
      " 40%|████████████▊                   | 10000/24889 [1:01:52<1:41:38,  2.44it/s]"
     ]
    },
    {
     "name": "stdout",
     "output_type": "stream",
     "text": [
      "Status: 10000/10000 files successfully downloaded\n"
     ]
    },
    {
     "name": "stderr",
     "output_type": "stream",
     "text": [
      " 44%|███████████████                   | 11000/24889 [1:07:04<57:24,  4.03it/s]"
     ]
    },
    {
     "name": "stdout",
     "output_type": "stream",
     "text": [
      "Status: 11000/11000 files successfully downloaded\n"
     ]
    },
    {
     "name": "stderr",
     "output_type": "stream",
     "text": [
      " 48%|███████████████▍                | 12000/24889 [1:12:44<2:06:20,  1.70it/s]"
     ]
    },
    {
     "name": "stdout",
     "output_type": "stream",
     "text": [
      "Status: 12000/12000 files successfully downloaded\n"
     ]
    },
    {
     "name": "stderr",
     "output_type": "stream",
     "text": [
      " 52%|█████████████████▊                | 13002/24889 [1:18:34<33:27,  5.92it/s]"
     ]
    },
    {
     "name": "stdout",
     "output_type": "stream",
     "text": [
      "Status: 13000/13000 files successfully downloaded\n"
     ]
    },
    {
     "name": "stderr",
     "output_type": "stream",
     "text": [
      " 56%|███████████████████               | 13998/24889 [1:24:27<40:39,  4.46it/s]"
     ]
    },
    {
     "name": "stdout",
     "output_type": "stream",
     "text": [
      "Status: 14000/14000 files successfully downloaded\n"
     ]
    },
    {
     "name": "stderr",
     "output_type": "stream",
     "text": [
      " 60%|████████████████████▍             | 15001/24889 [1:30:16<42:08,  3.91it/s]"
     ]
    },
    {
     "name": "stdout",
     "output_type": "stream",
     "text": [
      "Status: 15000/15000 files successfully downloaded\n"
     ]
    },
    {
     "name": "stderr",
     "output_type": "stream",
     "text": [
      " 64%|█████████████████████▊            | 16000/24889 [1:35:18<34:55,  4.24it/s]"
     ]
    },
    {
     "name": "stdout",
     "output_type": "stream",
     "text": [
      "Status: 16000/16000 files successfully downloaded\n"
     ]
    },
    {
     "name": "stderr",
     "output_type": "stream",
     "text": [
      " 68%|███████████████████████▏          | 17000/24889 [1:40:57<26:40,  4.93it/s]"
     ]
    },
    {
     "name": "stdout",
     "output_type": "stream",
     "text": [
      "Status: 17000/17000 files successfully downloaded\n"
     ]
    },
    {
     "name": "stderr",
     "output_type": "stream",
     "text": [
      " 72%|████████████████████████▌         | 18000/24889 [1:46:30<29:02,  3.95it/s]"
     ]
    },
    {
     "name": "stdout",
     "output_type": "stream",
     "text": [
      "Status: 18000/18000 files successfully downloaded\n"
     ]
    },
    {
     "name": "stderr",
     "output_type": "stream",
     "text": [
      " 76%|█████████████████████████▉        | 19000/24889 [1:51:28<49:18,  1.99it/s]"
     ]
    },
    {
     "name": "stdout",
     "output_type": "stream",
     "text": [
      "Status: 19000/19000 files successfully downloaded\n"
     ]
    },
    {
     "name": "stderr",
     "output_type": "stream",
     "text": [
      " 80%|███████████████████████████▎      | 20000/24889 [1:56:41<12:07,  6.72it/s]"
     ]
    },
    {
     "name": "stdout",
     "output_type": "stream",
     "text": [
      "Status: 20000/20000 files successfully downloaded\n"
     ]
    },
    {
     "name": "stderr",
     "output_type": "stream",
     "text": [
      " 84%|████████████████████████████▋     | 21000/24889 [2:01:33<18:28,  3.51it/s]"
     ]
    },
    {
     "name": "stdout",
     "output_type": "stream",
     "text": [
      "Status: 21000/21000 files successfully downloaded\n"
     ]
    },
    {
     "name": "stderr",
     "output_type": "stream",
     "text": [
      " 88%|██████████████████████████████    | 22000/24889 [2:07:49<28:45,  1.67it/s]"
     ]
    },
    {
     "name": "stdout",
     "output_type": "stream",
     "text": [
      "Status: 22000/22000 files successfully downloaded\n"
     ]
    },
    {
     "name": "stderr",
     "output_type": "stream",
     "text": [
      " 92%|███████████████████████████████▍  | 23001/24889 [2:13:15<09:08,  3.44it/s]"
     ]
    },
    {
     "name": "stdout",
     "output_type": "stream",
     "text": [
      "Status: 23000/23000 files successfully downloaded\n"
     ]
    },
    {
     "name": "stderr",
     "output_type": "stream",
     "text": [
      " 96%|████████████████████████████████▊ | 24000/24889 [2:17:57<02:57,  5.02it/s]"
     ]
    },
    {
     "name": "stdout",
     "output_type": "stream",
     "text": [
      "Status: 24000/24000 files successfully downloaded\n"
     ]
    },
    {
     "name": "stderr",
     "output_type": "stream",
     "text": [
      "100%|██████████████████████████████████| 24889/24889 [2:22:11<00:00,  2.92it/s]"
     ]
    },
    {
     "name": "stdout",
     "output_type": "stream",
     "text": [
      "Done, Total downloaded: 24889/24889\n"
     ]
    },
    {
     "name": "stderr",
     "output_type": "stream",
     "text": [
      "\n"
     ]
    }
   ],
   "source": [
    "with open(\"urls_100k_valid.txt\", \"r\") as f:\n",
    "    urls = [line.strip() for line in f if line.strip()]\n",
    "\n",
    "output_dir = \"sdss_spectra\"\n",
    "os.makedirs(output_dir, exist_ok=True)\n",
    "\n",
    "def download_file(url, max_retries=3):\n",
    "    filename = url.split(\"/\")[-1]\n",
    "    filepath = os.path.join(output_dir, filename)\n",
    "\n",
    "    if os.path.exists(filepath):\n",
    "        return True \n",
    "\n",
    "    for attempt in range(max_retries):\n",
    "        try:\n",
    "            r = requests.get(url, timeout=10)\n",
    "            if r.status_code == 200:\n",
    "                with open(filepath, \"wb\") as f:\n",
    "                    f.write(r.content)\n",
    "                return True\n",
    "            else:\n",
    "                time.sleep(1)\n",
    "        except:\n",
    "            time.sleep(1)\n",
    "    return False\n",
    "\n",
    "max_workers = 32\n",
    "success_count = 0\n",
    "total_count = 0\n",
    "\n",
    "with ThreadPoolExecutor(max_workers=max_workers) as executor:\n",
    "    futures = {executor.submit(download_file, url): url for url in urls}\n",
    "    for f in tqdm(as_completed(futures), total=len(futures)):\n",
    "        total_count += 1\n",
    "        if f.result():\n",
    "            success_count += 1\n",
    "\n",
    "        if total_count % 1000 == 0:\n",
    "            print(f\"Status: {success_count}/{total_count} files successfully downloaded\")\n",
    "\n",
    "print(f\"Done, Total downloaded: {success_count}/{total_count}\")"
   ]
  },
  {
   "cell_type": "code",
   "execution_count": 2,
   "id": "f875e8b9-6804-4267-b150-a53f40d66e0b",
   "metadata": {},
   "outputs": [
    {
     "name": "stderr",
     "output_type": "stream",
     "text": [
      "100%|███████████████████████████████████| 24889/24889 [01:02<00:00, 398.91it/s]\n"
     ]
    }
   ],
   "source": [
    "input_dir = \"../data/sdss_spectra\"\n",
    "output_dir = \"../data/spectrograms\"\n",
    "os.makedirs(output_dir, exist_ok=True)\n",
    "\n",
    "wavelength_common = np.linspace(3600, 10400, 1024)\n",
    "spectrograms = []\n",
    "valid_labels = []\n",
    "\n",
    "label_df = pd.read_csv(\"../data/final_dataframe\")\n",
    "label_dict = {\n",
    "    f\"spec-{row['PLATE']}-{row['MJD']}-{str(row['FIBERID']).zfill(4)}.fits\": row['url']\n",
    "    for _, row in label_df.iterrows()\n",
    "}\n",
    "\n",
    "files = [f for f in os.listdir(input_dir) if f.endswith(\".fits\")]\n",
    "\n",
    "for f in tqdm(files):\n",
    "    input_path = os.path.join(input_dir, f)\n",
    "    try:\n",
    "        with fits.open(input_path) as hdul:\n",
    "            flux = hdul[1].data['flux']\n",
    "            loglam = hdul[1].data['loglam']\n",
    "            wavelength = 10 ** loglam\n",
    "\n",
    "        f_interp = interp1d(wavelength, flux, bounds_error=False, fill_value=0)\n",
    "        flux_interp = f_interp(wavelength_common)\n",
    "\n",
    "        flux_interp -= np.median(flux_interp)\n",
    "        flux_interp /= np.std(flux_interp) + 1e-8\n",
    "\n",
    "        output_path = os.path.join(output_dir, f.replace(\".fits\", \".npy\"))\n",
    "        np.save(output_path, flux_interp)\n",
    "        spectrograms.append(flux_interp)\n",
    "\n",
    "        if f in label_dict:\n",
    "            valid_labels.append(label_dict[f])\n",
    "        else:\n",
    "            valid_labels.append(\"Unknown\")\n",
    "\n",
    "    except Exception as e:\n",
    "        print(f\"Err generating flux array for {f}: {e}\")\n"
   ]
  },
  {
   "cell_type": "code",
   "execution_count": 3,
   "id": "4286c6a0-2221-4210-850a-0eb3a86cdbe3",
   "metadata": {},
   "outputs": [],
   "source": [
    "tsne_arr = np.stack(spectrograms)\n",
    "tsne_arr = tsne_arr[:7000]\n",
    "valid_labels = valid_labels[:7000]\n",
    "if len(valid_labels) != len(tsne_arr):\n",
    "    print(\"Mismatch in labels and data\")\n",
    "    exit()"
   ]
  },
  {
   "cell_type": "code",
   "execution_count": 4,
   "id": "dcdada1a-2e38-41a7-83b4-e6981b93c301",
   "metadata": {},
   "outputs": [
    {
     "name": "stderr",
     "output_type": "stream",
     "text": [
      "C:\\Users\\radiant\\AppData\\Local\\Programs\\Git\\venv\\Lib\\site-packages\\sklearn\\manifold\\_t_sne.py:1164: FutureWarning: 'n_iter' was renamed to 'max_iter' in version 1.5 and will be removed in 1.7.\n",
      "  warnings.warn(\n"
     ]
    },
    {
     "ename": "KeyboardInterrupt",
     "evalue": "",
     "output_type": "error",
     "traceback": [
      "\u001b[31m---------------------------------------------------------------------------\u001b[39m",
      "\u001b[31mKeyboardInterrupt\u001b[39m                         Traceback (most recent call last)",
      "\u001b[36mCell\u001b[39m\u001b[36m \u001b[39m\u001b[32mIn[4]\u001b[39m\u001b[32m, line 2\u001b[39m\n\u001b[32m      1\u001b[39m tsne = TSNE(n_components=\u001b[32m2\u001b[39m, perplexity=\u001b[32m30\u001b[39m, random_state=\u001b[32m42\u001b[39m, n_iter=\u001b[32m1000\u001b[39m)\n\u001b[32m----> \u001b[39m\u001b[32m2\u001b[39m X_tsne = \u001b[43mtsne\u001b[49m\u001b[43m.\u001b[49m\u001b[43mfit_transform\u001b[49m\u001b[43m(\u001b[49m\u001b[43mtsne_arr\u001b[49m\u001b[43m)\u001b[49m\n\u001b[32m      4\u001b[39m plt.figure(figsize=(\u001b[32m10\u001b[39m, \u001b[32m8\u001b[39m))\n\u001b[32m      5\u001b[39m sns.scatterplot(x=X_tsne[:, \u001b[32m0\u001b[39m], y=X_tsne[:, \u001b[32m1\u001b[39m], hue=valid_labels, palette=\u001b[33m\"\u001b[39m\u001b[33mtab10\u001b[39m\u001b[33m\"\u001b[39m, s=\u001b[32m10\u001b[39m, legend=\u001b[33m\"\u001b[39m\u001b[33mfull\u001b[39m\u001b[33m\"\u001b[39m)\n",
      "\u001b[36mFile \u001b[39m\u001b[32m~\\AppData\\Local\\Programs\\Git\\venv\\Lib\\site-packages\\sklearn\\utils\\_set_output.py:319\u001b[39m, in \u001b[36m_wrap_method_output.<locals>.wrapped\u001b[39m\u001b[34m(self, X, *args, **kwargs)\u001b[39m\n\u001b[32m    317\u001b[39m \u001b[38;5;129m@wraps\u001b[39m(f)\n\u001b[32m    318\u001b[39m \u001b[38;5;28;01mdef\u001b[39;00m\u001b[38;5;250m \u001b[39m\u001b[34mwrapped\u001b[39m(\u001b[38;5;28mself\u001b[39m, X, *args, **kwargs):\n\u001b[32m--> \u001b[39m\u001b[32m319\u001b[39m     data_to_wrap = \u001b[43mf\u001b[49m\u001b[43m(\u001b[49m\u001b[38;5;28;43mself\u001b[39;49m\u001b[43m,\u001b[49m\u001b[43m \u001b[49m\u001b[43mX\u001b[49m\u001b[43m,\u001b[49m\u001b[43m \u001b[49m\u001b[43m*\u001b[49m\u001b[43margs\u001b[49m\u001b[43m,\u001b[49m\u001b[43m \u001b[49m\u001b[43m*\u001b[49m\u001b[43m*\u001b[49m\u001b[43mkwargs\u001b[49m\u001b[43m)\u001b[49m\n\u001b[32m    320\u001b[39m     \u001b[38;5;28;01mif\u001b[39;00m \u001b[38;5;28misinstance\u001b[39m(data_to_wrap, \u001b[38;5;28mtuple\u001b[39m):\n\u001b[32m    321\u001b[39m         \u001b[38;5;66;03m# only wrap the first output for cross decomposition\u001b[39;00m\n\u001b[32m    322\u001b[39m         return_tuple = (\n\u001b[32m    323\u001b[39m             _wrap_data_with_container(method, data_to_wrap[\u001b[32m0\u001b[39m], X, \u001b[38;5;28mself\u001b[39m),\n\u001b[32m    324\u001b[39m             *data_to_wrap[\u001b[32m1\u001b[39m:],\n\u001b[32m    325\u001b[39m         )\n",
      "\u001b[36mFile \u001b[39m\u001b[32m~\\AppData\\Local\\Programs\\Git\\venv\\Lib\\site-packages\\sklearn\\base.py:1389\u001b[39m, in \u001b[36m_fit_context.<locals>.decorator.<locals>.wrapper\u001b[39m\u001b[34m(estimator, *args, **kwargs)\u001b[39m\n\u001b[32m   1382\u001b[39m     estimator._validate_params()\n\u001b[32m   1384\u001b[39m \u001b[38;5;28;01mwith\u001b[39;00m config_context(\n\u001b[32m   1385\u001b[39m     skip_parameter_validation=(\n\u001b[32m   1386\u001b[39m         prefer_skip_nested_validation \u001b[38;5;129;01mor\u001b[39;00m global_skip_validation\n\u001b[32m   1387\u001b[39m     )\n\u001b[32m   1388\u001b[39m ):\n\u001b[32m-> \u001b[39m\u001b[32m1389\u001b[39m     \u001b[38;5;28;01mreturn\u001b[39;00m \u001b[43mfit_method\u001b[49m\u001b[43m(\u001b[49m\u001b[43mestimator\u001b[49m\u001b[43m,\u001b[49m\u001b[43m \u001b[49m\u001b[43m*\u001b[49m\u001b[43margs\u001b[49m\u001b[43m,\u001b[49m\u001b[43m \u001b[49m\u001b[43m*\u001b[49m\u001b[43m*\u001b[49m\u001b[43mkwargs\u001b[49m\u001b[43m)\u001b[49m\n",
      "\u001b[36mFile \u001b[39m\u001b[32m~\\AppData\\Local\\Programs\\Git\\venv\\Lib\\site-packages\\sklearn\\manifold\\_t_sne.py:1178\u001b[39m, in \u001b[36mTSNE.fit_transform\u001b[39m\u001b[34m(self, X, y)\u001b[39m\n\u001b[32m   1175\u001b[39m     \u001b[38;5;28mself\u001b[39m._max_iter = \u001b[38;5;28mself\u001b[39m.max_iter\n\u001b[32m   1177\u001b[39m \u001b[38;5;28mself\u001b[39m._check_params_vs_input(X)\n\u001b[32m-> \u001b[39m\u001b[32m1178\u001b[39m embedding = \u001b[38;5;28;43mself\u001b[39;49m\u001b[43m.\u001b[49m\u001b[43m_fit\u001b[49m\u001b[43m(\u001b[49m\u001b[43mX\u001b[49m\u001b[43m)\u001b[49m\n\u001b[32m   1179\u001b[39m \u001b[38;5;28mself\u001b[39m.embedding_ = embedding\n\u001b[32m   1180\u001b[39m \u001b[38;5;28;01mreturn\u001b[39;00m \u001b[38;5;28mself\u001b[39m.embedding_\n",
      "\u001b[36mFile \u001b[39m\u001b[32m~\\AppData\\Local\\Programs\\Git\\venv\\Lib\\site-packages\\sklearn\\manifold\\_t_sne.py:1046\u001b[39m, in \u001b[36mTSNE._fit\u001b[39m\u001b[34m(self, X, skip_num_points)\u001b[39m\n\u001b[32m   1040\u001b[39m \u001b[38;5;66;03m# Degrees of freedom of the Student's t-distribution. The suggestion\u001b[39;00m\n\u001b[32m   1041\u001b[39m \u001b[38;5;66;03m# degrees_of_freedom = n_components - 1 comes from\u001b[39;00m\n\u001b[32m   1042\u001b[39m \u001b[38;5;66;03m# \"Learning a Parametric Embedding by Preserving Local Structure\"\u001b[39;00m\n\u001b[32m   1043\u001b[39m \u001b[38;5;66;03m# Laurens van der Maaten, 2009.\u001b[39;00m\n\u001b[32m   1044\u001b[39m degrees_of_freedom = \u001b[38;5;28mmax\u001b[39m(\u001b[38;5;28mself\u001b[39m.n_components - \u001b[32m1\u001b[39m, \u001b[32m1\u001b[39m)\n\u001b[32m-> \u001b[39m\u001b[32m1046\u001b[39m \u001b[38;5;28;01mreturn\u001b[39;00m \u001b[38;5;28;43mself\u001b[39;49m\u001b[43m.\u001b[49m\u001b[43m_tsne\u001b[49m\u001b[43m(\u001b[49m\n\u001b[32m   1047\u001b[39m \u001b[43m    \u001b[49m\u001b[43mP\u001b[49m\u001b[43m,\u001b[49m\n\u001b[32m   1048\u001b[39m \u001b[43m    \u001b[49m\u001b[43mdegrees_of_freedom\u001b[49m\u001b[43m,\u001b[49m\n\u001b[32m   1049\u001b[39m \u001b[43m    \u001b[49m\u001b[43mn_samples\u001b[49m\u001b[43m,\u001b[49m\n\u001b[32m   1050\u001b[39m \u001b[43m    \u001b[49m\u001b[43mX_embedded\u001b[49m\u001b[43m=\u001b[49m\u001b[43mX_embedded\u001b[49m\u001b[43m,\u001b[49m\n\u001b[32m   1051\u001b[39m \u001b[43m    \u001b[49m\u001b[43mneighbors\u001b[49m\u001b[43m=\u001b[49m\u001b[43mneighbors_nn\u001b[49m\u001b[43m,\u001b[49m\n\u001b[32m   1052\u001b[39m \u001b[43m    \u001b[49m\u001b[43mskip_num_points\u001b[49m\u001b[43m=\u001b[49m\u001b[43mskip_num_points\u001b[49m\u001b[43m,\u001b[49m\n\u001b[32m   1053\u001b[39m \u001b[43m\u001b[49m\u001b[43m)\u001b[49m\n",
      "\u001b[36mFile \u001b[39m\u001b[32m~\\AppData\\Local\\Programs\\Git\\venv\\Lib\\site-packages\\sklearn\\manifold\\_t_sne.py:1114\u001b[39m, in \u001b[36mTSNE._tsne\u001b[39m\u001b[34m(self, P, degrees_of_freedom, n_samples, X_embedded, neighbors, skip_num_points)\u001b[39m\n\u001b[32m   1112\u001b[39m     opt_args[\u001b[33m\"\u001b[39m\u001b[33mmomentum\u001b[39m\u001b[33m\"\u001b[39m] = \u001b[32m0.8\u001b[39m\n\u001b[32m   1113\u001b[39m     opt_args[\u001b[33m\"\u001b[39m\u001b[33mn_iter_without_progress\u001b[39m\u001b[33m\"\u001b[39m] = \u001b[38;5;28mself\u001b[39m.n_iter_without_progress\n\u001b[32m-> \u001b[39m\u001b[32m1114\u001b[39m     params, kl_divergence, it = \u001b[43m_gradient_descent\u001b[49m\u001b[43m(\u001b[49m\u001b[43mobj_func\u001b[49m\u001b[43m,\u001b[49m\u001b[43m \u001b[49m\u001b[43mparams\u001b[49m\u001b[43m,\u001b[49m\u001b[43m \u001b[49m\u001b[43m*\u001b[49m\u001b[43m*\u001b[49m\u001b[43mopt_args\u001b[49m\u001b[43m)\u001b[49m\n\u001b[32m   1116\u001b[39m \u001b[38;5;66;03m# Save the final number of iterations\u001b[39;00m\n\u001b[32m   1117\u001b[39m \u001b[38;5;28mself\u001b[39m.n_iter_ = it\n",
      "\u001b[36mFile \u001b[39m\u001b[32m~\\AppData\\Local\\Programs\\Git\\venv\\Lib\\site-packages\\sklearn\\manifold\\_t_sne.py:401\u001b[39m, in \u001b[36m_gradient_descent\u001b[39m\u001b[34m(objective, p0, it, max_iter, n_iter_check, n_iter_without_progress, momentum, learning_rate, min_gain, min_grad_norm, verbose, args, kwargs)\u001b[39m\n\u001b[32m    398\u001b[39m \u001b[38;5;66;03m# only compute the error when needed\u001b[39;00m\n\u001b[32m    399\u001b[39m kwargs[\u001b[33m\"\u001b[39m\u001b[33mcompute_error\u001b[39m\u001b[33m\"\u001b[39m] = check_convergence \u001b[38;5;129;01mor\u001b[39;00m i == max_iter - \u001b[32m1\u001b[39m\n\u001b[32m--> \u001b[39m\u001b[32m401\u001b[39m error, grad = \u001b[43mobjective\u001b[49m\u001b[43m(\u001b[49m\u001b[43mp\u001b[49m\u001b[43m,\u001b[49m\u001b[43m \u001b[49m\u001b[43m*\u001b[49m\u001b[43margs\u001b[49m\u001b[43m,\u001b[49m\u001b[43m \u001b[49m\u001b[43m*\u001b[49m\u001b[43m*\u001b[49m\u001b[43mkwargs\u001b[49m\u001b[43m)\u001b[49m\n\u001b[32m    403\u001b[39m inc = update * grad < \u001b[32m0.0\u001b[39m\n\u001b[32m    404\u001b[39m dec = np.invert(inc)\n",
      "\u001b[36mFile \u001b[39m\u001b[32m~\\AppData\\Local\\Programs\\Git\\venv\\Lib\\site-packages\\sklearn\\manifold\\_t_sne.py:282\u001b[39m, in \u001b[36m_kl_divergence_bh\u001b[39m\u001b[34m(params, P, degrees_of_freedom, n_samples, n_components, angle, skip_num_points, verbose, compute_error, num_threads)\u001b[39m\n\u001b[32m    279\u001b[39m indptr = P.indptr.astype(np.int64, copy=\u001b[38;5;28;01mFalse\u001b[39;00m)\n\u001b[32m    281\u001b[39m grad = np.zeros(X_embedded.shape, dtype=np.float32)\n\u001b[32m--> \u001b[39m\u001b[32m282\u001b[39m error = \u001b[43m_barnes_hut_tsne\u001b[49m\u001b[43m.\u001b[49m\u001b[43mgradient\u001b[49m\u001b[43m(\u001b[49m\n\u001b[32m    283\u001b[39m \u001b[43m    \u001b[49m\u001b[43mval_P\u001b[49m\u001b[43m,\u001b[49m\n\u001b[32m    284\u001b[39m \u001b[43m    \u001b[49m\u001b[43mX_embedded\u001b[49m\u001b[43m,\u001b[49m\n\u001b[32m    285\u001b[39m \u001b[43m    \u001b[49m\u001b[43mneighbors\u001b[49m\u001b[43m,\u001b[49m\n\u001b[32m    286\u001b[39m \u001b[43m    \u001b[49m\u001b[43mindptr\u001b[49m\u001b[43m,\u001b[49m\n\u001b[32m    287\u001b[39m \u001b[43m    \u001b[49m\u001b[43mgrad\u001b[49m\u001b[43m,\u001b[49m\n\u001b[32m    288\u001b[39m \u001b[43m    \u001b[49m\u001b[43mangle\u001b[49m\u001b[43m,\u001b[49m\n\u001b[32m    289\u001b[39m \u001b[43m    \u001b[49m\u001b[43mn_components\u001b[49m\u001b[43m,\u001b[49m\n\u001b[32m    290\u001b[39m \u001b[43m    \u001b[49m\u001b[43mverbose\u001b[49m\u001b[43m,\u001b[49m\n\u001b[32m    291\u001b[39m \u001b[43m    \u001b[49m\u001b[43mdof\u001b[49m\u001b[43m=\u001b[49m\u001b[43mdegrees_of_freedom\u001b[49m\u001b[43m,\u001b[49m\n\u001b[32m    292\u001b[39m \u001b[43m    \u001b[49m\u001b[43mcompute_error\u001b[49m\u001b[43m=\u001b[49m\u001b[43mcompute_error\u001b[49m\u001b[43m,\u001b[49m\n\u001b[32m    293\u001b[39m \u001b[43m    \u001b[49m\u001b[43mnum_threads\u001b[49m\u001b[43m=\u001b[49m\u001b[43mnum_threads\u001b[49m\u001b[43m,\u001b[49m\n\u001b[32m    294\u001b[39m \u001b[43m\u001b[49m\u001b[43m)\u001b[49m\n\u001b[32m    295\u001b[39m c = \u001b[32m2.0\u001b[39m * (degrees_of_freedom + \u001b[32m1.0\u001b[39m) / degrees_of_freedom\n\u001b[32m    296\u001b[39m grad = grad.ravel()\n",
      "\u001b[31mKeyboardInterrupt\u001b[39m: "
     ]
    }
   ],
   "source": [
    "tsne = TSNE(n_components=2, perplexity=30, random_state=42, n_iter=1000)\n",
    "X_tsne = tsne.fit_transform(tsne_arr)\n",
    "\n",
    "plt.figure(figsize=(10, 8))\n",
    "sns.scatterplot(x=X_tsne[:, 0], y=X_tsne[:, 1], hue=valid_labels, palette=\"tab10\", s=10, legend=\"full\")\n",
    "plt.title(\"t-SNE of Spectrograms by Spectral Type\")\n",
    "plt.legend(bbox_to_anchor=(1.05, 1), loc='upper left')\n",
    "plt.tight_layout()\n",
    "plt.savefig(\"tsne_plot.png\", bbox_inches='tight')\n",
    "plt.show()"
   ]
  },
  {
   "cell_type": "code",
   "execution_count": null,
   "id": "c87afd01-3b9a-48bc-ac88-3d8e9c699844",
   "metadata": {},
   "outputs": [],
   "source": []
  }
 ],
 "metadata": {
  "kernelspec": {
   "display_name": "Python 3 (ipykernel)",
   "language": "python",
   "name": "python3"
  },
  "language_info": {
   "codemirror_mode": {
    "name": "ipython",
    "version": 3
   },
   "file_extension": ".py",
   "mimetype": "text/x-python",
   "name": "python",
   "nbconvert_exporter": "python",
   "pygments_lexer": "ipython3",
   "version": "3.13.1"
  }
 },
 "nbformat": 4,
 "nbformat_minor": 5
}
