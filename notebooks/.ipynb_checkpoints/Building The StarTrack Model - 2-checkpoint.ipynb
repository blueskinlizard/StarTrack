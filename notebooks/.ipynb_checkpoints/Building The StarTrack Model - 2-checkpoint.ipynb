{
 "cells": [
  {
   "cell_type": "markdown",
   "id": "ae55e43b-2f36-4038-8bfc-cf3d4b6e4511",
   "metadata": {},
   "source": [
    "# Building The StarTrack Model - 2"
   ]
  },
  {
   "cell_type": "code",
   "execution_count": 1,
   "id": "134bd825-bad2-43f8-9192-edfbd756e58f",
   "metadata": {},
   "outputs": [],
   "source": [
    "import numpy as np\n",
    "import pandas as pd\n",
    "import torch\n",
    "import torch.nn as nn\n",
    "import matplotlib.pyplot as plt\n",
    "from sklearn.model_selection import train_test_split\n",
    "from sklearn.preprocessing import LabelEncoder, StandardScaler\n",
    "from torch.utils.data import DataLoader, TensorDataset, Dataset\n",
    "from sklearn.manifold import TSNE\n",
    "from sklearn.preprocessing import LabelEncoder\n",
    "from sklearn.utils.class_weight import compute_class_weight\n",
    "from tqdm import tqdm\n",
    "import torch.nn.functional as F\n",
    "import copy\n",
    "from sklearn.metrics import confusion_matrix, accuracy_score, classification_report\n",
    "import seaborn as sns"
   ]
  },
  {
   "cell_type": "code",
   "execution_count": 2,
   "id": "79e77679-0feb-4047-9e15-9a2a2101710e",
   "metadata": {},
   "outputs": [
    {
     "data": {
      "text/plain": [
       "'cuda'"
      ]
     },
     "execution_count": 2,
     "metadata": {},
     "output_type": "execute_result"
    }
   ],
   "source": [
    "device = \"cuda\" if torch.cuda.is_available() else \"cpu\"\n",
    "device"
   ]
  },
  {
   "cell_type": "code",
   "execution_count": 3,
   "id": "b24cea5d-66b0-4327-b5c0-a8889dbcebe1",
   "metadata": {},
   "outputs": [],
   "source": [
    "tabular_data = pd.read_csv('../data/processed_data.csv')\n",
    "# spectrogram_data = np.load('../data/startrack_spectrograms.npz', allow_pickle=True)"
   ]
  },
  {
   "cell_type": "code",
   "execution_count": 4,
   "id": "e332ba8f-6aec-4fe1-a850-bf2f7282ee49",
   "metadata": {},
   "outputs": [
    {
     "data": {
      "text/html": [
       "<div>\n",
       "<style scoped>\n",
       "    .dataframe tbody tr th:only-of-type {\n",
       "        vertical-align: middle;\n",
       "    }\n",
       "\n",
       "    .dataframe tbody tr th {\n",
       "        vertical-align: top;\n",
       "    }\n",
       "\n",
       "    .dataframe thead th {\n",
       "        text-align: right;\n",
       "    }\n",
       "</style>\n",
       "<table border=\"1\" class=\"dataframe\">\n",
       "  <thead>\n",
       "    <tr style=\"text-align: right;\">\n",
       "      <th></th>\n",
       "      <th>ELODIE_TEFF</th>\n",
       "      <th>ELODIE_LOGG</th>\n",
       "      <th>ELODIE_FEH</th>\n",
       "      <th>Z</th>\n",
       "      <th>Z_ERR</th>\n",
       "      <th>ZWARNING</th>\n",
       "      <th>VDISP</th>\n",
       "      <th>VDISP_ERR</th>\n",
       "      <th>SN_MEDIAN_ALL</th>\n",
       "      <th>RCHI2</th>\n",
       "      <th>DOF</th>\n",
       "      <th>SNR_Bin</th>\n",
       "      <th>High_Quality</th>\n",
       "      <th>Mean_Flux</th>\n",
       "      <th>Flux_to_Noise</th>\n",
       "      <th>u_flux</th>\n",
       "      <th>g_flux</th>\n",
       "      <th>r_flux</th>\n",
       "      <th>i_flux</th>\n",
       "      <th>z_flux</th>\n",
       "      <th>flux_mean</th>\n",
       "      <th>flux_std</th>\n",
       "      <th>flux_min</th>\n",
       "      <th>flux_max</th>\n",
       "      <th>flux_median</th>\n",
       "      <th>flux_p25</th>\n",
       "      <th>flux_p75</th>\n",
       "    </tr>\n",
       "  </thead>\n",
       "  <tbody>\n",
       "    <tr>\n",
       "      <th>0</th>\n",
       "      <td>3705.0</td>\n",
       "      <td>4.800</td>\n",
       "      <td>0.60</td>\n",
       "      <td>-0.000485</td>\n",
       "      <td>0.000014</td>\n",
       "      <td>0</td>\n",
       "      <td>0.0</td>\n",
       "      <td>0.0</td>\n",
       "      <td>19.021759</td>\n",
       "      <td>0.880377</td>\n",
       "      <td>4542</td>\n",
       "      <td>2</td>\n",
       "      <td>0</td>\n",
       "      <td>37.168239</td>\n",
       "      <td>1.953985</td>\n",
       "      <td>0.269059</td>\n",
       "      <td>0.268631</td>\n",
       "      <td>0.195929</td>\n",
       "      <td>0.125402</td>\n",
       "      <td>0.047316</td>\n",
       "      <td>37.168239</td>\n",
       "      <td>10.325851</td>\n",
       "      <td>19.371477</td>\n",
       "      <td>46.528843</td>\n",
       "      <td>42.201336</td>\n",
       "      <td>31.882357</td>\n",
       "      <td>45.857182</td>\n",
       "    </tr>\n",
       "    <tr>\n",
       "      <th>1</th>\n",
       "      <td>3705.0</td>\n",
       "      <td>4.800</td>\n",
       "      <td>0.60</td>\n",
       "      <td>-0.000195</td>\n",
       "      <td>0.000015</td>\n",
       "      <td>0</td>\n",
       "      <td>0.0</td>\n",
       "      <td>0.0</td>\n",
       "      <td>22.828102</td>\n",
       "      <td>1.034391</td>\n",
       "      <td>4487</td>\n",
       "      <td>3</td>\n",
       "      <td>1</td>\n",
       "      <td>40.272045</td>\n",
       "      <td>1.764143</td>\n",
       "      <td>0.313935</td>\n",
       "      <td>0.310882</td>\n",
       "      <td>0.236147</td>\n",
       "      <td>0.178934</td>\n",
       "      <td>0.105151</td>\n",
       "      <td>40.272045</td>\n",
       "      <td>11.563604</td>\n",
       "      <td>20.819483</td>\n",
       "      <td>51.774773</td>\n",
       "      <td>44.854801</td>\n",
       "      <td>33.856216</td>\n",
       "      <td>50.054951</td>\n",
       "    </tr>\n",
       "    <tr>\n",
       "      <th>2</th>\n",
       "      <td>3705.0</td>\n",
       "      <td>4.800</td>\n",
       "      <td>0.60</td>\n",
       "      <td>0.000728</td>\n",
       "      <td>0.000011</td>\n",
       "      <td>0</td>\n",
       "      <td>0.0</td>\n",
       "      <td>0.0</td>\n",
       "      <td>28.743233</td>\n",
       "      <td>0.948585</td>\n",
       "      <td>4505</td>\n",
       "      <td>3</td>\n",
       "      <td>1</td>\n",
       "      <td>67.842227</td>\n",
       "      <td>2.360285</td>\n",
       "      <td>0.630979</td>\n",
       "      <td>0.791056</td>\n",
       "      <td>0.716503</td>\n",
       "      <td>0.637338</td>\n",
       "      <td>0.519138</td>\n",
       "      <td>67.842227</td>\n",
       "      <td>21.698880</td>\n",
       "      <td>31.049629</td>\n",
       "      <td>89.325089</td>\n",
       "      <td>76.546692</td>\n",
       "      <td>56.288620</td>\n",
       "      <td>86.001106</td>\n",
       "    </tr>\n",
       "    <tr>\n",
       "      <th>3</th>\n",
       "      <td>3705.0</td>\n",
       "      <td>4.800</td>\n",
       "      <td>0.60</td>\n",
       "      <td>0.000277</td>\n",
       "      <td>0.000016</td>\n",
       "      <td>0</td>\n",
       "      <td>0.0</td>\n",
       "      <td>0.0</td>\n",
       "      <td>23.706001</td>\n",
       "      <td>0.875567</td>\n",
       "      <td>4568</td>\n",
       "      <td>3</td>\n",
       "      <td>1</td>\n",
       "      <td>40.974394</td>\n",
       "      <td>1.728440</td>\n",
       "      <td>0.263392</td>\n",
       "      <td>0.306808</td>\n",
       "      <td>0.250842</td>\n",
       "      <td>0.196867</td>\n",
       "      <td>0.137755</td>\n",
       "      <td>40.974394</td>\n",
       "      <td>13.044562</td>\n",
       "      <td>19.188595</td>\n",
       "      <td>54.732037</td>\n",
       "      <td>45.824268</td>\n",
       "      <td>33.665863</td>\n",
       "      <td>51.461208</td>\n",
       "    </tr>\n",
       "    <tr>\n",
       "      <th>4</th>\n",
       "      <td>9899.0</td>\n",
       "      <td>2.924</td>\n",
       "      <td>0.09</td>\n",
       "      <td>0.000616</td>\n",
       "      <td>0.000081</td>\n",
       "      <td>0</td>\n",
       "      <td>0.0</td>\n",
       "      <td>0.0</td>\n",
       "      <td>2.716969</td>\n",
       "      <td>0.984394</td>\n",
       "      <td>4395</td>\n",
       "      <td>0</td>\n",
       "      <td>0</td>\n",
       "      <td>2.968928</td>\n",
       "      <td>1.092735</td>\n",
       "      <td>-0.283738</td>\n",
       "      <td>-0.361274</td>\n",
       "      <td>-0.387023</td>\n",
       "      <td>-0.406692</td>\n",
       "      <td>-0.432778</td>\n",
       "      <td>2.968928</td>\n",
       "      <td>0.924360</td>\n",
       "      <td>1.534235</td>\n",
       "      <td>4.132542</td>\n",
       "      <td>2.982392</td>\n",
       "      <td>2.454889</td>\n",
       "      <td>3.740581</td>\n",
       "    </tr>\n",
       "  </tbody>\n",
       "</table>\n",
       "</div>"
      ],
      "text/plain": [
       "   ELODIE_TEFF  ELODIE_LOGG  ELODIE_FEH         Z     Z_ERR  ZWARNING  VDISP  \\\n",
       "0       3705.0        4.800        0.60 -0.000485  0.000014         0    0.0   \n",
       "1       3705.0        4.800        0.60 -0.000195  0.000015         0    0.0   \n",
       "2       3705.0        4.800        0.60  0.000728  0.000011         0    0.0   \n",
       "3       3705.0        4.800        0.60  0.000277  0.000016         0    0.0   \n",
       "4       9899.0        2.924        0.09  0.000616  0.000081         0    0.0   \n",
       "\n",
       "   VDISP_ERR  SN_MEDIAN_ALL     RCHI2   DOF  SNR_Bin  High_Quality  Mean_Flux  \\\n",
       "0        0.0      19.021759  0.880377  4542        2             0  37.168239   \n",
       "1        0.0      22.828102  1.034391  4487        3             1  40.272045   \n",
       "2        0.0      28.743233  0.948585  4505        3             1  67.842227   \n",
       "3        0.0      23.706001  0.875567  4568        3             1  40.974394   \n",
       "4        0.0       2.716969  0.984394  4395        0             0   2.968928   \n",
       "\n",
       "   Flux_to_Noise    u_flux    g_flux    r_flux    i_flux    z_flux  flux_mean  \\\n",
       "0       1.953985  0.269059  0.268631  0.195929  0.125402  0.047316  37.168239   \n",
       "1       1.764143  0.313935  0.310882  0.236147  0.178934  0.105151  40.272045   \n",
       "2       2.360285  0.630979  0.791056  0.716503  0.637338  0.519138  67.842227   \n",
       "3       1.728440  0.263392  0.306808  0.250842  0.196867  0.137755  40.974394   \n",
       "4       1.092735 -0.283738 -0.361274 -0.387023 -0.406692 -0.432778   2.968928   \n",
       "\n",
       "    flux_std   flux_min   flux_max  flux_median   flux_p25   flux_p75  \n",
       "0  10.325851  19.371477  46.528843    42.201336  31.882357  45.857182  \n",
       "1  11.563604  20.819483  51.774773    44.854801  33.856216  50.054951  \n",
       "2  21.698880  31.049629  89.325089    76.546692  56.288620  86.001106  \n",
       "3  13.044562  19.188595  54.732037    45.824268  33.665863  51.461208  \n",
       "4   0.924360   1.534235   4.132542     2.982392   2.454889   3.740581  "
      ]
     },
     "execution_count": 4,
     "metadata": {},
     "output_type": "execute_result"
    }
   ],
   "source": [
    "columns_to_drop = [\"Unnamed: 0\", \"Unnamed: 0.1\", \"Unnamed: 0.2\",\n",
    "                   \"CLASS\", \"SUBCLASS\", \"SUBCLASS_CLEAN\", \"SPECTRAL_GROUP\", \n",
    "                   \"url\", \"PLATE\", \"MJD\", \"FIBERID\", \"ELODIE_SPTYPE\", \"filename\", \"Unnamed: 0.3\" ]\n",
    "labels_tabular = tabular_data[\"SPECTRAL_GROUP\"]\n",
    "tabular_data = tabular_data.drop(columns=columns_to_drop)\n",
    "pd.set_option('display.max_columns', None)\n",
    "bin_dict = {'Below 0': -1, 'Very Low': 0, 'Low': 1, 'Moderate': 2, 'Good': 3, 'High': 4, 'Very High': 5}\n",
    "tabular_data[\"SNR_Bin\"] = tabular_data[\"SNR_Bin\"].map(bin_dict)\n",
    "qual_dict = {False: 0, True: 1} # There's probably a better way to do this not going to lie\n",
    "tabular_data[\"High_Quality\"] = tabular_data[\"High_Quality\"].map(qual_dict)\n",
    "tabular_data.head()"
   ]
  },
  {
   "cell_type": "code",
   "execution_count": 5,
   "id": "e6068313-5ffa-4b70-a75b-8eafac200817",
   "metadata": {},
   "outputs": [
    {
     "name": "stdout",
     "output_type": "stream",
     "text": [
      "   ELODIE_TEFF  ELODIE_LOGG  ELODIE_FEH         Z     Z_ERR  ZWARNING  VDISP  \\\n",
      "0    -0.995078     1.224190    1.106840 -0.634939 -0.045196         0    0.0   \n",
      "1    -0.995078     1.224190    1.106840 -0.135463 -0.045193         0    0.0   \n",
      "2    -0.995078     1.224190    1.106840  1.453425 -0.045202         0    0.0   \n",
      "3    -0.995078     1.224190    1.106840  0.676285 -0.045193         0    0.0   \n",
      "4     2.470878    -0.319445    0.623211  1.261174 -0.045069         0    0.0   \n",
      "\n",
      "   VDISP_ERR  SN_MEDIAN_ALL     RCHI2   DOF  SNR_Bin  High_Quality  Mean_Flux  \\\n",
      "0        0.0       0.605647 -0.245331  4542        2             0   0.139159   \n",
      "1        0.0       0.895060 -0.107123  4487        3             1   0.190766   \n",
      "2        0.0       1.344813 -0.184123  4505        3             1   0.649178   \n",
      "3        0.0       0.961810 -0.249647  4568        3             1   0.202444   \n",
      "4        0.0      -0.634078 -0.151989  4395        0             0  -0.429476   \n",
      "\n",
      "   Flux_to_Noise    u_flux    g_flux    r_flux    i_flux    z_flux  flux_mean  \\\n",
      "0       0.008353  0.263063  0.248657  0.171897  0.100246  0.024402   0.139159   \n",
      "1       0.005068  0.308612  0.290426  0.211562  0.152933  0.081355   0.190766   \n",
      "2       0.015385  0.630417  0.765125  0.685308  0.604102  0.489024   0.649178   \n",
      "3       0.004450  0.257310  0.286398  0.226054  0.170583  0.113461   0.202444   \n",
      "4      -0.006552 -0.298036 -0.374067 -0.403033 -0.423451 -0.448366  -0.429476   \n",
      "\n",
      "   flux_std  flux_min  flux_max  flux_median  flux_p25  flux_p75  \n",
      "0 -0.108036  0.383792  0.007946     0.173592  0.275719  0.091553  \n",
      "1 -0.065696  0.441515  0.063841     0.213309  0.319215  0.143741  \n",
      "2  0.280996  0.849329  0.463934     0.687676  0.813536  0.590638  \n",
      "3 -0.015038  0.376502  0.095350     0.227821  0.315020  0.161224  \n",
      "4 -0.429628 -0.327271 -0.443780    -0.413440 -0.372746 -0.432058  \n"
     ]
    }
   ],
   "source": [
    "cat_cols = ['ZWARNING', 'SNR_Bin', 'High_Quality', 'DOF']\n",
    "numeric_cols = [col for col in tabular_data.columns if col not in cat_cols]\n",
    "scaler = StandardScaler()\n",
    "tabular_data_scaled_numeric = pd.DataFrame(scaler.fit_transform(tabular_data[numeric_cols]), columns=numeric_cols)\n",
    "\n",
    "tabular_data_cat = tabular_data[cat_cols].reset_index(drop=True)\n",
    "\n",
    "tabular_data_processed = pd.concat([tabular_data_scaled_numeric, tabular_data_cat], axis=1)\n",
    "tabular_data_processed = tabular_data_processed[tabular_data.columns]\n",
    "\n",
    "print(tabular_data_processed.head())"
   ]
  },
  {
   "cell_type": "code",
   "execution_count": 6,
   "id": "8e7cbe93-539b-46af-8096-5feaede2a486",
   "metadata": {},
   "outputs": [
    {
     "data": {
      "text/plain": [
       "(24782, 27)"
      ]
     },
     "execution_count": 6,
     "metadata": {},
     "output_type": "execute_result"
    }
   ],
   "source": [
    "tabular_data_processed.shape"
   ]
  },
  {
   "cell_type": "code",
   "execution_count": 7,
   "id": "e5cb02e9-db13-4055-b610-01ad063619e9",
   "metadata": {},
   "outputs": [
    {
     "name": "stdout",
     "output_type": "stream",
     "text": [
      "Series([], dtype: int64)\n"
     ]
    }
   ],
   "source": [
    "missing_per_column = tabular_data.isnull().sum()\n",
    "print(missing_per_column[missing_per_column > 0]) "
   ]
  },
  {
   "cell_type": "code",
   "execution_count": 8,
   "id": "ef478b36-8b05-4be6-b351-62e2d9a2c090",
   "metadata": {},
   "outputs": [
    {
     "data": {
      "text/plain": [
       "0    F\n",
       "1    F\n",
       "2    F\n",
       "3    F\n",
       "4    F\n",
       "Name: SPECTRAL_GROUP, dtype: object"
      ]
     },
     "execution_count": 8,
     "metadata": {},
     "output_type": "execute_result"
    }
   ],
   "source": [
    "labels_tabular.head()"
   ]
  },
  {
   "cell_type": "code",
   "execution_count": 9,
   "id": "e3b28d3e-18dc-41ac-95c1-75258ff2f220",
   "metadata": {},
   "outputs": [],
   "source": [
    "# Method taken from my EchoScope project, check it out here: https://github.com/blueskinlizard/EchoScope/tree/main\n",
    "def split_sets(X, y):\n",
    "    X_train_val, X_test, y_train_val, y_test = train_test_split(\n",
    "    X, y, test_size=0.2, random_state=42, stratify=y)\n",
    "\n",
    "    X_train, X_val, y_train, y_val = train_test_split(\n",
    "        X_train_val, y_train_val, test_size=0.2, random_state=42, stratify=y_train_val)\n",
    "    \n",
    "    print(f'Train shape: {X_train.shape}, {y_train.shape}')\n",
    "    print(f'Validation shape: {X_val.shape}, {y_val.shape}')\n",
    "    print(f'Test shape: {X_test.shape}, {y_test.shape}')\n",
    "    return X_train, y_train, X_val, y_val, X_test, y_test"
   ]
  },
  {
   "cell_type": "code",
   "execution_count": 10,
   "id": "f0b1fa7e-7e66-4582-9f14-9c6bee61af88",
   "metadata": {},
   "outputs": [],
   "source": [
    "# Method also taken from EchoScope\n",
    "def train_model(model, criterion, optimizer, epochs, train_loader, val_loader, patience=100, scheduler=None):\n",
    "    best_val_loss = float('inf')\n",
    "    best_model_state = None\n",
    "    no_improve_epochs = 0\n",
    "    \n",
    "    train_losses = []\n",
    "    val_losses = []\n",
    "\n",
    "    for epoch in range(1, epochs + 1):\n",
    "        model.train()\n",
    "        train_loss = 0.0\n",
    "        train_bar = tqdm(train_loader, desc=f\"Epoch {epoch}/{epochs} [Train]\", leave=False)\n",
    "        for X_batch, y_batch in train_bar:\n",
    "            X_batch, y_batch = X_batch.to(device), y_batch.to(device)\n",
    "            optimizer.zero_grad()\n",
    "            outputs = model(X_batch)\n",
    "            loss = criterion(outputs, y_batch)\n",
    "            loss.backward()\n",
    "            optimizer.step()\n",
    "            train_loss += loss.item() * X_batch.size(0)\n",
    "            train_bar.set_postfix(loss=loss.item())\n",
    "        train_loss /= len(train_loader.dataset)\n",
    "\n",
    "        model.eval()\n",
    "        val_loss = 0.0\n",
    "        val_bar = tqdm(val_loader, desc=f\"Epoch {epoch}/{epochs} [Val]\", leave=False)\n",
    "        with torch.no_grad():\n",
    "            for X_batch, y_batch in val_bar:\n",
    "                X_batch, y_batch = X_batch.to(device), y_batch.to(device)\n",
    "                outputs = model(X_batch)\n",
    "                loss = criterion(outputs, y_batch)\n",
    "                val_loss += loss.item() * X_batch.size(0)\n",
    "                val_bar.set_postfix(loss=loss.item())\n",
    "        val_loss /= len(val_loader.dataset)\n",
    "\n",
    "        train_losses.append(train_loss)\n",
    "        val_losses.append(val_loss)\n",
    "\n",
    "        print(f\"Epoch {epoch}/{epochs} | Train Loss: {train_loss:.6f} | Val Loss: {val_loss:.6f}\")\n",
    "\n",
    "        if val_loss < best_val_loss:\n",
    "            best_val_loss = val_loss\n",
    "            best_model_state = copy.deepcopy(model.state_dict())\n",
    "            no_improve_epochs = 0\n",
    "        else:\n",
    "            no_improve_epochs += 1\n",
    "            if no_improve_epochs >= patience:\n",
    "                print(f\"Early stopping at epoch {epoch} (best val loss: {best_val_loss:.6f})\")\n",
    "                break\n",
    "        if scheduler:\n",
    "            scheduler.step(val_loss)\n",
    "            \n",
    "    model.load_state_dict(best_model_state)\n",
    "    return train_losses, val_losses"
   ]
  },
  {
   "cell_type": "code",
   "execution_count": 11,
   "id": "f56ecbb9-19e9-4dcb-8d2f-425f9f438d5a",
   "metadata": {},
   "outputs": [],
   "source": [
    "# Method also taken from EchoScope\n",
    "def set_seed(seed=1):\n",
    "    torch.manual_seed(seed)\n",
    "    np.random.seed(seed)\n",
    "    torch.cuda.manual_seed(seed)\n",
    "    torch.cuda.manual_seed_all(seed)\n",
    "    torch.backends.cudnn.deterministic = True\n",
    "    torch.backends.cudnn.benchmark = False\n",
    "set_seed()"
   ]
  },
  {
   "cell_type": "markdown",
   "id": "8b9ad8e7-0681-4dfa-a46a-3885e28655b2",
   "metadata": {},
   "source": [
    "# Training The Dense (Tabular Data) branch"
   ]
  },
  {
   "cell_type": "code",
   "execution_count": 12,
   "id": "70d35bb9-1092-4375-87e4-22a51fa4a1d1",
   "metadata": {},
   "outputs": [
    {
     "name": "stdout",
     "output_type": "stream",
     "text": [
      "X shape: (24782, 27)\n",
      "Total samples: 24782\n",
      "Unique classes: ['A' 'B' 'CV' 'F' 'G' 'K' 'L' 'M' 'WD']\n"
     ]
    }
   ],
   "source": [
    "le_tabular = LabelEncoder()\n",
    "labels_encoded_tabular = le_tabular.fit_transform(labels_tabular)\n",
    "X = tabular_data_processed\n",
    "y = labels_encoded_tabular\n",
    "print(\"X shape:\", X.shape)\n",
    "print(f'Total samples: {X.shape[0]}')\n",
    "print(f'Unique classes: {le_tabular.classes_}')"
   ]
  },
  {
   "cell_type": "code",
   "execution_count": 13,
   "id": "6cecd38a-4be5-48f9-9d04-0d6d2be9a756",
   "metadata": {},
   "outputs": [
    {
     "name": "stdout",
     "output_type": "stream",
     "text": [
      "Train shape: (15860, 27), (15860,)\n",
      "Validation shape: (3965, 27), (3965,)\n",
      "Test shape: (4957, 27), (4957,)\n"
     ]
    }
   ],
   "source": [
    "X_table_train, y_table_train, X_table_val, y_table_val, X_table_test, y_table_test = split_sets(X, y)"
   ]
  },
  {
   "cell_type": "code",
   "execution_count": 14,
   "id": "17913a10-2f9e-46a7-b0a9-99925117e6c1",
   "metadata": {},
   "outputs": [],
   "source": [
    "X_table_train_fusion = X_table_train.copy()\n",
    "X_table_val_fusion = X_table_val.copy()\n",
    "X_table_test_fusion = X_table_test.copy()\n",
    "\n",
    "y_table_train_fusion = y_table_train.copy()\n",
    "y_table_val_fusion = y_table_val.copy()\n",
    "y_table_test_fusion = y_table_test.copy()"
   ]
  },
  {
   "cell_type": "code",
   "execution_count": 15,
   "id": "1fe42595-1ea9-4329-ba6a-6422c69c2c4e",
   "metadata": {},
   "outputs": [],
   "source": [
    "train_dataset_table_np = torch.utils.data.TensorDataset(\n",
    "    torch.tensor(X_table_train.values, dtype=torch.float32),\n",
    "    torch.tensor(y_table_train, dtype=torch.long)\n",
    ")\n",
    "\n",
    "val_dataset_table_np = torch.utils.data.TensorDataset(\n",
    "    torch.tensor(X_table_val.values, dtype=torch.float32),\n",
    "    torch.tensor(y_table_val, dtype=torch.long)\n",
    ")\n",
    "\n",
    "test_dataset_table_np = torch.utils.data.TensorDataset(\n",
    "    torch.tensor(X_table_test.values, dtype=torch.float32),\n",
    "    torch.tensor(y_table_test, dtype=torch.long)\n",
    ")"
   ]
  },
  {
   "cell_type": "code",
   "execution_count": 16,
   "id": "0a10c6ab-e5e8-4953-9c2d-62a1d585c347",
   "metadata": {},
   "outputs": [],
   "source": [
    "train_loader_tabular = DataLoader(train_dataset_table_np, batch_size=512, shuffle=True)\n",
    "val_loader_tabular = DataLoader(val_dataset_table_np, batch_size=512, shuffle=False)\n",
    "test_loader_tabular = DataLoader(test_dataset_table_np, batch_size=512, shuffle=True)"
   ]
  },
  {
   "cell_type": "code",
   "execution_count": 17,
   "id": "61da0012-d7e5-4390-a537-af4763273ab5",
   "metadata": {},
   "outputs": [],
   "source": [
    "def train_snapshot_ensemble(model, criterion, optimizer, epochs, train_loader, val_loader, \n",
    "                           n_snapshots=5, patience=100, scheduler=None):\n",
    "    best_val_loss = float('inf')\n",
    "    snapshots = []\n",
    "    no_improve_epochs = 0\n",
    "    \n",
    "    train_losses = []\n",
    "    val_losses = []\n",
    "\n",
    "    for epoch in range(1, epochs + 1):\n",
    "        model.train()\n",
    "        train_loss = 0.0\n",
    "        train_bar = tqdm(train_loader, desc=f\"Epoch {epoch}/{epochs} [Train]\")\n",
    "        for X_batch, y_batch in train_bar:\n",
    "            X_batch, y_batch = X_batch.to(device), y_batch.to(device)\n",
    "            optimizer.zero_grad()\n",
    "            outputs = model(X_batch)\n",
    "            loss = criterion(outputs, y_batch)\n",
    "            loss.backward()\n",
    "            optimizer.step()\n",
    "            train_loss += loss.item() * X_batch.size(0)\n",
    "            train_bar.set_postfix(loss=loss.item())\n",
    "        train_loss /= len(train_loader.dataset)\n",
    "        train_losses.append(train_loss)\n",
    "\n",
    "        model.eval()\n",
    "        val_loss = 0.0\n",
    "        with torch.no_grad():\n",
    "            for X_batch, y_batch in val_loader:\n",
    "                X_batch, y_batch = X_batch.to(device), y_batch.to(device)\n",
    "                outputs = model(X_batch)\n",
    "                val_loss += criterion(outputs, y_batch).item() * X_batch.size(0)\n",
    "        val_loss /= len(val_loader.dataset)\n",
    "        val_losses.append(val_loss)\n",
    "\n",
    "        print(f\"Epoch {epoch}/{epochs} | Train Loss: {train_loss:.6f} | Val Loss: {val_loss:.6f}\")\n",
    "\n",
    "        if epoch % (epochs // n_snapshots) == 0:\n",
    "            snapshots.append(copy.deepcopy(model.state_dict()))\n",
    "            print(f\"Saved snapshot at epoch {epoch}\")\n",
    "            \n",
    "        if val_loss < best_val_loss:\n",
    "            best_val_loss = val_loss\n",
    "            no_improve_epochs = 0\n",
    "        else:\n",
    "            no_improve_epochs += 1\n",
    "            if no_improve_epochs >= patience:\n",
    "                print(f\"Early stopping at epoch {epoch}\")\n",
    "                break\n",
    "                \n",
    "        if scheduler:\n",
    "            scheduler.step(val_loss)\n",
    "            \n",
    "    return train_losses, val_losses, snapshots "
   ]
  },
  {
   "cell_type": "code",
   "execution_count": 18,
   "id": "fdb61258-aafd-4f9e-8bda-03061af68fb8",
   "metadata": {},
   "outputs": [],
   "source": [
    "class StarTrack_Dense(nn.Module):\n",
    "    def __init__(self, input_size=27, hidden_sizes=[1024, 512, 512, 256, 128], output_size=9):\n",
    "        super().__init__()\n",
    "        self.fc1 = nn.Linear(input_size, hidden_sizes[0])\n",
    "        self.bn1 = nn.BatchNorm1d(hidden_sizes[0])\n",
    "\n",
    "        self.fc2 = nn.Linear(hidden_sizes[0], hidden_sizes[1])\n",
    "        self.bn2 = nn.BatchNorm1d(hidden_sizes[1])\n",
    "\n",
    "        self.fc3 = nn.Linear(hidden_sizes[1], hidden_sizes[2])\n",
    "        self.bn3 = nn.BatchNorm1d(hidden_sizes[2])\n",
    "        self.dropout = nn.Dropout(0.3)\n",
    "        self.out = nn.Linear(hidden_sizes[2], output_size)\n",
    "        self.act = nn.LeakyReLU(negative_slope=0.01)\n",
    "\n",
    "    def forward(self, x):\n",
    "        x1 = self.act(self.bn1(self.fc1(x)))\n",
    "        x1 = self.dropout(x1)\n",
    "        x2 = self.act(self.bn2(self.fc2(x1)))\n",
    "        x2 = self.dropout(x2)\n",
    "        x3 = self.act(self.bn3(self.fc3(x2)))\n",
    "        x3 = self.dropout(x3)\n",
    "\n",
    "        return self.out(x3)\n"
   ]
  },
  {
   "cell_type": "code",
   "execution_count": 19,
   "id": "898b85b5-b7ce-4544-84f4-d4a822f3ef00",
   "metadata": {},
   "outputs": [],
   "source": [
    "StarTrack_Dense_V1 = StarTrack_Dense()\n",
    "StarTrack_Dense_V1 = StarTrack_Dense_V1 .to(device)"
   ]
  },
  {
   "cell_type": "code",
   "execution_count": 20,
   "id": "a2718405-1895-4d15-91b7-311031f455e6",
   "metadata": {},
   "outputs": [],
   "source": [
    "class_weights_dense = [1.5, 6.3, 1.95, 0.8, 1.83351831, 1.4, 10.13496933, 0.9, 2.3]\n",
    "class_weights_dense = torch.tensor(class_weights_dense).to(device)\n",
    "loss_fn = nn.CrossEntropyLoss(weight=class_weights_dense)\n",
    "optimizer_dense = torch.optim.Adam(StarTrack_Dense_V1.parameters(), lr=7e-3, weight_decay=5e-4)\n",
    "scheduler_dense = torch.optim.lr_scheduler.ReduceLROnPlateau(optimizer_dense, mode='min', factor=0.1, patience=5)"
   ]
  },
  {
   "cell_type": "code",
   "execution_count": 21,
   "id": "1fc9bcee-2472-4c5b-bb58-c1ae82e9e799",
   "metadata": {
    "scrolled": true
   },
   "outputs": [
    {
     "name": "stderr",
     "output_type": "stream",
     "text": [
      "Epoch 1/400 [Train]: 100%|█████████████████████████| 31/31 [00:00<00:00, 61.83it/s, loss=1.62]\n"
     ]
    },
    {
     "name": "stdout",
     "output_type": "stream",
     "text": [
      "Epoch 1/400 | Train Loss: 2.040851 | Val Loss: 22.864409\n"
     ]
    },
    {
     "name": "stderr",
     "output_type": "stream",
     "text": [
      "Epoch 2/400 [Train]: 100%|████████████████████████| 31/31 [00:00<00:00, 137.06it/s, loss=1.62]\n"
     ]
    },
    {
     "name": "stdout",
     "output_type": "stream",
     "text": [
      "Epoch 2/400 | Train Loss: 1.535386 | Val Loss: 11.280317\n"
     ]
    },
    {
     "name": "stderr",
     "output_type": "stream",
     "text": [
      "Epoch 3/400 [Train]: 100%|████████████████████████| 31/31 [00:00<00:00, 145.35it/s, loss=1.35]\n"
     ]
    },
    {
     "name": "stdout",
     "output_type": "stream",
     "text": [
      "Epoch 3/400 | Train Loss: 1.424322 | Val Loss: 9.022979\n"
     ]
    },
    {
     "name": "stderr",
     "output_type": "stream",
     "text": [
      "Epoch 4/400 [Train]: 100%|████████████████████████| 31/31 [00:00<00:00, 145.93it/s, loss=1.26]\n"
     ]
    },
    {
     "name": "stdout",
     "output_type": "stream",
     "text": [
      "Epoch 4/400 | Train Loss: 1.343859 | Val Loss: 7.741448\n"
     ]
    },
    {
     "name": "stderr",
     "output_type": "stream",
     "text": [
      "Epoch 5/400 [Train]: 100%|████████████████████████| 31/31 [00:00<00:00, 148.47it/s, loss=1.46]\n"
     ]
    },
    {
     "name": "stdout",
     "output_type": "stream",
     "text": [
      "Epoch 5/400 | Train Loss: 1.325295 | Val Loss: 6.066625\n"
     ]
    },
    {
     "name": "stderr",
     "output_type": "stream",
     "text": [
      "Epoch 6/400 [Train]: 100%|████████████████████████| 31/31 [00:00<00:00, 148.03it/s, loss=1.19]\n"
     ]
    },
    {
     "name": "stdout",
     "output_type": "stream",
     "text": [
      "Epoch 6/400 | Train Loss: 1.268635 | Val Loss: 5.615443\n"
     ]
    },
    {
     "name": "stderr",
     "output_type": "stream",
     "text": [
      "Epoch 7/400 [Train]: 100%|████████████████████████| 31/31 [00:00<00:00, 144.96it/s, loss=1.27]\n"
     ]
    },
    {
     "name": "stdout",
     "output_type": "stream",
     "text": [
      "Epoch 7/400 | Train Loss: 1.263442 | Val Loss: 6.479717\n"
     ]
    },
    {
     "name": "stderr",
     "output_type": "stream",
     "text": [
      "Epoch 8/400 [Train]: 100%|████████████████████████| 31/31 [00:00<00:00, 148.73it/s, loss=1.31]\n"
     ]
    },
    {
     "name": "stdout",
     "output_type": "stream",
     "text": [
      "Epoch 8/400 | Train Loss: 1.232189 | Val Loss: 7.897220\n"
     ]
    },
    {
     "name": "stderr",
     "output_type": "stream",
     "text": [
      "Epoch 9/400 [Train]: 100%|████████████████████████| 31/31 [00:00<00:00, 147.92it/s, loss=1.34]\n"
     ]
    },
    {
     "name": "stdout",
     "output_type": "stream",
     "text": [
      "Epoch 9/400 | Train Loss: 1.227797 | Val Loss: 7.538786\n"
     ]
    },
    {
     "name": "stderr",
     "output_type": "stream",
     "text": [
      "Epoch 10/400 [Train]: 100%|███████████████████████| 31/31 [00:00<00:00, 148.87it/s, loss=1.18]\n"
     ]
    },
    {
     "name": "stdout",
     "output_type": "stream",
     "text": [
      "Epoch 10/400 | Train Loss: 1.183000 | Val Loss: 4.280679\n"
     ]
    },
    {
     "name": "stderr",
     "output_type": "stream",
     "text": [
      "Epoch 11/400 [Train]: 100%|███████████████████████| 31/31 [00:00<00:00, 146.86it/s, loss=1.17]\n"
     ]
    },
    {
     "name": "stdout",
     "output_type": "stream",
     "text": [
      "Epoch 11/400 | Train Loss: 1.167526 | Val Loss: 5.973578\n"
     ]
    },
    {
     "name": "stderr",
     "output_type": "stream",
     "text": [
      "Epoch 12/400 [Train]: 100%|███████████████████████| 31/31 [00:00<00:00, 148.81it/s, loss=1.21]\n"
     ]
    },
    {
     "name": "stdout",
     "output_type": "stream",
     "text": [
      "Epoch 12/400 | Train Loss: 1.192027 | Val Loss: 6.456986\n"
     ]
    },
    {
     "name": "stderr",
     "output_type": "stream",
     "text": [
      "Epoch 13/400 [Train]: 100%|███████████████████████| 31/31 [00:00<00:00, 146.63it/s, loss=1.16]\n"
     ]
    },
    {
     "name": "stdout",
     "output_type": "stream",
     "text": [
      "Epoch 13/400 | Train Loss: 1.162268 | Val Loss: 3.255430\n"
     ]
    },
    {
     "name": "stderr",
     "output_type": "stream",
     "text": [
      "Epoch 14/400 [Train]: 100%|███████████████████████| 31/31 [00:00<00:00, 130.38it/s, loss=1.07]\n"
     ]
    },
    {
     "name": "stdout",
     "output_type": "stream",
     "text": [
      "Epoch 14/400 | Train Loss: 1.167731 | Val Loss: 3.324585\n"
     ]
    },
    {
     "name": "stderr",
     "output_type": "stream",
     "text": [
      "Epoch 15/400 [Train]: 100%|███████████████████████| 31/31 [00:00<00:00, 138.61it/s, loss=1.15]\n"
     ]
    },
    {
     "name": "stdout",
     "output_type": "stream",
     "text": [
      "Epoch 15/400 | Train Loss: 1.133283 | Val Loss: 5.283243\n"
     ]
    },
    {
     "name": "stderr",
     "output_type": "stream",
     "text": [
      "Epoch 16/400 [Train]: 100%|███████████████████████| 31/31 [00:00<00:00, 132.18it/s, loss=1.21]\n"
     ]
    },
    {
     "name": "stdout",
     "output_type": "stream",
     "text": [
      "Epoch 16/400 | Train Loss: 1.157311 | Val Loss: 2.320809\n"
     ]
    },
    {
     "name": "stderr",
     "output_type": "stream",
     "text": [
      "Epoch 17/400 [Train]: 100%|████████████████████████| 31/31 [00:00<00:00, 136.19it/s, loss=1.1]\n"
     ]
    },
    {
     "name": "stdout",
     "output_type": "stream",
     "text": [
      "Epoch 17/400 | Train Loss: 1.140553 | Val Loss: 6.874671\n"
     ]
    },
    {
     "name": "stderr",
     "output_type": "stream",
     "text": [
      "Epoch 18/400 [Train]: 100%|███████████████████████| 31/31 [00:00<00:00, 142.41it/s, loss=1.04]\n"
     ]
    },
    {
     "name": "stdout",
     "output_type": "stream",
     "text": [
      "Epoch 18/400 | Train Loss: 1.147001 | Val Loss: 4.192466\n"
     ]
    },
    {
     "name": "stderr",
     "output_type": "stream",
     "text": [
      "Epoch 19/400 [Train]: 100%|███████████████████████| 31/31 [00:00<00:00, 149.57it/s, loss=1.19]\n"
     ]
    },
    {
     "name": "stdout",
     "output_type": "stream",
     "text": [
      "Epoch 19/400 | Train Loss: 1.120432 | Val Loss: 6.599665\n"
     ]
    },
    {
     "name": "stderr",
     "output_type": "stream",
     "text": [
      "Epoch 20/400 [Train]: 100%|████████████████████████| 31/31 [00:00<00:00, 137.62it/s, loss=1.1]\n"
     ]
    },
    {
     "name": "stdout",
     "output_type": "stream",
     "text": [
      "Epoch 20/400 | Train Loss: 1.152548 | Val Loss: 3.619476\n"
     ]
    },
    {
     "name": "stderr",
     "output_type": "stream",
     "text": [
      "Epoch 21/400 [Train]: 100%|███████████████████████| 31/31 [00:00<00:00, 138.55it/s, loss=1.07]\n"
     ]
    },
    {
     "name": "stdout",
     "output_type": "stream",
     "text": [
      "Epoch 21/400 | Train Loss: 1.142050 | Val Loss: 5.256603\n"
     ]
    },
    {
     "name": "stderr",
     "output_type": "stream",
     "text": [
      "Epoch 22/400 [Train]: 100%|███████████████████████| 31/31 [00:00<00:00, 145.64it/s, loss=1.11]\n"
     ]
    },
    {
     "name": "stdout",
     "output_type": "stream",
     "text": [
      "Epoch 22/400 | Train Loss: 1.125927 | Val Loss: 3.524516\n"
     ]
    },
    {
     "name": "stderr",
     "output_type": "stream",
     "text": [
      "Epoch 23/400 [Train]: 100%|███████████████████████| 31/31 [00:00<00:00, 149.17it/s, loss=1.05]\n"
     ]
    },
    {
     "name": "stdout",
     "output_type": "stream",
     "text": [
      "Epoch 23/400 | Train Loss: 1.057195 | Val Loss: 2.430752\n"
     ]
    },
    {
     "name": "stderr",
     "output_type": "stream",
     "text": [
      "Epoch 24/400 [Train]: 100%|██████████████████████| 31/31 [00:00<00:00, 150.71it/s, loss=0.967]\n"
     ]
    },
    {
     "name": "stdout",
     "output_type": "stream",
     "text": [
      "Epoch 24/400 | Train Loss: 1.031192 | Val Loss: 2.153082\n"
     ]
    },
    {
     "name": "stderr",
     "output_type": "stream",
     "text": [
      "Epoch 25/400 [Train]: 100%|██████████████████████| 31/31 [00:00<00:00, 156.45it/s, loss=0.988]\n"
     ]
    },
    {
     "name": "stdout",
     "output_type": "stream",
     "text": [
      "Epoch 25/400 | Train Loss: 1.019333 | Val Loss: 4.294982\n"
     ]
    },
    {
     "name": "stderr",
     "output_type": "stream",
     "text": [
      "Epoch 26/400 [Train]: 100%|███████████████████████| 31/31 [00:00<00:00, 156.12it/s, loss=1.06]\n"
     ]
    },
    {
     "name": "stdout",
     "output_type": "stream",
     "text": [
      "Epoch 26/400 | Train Loss: 1.000014 | Val Loss: 2.180183\n"
     ]
    },
    {
     "name": "stderr",
     "output_type": "stream",
     "text": [
      "Epoch 27/400 [Train]: 100%|███████████████████████| 31/31 [00:00<00:00, 159.23it/s, loss=1.18]\n"
     ]
    },
    {
     "name": "stdout",
     "output_type": "stream",
     "text": [
      "Epoch 27/400 | Train Loss: 0.987887 | Val Loss: 2.478645\n"
     ]
    },
    {
     "name": "stderr",
     "output_type": "stream",
     "text": [
      "Epoch 28/400 [Train]: 100%|███████████████████████| 31/31 [00:00<00:00, 148.46it/s, loss=1.01]\n"
     ]
    },
    {
     "name": "stdout",
     "output_type": "stream",
     "text": [
      "Epoch 28/400 | Train Loss: 0.996005 | Val Loss: 1.968629\n"
     ]
    },
    {
     "name": "stderr",
     "output_type": "stream",
     "text": [
      "Epoch 29/400 [Train]: 100%|██████████████████████| 31/31 [00:00<00:00, 142.73it/s, loss=0.939]\n"
     ]
    },
    {
     "name": "stdout",
     "output_type": "stream",
     "text": [
      "Epoch 29/400 | Train Loss: 0.977337 | Val Loss: 2.286783\n"
     ]
    },
    {
     "name": "stderr",
     "output_type": "stream",
     "text": [
      "Epoch 30/400 [Train]: 100%|███████████████████████| 31/31 [00:00<00:00, 152.66it/s, loss=0.88]\n"
     ]
    },
    {
     "name": "stdout",
     "output_type": "stream",
     "text": [
      "Epoch 30/400 | Train Loss: 0.982955 | Val Loss: 1.630714\n"
     ]
    },
    {
     "name": "stderr",
     "output_type": "stream",
     "text": [
      "Epoch 31/400 [Train]: 100%|██████████████████████| 31/31 [00:00<00:00, 151.81it/s, loss=0.946]\n"
     ]
    },
    {
     "name": "stdout",
     "output_type": "stream",
     "text": [
      "Epoch 31/400 | Train Loss: 0.970054 | Val Loss: 2.469427\n"
     ]
    },
    {
     "name": "stderr",
     "output_type": "stream",
     "text": [
      "Epoch 32/400 [Train]: 100%|██████████████████████| 31/31 [00:00<00:00, 146.50it/s, loss=0.931]\n"
     ]
    },
    {
     "name": "stdout",
     "output_type": "stream",
     "text": [
      "Epoch 32/400 | Train Loss: 0.967562 | Val Loss: 2.010876\n"
     ]
    },
    {
     "name": "stderr",
     "output_type": "stream",
     "text": [
      "Epoch 33/400 [Train]: 100%|██████████████████████| 31/31 [00:00<00:00, 152.28it/s, loss=0.914]\n"
     ]
    },
    {
     "name": "stdout",
     "output_type": "stream",
     "text": [
      "Epoch 33/400 | Train Loss: 0.971010 | Val Loss: 4.937233\n"
     ]
    },
    {
     "name": "stderr",
     "output_type": "stream",
     "text": [
      "Epoch 34/400 [Train]: 100%|███████████████████████| 31/31 [00:00<00:00, 94.52it/s, loss=0.982]\n"
     ]
    },
    {
     "name": "stdout",
     "output_type": "stream",
     "text": [
      "Epoch 34/400 | Train Loss: 0.969152 | Val Loss: 3.321628\n"
     ]
    },
    {
     "name": "stderr",
     "output_type": "stream",
     "text": [
      "Epoch 35/400 [Train]: 100%|██████████████████████| 31/31 [00:00<00:00, 136.60it/s, loss=0.986]\n"
     ]
    },
    {
     "name": "stdout",
     "output_type": "stream",
     "text": [
      "Epoch 35/400 | Train Loss: 0.968391 | Val Loss: 2.671985\n"
     ]
    },
    {
     "name": "stderr",
     "output_type": "stream",
     "text": [
      "Epoch 36/400 [Train]: 100%|██████████████████████| 31/31 [00:00<00:00, 149.37it/s, loss=0.947]\n"
     ]
    },
    {
     "name": "stdout",
     "output_type": "stream",
     "text": [
      "Epoch 36/400 | Train Loss: 0.959071 | Val Loss: 2.140052\n"
     ]
    },
    {
     "name": "stderr",
     "output_type": "stream",
     "text": [
      "Epoch 37/400 [Train]: 100%|██████████████████████| 31/31 [00:00<00:00, 148.71it/s, loss=0.905]\n"
     ]
    },
    {
     "name": "stdout",
     "output_type": "stream",
     "text": [
      "Epoch 37/400 | Train Loss: 0.945485 | Val Loss: 1.855856\n"
     ]
    },
    {
     "name": "stderr",
     "output_type": "stream",
     "text": [
      "Epoch 38/400 [Train]: 100%|███████████████████████| 31/31 [00:00<00:00, 149.53it/s, loss=1.01]\n"
     ]
    },
    {
     "name": "stdout",
     "output_type": "stream",
     "text": [
      "Epoch 38/400 | Train Loss: 0.934086 | Val Loss: 1.165915\n"
     ]
    },
    {
     "name": "stderr",
     "output_type": "stream",
     "text": [
      "Epoch 39/400 [Train]: 100%|██████████████████████| 31/31 [00:00<00:00, 145.46it/s, loss=0.946]\n"
     ]
    },
    {
     "name": "stdout",
     "output_type": "stream",
     "text": [
      "Epoch 39/400 | Train Loss: 0.941734 | Val Loss: 1.506169\n"
     ]
    },
    {
     "name": "stderr",
     "output_type": "stream",
     "text": [
      "Epoch 40/400 [Train]: 100%|██████████████████████| 31/31 [00:00<00:00, 142.69it/s, loss=0.895]\n"
     ]
    },
    {
     "name": "stdout",
     "output_type": "stream",
     "text": [
      "Epoch 40/400 | Train Loss: 0.935276 | Val Loss: 0.985815\n"
     ]
    },
    {
     "name": "stderr",
     "output_type": "stream",
     "text": [
      "Epoch 41/400 [Train]: 100%|██████████████████████| 31/31 [00:00<00:00, 143.31it/s, loss=0.949]\n"
     ]
    },
    {
     "name": "stdout",
     "output_type": "stream",
     "text": [
      "Epoch 41/400 | Train Loss: 0.940432 | Val Loss: 1.567295\n"
     ]
    },
    {
     "name": "stderr",
     "output_type": "stream",
     "text": [
      "Epoch 42/400 [Train]: 100%|██████████████████████| 31/31 [00:00<00:00, 145.51it/s, loss=0.943]\n"
     ]
    },
    {
     "name": "stdout",
     "output_type": "stream",
     "text": [
      "Epoch 42/400 | Train Loss: 0.934629 | Val Loss: 1.037101\n"
     ]
    },
    {
     "name": "stderr",
     "output_type": "stream",
     "text": [
      "Epoch 43/400 [Train]: 100%|██████████████████████| 31/31 [00:00<00:00, 143.49it/s, loss=0.953]\n"
     ]
    },
    {
     "name": "stdout",
     "output_type": "stream",
     "text": [
      "Epoch 43/400 | Train Loss: 0.939614 | Val Loss: 1.373890\n"
     ]
    },
    {
     "name": "stderr",
     "output_type": "stream",
     "text": [
      "Epoch 44/400 [Train]: 100%|██████████████████████| 31/31 [00:00<00:00, 145.18it/s, loss=0.952]\n"
     ]
    },
    {
     "name": "stdout",
     "output_type": "stream",
     "text": [
      "Epoch 44/400 | Train Loss: 0.926435 | Val Loss: 1.001632\n"
     ]
    },
    {
     "name": "stderr",
     "output_type": "stream",
     "text": [
      "Epoch 45/400 [Train]: 100%|██████████████████████| 31/31 [00:00<00:00, 147.35it/s, loss=0.874]\n"
     ]
    },
    {
     "name": "stdout",
     "output_type": "stream",
     "text": [
      "Epoch 45/400 | Train Loss: 0.937106 | Val Loss: 1.273298\n"
     ]
    },
    {
     "name": "stderr",
     "output_type": "stream",
     "text": [
      "Epoch 46/400 [Train]: 100%|██████████████████████| 31/31 [00:00<00:00, 146.16it/s, loss=0.975]\n"
     ]
    },
    {
     "name": "stdout",
     "output_type": "stream",
     "text": [
      "Epoch 46/400 | Train Loss: 0.930322 | Val Loss: 0.968583\n"
     ]
    },
    {
     "name": "stderr",
     "output_type": "stream",
     "text": [
      "Epoch 47/400 [Train]: 100%|██████████████████████| 31/31 [00:00<00:00, 148.94it/s, loss=0.964]\n"
     ]
    },
    {
     "name": "stdout",
     "output_type": "stream",
     "text": [
      "Epoch 47/400 | Train Loss: 0.922060 | Val Loss: 1.323979\n"
     ]
    },
    {
     "name": "stderr",
     "output_type": "stream",
     "text": [
      "Epoch 48/400 [Train]: 100%|██████████████████████| 31/31 [00:00<00:00, 147.21it/s, loss=0.925]\n"
     ]
    },
    {
     "name": "stdout",
     "output_type": "stream",
     "text": [
      "Epoch 48/400 | Train Loss: 0.929294 | Val Loss: 1.613686\n"
     ]
    },
    {
     "name": "stderr",
     "output_type": "stream",
     "text": [
      "Epoch 49/400 [Train]: 100%|███████████████████████| 31/31 [00:00<00:00, 136.53it/s, loss=1.02]\n"
     ]
    },
    {
     "name": "stdout",
     "output_type": "stream",
     "text": [
      "Epoch 49/400 | Train Loss: 0.931618 | Val Loss: 1.813257\n"
     ]
    },
    {
     "name": "stderr",
     "output_type": "stream",
     "text": [
      "Epoch 50/400 [Train]: 100%|███████████████████████| 31/31 [00:00<00:00, 92.29it/s, loss=0.959]\n"
     ]
    },
    {
     "name": "stdout",
     "output_type": "stream",
     "text": [
      "Epoch 50/400 | Train Loss: 0.931514 | Val Loss: 1.324656\n"
     ]
    },
    {
     "name": "stderr",
     "output_type": "stream",
     "text": [
      "Epoch 51/400 [Train]: 100%|██████████████████████| 31/31 [00:00<00:00, 141.41it/s, loss=0.912]\n"
     ]
    },
    {
     "name": "stdout",
     "output_type": "stream",
     "text": [
      "Epoch 51/400 | Train Loss: 0.939508 | Val Loss: 1.647666\n"
     ]
    },
    {
     "name": "stderr",
     "output_type": "stream",
     "text": [
      "Epoch 52/400 [Train]: 100%|██████████████████████| 31/31 [00:00<00:00, 145.51it/s, loss=0.944]\n"
     ]
    },
    {
     "name": "stdout",
     "output_type": "stream",
     "text": [
      "Epoch 52/400 | Train Loss: 0.922851 | Val Loss: 1.142513\n"
     ]
    },
    {
     "name": "stderr",
     "output_type": "stream",
     "text": [
      "Epoch 53/400 [Train]: 100%|██████████████████████| 31/31 [00:00<00:00, 151.19it/s, loss=0.928]\n"
     ]
    },
    {
     "name": "stdout",
     "output_type": "stream",
     "text": [
      "Epoch 53/400 | Train Loss: 0.922574 | Val Loss: 0.880698\n"
     ]
    },
    {
     "name": "stderr",
     "output_type": "stream",
     "text": [
      "Epoch 54/400 [Train]: 100%|██████████████████████| 31/31 [00:00<00:00, 149.83it/s, loss=0.966]\n"
     ]
    },
    {
     "name": "stdout",
     "output_type": "stream",
     "text": [
      "Epoch 54/400 | Train Loss: 0.916253 | Val Loss: 0.871583\n"
     ]
    },
    {
     "name": "stderr",
     "output_type": "stream",
     "text": [
      "Epoch 55/400 [Train]: 100%|██████████████████████| 31/31 [00:00<00:00, 149.42it/s, loss=0.959]\n"
     ]
    },
    {
     "name": "stdout",
     "output_type": "stream",
     "text": [
      "Epoch 55/400 | Train Loss: 0.927535 | Val Loss: 0.871312\n"
     ]
    },
    {
     "name": "stderr",
     "output_type": "stream",
     "text": [
      "Epoch 56/400 [Train]: 100%|███████████████████████| 31/31 [00:00<00:00, 138.44it/s, loss=0.93]\n"
     ]
    },
    {
     "name": "stdout",
     "output_type": "stream",
     "text": [
      "Epoch 56/400 | Train Loss: 0.923840 | Val Loss: 0.881462\n"
     ]
    },
    {
     "name": "stderr",
     "output_type": "stream",
     "text": [
      "Epoch 57/400 [Train]: 100%|██████████████████████| 31/31 [00:00<00:00, 138.86it/s, loss=0.971]\n"
     ]
    },
    {
     "name": "stdout",
     "output_type": "stream",
     "text": [
      "Epoch 57/400 | Train Loss: 0.926998 | Val Loss: 0.872671\n"
     ]
    },
    {
     "name": "stderr",
     "output_type": "stream",
     "text": [
      "Epoch 58/400 [Train]: 100%|██████████████████████| 31/31 [00:00<00:00, 133.54it/s, loss=0.963]\n"
     ]
    },
    {
     "name": "stdout",
     "output_type": "stream",
     "text": [
      "Epoch 58/400 | Train Loss: 0.924630 | Val Loss: 0.877379\n"
     ]
    },
    {
     "name": "stderr",
     "output_type": "stream",
     "text": [
      "Epoch 59/400 [Train]: 100%|██████████████████████| 31/31 [00:00<00:00, 136.06it/s, loss=0.904]\n"
     ]
    },
    {
     "name": "stdout",
     "output_type": "stream",
     "text": [
      "Epoch 59/400 | Train Loss: 0.923881 | Val Loss: 0.873980\n"
     ]
    },
    {
     "name": "stderr",
     "output_type": "stream",
     "text": [
      "Epoch 60/400 [Train]: 100%|███████████████████████| 31/31 [00:00<00:00, 130.81it/s, loss=1.06]\n"
     ]
    },
    {
     "name": "stdout",
     "output_type": "stream",
     "text": [
      "Epoch 60/400 | Train Loss: 0.929257 | Val Loss: 0.872160\n"
     ]
    },
    {
     "name": "stderr",
     "output_type": "stream",
     "text": [
      "Epoch 61/400 [Train]: 100%|███████████████████████| 31/31 [00:00<00:00, 131.08it/s, loss=1.01]\n"
     ]
    },
    {
     "name": "stdout",
     "output_type": "stream",
     "text": [
      "Epoch 61/400 | Train Loss: 0.932330 | Val Loss: 0.868696\n"
     ]
    },
    {
     "name": "stderr",
     "output_type": "stream",
     "text": [
      "Epoch 62/400 [Train]: 100%|██████████████████████| 31/31 [00:00<00:00, 132.21it/s, loss=0.839]\n"
     ]
    },
    {
     "name": "stdout",
     "output_type": "stream",
     "text": [
      "Epoch 62/400 | Train Loss: 0.926871 | Val Loss: 0.868130\n"
     ]
    },
    {
     "name": "stderr",
     "output_type": "stream",
     "text": [
      "Epoch 63/400 [Train]: 100%|██████████████████████| 31/31 [00:00<00:00, 131.39it/s, loss=0.939]\n"
     ]
    },
    {
     "name": "stdout",
     "output_type": "stream",
     "text": [
      "Epoch 63/400 | Train Loss: 0.924093 | Val Loss: 0.872610\n"
     ]
    },
    {
     "name": "stderr",
     "output_type": "stream",
     "text": [
      "Epoch 64/400 [Train]: 100%|███████████████████████| 31/31 [00:00<00:00, 134.06it/s, loss=1.04]\n"
     ]
    },
    {
     "name": "stdout",
     "output_type": "stream",
     "text": [
      "Epoch 64/400 | Train Loss: 0.925609 | Val Loss: 0.883154\n"
     ]
    },
    {
     "name": "stderr",
     "output_type": "stream",
     "text": [
      "Epoch 65/400 [Train]: 100%|███████████████████████| 31/31 [00:00<00:00, 137.73it/s, loss=1.03]\n"
     ]
    },
    {
     "name": "stdout",
     "output_type": "stream",
     "text": [
      "Epoch 65/400 | Train Loss: 0.919305 | Val Loss: 0.866274\n"
     ]
    },
    {
     "name": "stderr",
     "output_type": "stream",
     "text": [
      "Epoch 66/400 [Train]: 100%|██████████████████████| 31/31 [00:00<00:00, 140.93it/s, loss=0.976]\n"
     ]
    },
    {
     "name": "stdout",
     "output_type": "stream",
     "text": [
      "Epoch 66/400 | Train Loss: 0.924370 | Val Loss: 0.873871\n"
     ]
    },
    {
     "name": "stderr",
     "output_type": "stream",
     "text": [
      "Epoch 67/400 [Train]: 100%|███████████████████████| 31/31 [00:00<00:00, 92.58it/s, loss=0.858]\n"
     ]
    },
    {
     "name": "stdout",
     "output_type": "stream",
     "text": [
      "Epoch 67/400 | Train Loss: 0.922583 | Val Loss: 0.868381\n"
     ]
    },
    {
     "name": "stderr",
     "output_type": "stream",
     "text": [
      "Epoch 68/400 [Train]: 100%|██████████████████████| 31/31 [00:00<00:00, 141.34it/s, loss=0.839]\n"
     ]
    },
    {
     "name": "stdout",
     "output_type": "stream",
     "text": [
      "Epoch 68/400 | Train Loss: 0.917648 | Val Loss: 0.872752\n"
     ]
    },
    {
     "name": "stderr",
     "output_type": "stream",
     "text": [
      "Epoch 69/400 [Train]: 100%|██████████████████████| 31/31 [00:00<00:00, 136.93it/s, loss=0.982]\n"
     ]
    },
    {
     "name": "stdout",
     "output_type": "stream",
     "text": [
      "Epoch 69/400 | Train Loss: 0.922865 | Val Loss: 0.880130\n"
     ]
    },
    {
     "name": "stderr",
     "output_type": "stream",
     "text": [
      "Epoch 70/400 [Train]: 100%|██████████████████████| 31/31 [00:00<00:00, 138.67it/s, loss=0.818]\n"
     ]
    },
    {
     "name": "stdout",
     "output_type": "stream",
     "text": [
      "Epoch 70/400 | Train Loss: 0.929408 | Val Loss: 0.873026\n"
     ]
    },
    {
     "name": "stderr",
     "output_type": "stream",
     "text": [
      "Epoch 71/400 [Train]: 100%|██████████████████████| 31/31 [00:00<00:00, 140.76it/s, loss=0.985]\n"
     ]
    },
    {
     "name": "stdout",
     "output_type": "stream",
     "text": [
      "Epoch 71/400 | Train Loss: 0.924692 | Val Loss: 0.875254\n"
     ]
    },
    {
     "name": "stderr",
     "output_type": "stream",
     "text": [
      "Epoch 72/400 [Train]: 100%|██████████████████████| 31/31 [00:00<00:00, 123.17it/s, loss=0.891]\n"
     ]
    },
    {
     "name": "stdout",
     "output_type": "stream",
     "text": [
      "Epoch 72/400 | Train Loss: 0.923668 | Val Loss: 0.868833\n"
     ]
    },
    {
     "name": "stderr",
     "output_type": "stream",
     "text": [
      "Epoch 73/400 [Train]: 100%|██████████████████████| 31/31 [00:00<00:00, 120.31it/s, loss=0.862]\n"
     ]
    },
    {
     "name": "stdout",
     "output_type": "stream",
     "text": [
      "Epoch 73/400 | Train Loss: 0.922851 | Val Loss: 0.867500\n"
     ]
    },
    {
     "name": "stderr",
     "output_type": "stream",
     "text": [
      "Epoch 74/400 [Train]: 100%|██████████████████████| 31/31 [00:00<00:00, 120.50it/s, loss=0.898]\n"
     ]
    },
    {
     "name": "stdout",
     "output_type": "stream",
     "text": [
      "Epoch 74/400 | Train Loss: 0.926790 | Val Loss: 0.865608\n"
     ]
    },
    {
     "name": "stderr",
     "output_type": "stream",
     "text": [
      "Epoch 75/400 [Train]: 100%|██████████████████████| 31/31 [00:00<00:00, 123.62it/s, loss=0.848]\n"
     ]
    },
    {
     "name": "stdout",
     "output_type": "stream",
     "text": [
      "Epoch 75/400 | Train Loss: 0.932132 | Val Loss: 0.868257\n"
     ]
    },
    {
     "name": "stderr",
     "output_type": "stream",
     "text": [
      "Epoch 76/400 [Train]: 100%|██████████████████████| 31/31 [00:00<00:00, 129.48it/s, loss=0.857]\n"
     ]
    },
    {
     "name": "stdout",
     "output_type": "stream",
     "text": [
      "Epoch 76/400 | Train Loss: 0.922523 | Val Loss: 0.866806\n"
     ]
    },
    {
     "name": "stderr",
     "output_type": "stream",
     "text": [
      "Epoch 77/400 [Train]: 100%|███████████████████████| 31/31 [00:00<00:00, 133.35it/s, loss=1.02]\n"
     ]
    },
    {
     "name": "stdout",
     "output_type": "stream",
     "text": [
      "Epoch 77/400 | Train Loss: 0.933753 | Val Loss: 0.865533\n"
     ]
    },
    {
     "name": "stderr",
     "output_type": "stream",
     "text": [
      "Epoch 78/400 [Train]: 100%|██████████████████████| 31/31 [00:00<00:00, 145.54it/s, loss=0.925]\n"
     ]
    },
    {
     "name": "stdout",
     "output_type": "stream",
     "text": [
      "Epoch 78/400 | Train Loss: 0.928231 | Val Loss: 0.866998\n"
     ]
    },
    {
     "name": "stderr",
     "output_type": "stream",
     "text": [
      "Epoch 79/400 [Train]: 100%|██████████████████████| 31/31 [00:00<00:00, 146.98it/s, loss=0.987]\n"
     ]
    },
    {
     "name": "stdout",
     "output_type": "stream",
     "text": [
      "Epoch 79/400 | Train Loss: 0.921526 | Val Loss: 0.866413\n"
     ]
    },
    {
     "name": "stderr",
     "output_type": "stream",
     "text": [
      "Epoch 80/400 [Train]: 100%|██████████████████████| 31/31 [00:00<00:00, 146.59it/s, loss=0.919]\n"
     ]
    },
    {
     "name": "stdout",
     "output_type": "stream",
     "text": [
      "Epoch 80/400 | Train Loss: 0.922070 | Val Loss: 0.870558\n",
      "Saved snapshot at epoch 80\n"
     ]
    },
    {
     "name": "stderr",
     "output_type": "stream",
     "text": [
      "Epoch 81/400 [Train]: 100%|██████████████████████| 31/31 [00:00<00:00, 143.61it/s, loss=0.924]\n"
     ]
    },
    {
     "name": "stdout",
     "output_type": "stream",
     "text": [
      "Epoch 81/400 | Train Loss: 0.926175 | Val Loss: 0.865868\n"
     ]
    },
    {
     "name": "stderr",
     "output_type": "stream",
     "text": [
      "Epoch 82/400 [Train]: 100%|██████████████████████| 31/31 [00:00<00:00, 146.69it/s, loss=0.877]\n"
     ]
    },
    {
     "name": "stdout",
     "output_type": "stream",
     "text": [
      "Epoch 82/400 | Train Loss: 0.929129 | Val Loss: 0.865419\n"
     ]
    },
    {
     "name": "stderr",
     "output_type": "stream",
     "text": [
      "Epoch 83/400 [Train]: 100%|███████████████████████| 31/31 [00:00<00:00, 96.53it/s, loss=0.962]\n"
     ]
    },
    {
     "name": "stdout",
     "output_type": "stream",
     "text": [
      "Epoch 83/400 | Train Loss: 0.922674 | Val Loss: 0.867453\n"
     ]
    },
    {
     "name": "stderr",
     "output_type": "stream",
     "text": [
      "Epoch 84/400 [Train]: 100%|██████████████████████| 31/31 [00:00<00:00, 146.90it/s, loss=0.921]\n"
     ]
    },
    {
     "name": "stdout",
     "output_type": "stream",
     "text": [
      "Epoch 84/400 | Train Loss: 0.922151 | Val Loss: 0.870906\n"
     ]
    },
    {
     "name": "stderr",
     "output_type": "stream",
     "text": [
      "Epoch 85/400 [Train]: 100%|██████████████████████████| 31/31 [00:00<00:00, 144.46it/s, loss=1]\n"
     ]
    },
    {
     "name": "stdout",
     "output_type": "stream",
     "text": [
      "Epoch 85/400 | Train Loss: 0.918807 | Val Loss: 0.866974\n"
     ]
    },
    {
     "name": "stderr",
     "output_type": "stream",
     "text": [
      "Epoch 86/400 [Train]: 100%|██████████████████████| 31/31 [00:00<00:00, 145.27it/s, loss=0.847]\n"
     ]
    },
    {
     "name": "stdout",
     "output_type": "stream",
     "text": [
      "Epoch 86/400 | Train Loss: 0.924949 | Val Loss: 0.865902\n"
     ]
    },
    {
     "name": "stderr",
     "output_type": "stream",
     "text": [
      "Epoch 87/400 [Train]: 100%|██████████████████████| 31/31 [00:00<00:00, 144.28it/s, loss=0.875]\n"
     ]
    },
    {
     "name": "stdout",
     "output_type": "stream",
     "text": [
      "Epoch 87/400 | Train Loss: 0.927449 | Val Loss: 0.865666\n"
     ]
    },
    {
     "name": "stderr",
     "output_type": "stream",
     "text": [
      "Epoch 88/400 [Train]: 100%|██████████████████████| 31/31 [00:00<00:00, 141.67it/s, loss=0.935]\n"
     ]
    },
    {
     "name": "stdout",
     "output_type": "stream",
     "text": [
      "Epoch 88/400 | Train Loss: 0.919261 | Val Loss: 0.865212\n"
     ]
    },
    {
     "name": "stderr",
     "output_type": "stream",
     "text": [
      "Epoch 89/400 [Train]: 100%|██████████████████████| 31/31 [00:00<00:00, 143.37it/s, loss=0.928]\n"
     ]
    },
    {
     "name": "stdout",
     "output_type": "stream",
     "text": [
      "Epoch 89/400 | Train Loss: 0.925899 | Val Loss: 0.865863\n"
     ]
    },
    {
     "name": "stderr",
     "output_type": "stream",
     "text": [
      "Epoch 90/400 [Train]: 100%|██████████████████████| 31/31 [00:00<00:00, 143.68it/s, loss=0.933]\n"
     ]
    },
    {
     "name": "stdout",
     "output_type": "stream",
     "text": [
      "Epoch 90/400 | Train Loss: 0.919107 | Val Loss: 0.866458\n"
     ]
    },
    {
     "name": "stderr",
     "output_type": "stream",
     "text": [
      "Epoch 91/400 [Train]: 100%|██████████████████████████| 31/31 [00:00<00:00, 144.47it/s, loss=1]\n"
     ]
    },
    {
     "name": "stdout",
     "output_type": "stream",
     "text": [
      "Epoch 91/400 | Train Loss: 0.929626 | Val Loss: 0.867758\n"
     ]
    },
    {
     "name": "stderr",
     "output_type": "stream",
     "text": [
      "Epoch 92/400 [Train]: 100%|██████████████████████| 31/31 [00:00<00:00, 146.53it/s, loss=0.893]\n"
     ]
    },
    {
     "name": "stdout",
     "output_type": "stream",
     "text": [
      "Epoch 92/400 | Train Loss: 0.926052 | Val Loss: 0.869029\n"
     ]
    },
    {
     "name": "stderr",
     "output_type": "stream",
     "text": [
      "Epoch 93/400 [Train]: 100%|██████████████████████| 31/31 [00:00<00:00, 149.81it/s, loss=0.995]\n"
     ]
    },
    {
     "name": "stdout",
     "output_type": "stream",
     "text": [
      "Epoch 93/400 | Train Loss: 0.927713 | Val Loss: 0.865928\n"
     ]
    },
    {
     "name": "stderr",
     "output_type": "stream",
     "text": [
      "Epoch 94/400 [Train]: 100%|██████████████████████| 31/31 [00:00<00:00, 142.76it/s, loss=0.839]\n"
     ]
    },
    {
     "name": "stdout",
     "output_type": "stream",
     "text": [
      "Epoch 94/400 | Train Loss: 0.919850 | Val Loss: 0.867075\n"
     ]
    },
    {
     "name": "stderr",
     "output_type": "stream",
     "text": [
      "Epoch 95/400 [Train]: 100%|██████████████████████| 31/31 [00:00<00:00, 145.25it/s, loss=0.965]\n"
     ]
    },
    {
     "name": "stdout",
     "output_type": "stream",
     "text": [
      "Epoch 95/400 | Train Loss: 0.923831 | Val Loss: 0.868137\n"
     ]
    },
    {
     "name": "stderr",
     "output_type": "stream",
     "text": [
      "Epoch 96/400 [Train]: 100%|██████████████████████| 31/31 [00:00<00:00, 142.58it/s, loss=0.959]\n"
     ]
    },
    {
     "name": "stdout",
     "output_type": "stream",
     "text": [
      "Epoch 96/400 | Train Loss: 0.932324 | Val Loss: 0.866904\n"
     ]
    },
    {
     "name": "stderr",
     "output_type": "stream",
     "text": [
      "Epoch 97/400 [Train]: 100%|██████████████████████| 31/31 [00:00<00:00, 137.13it/s, loss=0.908]\n"
     ]
    },
    {
     "name": "stdout",
     "output_type": "stream",
     "text": [
      "Epoch 97/400 | Train Loss: 0.922503 | Val Loss: 0.866228\n"
     ]
    },
    {
     "name": "stderr",
     "output_type": "stream",
     "text": [
      "Epoch 98/400 [Train]: 100%|██████████████████████| 31/31 [00:00<00:00, 143.05it/s, loss=0.929]\n"
     ]
    },
    {
     "name": "stdout",
     "output_type": "stream",
     "text": [
      "Epoch 98/400 | Train Loss: 0.917895 | Val Loss: 0.866243\n"
     ]
    },
    {
     "name": "stderr",
     "output_type": "stream",
     "text": [
      "Epoch 99/400 [Train]: 100%|██████████████████████| 31/31 [00:00<00:00, 140.45it/s, loss=0.883]\n"
     ]
    },
    {
     "name": "stdout",
     "output_type": "stream",
     "text": [
      "Epoch 99/400 | Train Loss: 0.924199 | Val Loss: 0.868132\n"
     ]
    },
    {
     "name": "stderr",
     "output_type": "stream",
     "text": [
      "Epoch 100/400 [Train]: 100%|██████████████████████| 31/31 [00:00<00:00, 91.65it/s, loss=0.904]\n"
     ]
    },
    {
     "name": "stdout",
     "output_type": "stream",
     "text": [
      "Epoch 100/400 | Train Loss: 0.929006 | Val Loss: 0.864944\n"
     ]
    },
    {
     "name": "stderr",
     "output_type": "stream",
     "text": [
      "Epoch 101/400 [Train]: 100%|█████████████████████| 31/31 [00:00<00:00, 133.34it/s, loss=0.923]\n"
     ]
    },
    {
     "name": "stdout",
     "output_type": "stream",
     "text": [
      "Epoch 101/400 | Train Loss: 0.926210 | Val Loss: 0.876602\n"
     ]
    },
    {
     "name": "stderr",
     "output_type": "stream",
     "text": [
      "Epoch 102/400 [Train]: 100%|█████████████████████| 31/31 [00:00<00:00, 137.01it/s, loss=0.884]\n"
     ]
    },
    {
     "name": "stdout",
     "output_type": "stream",
     "text": [
      "Epoch 102/400 | Train Loss: 0.919826 | Val Loss: 0.864596\n"
     ]
    },
    {
     "name": "stderr",
     "output_type": "stream",
     "text": [
      "Epoch 103/400 [Train]: 100%|█████████████████████| 31/31 [00:00<00:00, 141.53it/s, loss=0.983]\n"
     ]
    },
    {
     "name": "stdout",
     "output_type": "stream",
     "text": [
      "Epoch 103/400 | Train Loss: 0.924817 | Val Loss: 0.867117\n"
     ]
    },
    {
     "name": "stderr",
     "output_type": "stream",
     "text": [
      "Epoch 104/400 [Train]: 100%|█████████████████████| 31/31 [00:00<00:00, 141.13it/s, loss=0.927]\n"
     ]
    },
    {
     "name": "stdout",
     "output_type": "stream",
     "text": [
      "Epoch 104/400 | Train Loss: 0.920412 | Val Loss: 0.864972\n"
     ]
    },
    {
     "name": "stderr",
     "output_type": "stream",
     "text": [
      "Epoch 105/400 [Train]: 100%|█████████████████████| 31/31 [00:00<00:00, 137.10it/s, loss=0.923]\n"
     ]
    },
    {
     "name": "stdout",
     "output_type": "stream",
     "text": [
      "Epoch 105/400 | Train Loss: 0.918971 | Val Loss: 0.867273\n"
     ]
    },
    {
     "name": "stderr",
     "output_type": "stream",
     "text": [
      "Epoch 106/400 [Train]: 100%|█████████████████████| 31/31 [00:00<00:00, 130.00it/s, loss=0.866]\n"
     ]
    },
    {
     "name": "stdout",
     "output_type": "stream",
     "text": [
      "Epoch 106/400 | Train Loss: 0.920844 | Val Loss: 0.865473\n"
     ]
    },
    {
     "name": "stderr",
     "output_type": "stream",
     "text": [
      "Epoch 107/400 [Train]: 100%|█████████████████████| 31/31 [00:00<00:00, 131.82it/s, loss=0.981]\n"
     ]
    },
    {
     "name": "stdout",
     "output_type": "stream",
     "text": [
      "Epoch 107/400 | Train Loss: 0.930002 | Val Loss: 0.874594\n"
     ]
    },
    {
     "name": "stderr",
     "output_type": "stream",
     "text": [
      "Epoch 108/400 [Train]: 100%|█████████████████████| 31/31 [00:00<00:00, 133.77it/s, loss=0.999]\n"
     ]
    },
    {
     "name": "stdout",
     "output_type": "stream",
     "text": [
      "Epoch 108/400 | Train Loss: 0.932854 | Val Loss: 0.866055\n"
     ]
    },
    {
     "name": "stderr",
     "output_type": "stream",
     "text": [
      "Epoch 109/400 [Train]: 100%|█████████████████████| 31/31 [00:00<00:00, 140.49it/s, loss=0.898]\n"
     ]
    },
    {
     "name": "stdout",
     "output_type": "stream",
     "text": [
      "Epoch 109/400 | Train Loss: 0.925527 | Val Loss: 0.865039\n"
     ]
    },
    {
     "name": "stderr",
     "output_type": "stream",
     "text": [
      "Epoch 110/400 [Train]: 100%|█████████████████████| 31/31 [00:00<00:00, 135.76it/s, loss=0.886]\n"
     ]
    },
    {
     "name": "stdout",
     "output_type": "stream",
     "text": [
      "Epoch 110/400 | Train Loss: 0.924139 | Val Loss: 0.866424\n"
     ]
    },
    {
     "name": "stderr",
     "output_type": "stream",
     "text": [
      "Epoch 111/400 [Train]: 100%|█████████████████████| 31/31 [00:00<00:00, 144.39it/s, loss=0.906]\n"
     ]
    },
    {
     "name": "stdout",
     "output_type": "stream",
     "text": [
      "Epoch 111/400 | Train Loss: 0.920601 | Val Loss: 0.866463\n"
     ]
    },
    {
     "name": "stderr",
     "output_type": "stream",
     "text": [
      "Epoch 112/400 [Train]: 100%|█████████████████████| 31/31 [00:00<00:00, 132.28it/s, loss=0.995]\n"
     ]
    },
    {
     "name": "stdout",
     "output_type": "stream",
     "text": [
      "Epoch 112/400 | Train Loss: 0.929948 | Val Loss: 0.867906\n"
     ]
    },
    {
     "name": "stderr",
     "output_type": "stream",
     "text": [
      "Epoch 113/400 [Train]: 100%|█████████████████████| 31/31 [00:00<00:00, 127.92it/s, loss=0.805]\n"
     ]
    },
    {
     "name": "stdout",
     "output_type": "stream",
     "text": [
      "Epoch 113/400 | Train Loss: 0.922931 | Val Loss: 0.865357\n"
     ]
    },
    {
     "name": "stderr",
     "output_type": "stream",
     "text": [
      "Epoch 114/400 [Train]: 100%|█████████████████████| 31/31 [00:00<00:00, 130.90it/s, loss=0.975]\n"
     ]
    },
    {
     "name": "stdout",
     "output_type": "stream",
     "text": [
      "Epoch 114/400 | Train Loss: 0.924398 | Val Loss: 0.868565\n"
     ]
    },
    {
     "name": "stderr",
     "output_type": "stream",
     "text": [
      "Epoch 115/400 [Train]: 100%|█████████████████████| 31/31 [00:00<00:00, 137.75it/s, loss=0.859]\n"
     ]
    },
    {
     "name": "stdout",
     "output_type": "stream",
     "text": [
      "Epoch 115/400 | Train Loss: 0.921721 | Val Loss: 0.866580\n"
     ]
    },
    {
     "name": "stderr",
     "output_type": "stream",
     "text": [
      "Epoch 116/400 [Train]: 100%|██████████████████████| 31/31 [00:00<00:00, 86.48it/s, loss=0.896]\n"
     ]
    },
    {
     "name": "stdout",
     "output_type": "stream",
     "text": [
      "Epoch 116/400 | Train Loss: 0.917708 | Val Loss: 0.869222\n"
     ]
    },
    {
     "name": "stderr",
     "output_type": "stream",
     "text": [
      "Epoch 117/400 [Train]: 100%|█████████████████████| 31/31 [00:00<00:00, 138.56it/s, loss=0.897]\n"
     ]
    },
    {
     "name": "stdout",
     "output_type": "stream",
     "text": [
      "Epoch 117/400 | Train Loss: 0.921689 | Val Loss: 0.872137\n"
     ]
    },
    {
     "name": "stderr",
     "output_type": "stream",
     "text": [
      "Epoch 118/400 [Train]: 100%|█████████████████████| 31/31 [00:00<00:00, 139.82it/s, loss=0.902]\n"
     ]
    },
    {
     "name": "stdout",
     "output_type": "stream",
     "text": [
      "Epoch 118/400 | Train Loss: 0.922641 | Val Loss: 0.867465\n"
     ]
    },
    {
     "name": "stderr",
     "output_type": "stream",
     "text": [
      "Epoch 119/400 [Train]: 100%|██████████████████████| 31/31 [00:00<00:00, 139.21it/s, loss=0.94]\n"
     ]
    },
    {
     "name": "stdout",
     "output_type": "stream",
     "text": [
      "Epoch 119/400 | Train Loss: 0.923858 | Val Loss: 0.867078\n"
     ]
    },
    {
     "name": "stderr",
     "output_type": "stream",
     "text": [
      "Epoch 120/400 [Train]: 100%|█████████████████████| 31/31 [00:00<00:00, 138.62it/s, loss=0.825]\n"
     ]
    },
    {
     "name": "stdout",
     "output_type": "stream",
     "text": [
      "Epoch 120/400 | Train Loss: 0.915464 | Val Loss: 0.864903\n"
     ]
    },
    {
     "name": "stderr",
     "output_type": "stream",
     "text": [
      "Epoch 121/400 [Train]: 100%|█████████████████████| 31/31 [00:00<00:00, 139.83it/s, loss=0.942]\n"
     ]
    },
    {
     "name": "stdout",
     "output_type": "stream",
     "text": [
      "Epoch 121/400 | Train Loss: 0.915417 | Val Loss: 0.864632\n"
     ]
    },
    {
     "name": "stderr",
     "output_type": "stream",
     "text": [
      "Epoch 122/400 [Train]: 100%|█████████████████████| 31/31 [00:00<00:00, 141.90it/s, loss=0.948]\n"
     ]
    },
    {
     "name": "stdout",
     "output_type": "stream",
     "text": [
      "Epoch 122/400 | Train Loss: 0.917392 | Val Loss: 0.867728\n"
     ]
    },
    {
     "name": "stderr",
     "output_type": "stream",
     "text": [
      "Epoch 123/400 [Train]: 100%|██████████████████████| 31/31 [00:00<00:00, 140.20it/s, loss=1.04]\n"
     ]
    },
    {
     "name": "stdout",
     "output_type": "stream",
     "text": [
      "Epoch 123/400 | Train Loss: 0.921067 | Val Loss: 0.866983\n"
     ]
    },
    {
     "name": "stderr",
     "output_type": "stream",
     "text": [
      "Epoch 124/400 [Train]: 100%|█████████████████████| 31/31 [00:00<00:00, 140.69it/s, loss=0.853]\n"
     ]
    },
    {
     "name": "stdout",
     "output_type": "stream",
     "text": [
      "Epoch 124/400 | Train Loss: 0.917596 | Val Loss: 0.866002\n"
     ]
    },
    {
     "name": "stderr",
     "output_type": "stream",
     "text": [
      "Epoch 125/400 [Train]: 100%|█████████████████████| 31/31 [00:00<00:00, 141.57it/s, loss=0.893]\n"
     ]
    },
    {
     "name": "stdout",
     "output_type": "stream",
     "text": [
      "Epoch 125/400 | Train Loss: 0.925777 | Val Loss: 0.868224\n"
     ]
    },
    {
     "name": "stderr",
     "output_type": "stream",
     "text": [
      "Epoch 126/400 [Train]: 100%|█████████████████████| 31/31 [00:00<00:00, 139.18it/s, loss=0.892]\n"
     ]
    },
    {
     "name": "stdout",
     "output_type": "stream",
     "text": [
      "Epoch 126/400 | Train Loss: 0.925384 | Val Loss: 0.866710\n"
     ]
    },
    {
     "name": "stderr",
     "output_type": "stream",
     "text": [
      "Epoch 127/400 [Train]: 100%|██████████████████████| 31/31 [00:00<00:00, 140.55it/s, loss=0.84]\n"
     ]
    },
    {
     "name": "stdout",
     "output_type": "stream",
     "text": [
      "Epoch 127/400 | Train Loss: 0.933873 | Val Loss: 0.867830\n"
     ]
    },
    {
     "name": "stderr",
     "output_type": "stream",
     "text": [
      "Epoch 128/400 [Train]: 100%|█████████████████████████| 31/31 [00:00<00:00, 141.42it/s, loss=1]\n"
     ]
    },
    {
     "name": "stdout",
     "output_type": "stream",
     "text": [
      "Epoch 128/400 | Train Loss: 0.931231 | Val Loss: 0.867511\n"
     ]
    },
    {
     "name": "stderr",
     "output_type": "stream",
     "text": [
      "Epoch 129/400 [Train]: 100%|█████████████████████| 31/31 [00:00<00:00, 141.94it/s, loss=0.877]\n"
     ]
    },
    {
     "name": "stdout",
     "output_type": "stream",
     "text": [
      "Epoch 129/400 | Train Loss: 0.925902 | Val Loss: 0.867698\n"
     ]
    },
    {
     "name": "stderr",
     "output_type": "stream",
     "text": [
      "Epoch 130/400 [Train]: 100%|█████████████████████| 31/31 [00:00<00:00, 137.99it/s, loss=0.896]\n"
     ]
    },
    {
     "name": "stdout",
     "output_type": "stream",
     "text": [
      "Epoch 130/400 | Train Loss: 0.919126 | Val Loss: 0.869750\n"
     ]
    },
    {
     "name": "stderr",
     "output_type": "stream",
     "text": [
      "Epoch 131/400 [Train]: 100%|█████████████████████| 31/31 [00:00<00:00, 137.37it/s, loss=0.945]\n"
     ]
    },
    {
     "name": "stdout",
     "output_type": "stream",
     "text": [
      "Epoch 131/400 | Train Loss: 0.923911 | Val Loss: 0.867291\n"
     ]
    },
    {
     "name": "stderr",
     "output_type": "stream",
     "text": [
      "Epoch 132/400 [Train]: 100%|█████████████████████| 31/31 [00:00<00:00, 137.98it/s, loss=0.887]\n"
     ]
    },
    {
     "name": "stdout",
     "output_type": "stream",
     "text": [
      "Epoch 132/400 | Train Loss: 0.917260 | Val Loss: 0.865668\n"
     ]
    },
    {
     "name": "stderr",
     "output_type": "stream",
     "text": [
      "Epoch 133/400 [Train]: 100%|█████████████████████| 31/31 [00:00<00:00, 139.10it/s, loss=0.941]\n"
     ]
    },
    {
     "name": "stdout",
     "output_type": "stream",
     "text": [
      "Epoch 133/400 | Train Loss: 0.923298 | Val Loss: 0.868184\n"
     ]
    },
    {
     "name": "stderr",
     "output_type": "stream",
     "text": [
      "Epoch 134/400 [Train]: 100%|█████████████████████| 31/31 [00:00<00:00, 139.20it/s, loss=0.857]\n"
     ]
    },
    {
     "name": "stdout",
     "output_type": "stream",
     "text": [
      "Epoch 134/400 | Train Loss: 0.930148 | Val Loss: 0.870238\n"
     ]
    },
    {
     "name": "stderr",
     "output_type": "stream",
     "text": [
      "Epoch 135/400 [Train]: 100%|█████████████████████| 31/31 [00:00<00:00, 144.52it/s, loss=0.955]\n"
     ]
    },
    {
     "name": "stdout",
     "output_type": "stream",
     "text": [
      "Epoch 135/400 | Train Loss: 0.922742 | Val Loss: 0.869312\n"
     ]
    },
    {
     "name": "stderr",
     "output_type": "stream",
     "text": [
      "Epoch 136/400 [Train]: 100%|█████████████████████| 31/31 [00:00<00:00, 147.15it/s, loss=0.892]\n"
     ]
    },
    {
     "name": "stdout",
     "output_type": "stream",
     "text": [
      "Epoch 136/400 | Train Loss: 0.925217 | Val Loss: 0.866446\n"
     ]
    },
    {
     "name": "stderr",
     "output_type": "stream",
     "text": [
      "Epoch 137/400 [Train]: 100%|█████████████████████| 31/31 [00:00<00:00, 146.33it/s, loss=0.954]\n"
     ]
    },
    {
     "name": "stdout",
     "output_type": "stream",
     "text": [
      "Epoch 137/400 | Train Loss: 0.916338 | Val Loss: 0.867622\n"
     ]
    },
    {
     "name": "stderr",
     "output_type": "stream",
     "text": [
      "Epoch 138/400 [Train]: 100%|█████████████████████| 31/31 [00:00<00:00, 142.79it/s, loss=0.959]\n"
     ]
    },
    {
     "name": "stdout",
     "output_type": "stream",
     "text": [
      "Epoch 138/400 | Train Loss: 0.924895 | Val Loss: 0.867163\n"
     ]
    },
    {
     "name": "stderr",
     "output_type": "stream",
     "text": [
      "Epoch 139/400 [Train]: 100%|█████████████████████| 31/31 [00:00<00:00, 142.63it/s, loss=0.815]\n"
     ]
    },
    {
     "name": "stdout",
     "output_type": "stream",
     "text": [
      "Epoch 139/400 | Train Loss: 0.923904 | Val Loss: 0.873883\n"
     ]
    },
    {
     "name": "stderr",
     "output_type": "stream",
     "text": [
      "Epoch 140/400 [Train]: 100%|█████████████████████| 31/31 [00:00<00:00, 146.67it/s, loss=0.983]\n"
     ]
    },
    {
     "name": "stdout",
     "output_type": "stream",
     "text": [
      "Epoch 140/400 | Train Loss: 0.927772 | Val Loss: 0.871139\n"
     ]
    },
    {
     "name": "stderr",
     "output_type": "stream",
     "text": [
      "Epoch 141/400 [Train]: 100%|█████████████████████| 31/31 [00:00<00:00, 132.92it/s, loss=0.925]\n"
     ]
    },
    {
     "name": "stdout",
     "output_type": "stream",
     "text": [
      "Epoch 141/400 | Train Loss: 0.925439 | Val Loss: 0.867311\n"
     ]
    },
    {
     "name": "stderr",
     "output_type": "stream",
     "text": [
      "Epoch 142/400 [Train]: 100%|█████████████████████| 31/31 [00:00<00:00, 133.41it/s, loss=0.908]\n"
     ]
    },
    {
     "name": "stdout",
     "output_type": "stream",
     "text": [
      "Epoch 142/400 | Train Loss: 0.921240 | Val Loss: 0.865096\n"
     ]
    },
    {
     "name": "stderr",
     "output_type": "stream",
     "text": [
      "Epoch 143/400 [Train]: 100%|█████████████████████| 31/31 [00:00<00:00, 138.51it/s, loss=0.843]\n"
     ]
    },
    {
     "name": "stdout",
     "output_type": "stream",
     "text": [
      "Epoch 143/400 | Train Loss: 0.921175 | Val Loss: 0.865287\n"
     ]
    },
    {
     "name": "stderr",
     "output_type": "stream",
     "text": [
      "Epoch 144/400 [Train]: 100%|█████████████████████| 31/31 [00:00<00:00, 135.15it/s, loss=0.815]\n"
     ]
    },
    {
     "name": "stdout",
     "output_type": "stream",
     "text": [
      "Epoch 144/400 | Train Loss: 0.918715 | Val Loss: 0.868338\n"
     ]
    },
    {
     "name": "stderr",
     "output_type": "stream",
     "text": [
      "Epoch 145/400 [Train]: 100%|█████████████████████| 31/31 [00:00<00:00, 134.88it/s, loss=0.954]\n"
     ]
    },
    {
     "name": "stdout",
     "output_type": "stream",
     "text": [
      "Epoch 145/400 | Train Loss: 0.929169 | Val Loss: 0.864899\n"
     ]
    },
    {
     "name": "stderr",
     "output_type": "stream",
     "text": [
      "Epoch 146/400 [Train]: 100%|█████████████████████| 31/31 [00:00<00:00, 133.06it/s, loss=0.929]\n"
     ]
    },
    {
     "name": "stdout",
     "output_type": "stream",
     "text": [
      "Epoch 146/400 | Train Loss: 0.920126 | Val Loss: 0.867240\n"
     ]
    },
    {
     "name": "stderr",
     "output_type": "stream",
     "text": [
      "Epoch 147/400 [Train]: 100%|█████████████████████| 31/31 [00:00<00:00, 133.10it/s, loss=0.922]\n"
     ]
    },
    {
     "name": "stdout",
     "output_type": "stream",
     "text": [
      "Epoch 147/400 | Train Loss: 0.920702 | Val Loss: 0.866669\n"
     ]
    },
    {
     "name": "stderr",
     "output_type": "stream",
     "text": [
      "Epoch 148/400 [Train]: 100%|██████████████████████| 31/31 [00:00<00:00, 139.09it/s, loss=1.04]\n"
     ]
    },
    {
     "name": "stdout",
     "output_type": "stream",
     "text": [
      "Epoch 148/400 | Train Loss: 0.919257 | Val Loss: 0.866499\n"
     ]
    },
    {
     "name": "stderr",
     "output_type": "stream",
     "text": [
      "Epoch 149/400 [Train]: 100%|███████████████████████| 31/31 [00:00<00:00, 90.95it/s, loss=0.99]\n"
     ]
    },
    {
     "name": "stdout",
     "output_type": "stream",
     "text": [
      "Epoch 149/400 | Train Loss: 0.929102 | Val Loss: 0.865853\n"
     ]
    },
    {
     "name": "stderr",
     "output_type": "stream",
     "text": [
      "Epoch 150/400 [Train]: 100%|█████████████████████| 31/31 [00:00<00:00, 141.94it/s, loss=0.983]\n"
     ]
    },
    {
     "name": "stdout",
     "output_type": "stream",
     "text": [
      "Epoch 150/400 | Train Loss: 0.920944 | Val Loss: 0.863604\n"
     ]
    },
    {
     "name": "stderr",
     "output_type": "stream",
     "text": [
      "Epoch 151/400 [Train]: 100%|█████████████████████| 31/31 [00:00<00:00, 141.40it/s, loss=0.921]\n"
     ]
    },
    {
     "name": "stdout",
     "output_type": "stream",
     "text": [
      "Epoch 151/400 | Train Loss: 0.923561 | Val Loss: 0.864955\n"
     ]
    },
    {
     "name": "stderr",
     "output_type": "stream",
     "text": [
      "Epoch 152/400 [Train]: 100%|█████████████████████| 31/31 [00:00<00:00, 136.30it/s, loss=0.906]\n"
     ]
    },
    {
     "name": "stdout",
     "output_type": "stream",
     "text": [
      "Epoch 152/400 | Train Loss: 0.923198 | Val Loss: 0.866185\n"
     ]
    },
    {
     "name": "stderr",
     "output_type": "stream",
     "text": [
      "Epoch 153/400 [Train]: 100%|█████████████████████| 31/31 [00:00<00:00, 135.35it/s, loss=0.923]\n"
     ]
    },
    {
     "name": "stdout",
     "output_type": "stream",
     "text": [
      "Epoch 153/400 | Train Loss: 0.928165 | Val Loss: 0.867278\n"
     ]
    },
    {
     "name": "stderr",
     "output_type": "stream",
     "text": [
      "Epoch 154/400 [Train]: 100%|█████████████████████| 31/31 [00:00<00:00, 137.87it/s, loss=0.939]\n"
     ]
    },
    {
     "name": "stdout",
     "output_type": "stream",
     "text": [
      "Epoch 154/400 | Train Loss: 0.925185 | Val Loss: 0.864818\n"
     ]
    },
    {
     "name": "stderr",
     "output_type": "stream",
     "text": [
      "Epoch 155/400 [Train]: 100%|█████████████████████| 31/31 [00:00<00:00, 138.37it/s, loss=0.996]\n"
     ]
    },
    {
     "name": "stdout",
     "output_type": "stream",
     "text": [
      "Epoch 155/400 | Train Loss: 0.924821 | Val Loss: 0.868348\n"
     ]
    },
    {
     "name": "stderr",
     "output_type": "stream",
     "text": [
      "Epoch 156/400 [Train]: 100%|█████████████████████| 31/31 [00:00<00:00, 139.65it/s, loss=0.902]\n"
     ]
    },
    {
     "name": "stdout",
     "output_type": "stream",
     "text": [
      "Epoch 156/400 | Train Loss: 0.920543 | Val Loss: 0.866929\n"
     ]
    },
    {
     "name": "stderr",
     "output_type": "stream",
     "text": [
      "Epoch 157/400 [Train]: 100%|██████████████████████| 31/31 [00:00<00:00, 140.53it/s, loss=1.03]\n"
     ]
    },
    {
     "name": "stdout",
     "output_type": "stream",
     "text": [
      "Epoch 157/400 | Train Loss: 0.931377 | Val Loss: 0.866223\n"
     ]
    },
    {
     "name": "stderr",
     "output_type": "stream",
     "text": [
      "Epoch 158/400 [Train]: 100%|█████████████████████| 31/31 [00:00<00:00, 138.66it/s, loss=0.891]\n"
     ]
    },
    {
     "name": "stdout",
     "output_type": "stream",
     "text": [
      "Epoch 158/400 | Train Loss: 0.924233 | Val Loss: 0.871059\n"
     ]
    },
    {
     "name": "stderr",
     "output_type": "stream",
     "text": [
      "Epoch 159/400 [Train]: 100%|█████████████████████| 31/31 [00:00<00:00, 135.84it/s, loss=0.881]\n"
     ]
    },
    {
     "name": "stdout",
     "output_type": "stream",
     "text": [
      "Epoch 159/400 | Train Loss: 0.937766 | Val Loss: 0.870150\n"
     ]
    },
    {
     "name": "stderr",
     "output_type": "stream",
     "text": [
      "Epoch 160/400 [Train]: 100%|█████████████████████| 31/31 [00:00<00:00, 136.28it/s, loss=0.827]\n"
     ]
    },
    {
     "name": "stdout",
     "output_type": "stream",
     "text": [
      "Epoch 160/400 | Train Loss: 0.920687 | Val Loss: 0.866645\n",
      "Saved snapshot at epoch 160\n"
     ]
    },
    {
     "name": "stderr",
     "output_type": "stream",
     "text": [
      "Epoch 161/400 [Train]: 100%|█████████████████████| 31/31 [00:00<00:00, 140.73it/s, loss=0.924]\n"
     ]
    },
    {
     "name": "stdout",
     "output_type": "stream",
     "text": [
      "Epoch 161/400 | Train Loss: 0.917408 | Val Loss: 0.866746\n"
     ]
    },
    {
     "name": "stderr",
     "output_type": "stream",
     "text": [
      "Epoch 162/400 [Train]: 100%|█████████████████████| 31/31 [00:00<00:00, 141.33it/s, loss=0.896]\n"
     ]
    },
    {
     "name": "stdout",
     "output_type": "stream",
     "text": [
      "Epoch 162/400 | Train Loss: 0.925205 | Val Loss: 0.866081\n"
     ]
    },
    {
     "name": "stderr",
     "output_type": "stream",
     "text": [
      "Epoch 163/400 [Train]: 100%|█████████████████████| 31/31 [00:00<00:00, 135.26it/s, loss=0.847]\n"
     ]
    },
    {
     "name": "stdout",
     "output_type": "stream",
     "text": [
      "Epoch 163/400 | Train Loss: 0.928989 | Val Loss: 0.867754\n"
     ]
    },
    {
     "name": "stderr",
     "output_type": "stream",
     "text": [
      "Epoch 164/400 [Train]: 100%|█████████████████████| 31/31 [00:00<00:00, 137.30it/s, loss=0.889]\n"
     ]
    },
    {
     "name": "stdout",
     "output_type": "stream",
     "text": [
      "Epoch 164/400 | Train Loss: 0.920224 | Val Loss: 0.868362\n"
     ]
    },
    {
     "name": "stderr",
     "output_type": "stream",
     "text": [
      "Epoch 165/400 [Train]: 100%|█████████████████████| 31/31 [00:00<00:00, 142.94it/s, loss=0.911]\n"
     ]
    },
    {
     "name": "stdout",
     "output_type": "stream",
     "text": [
      "Epoch 165/400 | Train Loss: 0.908809 | Val Loss: 0.868873\n"
     ]
    },
    {
     "name": "stderr",
     "output_type": "stream",
     "text": [
      "Epoch 166/400 [Train]: 100%|██████████████████████| 31/31 [00:00<00:00, 138.81it/s, loss=0.96]\n"
     ]
    },
    {
     "name": "stdout",
     "output_type": "stream",
     "text": [
      "Epoch 166/400 | Train Loss: 0.930997 | Val Loss: 0.864350\n"
     ]
    },
    {
     "name": "stderr",
     "output_type": "stream",
     "text": [
      "Epoch 167/400 [Train]: 100%|█████████████████████| 31/31 [00:00<00:00, 143.87it/s, loss=0.861]\n"
     ]
    },
    {
     "name": "stdout",
     "output_type": "stream",
     "text": [
      "Epoch 167/400 | Train Loss: 0.921514 | Val Loss: 0.870441\n"
     ]
    },
    {
     "name": "stderr",
     "output_type": "stream",
     "text": [
      "Epoch 168/400 [Train]: 100%|█████████████████████| 31/31 [00:00<00:00, 144.58it/s, loss=0.988]\n"
     ]
    },
    {
     "name": "stdout",
     "output_type": "stream",
     "text": [
      "Epoch 168/400 | Train Loss: 0.929792 | Val Loss: 0.866540\n"
     ]
    },
    {
     "name": "stderr",
     "output_type": "stream",
     "text": [
      "Epoch 169/400 [Train]: 100%|█████████████████████| 31/31 [00:00<00:00, 143.02it/s, loss=0.945]\n"
     ]
    },
    {
     "name": "stdout",
     "output_type": "stream",
     "text": [
      "Epoch 169/400 | Train Loss: 0.928521 | Val Loss: 0.864810\n"
     ]
    },
    {
     "name": "stderr",
     "output_type": "stream",
     "text": [
      "Epoch 170/400 [Train]: 100%|█████████████████████| 31/31 [00:00<00:00, 142.38it/s, loss=0.888]\n"
     ]
    },
    {
     "name": "stdout",
     "output_type": "stream",
     "text": [
      "Epoch 170/400 | Train Loss: 0.919211 | Val Loss: 0.866575\n"
     ]
    },
    {
     "name": "stderr",
     "output_type": "stream",
     "text": [
      "Epoch 171/400 [Train]: 100%|█████████████████████| 31/31 [00:00<00:00, 146.08it/s, loss=0.995]\n"
     ]
    },
    {
     "name": "stdout",
     "output_type": "stream",
     "text": [
      "Epoch 171/400 | Train Loss: 0.931776 | Val Loss: 0.868968\n"
     ]
    },
    {
     "name": "stderr",
     "output_type": "stream",
     "text": [
      "Epoch 172/400 [Train]: 100%|██████████████████████| 31/31 [00:00<00:00, 137.47it/s, loss=1.03]\n"
     ]
    },
    {
     "name": "stdout",
     "output_type": "stream",
     "text": [
      "Epoch 172/400 | Train Loss: 0.927200 | Val Loss: 0.864950\n"
     ]
    },
    {
     "name": "stderr",
     "output_type": "stream",
     "text": [
      "Epoch 173/400 [Train]: 100%|█████████████████████| 31/31 [00:00<00:00, 140.40it/s, loss=0.949]\n"
     ]
    },
    {
     "name": "stdout",
     "output_type": "stream",
     "text": [
      "Epoch 173/400 | Train Loss: 0.929063 | Val Loss: 0.865956\n"
     ]
    },
    {
     "name": "stderr",
     "output_type": "stream",
     "text": [
      "Epoch 174/400 [Train]: 100%|█████████████████████| 31/31 [00:00<00:00, 133.27it/s, loss=0.952]\n"
     ]
    },
    {
     "name": "stdout",
     "output_type": "stream",
     "text": [
      "Epoch 174/400 | Train Loss: 0.926598 | Val Loss: 0.867639\n"
     ]
    },
    {
     "name": "stderr",
     "output_type": "stream",
     "text": [
      "Epoch 175/400 [Train]: 100%|██████████████████████| 31/31 [00:00<00:00, 136.64it/s, loss=1.01]\n"
     ]
    },
    {
     "name": "stdout",
     "output_type": "stream",
     "text": [
      "Epoch 175/400 | Train Loss: 0.928091 | Val Loss: 0.868958\n"
     ]
    },
    {
     "name": "stderr",
     "output_type": "stream",
     "text": [
      "Epoch 176/400 [Train]: 100%|█████████████████████| 31/31 [00:00<00:00, 139.22it/s, loss=0.949]\n"
     ]
    },
    {
     "name": "stdout",
     "output_type": "stream",
     "text": [
      "Epoch 176/400 | Train Loss: 0.932009 | Val Loss: 0.869670\n"
     ]
    },
    {
     "name": "stderr",
     "output_type": "stream",
     "text": [
      "Epoch 177/400 [Train]: 100%|█████████████████████| 31/31 [00:00<00:00, 137.28it/s, loss=0.922]\n"
     ]
    },
    {
     "name": "stdout",
     "output_type": "stream",
     "text": [
      "Epoch 177/400 | Train Loss: 0.925188 | Val Loss: 0.866133\n"
     ]
    },
    {
     "name": "stderr",
     "output_type": "stream",
     "text": [
      "Epoch 178/400 [Train]: 100%|█████████████████████| 31/31 [00:00<00:00, 133.91it/s, loss=0.927]\n"
     ]
    },
    {
     "name": "stdout",
     "output_type": "stream",
     "text": [
      "Epoch 178/400 | Train Loss: 0.922945 | Val Loss: 0.867805\n"
     ]
    },
    {
     "name": "stderr",
     "output_type": "stream",
     "text": [
      "Epoch 179/400 [Train]: 100%|█████████████████████| 31/31 [00:00<00:00, 132.90it/s, loss=0.885]\n"
     ]
    },
    {
     "name": "stdout",
     "output_type": "stream",
     "text": [
      "Epoch 179/400 | Train Loss: 0.923891 | Val Loss: 0.867658\n"
     ]
    },
    {
     "name": "stderr",
     "output_type": "stream",
     "text": [
      "Epoch 180/400 [Train]: 100%|█████████████████████| 31/31 [00:00<00:00, 136.00it/s, loss=0.866]\n"
     ]
    },
    {
     "name": "stdout",
     "output_type": "stream",
     "text": [
      "Epoch 180/400 | Train Loss: 0.917125 | Val Loss: 0.867294\n"
     ]
    },
    {
     "name": "stderr",
     "output_type": "stream",
     "text": [
      "Epoch 181/400 [Train]: 100%|█████████████████████| 31/31 [00:00<00:00, 137.28it/s, loss=0.896]\n"
     ]
    },
    {
     "name": "stdout",
     "output_type": "stream",
     "text": [
      "Epoch 181/400 | Train Loss: 0.917998 | Val Loss: 0.865515\n"
     ]
    },
    {
     "name": "stderr",
     "output_type": "stream",
     "text": [
      "Epoch 182/400 [Train]: 100%|██████████████████████| 31/31 [00:00<00:00, 91.35it/s, loss=0.981]\n"
     ]
    },
    {
     "name": "stdout",
     "output_type": "stream",
     "text": [
      "Epoch 182/400 | Train Loss: 0.928236 | Val Loss: 0.869591\n"
     ]
    },
    {
     "name": "stderr",
     "output_type": "stream",
     "text": [
      "Epoch 183/400 [Train]: 100%|█████████████████████| 31/31 [00:00<00:00, 140.94it/s, loss=0.827]\n"
     ]
    },
    {
     "name": "stdout",
     "output_type": "stream",
     "text": [
      "Epoch 183/400 | Train Loss: 0.927960 | Val Loss: 0.870909\n"
     ]
    },
    {
     "name": "stderr",
     "output_type": "stream",
     "text": [
      "Epoch 184/400 [Train]: 100%|█████████████████████| 31/31 [00:00<00:00, 145.20it/s, loss=0.888]\n"
     ]
    },
    {
     "name": "stdout",
     "output_type": "stream",
     "text": [
      "Epoch 184/400 | Train Loss: 0.927306 | Val Loss: 0.867022\n"
     ]
    },
    {
     "name": "stderr",
     "output_type": "stream",
     "text": [
      "Epoch 185/400 [Train]: 100%|█████████████████████| 31/31 [00:00<00:00, 138.46it/s, loss=0.899]\n"
     ]
    },
    {
     "name": "stdout",
     "output_type": "stream",
     "text": [
      "Epoch 185/400 | Train Loss: 0.911304 | Val Loss: 0.870127\n"
     ]
    },
    {
     "name": "stderr",
     "output_type": "stream",
     "text": [
      "Epoch 186/400 [Train]: 100%|█████████████████████| 31/31 [00:00<00:00, 138.79it/s, loss=0.869]\n"
     ]
    },
    {
     "name": "stdout",
     "output_type": "stream",
     "text": [
      "Epoch 186/400 | Train Loss: 0.921083 | Val Loss: 0.870183\n"
     ]
    },
    {
     "name": "stderr",
     "output_type": "stream",
     "text": [
      "Epoch 187/400 [Train]: 100%|█████████████████████| 31/31 [00:00<00:00, 137.90it/s, loss=0.873]\n"
     ]
    },
    {
     "name": "stdout",
     "output_type": "stream",
     "text": [
      "Epoch 187/400 | Train Loss: 0.928075 | Val Loss: 0.870968\n"
     ]
    },
    {
     "name": "stderr",
     "output_type": "stream",
     "text": [
      "Epoch 188/400 [Train]: 100%|█████████████████████| 31/31 [00:00<00:00, 129.81it/s, loss=0.912]\n"
     ]
    },
    {
     "name": "stdout",
     "output_type": "stream",
     "text": [
      "Epoch 188/400 | Train Loss: 0.928760 | Val Loss: 0.873355\n"
     ]
    },
    {
     "name": "stderr",
     "output_type": "stream",
     "text": [
      "Epoch 189/400 [Train]: 100%|█████████████████████| 31/31 [00:00<00:00, 135.77it/s, loss=0.943]\n"
     ]
    },
    {
     "name": "stdout",
     "output_type": "stream",
     "text": [
      "Epoch 189/400 | Train Loss: 0.928893 | Val Loss: 0.868144\n"
     ]
    },
    {
     "name": "stderr",
     "output_type": "stream",
     "text": [
      "Epoch 190/400 [Train]: 100%|██████████████████████| 31/31 [00:00<00:00, 138.15it/s, loss=1.03]\n"
     ]
    },
    {
     "name": "stdout",
     "output_type": "stream",
     "text": [
      "Epoch 190/400 | Train Loss: 0.923754 | Val Loss: 0.868801\n"
     ]
    },
    {
     "name": "stderr",
     "output_type": "stream",
     "text": [
      "Epoch 191/400 [Train]: 100%|█████████████████████| 31/31 [00:00<00:00, 140.30it/s, loss=0.937]\n"
     ]
    },
    {
     "name": "stdout",
     "output_type": "stream",
     "text": [
      "Epoch 191/400 | Train Loss: 0.929374 | Val Loss: 0.865339\n"
     ]
    },
    {
     "name": "stderr",
     "output_type": "stream",
     "text": [
      "Epoch 192/400 [Train]: 100%|█████████████████████| 31/31 [00:00<00:00, 139.93it/s, loss=0.955]\n"
     ]
    },
    {
     "name": "stdout",
     "output_type": "stream",
     "text": [
      "Epoch 192/400 | Train Loss: 0.923621 | Val Loss: 0.873394\n"
     ]
    },
    {
     "name": "stderr",
     "output_type": "stream",
     "text": [
      "Epoch 193/400 [Train]: 100%|█████████████████████| 31/31 [00:00<00:00, 130.98it/s, loss=0.912]\n"
     ]
    },
    {
     "name": "stdout",
     "output_type": "stream",
     "text": [
      "Epoch 193/400 | Train Loss: 0.926136 | Val Loss: 0.867857\n"
     ]
    },
    {
     "name": "stderr",
     "output_type": "stream",
     "text": [
      "Epoch 194/400 [Train]: 100%|█████████████████████| 31/31 [00:00<00:00, 139.87it/s, loss=0.923]\n"
     ]
    },
    {
     "name": "stdout",
     "output_type": "stream",
     "text": [
      "Epoch 194/400 | Train Loss: 0.923002 | Val Loss: 0.866521\n"
     ]
    },
    {
     "name": "stderr",
     "output_type": "stream",
     "text": [
      "Epoch 195/400 [Train]: 100%|█████████████████████| 31/31 [00:00<00:00, 134.77it/s, loss=0.977]\n"
     ]
    },
    {
     "name": "stdout",
     "output_type": "stream",
     "text": [
      "Epoch 195/400 | Train Loss: 0.925805 | Val Loss: 0.871138\n"
     ]
    },
    {
     "name": "stderr",
     "output_type": "stream",
     "text": [
      "Epoch 196/400 [Train]: 100%|█████████████████████| 31/31 [00:00<00:00, 138.93it/s, loss=0.925]\n"
     ]
    },
    {
     "name": "stdout",
     "output_type": "stream",
     "text": [
      "Epoch 196/400 | Train Loss: 0.923762 | Val Loss: 0.866158\n"
     ]
    },
    {
     "name": "stderr",
     "output_type": "stream",
     "text": [
      "Epoch 197/400 [Train]: 100%|█████████████████████| 31/31 [00:00<00:00, 133.34it/s, loss=0.907]\n"
     ]
    },
    {
     "name": "stdout",
     "output_type": "stream",
     "text": [
      "Epoch 197/400 | Train Loss: 0.915764 | Val Loss: 0.866937\n"
     ]
    },
    {
     "name": "stderr",
     "output_type": "stream",
     "text": [
      "Epoch 198/400 [Train]: 100%|██████████████████████| 31/31 [00:00<00:00, 89.47it/s, loss=0.921]\n"
     ]
    },
    {
     "name": "stdout",
     "output_type": "stream",
     "text": [
      "Epoch 198/400 | Train Loss: 0.922193 | Val Loss: 0.870186\n"
     ]
    },
    {
     "name": "stderr",
     "output_type": "stream",
     "text": [
      "Epoch 199/400 [Train]: 100%|█████████████████████| 31/31 [00:00<00:00, 134.80it/s, loss=0.894]\n"
     ]
    },
    {
     "name": "stdout",
     "output_type": "stream",
     "text": [
      "Epoch 199/400 | Train Loss: 0.922103 | Val Loss: 0.873567\n"
     ]
    },
    {
     "name": "stderr",
     "output_type": "stream",
     "text": [
      "Epoch 200/400 [Train]: 100%|█████████████████████| 31/31 [00:00<00:00, 127.91it/s, loss=0.892]\n"
     ]
    },
    {
     "name": "stdout",
     "output_type": "stream",
     "text": [
      "Epoch 200/400 | Train Loss: 0.923211 | Val Loss: 0.865289\n"
     ]
    },
    {
     "name": "stderr",
     "output_type": "stream",
     "text": [
      "Epoch 201/400 [Train]: 100%|█████████████████████| 31/31 [00:00<00:00, 128.22it/s, loss=0.841]\n"
     ]
    },
    {
     "name": "stdout",
     "output_type": "stream",
     "text": [
      "Epoch 201/400 | Train Loss: 0.922798 | Val Loss: 0.866151\n"
     ]
    },
    {
     "name": "stderr",
     "output_type": "stream",
     "text": [
      "Epoch 202/400 [Train]: 100%|█████████████████████| 31/31 [00:00<00:00, 122.32it/s, loss=0.891]\n"
     ]
    },
    {
     "name": "stdout",
     "output_type": "stream",
     "text": [
      "Epoch 202/400 | Train Loss: 0.928018 | Val Loss: 0.865828\n"
     ]
    },
    {
     "name": "stderr",
     "output_type": "stream",
     "text": [
      "Epoch 203/400 [Train]: 100%|█████████████████████| 31/31 [00:00<00:00, 140.28it/s, loss=0.928]\n"
     ]
    },
    {
     "name": "stdout",
     "output_type": "stream",
     "text": [
      "Epoch 203/400 | Train Loss: 0.913056 | Val Loss: 0.866329\n"
     ]
    },
    {
     "name": "stderr",
     "output_type": "stream",
     "text": [
      "Epoch 204/400 [Train]: 100%|█████████████████████| 31/31 [00:00<00:00, 139.90it/s, loss=0.835]\n"
     ]
    },
    {
     "name": "stdout",
     "output_type": "stream",
     "text": [
      "Epoch 204/400 | Train Loss: 0.916938 | Val Loss: 0.864747\n"
     ]
    },
    {
     "name": "stderr",
     "output_type": "stream",
     "text": [
      "Epoch 205/400 [Train]: 100%|██████████████████████| 31/31 [00:00<00:00, 140.52it/s, loss=0.96]\n"
     ]
    },
    {
     "name": "stdout",
     "output_type": "stream",
     "text": [
      "Epoch 205/400 | Train Loss: 0.921517 | Val Loss: 0.870759\n"
     ]
    },
    {
     "name": "stderr",
     "output_type": "stream",
     "text": [
      "Epoch 206/400 [Train]: 100%|█████████████████████| 31/31 [00:00<00:00, 138.65it/s, loss=0.916]\n"
     ]
    },
    {
     "name": "stdout",
     "output_type": "stream",
     "text": [
      "Epoch 206/400 | Train Loss: 0.922490 | Val Loss: 0.864892\n"
     ]
    },
    {
     "name": "stderr",
     "output_type": "stream",
     "text": [
      "Epoch 207/400 [Train]: 100%|█████████████████████| 31/31 [00:00<00:00, 140.88it/s, loss=0.912]\n"
     ]
    },
    {
     "name": "stdout",
     "output_type": "stream",
     "text": [
      "Epoch 207/400 | Train Loss: 0.920879 | Val Loss: 0.869422\n"
     ]
    },
    {
     "name": "stderr",
     "output_type": "stream",
     "text": [
      "Epoch 208/400 [Train]: 100%|█████████████████████| 31/31 [00:00<00:00, 137.71it/s, loss=0.954]\n"
     ]
    },
    {
     "name": "stdout",
     "output_type": "stream",
     "text": [
      "Epoch 208/400 | Train Loss: 0.930889 | Val Loss: 0.866300\n"
     ]
    },
    {
     "name": "stderr",
     "output_type": "stream",
     "text": [
      "Epoch 209/400 [Train]: 100%|█████████████████████| 31/31 [00:00<00:00, 140.47it/s, loss=0.819]\n"
     ]
    },
    {
     "name": "stdout",
     "output_type": "stream",
     "text": [
      "Epoch 209/400 | Train Loss: 0.918552 | Val Loss: 0.865536\n"
     ]
    },
    {
     "name": "stderr",
     "output_type": "stream",
     "text": [
      "Epoch 210/400 [Train]: 100%|█████████████████████| 31/31 [00:00<00:00, 135.85it/s, loss=0.968]\n"
     ]
    },
    {
     "name": "stdout",
     "output_type": "stream",
     "text": [
      "Epoch 210/400 | Train Loss: 0.926986 | Val Loss: 0.865308\n"
     ]
    },
    {
     "name": "stderr",
     "output_type": "stream",
     "text": [
      "Epoch 211/400 [Train]: 100%|█████████████████████| 31/31 [00:00<00:00, 135.55it/s, loss=0.923]\n"
     ]
    },
    {
     "name": "stdout",
     "output_type": "stream",
     "text": [
      "Epoch 211/400 | Train Loss: 0.926073 | Val Loss: 0.866372\n"
     ]
    },
    {
     "name": "stderr",
     "output_type": "stream",
     "text": [
      "Epoch 212/400 [Train]: 100%|█████████████████████| 31/31 [00:00<00:00, 138.11it/s, loss=0.909]\n"
     ]
    },
    {
     "name": "stdout",
     "output_type": "stream",
     "text": [
      "Epoch 212/400 | Train Loss: 0.929397 | Val Loss: 0.866785\n"
     ]
    },
    {
     "name": "stderr",
     "output_type": "stream",
     "text": [
      "Epoch 213/400 [Train]: 100%|██████████████████████| 31/31 [00:00<00:00, 134.65it/s, loss=0.92]\n"
     ]
    },
    {
     "name": "stdout",
     "output_type": "stream",
     "text": [
      "Epoch 213/400 | Train Loss: 0.926343 | Val Loss: 0.867122\n"
     ]
    },
    {
     "name": "stderr",
     "output_type": "stream",
     "text": [
      "Epoch 214/400 [Train]: 100%|█████████████████████| 31/31 [00:00<00:00, 137.33it/s, loss=0.975]\n"
     ]
    },
    {
     "name": "stdout",
     "output_type": "stream",
     "text": [
      "Epoch 214/400 | Train Loss: 0.927603 | Val Loss: 0.870281\n"
     ]
    },
    {
     "name": "stderr",
     "output_type": "stream",
     "text": [
      "Epoch 215/400 [Train]: 100%|███████████████████████| 31/31 [00:00<00:00, 92.78it/s, loss=1.03]\n"
     ]
    },
    {
     "name": "stdout",
     "output_type": "stream",
     "text": [
      "Epoch 215/400 | Train Loss: 0.927976 | Val Loss: 0.865058\n"
     ]
    },
    {
     "name": "stderr",
     "output_type": "stream",
     "text": [
      "Epoch 216/400 [Train]: 100%|█████████████████████| 31/31 [00:00<00:00, 139.99it/s, loss=0.903]\n"
     ]
    },
    {
     "name": "stdout",
     "output_type": "stream",
     "text": [
      "Epoch 216/400 | Train Loss: 0.919252 | Val Loss: 0.867099\n"
     ]
    },
    {
     "name": "stderr",
     "output_type": "stream",
     "text": [
      "Epoch 217/400 [Train]: 100%|█████████████████████| 31/31 [00:00<00:00, 142.31it/s, loss=0.885]\n"
     ]
    },
    {
     "name": "stdout",
     "output_type": "stream",
     "text": [
      "Epoch 217/400 | Train Loss: 0.922695 | Val Loss: 0.864395\n"
     ]
    },
    {
     "name": "stderr",
     "output_type": "stream",
     "text": [
      "Epoch 218/400 [Train]: 100%|█████████████████████| 31/31 [00:00<00:00, 142.30it/s, loss=0.903]\n"
     ]
    },
    {
     "name": "stdout",
     "output_type": "stream",
     "text": [
      "Epoch 218/400 | Train Loss: 0.925495 | Val Loss: 0.864990\n"
     ]
    },
    {
     "name": "stderr",
     "output_type": "stream",
     "text": [
      "Epoch 219/400 [Train]: 100%|█████████████████████| 31/31 [00:00<00:00, 141.30it/s, loss=0.993]\n"
     ]
    },
    {
     "name": "stdout",
     "output_type": "stream",
     "text": [
      "Epoch 219/400 | Train Loss: 0.927341 | Val Loss: 0.870142\n"
     ]
    },
    {
     "name": "stderr",
     "output_type": "stream",
     "text": [
      "Epoch 220/400 [Train]: 100%|█████████████████████| 31/31 [00:00<00:00, 142.95it/s, loss=0.888]\n"
     ]
    },
    {
     "name": "stdout",
     "output_type": "stream",
     "text": [
      "Epoch 220/400 | Train Loss: 0.924570 | Val Loss: 0.868684\n"
     ]
    },
    {
     "name": "stderr",
     "output_type": "stream",
     "text": [
      "Epoch 221/400 [Train]: 100%|██████████████████████| 31/31 [00:00<00:00, 142.93it/s, loss=1.01]\n"
     ]
    },
    {
     "name": "stdout",
     "output_type": "stream",
     "text": [
      "Epoch 221/400 | Train Loss: 0.917019 | Val Loss: 0.866324\n"
     ]
    },
    {
     "name": "stderr",
     "output_type": "stream",
     "text": [
      "Epoch 222/400 [Train]: 100%|█████████████████████| 31/31 [00:00<00:00, 138.77it/s, loss=0.883]\n"
     ]
    },
    {
     "name": "stdout",
     "output_type": "stream",
     "text": [
      "Epoch 222/400 | Train Loss: 0.924106 | Val Loss: 0.869850\n"
     ]
    },
    {
     "name": "stderr",
     "output_type": "stream",
     "text": [
      "Epoch 223/400 [Train]: 100%|█████████████████████| 31/31 [00:00<00:00, 140.52it/s, loss=0.849]\n"
     ]
    },
    {
     "name": "stdout",
     "output_type": "stream",
     "text": [
      "Epoch 223/400 | Train Loss: 0.918103 | Val Loss: 0.866415\n"
     ]
    },
    {
     "name": "stderr",
     "output_type": "stream",
     "text": [
      "Epoch 224/400 [Train]: 100%|█████████████████████| 31/31 [00:00<00:00, 140.86it/s, loss=0.865]\n"
     ]
    },
    {
     "name": "stdout",
     "output_type": "stream",
     "text": [
      "Epoch 224/400 | Train Loss: 0.919146 | Val Loss: 0.863972\n"
     ]
    },
    {
     "name": "stderr",
     "output_type": "stream",
     "text": [
      "Epoch 225/400 [Train]: 100%|█████████████████████| 31/31 [00:00<00:00, 138.74it/s, loss=0.965]\n"
     ]
    },
    {
     "name": "stdout",
     "output_type": "stream",
     "text": [
      "Epoch 225/400 | Train Loss: 0.920549 | Val Loss: 0.867413\n"
     ]
    },
    {
     "name": "stderr",
     "output_type": "stream",
     "text": [
      "Epoch 226/400 [Train]: 100%|█████████████████████| 31/31 [00:00<00:00, 140.36it/s, loss=0.936]\n"
     ]
    },
    {
     "name": "stdout",
     "output_type": "stream",
     "text": [
      "Epoch 226/400 | Train Loss: 0.927113 | Val Loss: 0.864357\n"
     ]
    },
    {
     "name": "stderr",
     "output_type": "stream",
     "text": [
      "Epoch 227/400 [Train]: 100%|█████████████████████| 31/31 [00:00<00:00, 138.37it/s, loss=0.943]\n"
     ]
    },
    {
     "name": "stdout",
     "output_type": "stream",
     "text": [
      "Epoch 227/400 | Train Loss: 0.916864 | Val Loss: 0.868848\n"
     ]
    },
    {
     "name": "stderr",
     "output_type": "stream",
     "text": [
      "Epoch 228/400 [Train]: 100%|█████████████████████| 31/31 [00:00<00:00, 137.68it/s, loss=0.881]\n"
     ]
    },
    {
     "name": "stdout",
     "output_type": "stream",
     "text": [
      "Epoch 228/400 | Train Loss: 0.926372 | Val Loss: 0.866700\n"
     ]
    },
    {
     "name": "stderr",
     "output_type": "stream",
     "text": [
      "Epoch 229/400 [Train]: 100%|█████████████████████| 31/31 [00:00<00:00, 132.56it/s, loss=0.883]\n"
     ]
    },
    {
     "name": "stdout",
     "output_type": "stream",
     "text": [
      "Epoch 229/400 | Train Loss: 0.921351 | Val Loss: 0.866764\n"
     ]
    },
    {
     "name": "stderr",
     "output_type": "stream",
     "text": [
      "Epoch 230/400 [Train]: 100%|█████████████████████| 31/31 [00:00<00:00, 134.86it/s, loss=0.912]\n"
     ]
    },
    {
     "name": "stdout",
     "output_type": "stream",
     "text": [
      "Epoch 230/400 | Train Loss: 0.927388 | Val Loss: 0.866031\n"
     ]
    },
    {
     "name": "stderr",
     "output_type": "stream",
     "text": [
      "Epoch 231/400 [Train]: 100%|██████████████████████| 31/31 [00:00<00:00, 90.89it/s, loss=0.899]\n"
     ]
    },
    {
     "name": "stdout",
     "output_type": "stream",
     "text": [
      "Epoch 231/400 | Train Loss: 0.928634 | Val Loss: 0.866741\n"
     ]
    },
    {
     "name": "stderr",
     "output_type": "stream",
     "text": [
      "Epoch 232/400 [Train]: 100%|█████████████████████| 31/31 [00:00<00:00, 134.64it/s, loss=0.998]\n"
     ]
    },
    {
     "name": "stdout",
     "output_type": "stream",
     "text": [
      "Epoch 232/400 | Train Loss: 0.921755 | Val Loss: 0.866480\n"
     ]
    },
    {
     "name": "stderr",
     "output_type": "stream",
     "text": [
      "Epoch 233/400 [Train]: 100%|█████████████████████| 31/31 [00:00<00:00, 135.96it/s, loss=0.873]\n"
     ]
    },
    {
     "name": "stdout",
     "output_type": "stream",
     "text": [
      "Epoch 233/400 | Train Loss: 0.926012 | Val Loss: 0.865919\n"
     ]
    },
    {
     "name": "stderr",
     "output_type": "stream",
     "text": [
      "Epoch 234/400 [Train]: 100%|██████████████████████| 31/31 [00:00<00:00, 135.06it/s, loss=0.95]\n"
     ]
    },
    {
     "name": "stdout",
     "output_type": "stream",
     "text": [
      "Epoch 234/400 | Train Loss: 0.928998 | Val Loss: 0.869415\n"
     ]
    },
    {
     "name": "stderr",
     "output_type": "stream",
     "text": [
      "Epoch 235/400 [Train]: 100%|█████████████████████| 31/31 [00:00<00:00, 133.81it/s, loss=0.931]\n"
     ]
    },
    {
     "name": "stdout",
     "output_type": "stream",
     "text": [
      "Epoch 235/400 | Train Loss: 0.917710 | Val Loss: 0.871173\n"
     ]
    },
    {
     "name": "stderr",
     "output_type": "stream",
     "text": [
      "Epoch 236/400 [Train]: 100%|█████████████████████| 31/31 [00:00<00:00, 128.43it/s, loss=0.857]\n"
     ]
    },
    {
     "name": "stdout",
     "output_type": "stream",
     "text": [
      "Epoch 236/400 | Train Loss: 0.925178 | Val Loss: 0.864955\n"
     ]
    },
    {
     "name": "stderr",
     "output_type": "stream",
     "text": [
      "Epoch 237/400 [Train]: 100%|█████████████████████| 31/31 [00:00<00:00, 136.54it/s, loss=0.835]\n"
     ]
    },
    {
     "name": "stdout",
     "output_type": "stream",
     "text": [
      "Epoch 237/400 | Train Loss: 0.923481 | Val Loss: 0.866910\n"
     ]
    },
    {
     "name": "stderr",
     "output_type": "stream",
     "text": [
      "Epoch 238/400 [Train]: 100%|█████████████████████| 31/31 [00:00<00:00, 126.63it/s, loss=0.931]\n"
     ]
    },
    {
     "name": "stdout",
     "output_type": "stream",
     "text": [
      "Epoch 238/400 | Train Loss: 0.926264 | Val Loss: 0.865619\n"
     ]
    },
    {
     "name": "stderr",
     "output_type": "stream",
     "text": [
      "Epoch 239/400 [Train]: 100%|██████████████████████| 31/31 [00:00<00:00, 129.53it/s, loss=0.84]\n"
     ]
    },
    {
     "name": "stdout",
     "output_type": "stream",
     "text": [
      "Epoch 239/400 | Train Loss: 0.927072 | Val Loss: 0.870096\n"
     ]
    },
    {
     "name": "stderr",
     "output_type": "stream",
     "text": [
      "Epoch 240/400 [Train]: 100%|█████████████████████| 31/31 [00:00<00:00, 134.98it/s, loss=0.887]\n"
     ]
    },
    {
     "name": "stdout",
     "output_type": "stream",
     "text": [
      "Epoch 240/400 | Train Loss: 0.913166 | Val Loss: 0.870448\n",
      "Saved snapshot at epoch 240\n"
     ]
    },
    {
     "name": "stderr",
     "output_type": "stream",
     "text": [
      "Epoch 241/400 [Train]: 100%|█████████████████████| 31/31 [00:00<00:00, 134.17it/s, loss=0.869]\n"
     ]
    },
    {
     "name": "stdout",
     "output_type": "stream",
     "text": [
      "Epoch 241/400 | Train Loss: 0.915980 | Val Loss: 0.868284\n"
     ]
    },
    {
     "name": "stderr",
     "output_type": "stream",
     "text": [
      "Epoch 242/400 [Train]: 100%|██████████████████████| 31/31 [00:00<00:00, 134.71it/s, loss=0.94]\n"
     ]
    },
    {
     "name": "stdout",
     "output_type": "stream",
     "text": [
      "Epoch 242/400 | Train Loss: 0.925853 | Val Loss: 0.869361\n"
     ]
    },
    {
     "name": "stderr",
     "output_type": "stream",
     "text": [
      "Epoch 243/400 [Train]: 100%|█████████████████████| 31/31 [00:00<00:00, 133.36it/s, loss=0.931]\n"
     ]
    },
    {
     "name": "stdout",
     "output_type": "stream",
     "text": [
      "Epoch 243/400 | Train Loss: 0.921645 | Val Loss: 0.866040\n"
     ]
    },
    {
     "name": "stderr",
     "output_type": "stream",
     "text": [
      "Epoch 244/400 [Train]: 100%|██████████████████████| 31/31 [00:00<00:00, 133.52it/s, loss=1.08]\n"
     ]
    },
    {
     "name": "stdout",
     "output_type": "stream",
     "text": [
      "Epoch 244/400 | Train Loss: 0.928825 | Val Loss: 0.873092\n"
     ]
    },
    {
     "name": "stderr",
     "output_type": "stream",
     "text": [
      "Epoch 245/400 [Train]: 100%|█████████████████████| 31/31 [00:00<00:00, 137.60it/s, loss=0.825]\n"
     ]
    },
    {
     "name": "stdout",
     "output_type": "stream",
     "text": [
      "Epoch 245/400 | Train Loss: 0.929553 | Val Loss: 0.865519\n"
     ]
    },
    {
     "name": "stderr",
     "output_type": "stream",
     "text": [
      "Epoch 246/400 [Train]: 100%|█████████████████████| 31/31 [00:00<00:00, 134.44it/s, loss=0.854]\n"
     ]
    },
    {
     "name": "stdout",
     "output_type": "stream",
     "text": [
      "Epoch 246/400 | Train Loss: 0.920823 | Val Loss: 0.868187\n"
     ]
    },
    {
     "name": "stderr",
     "output_type": "stream",
     "text": [
      "Epoch 247/400 [Train]: 100%|█████████████████████| 31/31 [00:00<00:00, 136.37it/s, loss=0.885]\n"
     ]
    },
    {
     "name": "stdout",
     "output_type": "stream",
     "text": [
      "Epoch 247/400 | Train Loss: 0.928882 | Val Loss: 0.869193\n"
     ]
    },
    {
     "name": "stderr",
     "output_type": "stream",
     "text": [
      "Epoch 248/400 [Train]: 100%|██████████████████████| 31/31 [00:00<00:00, 87.57it/s, loss=0.884]\n"
     ]
    },
    {
     "name": "stdout",
     "output_type": "stream",
     "text": [
      "Epoch 248/400 | Train Loss: 0.923685 | Val Loss: 0.869997\n"
     ]
    },
    {
     "name": "stderr",
     "output_type": "stream",
     "text": [
      "Epoch 249/400 [Train]: 100%|█████████████████████| 31/31 [00:00<00:00, 135.99it/s, loss=0.879]\n"
     ]
    },
    {
     "name": "stdout",
     "output_type": "stream",
     "text": [
      "Epoch 249/400 | Train Loss: 0.921160 | Val Loss: 0.869102\n"
     ]
    },
    {
     "name": "stderr",
     "output_type": "stream",
     "text": [
      "Epoch 250/400 [Train]: 100%|█████████████████████| 31/31 [00:00<00:00, 136.31it/s, loss=0.917]\n"
     ]
    },
    {
     "name": "stdout",
     "output_type": "stream",
     "text": [
      "Epoch 250/400 | Train Loss: 0.931066 | Val Loss: 0.868704\n",
      "Early stopping at epoch 250\n"
     ]
    }
   ],
   "source": [
    "train_losses_dense, val_losses_dense, snapshots = train_snapshot_ensemble(model=StarTrack_Dense_V1, \n",
    "                                       criterion=loss_fn, \n",
    "                                       optimizer=optimizer_dense, \n",
    "                                       epochs=400, \n",
    "                                       train_loader=train_loader_tabular, \n",
    "                                       val_loader=val_loader_tabular,\n",
    "                                       scheduler=scheduler_dense)"
   ]
  },
  {
   "cell_type": "markdown",
   "id": "9832b3b0-0bfd-41fa-993d-9f1b4fa7b029",
   "metadata": {},
   "source": [
    "1e-5 looks like we got into a local minimum. "
   ]
  },
  {
   "cell_type": "code",
   "execution_count": 22,
   "id": "b88876b1-b986-42ee-a0e2-261c0e32c531",
   "metadata": {},
   "outputs": [
    {
     "data": {
      "image/png": "[encoded data removed]",
      "text/plain": [
       "<Figure size 1000x600 with 1 Axes>"
      ]
     },
     "metadata": {},
     "output_type": "display_data"
    }
   ],
   "source": [
    "def plot_losses(train_losses, val_losses):\n",
    "    epochs = range(1, len(train_losses) + 1)\n",
    "    plt.figure(figsize=(10,6))\n",
    "    plt.plot(epochs, train_losses, label='Train Loss', color='blue')\n",
    "    plt.plot(epochs, val_losses, label='Validation Loss', color='orange')\n",
    "    plt.xlabel('Epoch')\n",
    "    plt.ylabel('Loss')\n",
    "    plt.title('Training and Validation Loss over Epochs')\n",
    "    plt.legend()\n",
    "    plt.grid(True)\n",
    "    plt.show()\n",
    "\n",
    "plot_losses(train_losses_dense, val_losses_dense)"
   ]
  },
  {
   "cell_type": "code",
   "execution_count": 23,
   "id": "dff5a832-ba5c-46ef-9a7d-6fa5b630eb04",
   "metadata": {},
   "outputs": [],
   "source": [
    "def evaluate_model(model, data_loader, device, label_encoder):\n",
    "    model.eval()\n",
    "    all_preds = []\n",
    "    all_labels = []\n",
    "    \n",
    "    with torch.no_grad():\n",
    "        for X_batch, y_batch in data_loader:\n",
    "            X_batch = X_batch.to(device)\n",
    "            y_batch = y_batch.to(device)\n",
    "            \n",
    "            outputs = model(X_batch)\n",
    "            _, preds = torch.max(outputs, 1)\n",
    "            \n",
    "            all_preds.extend(preds.cpu().numpy())\n",
    "            all_labels.extend(y_batch.cpu().numpy())\n",
    "    \n",
    "    acc = accuracy_score(all_labels, all_preds)\n",
    "    print(f'Accuracy: {acc:.4f}')\n",
    "    print('Classification Report:')\n",
    "    print(classification_report(all_labels, all_preds, target_names=label_encoder.classes_))\n",
    "    return all_labels, all_preds "
   ]
  },
  {
   "cell_type": "code",
   "execution_count": 24,
   "id": "b167c747-07f2-444c-99ce-10047cef2cfa",
   "metadata": {},
   "outputs": [
    {
     "name": "stdout",
     "output_type": "stream",
     "text": [
      "Accuracy: 0.7299\n",
      "Classification Report:\n",
      "              precision    recall  f1-score   support\n",
      "\n",
      "           A       0.47      0.46      0.46       609\n",
      "           B       0.14      0.26      0.18        82\n",
      "          CV       0.78      0.63      0.70       298\n",
      "           F       0.80      0.83      0.81      2042\n",
      "           G       0.50      0.55      0.52       300\n",
      "           K       0.87      0.84      0.85       621\n",
      "           L       0.33      0.78      0.46        54\n",
      "           M       0.95      0.84      0.89       730\n",
      "          WD       0.64      0.48      0.54       221\n",
      "\n",
      "    accuracy                           0.73      4957\n",
      "   macro avg       0.61      0.63      0.60      4957\n",
      "weighted avg       0.75      0.73      0.74      4957\n",
      "\n"
     ]
    }
   ],
   "source": [
    "y_table_true, y_table_pred = evaluate_model(StarTrack_Dense_V1, test_loader_tabular, device, le_tabular)"
   ]
  },
  {
   "cell_type": "code",
   "execution_count": 25,
   "id": "944454b9-9037-494f-b2d6-628318b8584c",
   "metadata": {},
   "outputs": [],
   "source": [
    "def get_preds_labels(model, dataloader, device):\n",
    "    model.eval()\n",
    "    all_preds = []\n",
    "    all_labels = []\n",
    "    with torch.no_grad():\n",
    "        for inputs, labels in dataloader:\n",
    "            inputs = inputs.to(device)\n",
    "            labels = labels.to(device)\n",
    "\n",
    "            outputs = model(inputs)\n",
    "            _, preds = torch.max(outputs, 1)\n",
    "            all_preds.append(preds.cpu())\n",
    "            all_labels.append(labels.cpu())\n",
    "\n",
    "    return torch.cat(all_preds), torch.cat(all_labels)"
   ]
  },
  {
   "cell_type": "code",
   "execution_count": 36,
   "id": "dc52aecf-9a71-4f2c-9614-f2fbef7dfa38",
   "metadata": {},
   "outputs": [
    {
     "data": {
      "image/png": "[encoded data removed]",
      "text/plain": [
       "<Figure size 1000x800 with 2 Axes>"
      ]
     },
     "metadata": {},
     "output_type": "display_data"
    }
   ],
   "source": [
    "def plot_confusion_matrix(y_true, y_pred, class_names=None):\n",
    "    cm = confusion_matrix(y_true, y_pred)\n",
    "    plt.figure(figsize=(10, 8))\n",
    "\n",
    "    if class_names is None:\n",
    "        class_names = [str(i) for i in range(cm.shape[0])]\n",
    "        \n",
    "    sns.heatmap(cm, annot=True, fmt='d', cmap='Blues', xticklabels=class_names, yticklabels=class_names)\n",
    "    plt.xlabel('Predicted')\n",
    "    plt.ylabel('True')\n",
    "    plt.title('Confusion Matrix')\n",
    "    plt.show()\n",
    "\n",
    "y_pred, y_true = get_preds_labels(StarTrack_Dense_V1, val_loader_tabular, device)\n",
    "\n",
    "plot_confusion_matrix(y_true, y_pred)"
   ]
  },
  {
   "cell_type": "markdown",
   "id": "e00bcfbc-0a6a-4812-8603-54754781374c",
   "metadata": {},
   "source": [
    "# Training The LSTM (Spectrogram) Branch"
   ]
  },
  {
   "cell_type": "code",
   "execution_count": 44,
   "id": "b3df82de-e34a-4594-8577-ade7e4409518",
   "metadata": {},
   "outputs": [
    {
     "name": "stdout",
     "output_type": "stream",
     "text": [
      "X shape: (24782, 1024, 1)\n",
      "Total samples: 24782\n",
      "Unique classes: ['A' 'B' 'CV' 'F' 'G' 'K' 'L' 'M' 'WD']\n"
     ]
    }
   ],
   "source": [
    "le_spect = LabelEncoder()\n",
    "labels_encoded_spect = le_spect.fit_transform(labels_spect)\n",
    "X = spectrograms\n",
    "X = X.reshape((X.shape[0], X.shape[1], 1))\n",
    "y = labels_encoded_spect\n",
    "print(\"X shape:\", X.shape)\n",
    "print(f'Total samples: {X.shape[0]}')\n",
    "print(f'Unique classes: {le_spect.classes_}')"
   ]
  },
  {
   "cell_type": "code",
   "execution_count": 47,
   "id": "e4b5b88b-d3d2-4a58-989a-e9d97204f9a1",
   "metadata": {},
   "outputs": [
    {
     "name": "stdout",
     "output_type": "stream",
     "text": [
      "Train shape: (14868, 1024, 1), (14868,)\n",
      "Validation shape: (4957, 1024, 1), (4957,)\n",
      "Test shape: (4957, 1024, 1), (4957,)\n"
     ]
    }
   ],
   "source": [
    "X_spect_train, y_spect_train, X_spect_val, y_spect_val, X_spect_test, y_spect_test = split_sets(X, y)"
   ]
  },
  {
   "cell_type": "code",
   "execution_count": 48,
   "id": "beba80f3-86b2-4e87-bdb0-8c6979f94aba",
   "metadata": {},
   "outputs": [],
   "source": [
    "X_spect_train_fusion = X_spect_train.copy()\n",
    "X_spect_val_fusion = X_spect_val.copy()\n",
    "X_spect_test_fusion = X_spect_test.copy()\n",
    "\n",
    "y_spect_train_fusion = y_spect_train.copy()\n",
    "y_spect_val_fusion = y_spect_val.copy()\n",
    "y_spect_test_fusion = y_spect_test.copy()"
   ]
  },
  {
   "cell_type": "code",
   "execution_count": 68,
   "id": "c65a697b-b234-4558-8be5-f84d83b34749",
   "metadata": {},
   "outputs": [],
   "source": [
    "train_dataset_spect = TensorDataset(torch.tensor(X_spect_train, dtype=torch.float32), torch.tensor(y_spect_train, dtype=torch.long))\n",
    "val_dataset_spect = TensorDataset(torch.tensor(X_spect_val, dtype=torch.float32), torch.tensor(y_spect_val, dtype=torch.long))\n",
    "test_dataset_spect = TensorDataset(torch.tensor(X_spect_test, dtype=torch.float32), torch.tensor(y_spect_test, dtype=torch.long))\n",
    "\n",
    "train_loader_spect = DataLoader(train_dataset_time, batch_size=64, shuffle=True)\n",
    "val_loader_spect = DataLoader(val_dataset_time, batch_size=64, shuffle=False)\n",
    "test_loader_spect = DataLoader(test_dataset_time, batch_size=64, shuffle=False)"
   ]
  },
  {
   "cell_type": "code",
   "execution_count": 65,
   "id": "667fc7ed-07f5-4513-8028-1e588aa5570b",
   "metadata": {},
   "outputs": [],
   "source": [
    "# Dataloader needs (B, 1024, 1) shape\n",
    "class StarTrack_LSTM(nn.Module):\n",
    "    def __init__(self, input_size=1, hidden_size=256, output_size=9, num_layers=3):\n",
    "        super().__init__()\n",
    "        self.lstm = nn.LSTM(\n",
    "            input_size=input_size,\n",
    "            hidden_size=hidden_size,\n",
    "            num_layers=num_layers,\n",
    "            bidirectional=True,\n",
    "            dropout=0.5, # Lower/Increase based off testing results\n",
    "            batch_first=True\n",
    "        )\n",
    "        self.bn = nn.BatchNorm1d(hidden_size*2)\n",
    "        self.fc1 = nn.Linear(hidden_size*2, hidden_size)\n",
    "        self.fc2 = nn.Linear(hidden_size, output_size)\n",
    "        self.dropout = nn.Dropout(0.5)\n",
    "        \n",
    "    def forward(self, x):\n",
    "        x, _ = self.lstm(x)\n",
    "        x = x[:, -1, :]\n",
    "        x = self.bn(x)\n",
    "        x = F.relu(self.fc1(x))\n",
    "        x = self.dropout(x)\n",
    "        x = self.fc2(x)\n",
    "        return x\n",
    "    \n",
    "    def extract_features(self, x):\n",
    "        x, _ = self.lstm(x)\n",
    "        x = x[:, -1, :]\n",
    "        x = self.bn(x)\n",
    "        x = F.relu(self.fc1(x))\n",
    "        return x\n",
    "        \n",
    "# Number of classes after grouping = 9"
   ]
  },
  {
   "cell_type": "code",
   "execution_count": 66,
   "id": "78b47032-e624-4c0f-8a9f-1194e237c29e",
   "metadata": {},
   "outputs": [],
   "source": [
    "StarTrack_LSTM_V1 = StarTrack_LSTM()\n",
    "StarTrack_LSTM_V1 = StarTrack_LSTM_V1 .to(device)"
   ]
  },
  {
   "cell_type": "code",
   "execution_count": 67,
   "id": "64f83968-dd5e-4983-b87b-eb13516168eb",
   "metadata": {},
   "outputs": [
    {
     "name": "stderr",
     "output_type": "stream",
     "text": [
      "C:\\Users\\radiant\\AppData\\Local\\Temp\\ipykernel_13024\\3703655229.py:2: UserWarning: To copy construct from a tensor, it is recommended to use sourceTensor.detach().clone() or sourceTensor.detach().clone().requires_grad_(True), rather than torch.tensor(sourceTensor).\n",
      "  class_weights_LSTM = torch.tensor(class_weights, dtype=torch.float).to(device)\n"
     ]
    }
   ],
   "source": [
    "class_weights_LSTM = compute_class_weight('balanced', classes=np.unique(y_spect_train), y=y_spect_train)\n",
    "class_weights_LSTM = torch.tensor(class_weights, dtype=torch.float).to(device)\n",
    "loss_fn = nn.CrossEntropyLoss(weight=class_weights_LSTM)\n",
    "optimizer_LSTM = torch.optim.Adam(StarTrack_LSTM_V1.parameters(), lr=1e-4, weight_decay=1e-4)"
   ]
  },
  {
   "cell_type": "code",
   "execution_count": null,
   "id": "58b6e71d-449b-4858-82af-137bd2ad5061",
   "metadata": {},
   "outputs": [],
   "source": [
    "train_losses_LSTM, val_losses_LSTM= train_model(model=StarTrack_LSTM_V1, \n",
    "                                       criterion=loss_fn, \n",
    "                                       optimizer=optimizer_LSTM, \n",
    "                                       epochs=15, \n",
    "                                       train_loader=train_loader_spect, \n",
    "                                       val_loader=val_loader_spect)"
   ]
  },
  {
   "cell_type": "markdown",
   "id": "d6d0fe52-fd72-4dde-8299-d3e0b8766691",
   "metadata": {},
   "source": [
    "# Training The Fusion Branch"
   ]
  },
  {
   "cell_type": "code",
   "execution_count": null,
   "id": "1a40c370-198a-4b03-ba17-ea9425edcb53",
   "metadata": {},
   "outputs": [],
   "source": [
    "class StarTrack_Fusion(nn.Module):\n",
    "    def __init__(self, lstm_model: nn.Module, dense_model: nn.Module,\n",
    "                 fused_hidden_dim=512, num_classes=9): \n",
    "        super().__init__()\n",
    "        self.lstm_branch = lstm_model\n",
    "        self.dense_branch = dense_model\n",
    "\n",
    "        for param in self.lstm_branch.parameters():\n",
    "            param.requires_grad = False\n",
    "        for param in self.dense_branch.parameters():\n",
    "            param.requires_grad = False\n",
    "            \n",
    "        for param in self.lstm_branch.fc1.parameters():\n",
    "            param.requires_grad = True\n",
    "        for param in self.dense_branch.fc1.parameters():\n",
    "            param.requires_grad = True\n",
    "\n",
    "        lstm_output_dim = 256\n",
    "        dense_output_dim = 64\n",
    "        \n",
    "        self.cross_attn = nn.MultiheadAttention(embed_dim=lstm_output_dim, num_heads=4)\n",
    "        self.fusion = nn.Sequential(\n",
    "            nn.Linear(lstm_output_dim + dense_output_dim, fused_hidden_dim),\n",
    "            nn.GELU(),  \n",
    "            nn.BatchNorm1d(fused_hidden_dim),\n",
    "            nn.Linear(fused_hidden_dim, fused_hidden_dim//2),\n",
    "            nn.GELU(),\n",
    "            nn.Dropout(0.3), \n",
    "            nn.Linear(fused_hidden_dim//2, num_classes)\n",
    "        )\n",
    "        \n",
    "        self.lstm_classifier = nn.Linear(lstm_output_dim, num_classes)\n",
    "        self.dense_classifier = nn.Linear(dense_output_dim, num_classes)\n",
    "        self.dense_proj = nn.Linear(dense_output_dim, lstm_output_dim)\n",
    "\n",
    "    def forward(self, lstm_input, dense_input):\n",
    "            lstm_feat = self.lstm_branch.extract_features(lstm_input)\n",
    "            dense_feat = self.dense_branch.extract_features(dense_input)\n",
    "        \n",
    "            lstm_q = lstm_feat.unsqueeze(0)  \n",
    "            dense_kv = dense_proj.unsqueeze(0)  \n",
    "\n",
    "            dense_proj = self.dense_proj(dense_feat) \n",
    "           \n",
    "            attn_out, _ = self.cross_attn(query=lstm_q, key=dense_kv, value=dense_kv)\n",
    "            attn_out = attn_out.squeeze(0)\n",
    "        \n",
    "            lstm_feat = lstm_feat + attn_out      \n",
    "            fused = torch.cat([lstm_feat, dense_feat], dim=1) \n",
    "            out = self.fusion(fused)\n",
    "        \n",
    "            lstm_out = self.lstm_classifier(lstm_feat)\n",
    "            dense_out = self.dense_classifier(dense_feat)\n",
    "            return out, lstm_out, dense_out\n"
   ]
  },
  {
   "cell_type": "code",
   "execution_count": null,
   "id": "e34ce593-8293-412b-8d77-0de497cbdd02",
   "metadata": {},
   "outputs": [],
   "source": []
  }
 ],
 "metadata": {
  "kernelspec": {
   "display_name": "Python 3 (ipykernel)",
   "language": "python",
   "name": "python3"
  },
  "language_info": {
   "codemirror_mode": {
    "name": "ipython",
    "version": 3
   },
   "file_extension": ".py",
   "mimetype": "text/x-python",
   "name": "python",
   "nbconvert_exporter": "python",
   "pygments_lexer": "ipython3",
   "version": "3.13.3"
  }
 },
 "nbformat": 4,
 "nbformat_minor": 5
}
