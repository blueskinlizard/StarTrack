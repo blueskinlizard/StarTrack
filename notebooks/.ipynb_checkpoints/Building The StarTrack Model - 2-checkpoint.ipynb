{
 "cells": [
  {
   "cell_type": "markdown",
   "id": "ae55e43b-2f36-4038-8bfc-cf3d4b6e4511",
   "metadata": {},
   "source": [
    "# Building The StarTrack Model - 2"
   ]
  },
  {
   "cell_type": "code",
   "execution_count": 1,
   "id": "134bd825-bad2-43f8-9192-edfbd756e58f",
   "metadata": {},
   "outputs": [],
   "source": [
    "import numpy as np\n",
    "import pandas as pd\n",
    "import torch\n",
    "import torch.nn as nn\n",
    "import matplotlib.pyplot as plt\n",
    "from sklearn.model_selection import train_test_split\n",
    "from sklearn.preprocessing import LabelEncoder, StandardScaler\n",
    "from torch.utils.data import DataLoader, TensorDataset, Dataset\n",
    "from sklearn.manifold import TSNE\n",
    "from sklearn.preprocessing import LabelEncoder\n",
    "from sklearn.utils.class_weight import compute_class_weight\n",
    "from tqdm import tqdm\n",
    "import torch.nn.functional as F\n",
    "import copy\n",
    "from sklearn.metrics import confusion_matrix, accuracy_score, classification_report\n",
    "import seaborn as sns"
   ]
  },
  {
   "cell_type": "code",
   "execution_count": 2,
   "id": "79e77679-0feb-4047-9e15-9a2a2101710e",
   "metadata": {},
   "outputs": [
    {
     "data": {
      "text/plain": [
       "'cuda'"
      ]
     },
     "execution_count": 2,
     "metadata": {},
     "output_type": "execute_result"
    }
   ],
   "source": [
    "device = \"cuda\" if torch.cuda.is_available() else \"cpu\"\n",
    "device"
   ]
  },
  {
   "cell_type": "code",
   "execution_count": 3,
   "id": "b24cea5d-66b0-4327-b5c0-a8889dbcebe1",
   "metadata": {},
   "outputs": [],
   "source": [
    "tabular_data = pd.read_csv('../data/processed_data.csv')\n",
    "spectrogram_data = np.load('../data/startrack_spectrograms.npz', allow_pickle=True)"
   ]
  },
  {
   "cell_type": "code",
   "execution_count": 4,
   "id": "e332ba8f-6aec-4fe1-a850-bf2f7282ee49",
   "metadata": {},
   "outputs": [
    {
     "data": {
      "text/html": [
       "<div>\n",
       "<style scoped>\n",
       "    .dataframe tbody tr th:only-of-type {\n",
       "        vertical-align: middle;\n",
       "    }\n",
       "\n",
       "    .dataframe tbody tr th {\n",
       "        vertical-align: top;\n",
       "    }\n",
       "\n",
       "    .dataframe thead th {\n",
       "        text-align: right;\n",
       "    }\n",
       "</style>\n",
       "<table border=\"1\" class=\"dataframe\">\n",
       "  <thead>\n",
       "    <tr style=\"text-align: right;\">\n",
       "      <th></th>\n",
       "      <th>ELODIE_TEFF</th>\n",
       "      <th>ELODIE_LOGG</th>\n",
       "      <th>ELODIE_FEH</th>\n",
       "      <th>Z</th>\n",
       "      <th>Z_ERR</th>\n",
       "      <th>ZWARNING</th>\n",
       "      <th>VDISP</th>\n",
       "      <th>VDISP_ERR</th>\n",
       "      <th>SN_MEDIAN_ALL</th>\n",
       "      <th>RCHI2</th>\n",
       "      <th>DOF</th>\n",
       "      <th>SNR_Bin</th>\n",
       "      <th>High_Quality</th>\n",
       "      <th>Mean_Flux</th>\n",
       "      <th>Flux_to_Noise</th>\n",
       "      <th>u_flux</th>\n",
       "      <th>g_flux</th>\n",
       "      <th>r_flux</th>\n",
       "      <th>i_flux</th>\n",
       "      <th>z_flux</th>\n",
       "      <th>flux_mean</th>\n",
       "      <th>flux_std</th>\n",
       "      <th>flux_min</th>\n",
       "      <th>flux_max</th>\n",
       "      <th>flux_median</th>\n",
       "      <th>flux_p25</th>\n",
       "      <th>flux_p75</th>\n",
       "    </tr>\n",
       "  </thead>\n",
       "  <tbody>\n",
       "    <tr>\n",
       "      <th>0</th>\n",
       "      <td>3705.0</td>\n",
       "      <td>4.800</td>\n",
       "      <td>0.60</td>\n",
       "      <td>-0.000485</td>\n",
       "      <td>0.000014</td>\n",
       "      <td>0</td>\n",
       "      <td>0.0</td>\n",
       "      <td>0.0</td>\n",
       "      <td>19.021759</td>\n",
       "      <td>0.880377</td>\n",
       "      <td>4542</td>\n",
       "      <td>2</td>\n",
       "      <td>0</td>\n",
       "      <td>37.168239</td>\n",
       "      <td>1.953985</td>\n",
       "      <td>0.269059</td>\n",
       "      <td>0.268631</td>\n",
       "      <td>0.195929</td>\n",
       "      <td>0.125402</td>\n",
       "      <td>0.047316</td>\n",
       "      <td>37.168239</td>\n",
       "      <td>10.325851</td>\n",
       "      <td>19.371477</td>\n",
       "      <td>46.528843</td>\n",
       "      <td>42.201336</td>\n",
       "      <td>31.882357</td>\n",
       "      <td>45.857182</td>\n",
       "    </tr>\n",
       "    <tr>\n",
       "      <th>1</th>\n",
       "      <td>3705.0</td>\n",
       "      <td>4.800</td>\n",
       "      <td>0.60</td>\n",
       "      <td>-0.000195</td>\n",
       "      <td>0.000015</td>\n",
       "      <td>0</td>\n",
       "      <td>0.0</td>\n",
       "      <td>0.0</td>\n",
       "      <td>22.828102</td>\n",
       "      <td>1.034391</td>\n",
       "      <td>4487</td>\n",
       "      <td>3</td>\n",
       "      <td>1</td>\n",
       "      <td>40.272045</td>\n",
       "      <td>1.764143</td>\n",
       "      <td>0.313935</td>\n",
       "      <td>0.310882</td>\n",
       "      <td>0.236147</td>\n",
       "      <td>0.178934</td>\n",
       "      <td>0.105151</td>\n",
       "      <td>40.272045</td>\n",
       "      <td>11.563604</td>\n",
       "      <td>20.819483</td>\n",
       "      <td>51.774773</td>\n",
       "      <td>44.854801</td>\n",
       "      <td>33.856216</td>\n",
       "      <td>50.054951</td>\n",
       "    </tr>\n",
       "    <tr>\n",
       "      <th>2</th>\n",
       "      <td>3705.0</td>\n",
       "      <td>4.800</td>\n",
       "      <td>0.60</td>\n",
       "      <td>0.000728</td>\n",
       "      <td>0.000011</td>\n",
       "      <td>0</td>\n",
       "      <td>0.0</td>\n",
       "      <td>0.0</td>\n",
       "      <td>28.743233</td>\n",
       "      <td>0.948585</td>\n",
       "      <td>4505</td>\n",
       "      <td>3</td>\n",
       "      <td>1</td>\n",
       "      <td>67.842227</td>\n",
       "      <td>2.360285</td>\n",
       "      <td>0.630979</td>\n",
       "      <td>0.791056</td>\n",
       "      <td>0.716503</td>\n",
       "      <td>0.637338</td>\n",
       "      <td>0.519138</td>\n",
       "      <td>67.842227</td>\n",
       "      <td>21.698880</td>\n",
       "      <td>31.049629</td>\n",
       "      <td>89.325089</td>\n",
       "      <td>76.546692</td>\n",
       "      <td>56.288620</td>\n",
       "      <td>86.001106</td>\n",
       "    </tr>\n",
       "    <tr>\n",
       "      <th>3</th>\n",
       "      <td>3705.0</td>\n",
       "      <td>4.800</td>\n",
       "      <td>0.60</td>\n",
       "      <td>0.000277</td>\n",
       "      <td>0.000016</td>\n",
       "      <td>0</td>\n",
       "      <td>0.0</td>\n",
       "      <td>0.0</td>\n",
       "      <td>23.706001</td>\n",
       "      <td>0.875567</td>\n",
       "      <td>4568</td>\n",
       "      <td>3</td>\n",
       "      <td>1</td>\n",
       "      <td>40.974394</td>\n",
       "      <td>1.728440</td>\n",
       "      <td>0.263392</td>\n",
       "      <td>0.306808</td>\n",
       "      <td>0.250842</td>\n",
       "      <td>0.196867</td>\n",
       "      <td>0.137755</td>\n",
       "      <td>40.974394</td>\n",
       "      <td>13.044562</td>\n",
       "      <td>19.188595</td>\n",
       "      <td>54.732037</td>\n",
       "      <td>45.824268</td>\n",
       "      <td>33.665863</td>\n",
       "      <td>51.461208</td>\n",
       "    </tr>\n",
       "    <tr>\n",
       "      <th>4</th>\n",
       "      <td>9899.0</td>\n",
       "      <td>2.924</td>\n",
       "      <td>0.09</td>\n",
       "      <td>0.000616</td>\n",
       "      <td>0.000081</td>\n",
       "      <td>0</td>\n",
       "      <td>0.0</td>\n",
       "      <td>0.0</td>\n",
       "      <td>2.716969</td>\n",
       "      <td>0.984394</td>\n",
       "      <td>4395</td>\n",
       "      <td>0</td>\n",
       "      <td>0</td>\n",
       "      <td>2.968928</td>\n",
       "      <td>1.092735</td>\n",
       "      <td>-0.283738</td>\n",
       "      <td>-0.361274</td>\n",
       "      <td>-0.387023</td>\n",
       "      <td>-0.406692</td>\n",
       "      <td>-0.432778</td>\n",
       "      <td>2.968928</td>\n",
       "      <td>0.924360</td>\n",
       "      <td>1.534235</td>\n",
       "      <td>4.132542</td>\n",
       "      <td>2.982392</td>\n",
       "      <td>2.454889</td>\n",
       "      <td>3.740581</td>\n",
       "    </tr>\n",
       "  </tbody>\n",
       "</table>\n",
       "</div>"
      ],
      "text/plain": [
       "   ELODIE_TEFF  ELODIE_LOGG  ELODIE_FEH         Z     Z_ERR  ZWARNING  VDISP  \\\n",
       "0       3705.0        4.800        0.60 -0.000485  0.000014         0    0.0   \n",
       "1       3705.0        4.800        0.60 -0.000195  0.000015         0    0.0   \n",
       "2       3705.0        4.800        0.60  0.000728  0.000011         0    0.0   \n",
       "3       3705.0        4.800        0.60  0.000277  0.000016         0    0.0   \n",
       "4       9899.0        2.924        0.09  0.000616  0.000081         0    0.0   \n",
       "\n",
       "   VDISP_ERR  SN_MEDIAN_ALL     RCHI2   DOF  SNR_Bin  High_Quality  Mean_Flux  \\\n",
       "0        0.0      19.021759  0.880377  4542        2             0  37.168239   \n",
       "1        0.0      22.828102  1.034391  4487        3             1  40.272045   \n",
       "2        0.0      28.743233  0.948585  4505        3             1  67.842227   \n",
       "3        0.0      23.706001  0.875567  4568        3             1  40.974394   \n",
       "4        0.0       2.716969  0.984394  4395        0             0   2.968928   \n",
       "\n",
       "   Flux_to_Noise    u_flux    g_flux    r_flux    i_flux    z_flux  flux_mean  \\\n",
       "0       1.953985  0.269059  0.268631  0.195929  0.125402  0.047316  37.168239   \n",
       "1       1.764143  0.313935  0.310882  0.236147  0.178934  0.105151  40.272045   \n",
       "2       2.360285  0.630979  0.791056  0.716503  0.637338  0.519138  67.842227   \n",
       "3       1.728440  0.263392  0.306808  0.250842  0.196867  0.137755  40.974394   \n",
       "4       1.092735 -0.283738 -0.361274 -0.387023 -0.406692 -0.432778   2.968928   \n",
       "\n",
       "    flux_std   flux_min   flux_max  flux_median   flux_p25   flux_p75  \n",
       "0  10.325851  19.371477  46.528843    42.201336  31.882357  45.857182  \n",
       "1  11.563604  20.819483  51.774773    44.854801  33.856216  50.054951  \n",
       "2  21.698880  31.049629  89.325089    76.546692  56.288620  86.001106  \n",
       "3  13.044562  19.188595  54.732037    45.824268  33.665863  51.461208  \n",
       "4   0.924360   1.534235   4.132542     2.982392   2.454889   3.740581  "
      ]
     },
     "execution_count": 4,
     "metadata": {},
     "output_type": "execute_result"
    }
   ],
   "source": [
    "columns_to_drop = [\"Unnamed: 0\", \"Unnamed: 0.1\", \"Unnamed: 0.2\",\n",
    "                   \"CLASS\", \"SUBCLASS\", \"SUBCLASS_CLEAN\", \"SPECTRAL_GROUP\", \n",
    "                   \"url\", \"PLATE\", \"MJD\", \"FIBERID\", \"ELODIE_SPTYPE\", \"filename\", \"Unnamed: 0.3\" ]\n",
    "labels_tabular = tabular_data[\"SPECTRAL_GROUP\"]\n",
    "tabular_data = tabular_data.drop(columns=columns_to_drop)\n",
    "pd.set_option('display.max_columns', None)\n",
    "bin_dict = {'Below 0': -1, 'Very Low': 0, 'Low': 1, 'Moderate': 2, 'Good': 3, 'High': 4, 'Very High': 5}\n",
    "tabular_data[\"SNR_Bin\"] = tabular_data[\"SNR_Bin\"].map(bin_dict)\n",
    "qual_dict = {False: 0, True: 1} # There's probably a better way to do this not going to lie\n",
    "tabular_data[\"High_Quality\"] = tabular_data[\"High_Quality\"].map(qual_dict)\n",
    "tabular_data.head()"
   ]
  },
  {
   "cell_type": "code",
   "execution_count": 5,
   "id": "e6068313-5ffa-4b70-a75b-8eafac200817",
   "metadata": {},
   "outputs": [
    {
     "name": "stdout",
     "output_type": "stream",
     "text": [
      "   ELODIE_TEFF  ELODIE_LOGG  ELODIE_FEH         Z     Z_ERR  ZWARNING  VDISP  \\\n",
      "0    -0.995078     1.224190    1.106840 -0.634939 -0.045196         0    0.0   \n",
      "1    -0.995078     1.224190    1.106840 -0.135463 -0.045193         0    0.0   \n",
      "2    -0.995078     1.224190    1.106840  1.453425 -0.045202         0    0.0   \n",
      "3    -0.995078     1.224190    1.106840  0.676285 -0.045193         0    0.0   \n",
      "4     2.470878    -0.319445    0.623211  1.261174 -0.045069         0    0.0   \n",
      "\n",
      "   VDISP_ERR  SN_MEDIAN_ALL     RCHI2   DOF  SNR_Bin  High_Quality  Mean_Flux  \\\n",
      "0        0.0       0.605647 -0.245331  4542        2             0   0.139159   \n",
      "1        0.0       0.895060 -0.107123  4487        3             1   0.190766   \n",
      "2        0.0       1.344813 -0.184123  4505        3             1   0.649178   \n",
      "3        0.0       0.961810 -0.249647  4568        3             1   0.202444   \n",
      "4        0.0      -0.634078 -0.151989  4395        0             0  -0.429476   \n",
      "\n",
      "   Flux_to_Noise    u_flux    g_flux    r_flux    i_flux    z_flux  flux_mean  \\\n",
      "0       0.008353  0.263063  0.248657  0.171897  0.100246  0.024402   0.139159   \n",
      "1       0.005068  0.308612  0.290426  0.211562  0.152933  0.081355   0.190766   \n",
      "2       0.015385  0.630417  0.765125  0.685308  0.604102  0.489024   0.649178   \n",
      "3       0.004450  0.257310  0.286398  0.226054  0.170583  0.113461   0.202444   \n",
      "4      -0.006552 -0.298036 -0.374067 -0.403033 -0.423451 -0.448366  -0.429476   \n",
      "\n",
      "   flux_std  flux_min  flux_max  flux_median  flux_p25  flux_p75  \n",
      "0 -0.108036  0.383792  0.007946     0.173592  0.275719  0.091553  \n",
      "1 -0.065696  0.441515  0.063841     0.213309  0.319215  0.143741  \n",
      "2  0.280996  0.849329  0.463934     0.687676  0.813536  0.590638  \n",
      "3 -0.015038  0.376502  0.095350     0.227821  0.315020  0.161224  \n",
      "4 -0.429628 -0.327271 -0.443780    -0.413440 -0.372746 -0.432058  \n"
     ]
    }
   ],
   "source": [
    "cat_cols = ['ZWARNING', 'SNR_Bin', 'High_Quality', 'DOF']\n",
    "numeric_cols = [col for col in tabular_data.columns if col not in cat_cols]\n",
    "scaler = StandardScaler()\n",
    "tabular_data_scaled_numeric = pd.DataFrame(scaler.fit_transform(tabular_data[numeric_cols]), columns=numeric_cols)\n",
    "\n",
    "tabular_data_cat = tabular_data[cat_cols].reset_index(drop=True)\n",
    "\n",
    "tabular_data_processed = pd.concat([tabular_data_scaled_numeric, tabular_data_cat], axis=1)\n",
    "tabular_data_processed = tabular_data_processed[tabular_data.columns]\n",
    "\n",
    "print(tabular_data_processed.head())"
   ]
  },
  {
   "cell_type": "code",
   "execution_count": 6,
   "id": "8e7cbe93-539b-46af-8096-5feaede2a486",
   "metadata": {},
   "outputs": [
    {
     "data": {
      "text/plain": [
       "(24782, 27)"
      ]
     },
     "execution_count": 6,
     "metadata": {},
     "output_type": "execute_result"
    }
   ],
   "source": [
    "tabular_data_processed.shape"
   ]
  },
  {
   "cell_type": "code",
   "execution_count": 7,
   "id": "e5cb02e9-db13-4055-b610-01ad063619e9",
   "metadata": {},
   "outputs": [
    {
     "name": "stdout",
     "output_type": "stream",
     "text": [
      "Series([], dtype: int64)\n"
     ]
    }
   ],
   "source": [
    "missing_per_column = tabular_data.isnull().sum()\n",
    "print(missing_per_column[missing_per_column > 0]) "
   ]
  },
  {
   "cell_type": "code",
   "execution_count": 8,
   "id": "ef478b36-8b05-4be6-b351-62e2d9a2c090",
   "metadata": {},
   "outputs": [
    {
     "data": {
      "text/plain": [
       "0    F\n",
       "1    F\n",
       "2    F\n",
       "3    F\n",
       "4    F\n",
       "Name: SPECTRAL_GROUP, dtype: object"
      ]
     },
     "execution_count": 8,
     "metadata": {},
     "output_type": "execute_result"
    }
   ],
   "source": [
    "labels_tabular.head()"
   ]
  },
  {
   "cell_type": "code",
   "execution_count": 9,
   "id": "ff694b91-10f9-4bf0-b2c0-05d454a1dd3f",
   "metadata": {},
   "outputs": [
    {
     "data": {
      "text/plain": [
       "(24782, 1024)"
      ]
     },
     "execution_count": 9,
     "metadata": {},
     "output_type": "execute_result"
    }
   ],
   "source": [
    "spectrograms = spectrogram_data[\"spectrograms\"] \n",
    "labels_spect = spectrogram_data[\"labels\"] \n",
    "spectrograms.shape"
   ]
  },
  {
   "cell_type": "code",
   "execution_count": 10,
   "id": "e3b28d3e-18dc-41ac-95c1-75258ff2f220",
   "metadata": {},
   "outputs": [],
   "source": [
    "# Method taken from my EchoScope project, check it out here: https://github.com/blueskinlizard/EchoScope/tree/main\n",
    "def split_sets(X, y):\n",
    "    X_train_val, X_test, y_train_val, y_test = train_test_split(\n",
    "    X, y, test_size=0.2, random_state=42, stratify=y)\n",
    "\n",
    "    X_train, X_val, y_train, y_val = train_test_split(\n",
    "        X_train_val, y_train_val, test_size=0.25, random_state=42, stratify=y_train_val)\n",
    "    \n",
    "    print(f'Train shape: {X_train.shape}, {y_train.shape}')\n",
    "    print(f'Validation shape: {X_val.shape}, {y_val.shape}')\n",
    "    print(f'Test shape: {X_test.shape}, {y_test.shape}')\n",
    "    return X_train, y_train, X_val, y_val, X_test, y_test"
   ]
  },
  {
   "cell_type": "code",
   "execution_count": 11,
   "id": "f0b1fa7e-7e66-4582-9f14-9c6bee61af88",
   "metadata": {},
   "outputs": [],
   "source": [
    "# Method also taken from EchoScope\n",
    "def train_model(model, criterion, optimizer, epochs, train_loader, val_loader, patience=100, scheduler=None):\n",
    "    best_val_loss = float('inf')\n",
    "    best_model_state = None\n",
    "    no_improve_epochs = 0\n",
    "    \n",
    "    train_losses = []\n",
    "    val_losses = []\n",
    "\n",
    "    for epoch in range(1, epochs + 1):\n",
    "        model.train()\n",
    "        train_loss = 0.0\n",
    "        train_bar = tqdm(train_loader, desc=f\"Epoch {epoch}/{epochs} [Train]\", leave=False)\n",
    "        for X_batch, y_batch in train_bar:\n",
    "            X_batch, y_batch = X_batch.to(device), y_batch.to(device)\n",
    "            optimizer.zero_grad()\n",
    "            outputs = model(X_batch)\n",
    "            loss = criterion(outputs, y_batch)\n",
    "            loss.backward()\n",
    "            optimizer.step()\n",
    "            train_loss += loss.item() * X_batch.size(0)\n",
    "            train_bar.set_postfix(loss=loss.item())\n",
    "        train_loss /= len(train_loader.dataset)\n",
    "\n",
    "        model.eval()\n",
    "        val_loss = 0.0\n",
    "        val_bar = tqdm(val_loader, desc=f\"Epoch {epoch}/{epochs} [Val]\", leave=False)\n",
    "        with torch.no_grad():\n",
    "            for X_batch, y_batch in val_bar:\n",
    "                X_batch, y_batch = X_batch.to(device), y_batch.to(device)\n",
    "                outputs = model(X_batch)\n",
    "                loss = criterion(outputs, y_batch)\n",
    "                val_loss += loss.item() * X_batch.size(0)\n",
    "                val_bar.set_postfix(loss=loss.item())\n",
    "        val_loss /= len(val_loader.dataset)\n",
    "\n",
    "        train_losses.append(train_loss)\n",
    "        val_losses.append(val_loss)\n",
    "\n",
    "        print(f\"Epoch {epoch}/{epochs} | Train Loss: {train_loss:.6f} | Val Loss: {val_loss:.6f}\")\n",
    "\n",
    "        if val_loss < best_val_loss:\n",
    "            best_val_loss = val_loss\n",
    "            best_model_state = copy.deepcopy(model.state_dict())\n",
    "            no_improve_epochs = 0\n",
    "        else:\n",
    "            no_improve_epochs += 1\n",
    "            if no_improve_epochs >= patience:\n",
    "                print(f\"Early stopping at epoch {epoch} (best val loss: {best_val_loss:.6f})\")\n",
    "                break\n",
    "        if scheduler:\n",
    "            scheduler.step(val_loss)\n",
    "            \n",
    "    model.load_state_dict(best_model_state)\n",
    "    return train_losses, val_losses"
   ]
  },
  {
   "cell_type": "code",
   "execution_count": 12,
   "id": "f56ecbb9-19e9-4dcb-8d2f-425f9f438d5a",
   "metadata": {},
   "outputs": [],
   "source": [
    "# Method also taken from EchoScope\n",
    "def set_seed(seed=1):\n",
    "    torch.manual_seed(seed)\n",
    "    np.random.seed(seed)\n",
    "    torch.cuda.manual_seed(seed)\n",
    "    torch.cuda.manual_seed_all(seed)\n",
    "    torch.backends.cudnn.deterministic = True\n",
    "    torch.backends.cudnn.benchmark = False\n",
    "set_seed()"
   ]
  },
  {
   "cell_type": "markdown",
   "id": "8b9ad8e7-0681-4dfa-a46a-3885e28655b2",
   "metadata": {},
   "source": [
    "# Training The Dense (Tabular Data) branch"
   ]
  },
  {
   "cell_type": "code",
   "execution_count": 13,
   "id": "70d35bb9-1092-4375-87e4-22a51fa4a1d1",
   "metadata": {},
   "outputs": [
    {
     "name": "stdout",
     "output_type": "stream",
     "text": [
      "X shape: (24782, 27)\n",
      "Total samples: 24782\n",
      "Unique classes: ['A' 'B' 'CV' 'F' 'G' 'K' 'L' 'M' 'WD']\n"
     ]
    }
   ],
   "source": [
    "le_tabular = LabelEncoder()\n",
    "labels_encoded_tabular = le_tabular.fit_transform(labels_tabular)\n",
    "X = tabular_data_processed\n",
    "y = labels_encoded_tabular\n",
    "print(\"X shape:\", X.shape)\n",
    "print(f'Total samples: {X.shape[0]}')\n",
    "print(f'Unique classes: {le_tabular.classes_}')"
   ]
  },
  {
   "cell_type": "code",
   "execution_count": 14,
   "id": "6cecd38a-4be5-48f9-9d04-0d6d2be9a756",
   "metadata": {},
   "outputs": [
    {
     "name": "stdout",
     "output_type": "stream",
     "text": [
      "Train shape: (14868, 27), (14868,)\n",
      "Validation shape: (4957, 27), (4957,)\n",
      "Test shape: (4957, 27), (4957,)\n"
     ]
    }
   ],
   "source": [
    "X_table_train, y_table_train, X_table_val, y_table_val, X_table_test, y_table_test = split_sets(X, y)"
   ]
  },
  {
   "cell_type": "code",
   "execution_count": 15,
   "id": "17913a10-2f9e-46a7-b0a9-99925117e6c1",
   "metadata": {},
   "outputs": [],
   "source": [
    "X_table_train_fusion = X_table_train.copy()\n",
    "X_table_val_fusion = X_table_val.copy()\n",
    "X_table_test_fusion = X_table_test.copy()\n",
    "\n",
    "y_table_train_fusion = y_table_train.copy()\n",
    "y_table_val_fusion = y_table_val.copy()\n",
    "y_table_test_fusion = y_table_test.copy()"
   ]
  },
  {
   "cell_type": "code",
   "execution_count": 16,
   "id": "1fe42595-1ea9-4329-ba6a-6422c69c2c4e",
   "metadata": {},
   "outputs": [],
   "source": [
    "train_dataset_table_np = torch.utils.data.TensorDataset(\n",
    "    torch.tensor(X_table_train.values, dtype=torch.float32),\n",
    "    torch.tensor(y_table_train, dtype=torch.long)\n",
    ")\n",
    "\n",
    "val_dataset_table_np = torch.utils.data.TensorDataset(\n",
    "    torch.tensor(X_table_val.values, dtype=torch.float32),\n",
    "    torch.tensor(y_table_val, dtype=torch.long)\n",
    ")\n",
    "\n",
    "test_dataset_table_np = torch.utils.data.TensorDataset(\n",
    "    torch.tensor(X_table_test.values, dtype=torch.float32),\n",
    "    torch.tensor(y_table_test, dtype=torch.long)\n",
    ")"
   ]
  },
  {
   "cell_type": "code",
   "execution_count": 17,
   "id": "0a10c6ab-e5e8-4953-9c2d-62a1d585c347",
   "metadata": {},
   "outputs": [],
   "source": [
    "train_loader_tabular = DataLoader(train_dataset_table_np, batch_size=512, shuffle=True)\n",
    "val_loader_tabular = DataLoader(val_dataset_table_np, batch_size=512, shuffle=False)\n",
    "test_loader_tabular = DataLoader(test_dataset_table_np, batch_size=512, shuffle=True)"
   ]
  },
  {
   "cell_type": "code",
   "execution_count": 18,
   "id": "fdb61258-aafd-4f9e-8bda-03061af68fb8",
   "metadata": {},
   "outputs": [],
   "source": [
    "class StarTrack_Dense(nn.Module):\n",
    "    def __init__(self, input_size=27, hidden_sizes=[1024, 512, 512, 256, 128], output_size=9):\n",
    "        super().__init__()\n",
    "        self.fc1 = nn.Linear(input_size, hidden_sizes[0])\n",
    "        self.bn1 = nn.BatchNorm1d(hidden_sizes[0])\n",
    "\n",
    "        self.fc2 = nn.Linear(hidden_sizes[0], hidden_sizes[1])\n",
    "        self.bn2 = nn.BatchNorm1d(hidden_sizes[1])\n",
    "\n",
    "        self.fc3 = nn.Linear(hidden_sizes[1], hidden_sizes[2])\n",
    "        self.bn3 = nn.BatchNorm1d(hidden_sizes[2])\n",
    "        self.dropout = nn.Dropout(0.3)\n",
    "        self.out = nn.Linear(hidden_sizes[2], output_size)\n",
    "        self.act = nn.LeakyReLU(negative_slope=0.01)\n",
    "\n",
    "    def forward(self, x):\n",
    "        x1 = self.act(self.bn1(self.fc1(x)))\n",
    "        x1 = self.dropout(x1)\n",
    "        x2 = self.act(self.bn2(self.fc2(x1)))\n",
    "        x2 = self.dropout(x2)\n",
    "        x3 = self.act(self.bn3(self.fc3(x2)))\n",
    "        x3 = self.dropout(x3)\n",
    "\n",
    "        return self.out(x3)\n"
   ]
  },
  {
   "cell_type": "code",
   "execution_count": 19,
   "id": "898b85b5-b7ce-4544-84f4-d4a822f3ef00",
   "metadata": {},
   "outputs": [],
   "source": [
    "StarTrack_Dense_V1 = StarTrack_Dense()\n",
    "StarTrack_Dense_V1 = StarTrack_Dense_V1 .to(device)"
   ]
  },
  {
   "cell_type": "code",
   "execution_count": 23,
   "id": "a2718405-1895-4d15-91b7-311031f455e6",
   "metadata": {},
   "outputs": [],
   "source": [
    "class_weights_dense = [0.90371991, 6.71544715, 1.84994401, 0.5, 1.83351831, 1.4, 10.13496933, 0.9, 2.48795181]\n",
    "class_weights_dense = torch.tensor(class_weights_dense).to(device)\n",
    "loss_fn = nn.CrossEntropyLoss(weight=class_weights_dense)\n",
    "optimizer_dense = torch.optim.Adam(StarTrack_Dense_V1.parameters(), lr=1e-3, weight_decay=5e-4)\n",
    "scheduler_dense = torch.optim.lr_scheduler.ReduceLROnPlateau(optimizer_dense, mode='min', factor=0.1, patience=5)"
   ]
  },
  {
   "cell_type": "code",
   "execution_count": 24,
   "id": "1fc9bcee-2472-4c5b-bb58-c1ae82e9e799",
   "metadata": {
    "scrolled": true
   },
   "outputs": [
    {
     "name": "stderr",
     "output_type": "stream",
     "text": [
      "                                                                               "
     ]
    },
    {
     "name": "stdout",
     "output_type": "stream",
     "text": [
      "Epoch 1/400 | Train Loss: 2.136739 | Val Loss: 2.331670\n"
     ]
    },
    {
     "name": "stderr",
     "output_type": "stream",
     "text": [
      "                                                                               "
     ]
    },
    {
     "name": "stdout",
     "output_type": "stream",
     "text": [
      "Epoch 2/400 | Train Loss: 1.752647 | Val Loss: 3.607937\n"
     ]
    },
    {
     "name": "stderr",
     "output_type": "stream",
     "text": [
      "                                                                               "
     ]
    },
    {
     "name": "stdout",
     "output_type": "stream",
     "text": [
      "Epoch 3/400 | Train Loss: 1.507194 | Val Loss: 12.953308\n"
     ]
    },
    {
     "name": "stderr",
     "output_type": "stream",
     "text": [
      "                                                                               "
     ]
    },
    {
     "name": "stdout",
     "output_type": "stream",
     "text": [
      "Epoch 4/400 | Train Loss: 1.450796 | Val Loss: 3.930397\n"
     ]
    },
    {
     "name": "stderr",
     "output_type": "stream",
     "text": [
      "                                                                               "
     ]
    },
    {
     "name": "stdout",
     "output_type": "stream",
     "text": [
      "Epoch 5/400 | Train Loss: 1.384403 | Val Loss: 3.546723\n"
     ]
    },
    {
     "name": "stderr",
     "output_type": "stream",
     "text": [
      "                                                                               "
     ]
    },
    {
     "name": "stdout",
     "output_type": "stream",
     "text": [
      "Epoch 6/400 | Train Loss: 1.351711 | Val Loss: 7.589209\n"
     ]
    },
    {
     "name": "stderr",
     "output_type": "stream",
     "text": [
      "                                                                               "
     ]
    },
    {
     "name": "stdout",
     "output_type": "stream",
     "text": [
      "Epoch 7/400 | Train Loss: 1.309261 | Val Loss: 3.516080\n"
     ]
    },
    {
     "name": "stderr",
     "output_type": "stream",
     "text": [
      "                                                                               "
     ]
    },
    {
     "name": "stdout",
     "output_type": "stream",
     "text": [
      "Epoch 8/400 | Train Loss: 1.276298 | Val Loss: 2.100897\n"
     ]
    },
    {
     "name": "stderr",
     "output_type": "stream",
     "text": [
      "                                                                               "
     ]
    },
    {
     "name": "stdout",
     "output_type": "stream",
     "text": [
      "Epoch 9/400 | Train Loss: 1.240343 | Val Loss: 1.775474\n"
     ]
    },
    {
     "name": "stderr",
     "output_type": "stream",
     "text": [
      "                                                                               "
     ]
    },
    {
     "name": "stdout",
     "output_type": "stream",
     "text": [
      "Epoch 10/400 | Train Loss: 1.236766 | Val Loss: 3.621374\n"
     ]
    },
    {
     "name": "stderr",
     "output_type": "stream",
     "text": [
      "                                                                               "
     ]
    },
    {
     "name": "stdout",
     "output_type": "stream",
     "text": [
      "Epoch 11/400 | Train Loss: 1.231316 | Val Loss: 2.066041\n"
     ]
    },
    {
     "name": "stderr",
     "output_type": "stream",
     "text": [
      "                                                                               "
     ]
    },
    {
     "name": "stdout",
     "output_type": "stream",
     "text": [
      "Epoch 12/400 | Train Loss: 1.216040 | Val Loss: 2.988255\n"
     ]
    },
    {
     "name": "stderr",
     "output_type": "stream",
     "text": [
      "                                                                               "
     ]
    },
    {
     "name": "stdout",
     "output_type": "stream",
     "text": [
      "Epoch 13/400 | Train Loss: 1.214688 | Val Loss: 2.208308\n"
     ]
    },
    {
     "name": "stderr",
     "output_type": "stream",
     "text": [
      "                                                                               "
     ]
    },
    {
     "name": "stdout",
     "output_type": "stream",
     "text": [
      "Epoch 14/400 | Train Loss: 1.197539 | Val Loss: 2.039352\n"
     ]
    },
    {
     "name": "stderr",
     "output_type": "stream",
     "text": [
      "                                                                               "
     ]
    },
    {
     "name": "stdout",
     "output_type": "stream",
     "text": [
      "Epoch 15/400 | Train Loss: 1.196613 | Val Loss: 1.535126\n"
     ]
    },
    {
     "name": "stderr",
     "output_type": "stream",
     "text": [
      "                                                                               "
     ]
    },
    {
     "name": "stdout",
     "output_type": "stream",
     "text": [
      "Epoch 16/400 | Train Loss: 1.195752 | Val Loss: 3.295332\n"
     ]
    },
    {
     "name": "stderr",
     "output_type": "stream",
     "text": [
      "                                                                               "
     ]
    },
    {
     "name": "stdout",
     "output_type": "stream",
     "text": [
      "Epoch 17/400 | Train Loss: 1.197291 | Val Loss: 3.229957\n"
     ]
    },
    {
     "name": "stderr",
     "output_type": "stream",
     "text": [
      "                                                                               "
     ]
    },
    {
     "name": "stdout",
     "output_type": "stream",
     "text": [
      "Epoch 18/400 | Train Loss: 1.178525 | Val Loss: 1.876288\n"
     ]
    },
    {
     "name": "stderr",
     "output_type": "stream",
     "text": [
      "                                                                               "
     ]
    },
    {
     "name": "stdout",
     "output_type": "stream",
     "text": [
      "Epoch 19/400 | Train Loss: 1.169022 | Val Loss: 1.675161\n"
     ]
    },
    {
     "name": "stderr",
     "output_type": "stream",
     "text": [
      "                                                                               "
     ]
    },
    {
     "name": "stdout",
     "output_type": "stream",
     "text": [
      "Epoch 20/400 | Train Loss: 1.174728 | Val Loss: 1.452106\n"
     ]
    },
    {
     "name": "stderr",
     "output_type": "stream",
     "text": [
      "                                                                               "
     ]
    },
    {
     "name": "stdout",
     "output_type": "stream",
     "text": [
      "Epoch 21/400 | Train Loss: 1.169822 | Val Loss: 1.643124\n"
     ]
    },
    {
     "name": "stderr",
     "output_type": "stream",
     "text": [
      "                                                                               "
     ]
    },
    {
     "name": "stdout",
     "output_type": "stream",
     "text": [
      "Epoch 22/400 | Train Loss: 1.171542 | Val Loss: 3.063309\n"
     ]
    },
    {
     "name": "stderr",
     "output_type": "stream",
     "text": [
      "                                                                               "
     ]
    },
    {
     "name": "stdout",
     "output_type": "stream",
     "text": [
      "Epoch 23/400 | Train Loss: 1.157002 | Val Loss: 2.806570\n"
     ]
    },
    {
     "name": "stderr",
     "output_type": "stream",
     "text": [
      "                                                                               "
     ]
    },
    {
     "name": "stdout",
     "output_type": "stream",
     "text": [
      "Epoch 24/400 | Train Loss: 1.151484 | Val Loss: 3.921642\n"
     ]
    },
    {
     "name": "stderr",
     "output_type": "stream",
     "text": [
      "                                                                               "
     ]
    },
    {
     "name": "stdout",
     "output_type": "stream",
     "text": [
      "Epoch 25/400 | Train Loss: 1.151641 | Val Loss: 1.676770\n"
     ]
    },
    {
     "name": "stderr",
     "output_type": "stream",
     "text": [
      "                                                                               "
     ]
    },
    {
     "name": "stdout",
     "output_type": "stream",
     "text": [
      "Epoch 26/400 | Train Loss: 1.152961 | Val Loss: 1.699780\n"
     ]
    },
    {
     "name": "stderr",
     "output_type": "stream",
     "text": [
      "                                                                               "
     ]
    },
    {
     "name": "stdout",
     "output_type": "stream",
     "text": [
      "Epoch 27/400 | Train Loss: 1.148856 | Val Loss: 1.129445\n"
     ]
    },
    {
     "name": "stderr",
     "output_type": "stream",
     "text": [
      "                                                                               "
     ]
    },
    {
     "name": "stdout",
     "output_type": "stream",
     "text": [
      "Epoch 28/400 | Train Loss: 1.148236 | Val Loss: 1.226234\n"
     ]
    },
    {
     "name": "stderr",
     "output_type": "stream",
     "text": [
      "                                                                               "
     ]
    },
    {
     "name": "stdout",
     "output_type": "stream",
     "text": [
      "Epoch 29/400 | Train Loss: 1.150482 | Val Loss: 1.133018\n"
     ]
    },
    {
     "name": "stderr",
     "output_type": "stream",
     "text": [
      "                                                                               "
     ]
    },
    {
     "name": "stdout",
     "output_type": "stream",
     "text": [
      "Epoch 30/400 | Train Loss: 1.139661 | Val Loss: 1.089843\n"
     ]
    },
    {
     "name": "stderr",
     "output_type": "stream",
     "text": [
      "                                                                               "
     ]
    },
    {
     "name": "stdout",
     "output_type": "stream",
     "text": [
      "Epoch 31/400 | Train Loss: 1.148116 | Val Loss: 1.102834\n"
     ]
    },
    {
     "name": "stderr",
     "output_type": "stream",
     "text": [
      "                                                                               "
     ]
    },
    {
     "name": "stdout",
     "output_type": "stream",
     "text": [
      "Epoch 32/400 | Train Loss: 1.140564 | Val Loss: 1.181573\n"
     ]
    },
    {
     "name": "stderr",
     "output_type": "stream",
     "text": [
      "                                                                               "
     ]
    },
    {
     "name": "stdout",
     "output_type": "stream",
     "text": [
      "Epoch 33/400 | Train Loss: 1.159388 | Val Loss: 1.317711\n"
     ]
    },
    {
     "name": "stderr",
     "output_type": "stream",
     "text": [
      "                                                                               "
     ]
    },
    {
     "name": "stdout",
     "output_type": "stream",
     "text": [
      "Epoch 34/400 | Train Loss: 1.148104 | Val Loss: 1.071123\n"
     ]
    },
    {
     "name": "stderr",
     "output_type": "stream",
     "text": [
      "                                                                               "
     ]
    },
    {
     "name": "stdout",
     "output_type": "stream",
     "text": [
      "Epoch 35/400 | Train Loss: 1.141229 | Val Loss: 1.110851\n"
     ]
    },
    {
     "name": "stderr",
     "output_type": "stream",
     "text": [
      "                                                                               "
     ]
    },
    {
     "name": "stdout",
     "output_type": "stream",
     "text": [
      "Epoch 36/400 | Train Loss: 1.145032 | Val Loss: 1.136974\n"
     ]
    },
    {
     "name": "stderr",
     "output_type": "stream",
     "text": [
      "                                                                               "
     ]
    },
    {
     "name": "stdout",
     "output_type": "stream",
     "text": [
      "Epoch 37/400 | Train Loss: 1.143771 | Val Loss: 1.098973\n"
     ]
    },
    {
     "name": "stderr",
     "output_type": "stream",
     "text": [
      "                                                                               "
     ]
    },
    {
     "name": "stdout",
     "output_type": "stream",
     "text": [
      "Epoch 38/400 | Train Loss: 1.140560 | Val Loss: 1.077874\n"
     ]
    },
    {
     "name": "stderr",
     "output_type": "stream",
     "text": [
      "                                                                               "
     ]
    },
    {
     "name": "stdout",
     "output_type": "stream",
     "text": [
      "Epoch 39/400 | Train Loss: 1.147688 | Val Loss: 1.106926\n"
     ]
    },
    {
     "name": "stderr",
     "output_type": "stream",
     "text": [
      "                                                                               "
     ]
    },
    {
     "name": "stdout",
     "output_type": "stream",
     "text": [
      "Epoch 40/400 | Train Loss: 1.141012 | Val Loss: 1.124383\n"
     ]
    },
    {
     "name": "stderr",
     "output_type": "stream",
     "text": [
      "                                                                               "
     ]
    },
    {
     "name": "stdout",
     "output_type": "stream",
     "text": [
      "Epoch 41/400 | Train Loss: 1.139239 | Val Loss: 1.078316\n"
     ]
    },
    {
     "name": "stderr",
     "output_type": "stream",
     "text": [
      "                                                                               "
     ]
    },
    {
     "name": "stdout",
     "output_type": "stream",
     "text": [
      "Epoch 42/400 | Train Loss: 1.139590 | Val Loss: 1.063435\n"
     ]
    },
    {
     "name": "stderr",
     "output_type": "stream",
     "text": [
      "                                                                               "
     ]
    },
    {
     "name": "stdout",
     "output_type": "stream",
     "text": [
      "Epoch 43/400 | Train Loss: 1.134444 | Val Loss: 1.081948\n"
     ]
    },
    {
     "name": "stderr",
     "output_type": "stream",
     "text": [
      "                                                                               "
     ]
    },
    {
     "name": "stdout",
     "output_type": "stream",
     "text": [
      "Epoch 44/400 | Train Loss: 1.143801 | Val Loss: 1.071638\n"
     ]
    },
    {
     "name": "stderr",
     "output_type": "stream",
     "text": [
      "                                                                               "
     ]
    },
    {
     "name": "stdout",
     "output_type": "stream",
     "text": [
      "Epoch 45/400 | Train Loss: 1.133969 | Val Loss: 1.084128\n"
     ]
    },
    {
     "name": "stderr",
     "output_type": "stream",
     "text": [
      "                                                                               "
     ]
    },
    {
     "name": "stdout",
     "output_type": "stream",
     "text": [
      "Epoch 46/400 | Train Loss: 1.140029 | Val Loss: 1.087025\n"
     ]
    },
    {
     "name": "stderr",
     "output_type": "stream",
     "text": [
      "                                                                               "
     ]
    },
    {
     "name": "stdout",
     "output_type": "stream",
     "text": [
      "Epoch 47/400 | Train Loss: 1.133068 | Val Loss: 1.084359\n"
     ]
    },
    {
     "name": "stderr",
     "output_type": "stream",
     "text": [
      "                                                                               "
     ]
    },
    {
     "name": "stdout",
     "output_type": "stream",
     "text": [
      "Epoch 48/400 | Train Loss: 1.140092 | Val Loss: 1.079295\n"
     ]
    },
    {
     "name": "stderr",
     "output_type": "stream",
     "text": [
      "                                                                               "
     ]
    },
    {
     "name": "stdout",
     "output_type": "stream",
     "text": [
      "Epoch 49/400 | Train Loss: 1.143916 | Val Loss: 1.074036\n"
     ]
    },
    {
     "name": "stderr",
     "output_type": "stream",
     "text": [
      "                                                                               "
     ]
    },
    {
     "name": "stdout",
     "output_type": "stream",
     "text": [
      "Epoch 50/400 | Train Loss: 1.139683 | Val Loss: 1.067949\n"
     ]
    },
    {
     "name": "stderr",
     "output_type": "stream",
     "text": [
      "                                                                               "
     ]
    },
    {
     "name": "stdout",
     "output_type": "stream",
     "text": [
      "Epoch 51/400 | Train Loss: 1.127980 | Val Loss: 1.083255\n"
     ]
    },
    {
     "name": "stderr",
     "output_type": "stream",
     "text": [
      "                                                                               "
     ]
    },
    {
     "name": "stdout",
     "output_type": "stream",
     "text": [
      "Epoch 52/400 | Train Loss: 1.135585 | Val Loss: 1.071798\n"
     ]
    },
    {
     "name": "stderr",
     "output_type": "stream",
     "text": [
      "                                                                               "
     ]
    },
    {
     "name": "stdout",
     "output_type": "stream",
     "text": [
      "Epoch 53/400 | Train Loss: 1.145662 | Val Loss: 1.077435\n"
     ]
    },
    {
     "name": "stderr",
     "output_type": "stream",
     "text": [
      "                                                                               "
     ]
    },
    {
     "name": "stdout",
     "output_type": "stream",
     "text": [
      "Epoch 54/400 | Train Loss: 1.137780 | Val Loss: 1.081396\n"
     ]
    },
    {
     "name": "stderr",
     "output_type": "stream",
     "text": [
      "                                                                               "
     ]
    },
    {
     "name": "stdout",
     "output_type": "stream",
     "text": [
      "Epoch 55/400 | Train Loss: 1.141641 | Val Loss: 1.068195\n"
     ]
    },
    {
     "name": "stderr",
     "output_type": "stream",
     "text": [
      "                                                                               "
     ]
    },
    {
     "name": "stdout",
     "output_type": "stream",
     "text": [
      "Epoch 56/400 | Train Loss: 1.143040 | Val Loss: 1.071479\n"
     ]
    },
    {
     "name": "stderr",
     "output_type": "stream",
     "text": [
      "                                                                               "
     ]
    },
    {
     "name": "stdout",
     "output_type": "stream",
     "text": [
      "Epoch 57/400 | Train Loss: 1.138116 | Val Loss: 1.076461\n"
     ]
    },
    {
     "name": "stderr",
     "output_type": "stream",
     "text": [
      "                                                                               "
     ]
    },
    {
     "name": "stdout",
     "output_type": "stream",
     "text": [
      "Epoch 58/400 | Train Loss: 1.139290 | Val Loss: 1.072973\n"
     ]
    },
    {
     "name": "stderr",
     "output_type": "stream",
     "text": [
      "                                                                               "
     ]
    },
    {
     "name": "stdout",
     "output_type": "stream",
     "text": [
      "Epoch 59/400 | Train Loss: 1.139716 | Val Loss: 1.073317\n"
     ]
    },
    {
     "name": "stderr",
     "output_type": "stream",
     "text": [
      "                                                                               "
     ]
    },
    {
     "name": "stdout",
     "output_type": "stream",
     "text": [
      "Epoch 60/400 | Train Loss: 1.145090 | Val Loss: 1.064503\n"
     ]
    },
    {
     "name": "stderr",
     "output_type": "stream",
     "text": [
      "                                                                               "
     ]
    },
    {
     "name": "stdout",
     "output_type": "stream",
     "text": [
      "Epoch 61/400 | Train Loss: 1.139594 | Val Loss: 1.071321\n"
     ]
    },
    {
     "name": "stderr",
     "output_type": "stream",
     "text": [
      "                                                                               "
     ]
    },
    {
     "name": "stdout",
     "output_type": "stream",
     "text": [
      "Epoch 62/400 | Train Loss: 1.137264 | Val Loss: 1.078544\n"
     ]
    },
    {
     "name": "stderr",
     "output_type": "stream",
     "text": [
      "                                                                               "
     ]
    },
    {
     "name": "stdout",
     "output_type": "stream",
     "text": [
      "Epoch 63/400 | Train Loss: 1.137433 | Val Loss: 1.070596\n"
     ]
    },
    {
     "name": "stderr",
     "output_type": "stream",
     "text": [
      "                                                                               "
     ]
    },
    {
     "name": "stdout",
     "output_type": "stream",
     "text": [
      "Epoch 64/400 | Train Loss: 1.134156 | Val Loss: 1.074598\n"
     ]
    },
    {
     "name": "stderr",
     "output_type": "stream",
     "text": [
      "                                                                               "
     ]
    },
    {
     "name": "stdout",
     "output_type": "stream",
     "text": [
      "Epoch 65/400 | Train Loss: 1.141304 | Val Loss: 1.072165\n"
     ]
    },
    {
     "name": "stderr",
     "output_type": "stream",
     "text": [
      "                                                                               "
     ]
    },
    {
     "name": "stdout",
     "output_type": "stream",
     "text": [
      "Epoch 66/400 | Train Loss: 1.148852 | Val Loss: 1.074241\n"
     ]
    },
    {
     "name": "stderr",
     "output_type": "stream",
     "text": [
      "                                                                               "
     ]
    },
    {
     "name": "stdout",
     "output_type": "stream",
     "text": [
      "Epoch 67/400 | Train Loss: 1.133598 | Val Loss: 1.065504\n"
     ]
    },
    {
     "name": "stderr",
     "output_type": "stream",
     "text": [
      "                                                                               "
     ]
    },
    {
     "name": "stdout",
     "output_type": "stream",
     "text": [
      "Epoch 68/400 | Train Loss: 1.132219 | Val Loss: 1.070768\n"
     ]
    },
    {
     "name": "stderr",
     "output_type": "stream",
     "text": [
      "                                                                               "
     ]
    },
    {
     "name": "stdout",
     "output_type": "stream",
     "text": [
      "Epoch 69/400 | Train Loss: 1.151301 | Val Loss: 1.073917\n"
     ]
    },
    {
     "name": "stderr",
     "output_type": "stream",
     "text": [
      "                                                                               "
     ]
    },
    {
     "name": "stdout",
     "output_type": "stream",
     "text": [
      "Epoch 70/400 | Train Loss: 1.130112 | Val Loss: 1.071561\n"
     ]
    },
    {
     "name": "stderr",
     "output_type": "stream",
     "text": [
      "                                                                               "
     ]
    },
    {
     "name": "stdout",
     "output_type": "stream",
     "text": [
      "Epoch 71/400 | Train Loss: 1.127333 | Val Loss: 1.072751\n"
     ]
    },
    {
     "name": "stderr",
     "output_type": "stream",
     "text": [
      "                                                                               "
     ]
    },
    {
     "name": "stdout",
     "output_type": "stream",
     "text": [
      "Epoch 72/400 | Train Loss: 1.140880 | Val Loss: 1.072342\n"
     ]
    },
    {
     "name": "stderr",
     "output_type": "stream",
     "text": [
      "                                                                               "
     ]
    },
    {
     "name": "stdout",
     "output_type": "stream",
     "text": [
      "Epoch 73/400 | Train Loss: 1.146431 | Val Loss: 1.064866\n"
     ]
    },
    {
     "name": "stderr",
     "output_type": "stream",
     "text": [
      "                                                                               "
     ]
    },
    {
     "name": "stdout",
     "output_type": "stream",
     "text": [
      "Epoch 74/400 | Train Loss: 1.134596 | Val Loss: 1.072686\n"
     ]
    },
    {
     "name": "stderr",
     "output_type": "stream",
     "text": [
      "                                                                               "
     ]
    },
    {
     "name": "stdout",
     "output_type": "stream",
     "text": [
      "Epoch 75/400 | Train Loss: 1.132906 | Val Loss: 1.069422\n"
     ]
    },
    {
     "name": "stderr",
     "output_type": "stream",
     "text": [
      "                                                                               "
     ]
    },
    {
     "name": "stdout",
     "output_type": "stream",
     "text": [
      "Epoch 76/400 | Train Loss: 1.131887 | Val Loss: 1.076230\n"
     ]
    },
    {
     "name": "stderr",
     "output_type": "stream",
     "text": [
      "                                                                               "
     ]
    },
    {
     "name": "stdout",
     "output_type": "stream",
     "text": [
      "Epoch 77/400 | Train Loss: 1.135867 | Val Loss: 1.072484\n"
     ]
    },
    {
     "name": "stderr",
     "output_type": "stream",
     "text": [
      "                                                                               "
     ]
    },
    {
     "name": "stdout",
     "output_type": "stream",
     "text": [
      "Epoch 78/400 | Train Loss: 1.131887 | Val Loss: 1.062936\n"
     ]
    },
    {
     "name": "stderr",
     "output_type": "stream",
     "text": [
      "                                                                               "
     ]
    },
    {
     "name": "stdout",
     "output_type": "stream",
     "text": [
      "Epoch 79/400 | Train Loss: 1.139871 | Val Loss: 1.070322\n"
     ]
    },
    {
     "name": "stderr",
     "output_type": "stream",
     "text": [
      "                                                                               "
     ]
    },
    {
     "name": "stdout",
     "output_type": "stream",
     "text": [
      "Epoch 80/400 | Train Loss: 1.137324 | Val Loss: 1.066152\n"
     ]
    },
    {
     "name": "stderr",
     "output_type": "stream",
     "text": [
      "                                                                               "
     ]
    },
    {
     "name": "stdout",
     "output_type": "stream",
     "text": [
      "Epoch 81/400 | Train Loss: 1.137381 | Val Loss: 1.077834\n"
     ]
    },
    {
     "name": "stderr",
     "output_type": "stream",
     "text": [
      "                                                                               "
     ]
    },
    {
     "name": "stdout",
     "output_type": "stream",
     "text": [
      "Epoch 82/400 | Train Loss: 1.138620 | Val Loss: 1.073305\n"
     ]
    },
    {
     "name": "stderr",
     "output_type": "stream",
     "text": [
      "                                                                               "
     ]
    },
    {
     "name": "stdout",
     "output_type": "stream",
     "text": [
      "Epoch 83/400 | Train Loss: 1.132039 | Val Loss: 1.082906\n"
     ]
    },
    {
     "name": "stderr",
     "output_type": "stream",
     "text": [
      "                                                                               "
     ]
    },
    {
     "name": "stdout",
     "output_type": "stream",
     "text": [
      "Epoch 84/400 | Train Loss: 1.137362 | Val Loss: 1.073376\n"
     ]
    },
    {
     "name": "stderr",
     "output_type": "stream",
     "text": [
      "                                                                               "
     ]
    },
    {
     "name": "stdout",
     "output_type": "stream",
     "text": [
      "Epoch 85/400 | Train Loss: 1.142298 | Val Loss: 1.065530\n"
     ]
    },
    {
     "name": "stderr",
     "output_type": "stream",
     "text": [
      "                                                                               "
     ]
    },
    {
     "name": "stdout",
     "output_type": "stream",
     "text": [
      "Epoch 86/400 | Train Loss: 1.138563 | Val Loss: 1.077291\n"
     ]
    },
    {
     "name": "stderr",
     "output_type": "stream",
     "text": [
      "                                                                               "
     ]
    },
    {
     "name": "stdout",
     "output_type": "stream",
     "text": [
      "Epoch 87/400 | Train Loss: 1.143809 | Val Loss: 1.067180\n"
     ]
    },
    {
     "name": "stderr",
     "output_type": "stream",
     "text": [
      "                                                                               "
     ]
    },
    {
     "name": "stdout",
     "output_type": "stream",
     "text": [
      "Epoch 88/400 | Train Loss: 1.130923 | Val Loss: 1.067272\n"
     ]
    },
    {
     "name": "stderr",
     "output_type": "stream",
     "text": [
      "                                                                               "
     ]
    },
    {
     "name": "stdout",
     "output_type": "stream",
     "text": [
      "Epoch 89/400 | Train Loss: 1.141152 | Val Loss: 1.071853\n"
     ]
    },
    {
     "name": "stderr",
     "output_type": "stream",
     "text": [
      "                                                                               "
     ]
    },
    {
     "name": "stdout",
     "output_type": "stream",
     "text": [
      "Epoch 90/400 | Train Loss: 1.137088 | Val Loss: 1.080069\n"
     ]
    },
    {
     "name": "stderr",
     "output_type": "stream",
     "text": [
      "                                                                               "
     ]
    },
    {
     "name": "stdout",
     "output_type": "stream",
     "text": [
      "Epoch 91/400 | Train Loss: 1.141235 | Val Loss: 1.086757\n"
     ]
    },
    {
     "name": "stderr",
     "output_type": "stream",
     "text": [
      "                                                                               "
     ]
    },
    {
     "name": "stdout",
     "output_type": "stream",
     "text": [
      "Epoch 92/400 | Train Loss: 1.144173 | Val Loss: 1.080653\n"
     ]
    },
    {
     "name": "stderr",
     "output_type": "stream",
     "text": [
      "                                                                               "
     ]
    },
    {
     "name": "stdout",
     "output_type": "stream",
     "text": [
      "Epoch 93/400 | Train Loss: 1.137199 | Val Loss: 1.082209\n"
     ]
    },
    {
     "name": "stderr",
     "output_type": "stream",
     "text": [
      "                                                                               "
     ]
    },
    {
     "name": "stdout",
     "output_type": "stream",
     "text": [
      "Epoch 94/400 | Train Loss: 1.138086 | Val Loss: 1.096937\n"
     ]
    },
    {
     "name": "stderr",
     "output_type": "stream",
     "text": [
      "                                                                               "
     ]
    },
    {
     "name": "stdout",
     "output_type": "stream",
     "text": [
      "Epoch 95/400 | Train Loss: 1.141275 | Val Loss: 1.072856\n"
     ]
    },
    {
     "name": "stderr",
     "output_type": "stream",
     "text": [
      "                                                                               "
     ]
    },
    {
     "name": "stdout",
     "output_type": "stream",
     "text": [
      "Epoch 96/400 | Train Loss: 1.136508 | Val Loss: 1.065345\n"
     ]
    },
    {
     "name": "stderr",
     "output_type": "stream",
     "text": [
      "                                                                               "
     ]
    },
    {
     "name": "stdout",
     "output_type": "stream",
     "text": [
      "Epoch 97/400 | Train Loss: 1.137115 | Val Loss: 1.074751\n"
     ]
    },
    {
     "name": "stderr",
     "output_type": "stream",
     "text": [
      "                                                                               "
     ]
    },
    {
     "name": "stdout",
     "output_type": "stream",
     "text": [
      "Epoch 98/400 | Train Loss: 1.134875 | Val Loss: 1.085124\n"
     ]
    },
    {
     "name": "stderr",
     "output_type": "stream",
     "text": [
      "                                                                               "
     ]
    },
    {
     "name": "stdout",
     "output_type": "stream",
     "text": [
      "Epoch 99/400 | Train Loss: 1.130309 | Val Loss: 1.072447\n"
     ]
    },
    {
     "name": "stderr",
     "output_type": "stream",
     "text": [
      "                                                                               "
     ]
    },
    {
     "name": "stdout",
     "output_type": "stream",
     "text": [
      "Epoch 100/400 | Train Loss: 1.136010 | Val Loss: 1.065643\n"
     ]
    },
    {
     "name": "stderr",
     "output_type": "stream",
     "text": [
      "                                                                               "
     ]
    },
    {
     "name": "stdout",
     "output_type": "stream",
     "text": [
      "Epoch 101/400 | Train Loss: 1.133103 | Val Loss: 1.089539\n"
     ]
    },
    {
     "name": "stderr",
     "output_type": "stream",
     "text": [
      "                                                                               "
     ]
    },
    {
     "name": "stdout",
     "output_type": "stream",
     "text": [
      "Epoch 102/400 | Train Loss: 1.133728 | Val Loss: 1.082645\n"
     ]
    },
    {
     "name": "stderr",
     "output_type": "stream",
     "text": [
      "                                                                               "
     ]
    },
    {
     "name": "stdout",
     "output_type": "stream",
     "text": [
      "Epoch 103/400 | Train Loss: 1.132976 | Val Loss: 1.063907\n"
     ]
    },
    {
     "name": "stderr",
     "output_type": "stream",
     "text": [
      "                                                                               "
     ]
    },
    {
     "name": "stdout",
     "output_type": "stream",
     "text": [
      "Epoch 104/400 | Train Loss: 1.129165 | Val Loss: 1.072589\n"
     ]
    },
    {
     "name": "stderr",
     "output_type": "stream",
     "text": [
      "                                                                               "
     ]
    },
    {
     "name": "stdout",
     "output_type": "stream",
     "text": [
      "Epoch 105/400 | Train Loss: 1.142632 | Val Loss: 1.078592\n"
     ]
    },
    {
     "name": "stderr",
     "output_type": "stream",
     "text": [
      "                                                                               "
     ]
    },
    {
     "name": "stdout",
     "output_type": "stream",
     "text": [
      "Epoch 106/400 | Train Loss: 1.139994 | Val Loss: 1.073117\n"
     ]
    },
    {
     "name": "stderr",
     "output_type": "stream",
     "text": [
      "                                                                               "
     ]
    },
    {
     "name": "stdout",
     "output_type": "stream",
     "text": [
      "Epoch 107/400 | Train Loss: 1.137868 | Val Loss: 1.079444\n"
     ]
    },
    {
     "name": "stderr",
     "output_type": "stream",
     "text": [
      "                                                                               "
     ]
    },
    {
     "name": "stdout",
     "output_type": "stream",
     "text": [
      "Epoch 108/400 | Train Loss: 1.144748 | Val Loss: 1.066147\n"
     ]
    },
    {
     "name": "stderr",
     "output_type": "stream",
     "text": [
      "                                                                               "
     ]
    },
    {
     "name": "stdout",
     "output_type": "stream",
     "text": [
      "Epoch 109/400 | Train Loss: 1.143406 | Val Loss: 1.076584\n"
     ]
    },
    {
     "name": "stderr",
     "output_type": "stream",
     "text": [
      "                                                                               "
     ]
    },
    {
     "name": "stdout",
     "output_type": "stream",
     "text": [
      "Epoch 110/400 | Train Loss: 1.141520 | Val Loss: 1.065489\n"
     ]
    },
    {
     "name": "stderr",
     "output_type": "stream",
     "text": [
      "                                                                               "
     ]
    },
    {
     "name": "stdout",
     "output_type": "stream",
     "text": [
      "Epoch 111/400 | Train Loss: 1.137184 | Val Loss: 1.089376\n"
     ]
    },
    {
     "name": "stderr",
     "output_type": "stream",
     "text": [
      "                                                                               "
     ]
    },
    {
     "name": "stdout",
     "output_type": "stream",
     "text": [
      "Epoch 112/400 | Train Loss: 1.128621 | Val Loss: 1.070129\n"
     ]
    },
    {
     "name": "stderr",
     "output_type": "stream",
     "text": [
      "                                                                               "
     ]
    },
    {
     "name": "stdout",
     "output_type": "stream",
     "text": [
      "Epoch 113/400 | Train Loss: 1.140028 | Val Loss: 1.067895\n"
     ]
    },
    {
     "name": "stderr",
     "output_type": "stream",
     "text": [
      "                                                                               "
     ]
    },
    {
     "name": "stdout",
     "output_type": "stream",
     "text": [
      "Epoch 114/400 | Train Loss: 1.137624 | Val Loss: 1.081681\n"
     ]
    },
    {
     "name": "stderr",
     "output_type": "stream",
     "text": [
      "                                                                               "
     ]
    },
    {
     "name": "stdout",
     "output_type": "stream",
     "text": [
      "Epoch 115/400 | Train Loss: 1.141853 | Val Loss: 1.067811\n"
     ]
    },
    {
     "name": "stderr",
     "output_type": "stream",
     "text": [
      "                                                                               "
     ]
    },
    {
     "name": "stdout",
     "output_type": "stream",
     "text": [
      "Epoch 116/400 | Train Loss: 1.139025 | Val Loss: 1.065863\n"
     ]
    },
    {
     "name": "stderr",
     "output_type": "stream",
     "text": [
      "                                                                               "
     ]
    },
    {
     "name": "stdout",
     "output_type": "stream",
     "text": [
      "Epoch 117/400 | Train Loss: 1.138826 | Val Loss: 1.074069\n"
     ]
    },
    {
     "name": "stderr",
     "output_type": "stream",
     "text": [
      "                                                                               "
     ]
    },
    {
     "name": "stdout",
     "output_type": "stream",
     "text": [
      "Epoch 118/400 | Train Loss: 1.129839 | Val Loss: 1.071100\n"
     ]
    },
    {
     "name": "stderr",
     "output_type": "stream",
     "text": [
      "                                                                               "
     ]
    },
    {
     "name": "stdout",
     "output_type": "stream",
     "text": [
      "Epoch 119/400 | Train Loss: 1.137837 | Val Loss: 1.064786\n"
     ]
    },
    {
     "name": "stderr",
     "output_type": "stream",
     "text": [
      "                                                                               "
     ]
    },
    {
     "name": "stdout",
     "output_type": "stream",
     "text": [
      "Epoch 120/400 | Train Loss: 1.141375 | Val Loss: 1.080372\n"
     ]
    },
    {
     "name": "stderr",
     "output_type": "stream",
     "text": [
      "                                                                               "
     ]
    },
    {
     "name": "stdout",
     "output_type": "stream",
     "text": [
      "Epoch 121/400 | Train Loss: 1.142087 | Val Loss: 1.070474\n"
     ]
    },
    {
     "name": "stderr",
     "output_type": "stream",
     "text": [
      "                                                                               "
     ]
    },
    {
     "name": "stdout",
     "output_type": "stream",
     "text": [
      "Epoch 122/400 | Train Loss: 1.142192 | Val Loss: 1.073479\n"
     ]
    },
    {
     "name": "stderr",
     "output_type": "stream",
     "text": [
      "                                                                               "
     ]
    },
    {
     "name": "stdout",
     "output_type": "stream",
     "text": [
      "Epoch 123/400 | Train Loss: 1.140888 | Val Loss: 1.070723\n"
     ]
    },
    {
     "name": "stderr",
     "output_type": "stream",
     "text": [
      "                                                                               "
     ]
    },
    {
     "name": "stdout",
     "output_type": "stream",
     "text": [
      "Epoch 124/400 | Train Loss: 1.139516 | Val Loss: 1.071205\n"
     ]
    },
    {
     "name": "stderr",
     "output_type": "stream",
     "text": [
      "                                                                               "
     ]
    },
    {
     "name": "stdout",
     "output_type": "stream",
     "text": [
      "Epoch 125/400 | Train Loss: 1.138355 | Val Loss: 1.067729\n"
     ]
    },
    {
     "name": "stderr",
     "output_type": "stream",
     "text": [
      "                                                                               "
     ]
    },
    {
     "name": "stdout",
     "output_type": "stream",
     "text": [
      "Epoch 126/400 | Train Loss: 1.136378 | Val Loss: 1.071390\n"
     ]
    },
    {
     "name": "stderr",
     "output_type": "stream",
     "text": [
      "                                                                               "
     ]
    },
    {
     "name": "stdout",
     "output_type": "stream",
     "text": [
      "Epoch 127/400 | Train Loss: 1.141851 | Val Loss: 1.069493\n"
     ]
    },
    {
     "name": "stderr",
     "output_type": "stream",
     "text": [
      "                                                                               "
     ]
    },
    {
     "name": "stdout",
     "output_type": "stream",
     "text": [
      "Epoch 128/400 | Train Loss: 1.133119 | Val Loss: 1.074027\n"
     ]
    },
    {
     "name": "stderr",
     "output_type": "stream",
     "text": [
      "                                                                               "
     ]
    },
    {
     "name": "stdout",
     "output_type": "stream",
     "text": [
      "Epoch 129/400 | Train Loss: 1.135749 | Val Loss: 1.066064\n"
     ]
    },
    {
     "name": "stderr",
     "output_type": "stream",
     "text": [
      "                                                                               "
     ]
    },
    {
     "name": "stdout",
     "output_type": "stream",
     "text": [
      "Epoch 130/400 | Train Loss: 1.145338 | Val Loss: 1.065511\n"
     ]
    },
    {
     "name": "stderr",
     "output_type": "stream",
     "text": [
      "                                                                               "
     ]
    },
    {
     "name": "stdout",
     "output_type": "stream",
     "text": [
      "Epoch 131/400 | Train Loss: 1.144467 | Val Loss: 1.095820\n"
     ]
    },
    {
     "name": "stderr",
     "output_type": "stream",
     "text": [
      "                                                                               "
     ]
    },
    {
     "name": "stdout",
     "output_type": "stream",
     "text": [
      "Epoch 132/400 | Train Loss: 1.135025 | Val Loss: 1.065206\n"
     ]
    },
    {
     "name": "stderr",
     "output_type": "stream",
     "text": [
      "                                                                               "
     ]
    },
    {
     "name": "stdout",
     "output_type": "stream",
     "text": [
      "Epoch 133/400 | Train Loss: 1.140429 | Val Loss: 1.073703\n"
     ]
    },
    {
     "name": "stderr",
     "output_type": "stream",
     "text": [
      "                                                                               "
     ]
    },
    {
     "name": "stdout",
     "output_type": "stream",
     "text": [
      "Epoch 134/400 | Train Loss: 1.133857 | Val Loss: 1.085404\n"
     ]
    },
    {
     "name": "stderr",
     "output_type": "stream",
     "text": [
      "                                                                               "
     ]
    },
    {
     "name": "stdout",
     "output_type": "stream",
     "text": [
      "Epoch 135/400 | Train Loss: 1.144224 | Val Loss: 1.065116\n"
     ]
    },
    {
     "name": "stderr",
     "output_type": "stream",
     "text": [
      "                                                                               "
     ]
    },
    {
     "name": "stdout",
     "output_type": "stream",
     "text": [
      "Epoch 136/400 | Train Loss: 1.139294 | Val Loss: 1.070412\n"
     ]
    },
    {
     "name": "stderr",
     "output_type": "stream",
     "text": [
      "                                                                               "
     ]
    },
    {
     "name": "stdout",
     "output_type": "stream",
     "text": [
      "Epoch 137/400 | Train Loss: 1.141329 | Val Loss: 1.070550\n"
     ]
    },
    {
     "name": "stderr",
     "output_type": "stream",
     "text": [
      "                                                                               "
     ]
    },
    {
     "name": "stdout",
     "output_type": "stream",
     "text": [
      "Epoch 138/400 | Train Loss: 1.134926 | Val Loss: 1.074516\n"
     ]
    },
    {
     "name": "stderr",
     "output_type": "stream",
     "text": [
      "                                                                               "
     ]
    },
    {
     "name": "stdout",
     "output_type": "stream",
     "text": [
      "Epoch 139/400 | Train Loss: 1.142276 | Val Loss: 1.069728\n"
     ]
    },
    {
     "name": "stderr",
     "output_type": "stream",
     "text": [
      "                                                                               "
     ]
    },
    {
     "name": "stdout",
     "output_type": "stream",
     "text": [
      "Epoch 140/400 | Train Loss: 1.141322 | Val Loss: 1.076822\n"
     ]
    },
    {
     "name": "stderr",
     "output_type": "stream",
     "text": [
      "                                                                               "
     ]
    },
    {
     "name": "stdout",
     "output_type": "stream",
     "text": [
      "Epoch 141/400 | Train Loss: 1.141659 | Val Loss: 1.069762\n"
     ]
    },
    {
     "name": "stderr",
     "output_type": "stream",
     "text": [
      "                                                                               "
     ]
    },
    {
     "name": "stdout",
     "output_type": "stream",
     "text": [
      "Epoch 142/400 | Train Loss: 1.137470 | Val Loss: 1.080868\n"
     ]
    },
    {
     "name": "stderr",
     "output_type": "stream",
     "text": [
      "                                                                               "
     ]
    },
    {
     "name": "stdout",
     "output_type": "stream",
     "text": [
      "Epoch 143/400 | Train Loss: 1.132707 | Val Loss: 1.062594\n"
     ]
    },
    {
     "name": "stderr",
     "output_type": "stream",
     "text": [
      "                                                                               "
     ]
    },
    {
     "name": "stdout",
     "output_type": "stream",
     "text": [
      "Epoch 144/400 | Train Loss: 1.139285 | Val Loss: 1.071594\n"
     ]
    },
    {
     "name": "stderr",
     "output_type": "stream",
     "text": [
      "                                                                               "
     ]
    },
    {
     "name": "stdout",
     "output_type": "stream",
     "text": [
      "Epoch 145/400 | Train Loss: 1.153257 | Val Loss: 1.066794\n"
     ]
    },
    {
     "name": "stderr",
     "output_type": "stream",
     "text": [
      "                                                                               "
     ]
    },
    {
     "name": "stdout",
     "output_type": "stream",
     "text": [
      "Epoch 146/400 | Train Loss: 1.149395 | Val Loss: 1.074729\n"
     ]
    },
    {
     "name": "stderr",
     "output_type": "stream",
     "text": [
      "                                                                               "
     ]
    },
    {
     "name": "stdout",
     "output_type": "stream",
     "text": [
      "Epoch 147/400 | Train Loss: 1.155387 | Val Loss: 1.081648\n"
     ]
    },
    {
     "name": "stderr",
     "output_type": "stream",
     "text": [
      "                                                                               "
     ]
    },
    {
     "name": "stdout",
     "output_type": "stream",
     "text": [
      "Epoch 148/400 | Train Loss: 1.137818 | Val Loss: 1.078531\n"
     ]
    },
    {
     "name": "stderr",
     "output_type": "stream",
     "text": [
      "                                                                               "
     ]
    },
    {
     "name": "stdout",
     "output_type": "stream",
     "text": [
      "Epoch 149/400 | Train Loss: 1.140533 | Val Loss: 1.088238\n"
     ]
    },
    {
     "name": "stderr",
     "output_type": "stream",
     "text": [
      "                                                                               "
     ]
    },
    {
     "name": "stdout",
     "output_type": "stream",
     "text": [
      "Epoch 150/400 | Train Loss: 1.135397 | Val Loss: 1.080793\n"
     ]
    },
    {
     "name": "stderr",
     "output_type": "stream",
     "text": [
      "                                                                               "
     ]
    },
    {
     "name": "stdout",
     "output_type": "stream",
     "text": [
      "Epoch 151/400 | Train Loss: 1.137519 | Val Loss: 1.073875\n"
     ]
    },
    {
     "name": "stderr",
     "output_type": "stream",
     "text": [
      "                                                                               "
     ]
    },
    {
     "name": "stdout",
     "output_type": "stream",
     "text": [
      "Epoch 152/400 | Train Loss: 1.143521 | Val Loss: 1.074396\n"
     ]
    },
    {
     "name": "stderr",
     "output_type": "stream",
     "text": [
      "                                                                               "
     ]
    },
    {
     "name": "stdout",
     "output_type": "stream",
     "text": [
      "Epoch 153/400 | Train Loss: 1.133425 | Val Loss: 1.069973\n"
     ]
    },
    {
     "name": "stderr",
     "output_type": "stream",
     "text": [
      "                                                                               "
     ]
    },
    {
     "name": "stdout",
     "output_type": "stream",
     "text": [
      "Epoch 154/400 | Train Loss: 1.143372 | Val Loss: 1.069593\n"
     ]
    },
    {
     "name": "stderr",
     "output_type": "stream",
     "text": [
      "                                                                               "
     ]
    },
    {
     "name": "stdout",
     "output_type": "stream",
     "text": [
      "Epoch 155/400 | Train Loss: 1.144807 | Val Loss: 1.087424\n"
     ]
    },
    {
     "name": "stderr",
     "output_type": "stream",
     "text": [
      "                                                                               "
     ]
    },
    {
     "name": "stdout",
     "output_type": "stream",
     "text": [
      "Epoch 156/400 | Train Loss: 1.148107 | Val Loss: 1.081955\n"
     ]
    },
    {
     "name": "stderr",
     "output_type": "stream",
     "text": [
      "                                                                               "
     ]
    },
    {
     "name": "stdout",
     "output_type": "stream",
     "text": [
      "Epoch 157/400 | Train Loss: 1.148207 | Val Loss: 1.072136\n"
     ]
    },
    {
     "name": "stderr",
     "output_type": "stream",
     "text": [
      "                                                                               "
     ]
    },
    {
     "name": "stdout",
     "output_type": "stream",
     "text": [
      "Epoch 158/400 | Train Loss: 1.136528 | Val Loss: 1.084174\n"
     ]
    },
    {
     "name": "stderr",
     "output_type": "stream",
     "text": [
      "                                                                               "
     ]
    },
    {
     "name": "stdout",
     "output_type": "stream",
     "text": [
      "Epoch 159/400 | Train Loss: 1.138074 | Val Loss: 1.071128\n"
     ]
    },
    {
     "name": "stderr",
     "output_type": "stream",
     "text": [
      "                                                                               "
     ]
    },
    {
     "name": "stdout",
     "output_type": "stream",
     "text": [
      "Epoch 160/400 | Train Loss: 1.143804 | Val Loss: 1.071089\n"
     ]
    },
    {
     "name": "stderr",
     "output_type": "stream",
     "text": [
      "                                                                               "
     ]
    },
    {
     "name": "stdout",
     "output_type": "stream",
     "text": [
      "Epoch 161/400 | Train Loss: 1.133918 | Val Loss: 1.072292\n"
     ]
    },
    {
     "name": "stderr",
     "output_type": "stream",
     "text": [
      "                                                                               "
     ]
    },
    {
     "name": "stdout",
     "output_type": "stream",
     "text": [
      "Epoch 162/400 | Train Loss: 1.133273 | Val Loss: 1.070223\n"
     ]
    },
    {
     "name": "stderr",
     "output_type": "stream",
     "text": [
      "                                                                               "
     ]
    },
    {
     "name": "stdout",
     "output_type": "stream",
     "text": [
      "Epoch 163/400 | Train Loss: 1.147772 | Val Loss: 1.066437\n"
     ]
    },
    {
     "name": "stderr",
     "output_type": "stream",
     "text": [
      "                                                                               "
     ]
    },
    {
     "name": "stdout",
     "output_type": "stream",
     "text": [
      "Epoch 164/400 | Train Loss: 1.128638 | Val Loss: 1.074179\n"
     ]
    },
    {
     "name": "stderr",
     "output_type": "stream",
     "text": [
      "                                                                               "
     ]
    },
    {
     "name": "stdout",
     "output_type": "stream",
     "text": [
      "Epoch 165/400 | Train Loss: 1.137831 | Val Loss: 1.075995\n"
     ]
    },
    {
     "name": "stderr",
     "output_type": "stream",
     "text": [
      "                                                                               "
     ]
    },
    {
     "name": "stdout",
     "output_type": "stream",
     "text": [
      "Epoch 166/400 | Train Loss: 1.146372 | Val Loss: 1.071241\n"
     ]
    },
    {
     "name": "stderr",
     "output_type": "stream",
     "text": [
      "                                                                               "
     ]
    },
    {
     "name": "stdout",
     "output_type": "stream",
     "text": [
      "Epoch 167/400 | Train Loss: 1.134660 | Val Loss: 1.076654\n"
     ]
    },
    {
     "name": "stderr",
     "output_type": "stream",
     "text": [
      "                                                                               "
     ]
    },
    {
     "name": "stdout",
     "output_type": "stream",
     "text": [
      "Epoch 168/400 | Train Loss: 1.138459 | Val Loss: 1.077802\n"
     ]
    },
    {
     "name": "stderr",
     "output_type": "stream",
     "text": [
      "                                                                               "
     ]
    },
    {
     "name": "stdout",
     "output_type": "stream",
     "text": [
      "Epoch 169/400 | Train Loss: 1.136094 | Val Loss: 1.068360\n"
     ]
    },
    {
     "name": "stderr",
     "output_type": "stream",
     "text": [
      "                                                                               "
     ]
    },
    {
     "name": "stdout",
     "output_type": "stream",
     "text": [
      "Epoch 170/400 | Train Loss: 1.136770 | Val Loss: 1.070721\n"
     ]
    },
    {
     "name": "stderr",
     "output_type": "stream",
     "text": [
      "                                                                               "
     ]
    },
    {
     "name": "stdout",
     "output_type": "stream",
     "text": [
      "Epoch 171/400 | Train Loss: 1.140987 | Val Loss: 1.068848\n"
     ]
    },
    {
     "name": "stderr",
     "output_type": "stream",
     "text": [
      "                                                                               "
     ]
    },
    {
     "name": "stdout",
     "output_type": "stream",
     "text": [
      "Epoch 172/400 | Train Loss: 1.142859 | Val Loss: 1.070661\n"
     ]
    },
    {
     "name": "stderr",
     "output_type": "stream",
     "text": [
      "                                                                               "
     ]
    },
    {
     "name": "stdout",
     "output_type": "stream",
     "text": [
      "Epoch 173/400 | Train Loss: 1.140146 | Val Loss: 1.073022\n"
     ]
    },
    {
     "name": "stderr",
     "output_type": "stream",
     "text": [
      "                                                                               "
     ]
    },
    {
     "name": "stdout",
     "output_type": "stream",
     "text": [
      "Epoch 174/400 | Train Loss: 1.134922 | Val Loss: 1.064576\n"
     ]
    },
    {
     "name": "stderr",
     "output_type": "stream",
     "text": [
      "                                                                               "
     ]
    },
    {
     "name": "stdout",
     "output_type": "stream",
     "text": [
      "Epoch 175/400 | Train Loss: 1.134118 | Val Loss: 1.071265\n"
     ]
    },
    {
     "name": "stderr",
     "output_type": "stream",
     "text": [
      "                                                                               "
     ]
    },
    {
     "name": "stdout",
     "output_type": "stream",
     "text": [
      "Epoch 176/400 | Train Loss: 1.136532 | Val Loss: 1.066042\n"
     ]
    },
    {
     "name": "stderr",
     "output_type": "stream",
     "text": [
      "                                                                               "
     ]
    },
    {
     "name": "stdout",
     "output_type": "stream",
     "text": [
      "Epoch 177/400 | Train Loss: 1.147763 | Val Loss: 1.067841\n"
     ]
    },
    {
     "name": "stderr",
     "output_type": "stream",
     "text": [
      "                                                                               "
     ]
    },
    {
     "name": "stdout",
     "output_type": "stream",
     "text": [
      "Epoch 178/400 | Train Loss: 1.129334 | Val Loss: 1.068609\n"
     ]
    },
    {
     "name": "stderr",
     "output_type": "stream",
     "text": [
      "                                                                               "
     ]
    },
    {
     "name": "stdout",
     "output_type": "stream",
     "text": [
      "Epoch 179/400 | Train Loss: 1.133677 | Val Loss: 1.074915\n"
     ]
    },
    {
     "name": "stderr",
     "output_type": "stream",
     "text": [
      "                                                                               "
     ]
    },
    {
     "name": "stdout",
     "output_type": "stream",
     "text": [
      "Epoch 180/400 | Train Loss: 1.135271 | Val Loss: 1.068635\n"
     ]
    },
    {
     "name": "stderr",
     "output_type": "stream",
     "text": [
      "                                                                               "
     ]
    },
    {
     "name": "stdout",
     "output_type": "stream",
     "text": [
      "Epoch 181/400 | Train Loss: 1.128143 | Val Loss: 1.072395\n"
     ]
    },
    {
     "name": "stderr",
     "output_type": "stream",
     "text": [
      "                                                                               "
     ]
    },
    {
     "name": "stdout",
     "output_type": "stream",
     "text": [
      "Epoch 182/400 | Train Loss: 1.133210 | Val Loss: 1.067049\n"
     ]
    },
    {
     "name": "stderr",
     "output_type": "stream",
     "text": [
      "                                                                               "
     ]
    },
    {
     "name": "stdout",
     "output_type": "stream",
     "text": [
      "Epoch 183/400 | Train Loss: 1.142549 | Val Loss: 1.065740\n"
     ]
    },
    {
     "name": "stderr",
     "output_type": "stream",
     "text": [
      "                                                                               "
     ]
    },
    {
     "name": "stdout",
     "output_type": "stream",
     "text": [
      "Epoch 184/400 | Train Loss: 1.138570 | Val Loss: 1.067982\n"
     ]
    },
    {
     "name": "stderr",
     "output_type": "stream",
     "text": [
      "                                                                               "
     ]
    },
    {
     "name": "stdout",
     "output_type": "stream",
     "text": [
      "Epoch 185/400 | Train Loss: 1.136640 | Val Loss: 1.087708\n"
     ]
    },
    {
     "name": "stderr",
     "output_type": "stream",
     "text": [
      "                                                                               "
     ]
    },
    {
     "name": "stdout",
     "output_type": "stream",
     "text": [
      "Epoch 186/400 | Train Loss: 1.135925 | Val Loss: 1.066060\n"
     ]
    },
    {
     "name": "stderr",
     "output_type": "stream",
     "text": [
      "                                                                               "
     ]
    },
    {
     "name": "stdout",
     "output_type": "stream",
     "text": [
      "Epoch 187/400 | Train Loss: 1.130811 | Val Loss: 1.071259\n"
     ]
    },
    {
     "name": "stderr",
     "output_type": "stream",
     "text": [
      "                                                                               "
     ]
    },
    {
     "name": "stdout",
     "output_type": "stream",
     "text": [
      "Epoch 188/400 | Train Loss: 1.127421 | Val Loss: 1.074645\n"
     ]
    },
    {
     "name": "stderr",
     "output_type": "stream",
     "text": [
      "                                                                               "
     ]
    },
    {
     "name": "stdout",
     "output_type": "stream",
     "text": [
      "Epoch 189/400 | Train Loss: 1.135094 | Val Loss: 1.077899\n"
     ]
    },
    {
     "name": "stderr",
     "output_type": "stream",
     "text": [
      "                                                                               "
     ]
    },
    {
     "name": "stdout",
     "output_type": "stream",
     "text": [
      "Epoch 190/400 | Train Loss: 1.136490 | Val Loss: 1.073027\n"
     ]
    },
    {
     "name": "stderr",
     "output_type": "stream",
     "text": [
      "                                                                               "
     ]
    },
    {
     "name": "stdout",
     "output_type": "stream",
     "text": [
      "Epoch 191/400 | Train Loss: 1.131828 | Val Loss: 1.064079\n"
     ]
    },
    {
     "name": "stderr",
     "output_type": "stream",
     "text": [
      "                                                                               "
     ]
    },
    {
     "name": "stdout",
     "output_type": "stream",
     "text": [
      "Epoch 192/400 | Train Loss: 1.131439 | Val Loss: 1.064802\n"
     ]
    },
    {
     "name": "stderr",
     "output_type": "stream",
     "text": [
      "                                                                               "
     ]
    },
    {
     "name": "stdout",
     "output_type": "stream",
     "text": [
      "Epoch 193/400 | Train Loss: 1.134067 | Val Loss: 1.070658\n"
     ]
    },
    {
     "name": "stderr",
     "output_type": "stream",
     "text": [
      "                                                                               "
     ]
    },
    {
     "name": "stdout",
     "output_type": "stream",
     "text": [
      "Epoch 194/400 | Train Loss: 1.143383 | Val Loss: 1.071565\n"
     ]
    },
    {
     "name": "stderr",
     "output_type": "stream",
     "text": [
      "                                                                               "
     ]
    },
    {
     "name": "stdout",
     "output_type": "stream",
     "text": [
      "Epoch 195/400 | Train Loss: 1.154206 | Val Loss: 1.075111\n"
     ]
    },
    {
     "name": "stderr",
     "output_type": "stream",
     "text": [
      "                                                                               "
     ]
    },
    {
     "name": "stdout",
     "output_type": "stream",
     "text": [
      "Epoch 196/400 | Train Loss: 1.142314 | Val Loss: 1.073965\n"
     ]
    },
    {
     "name": "stderr",
     "output_type": "stream",
     "text": [
      "                                                                               "
     ]
    },
    {
     "name": "stdout",
     "output_type": "stream",
     "text": [
      "Epoch 197/400 | Train Loss: 1.141825 | Val Loss: 1.072310\n"
     ]
    },
    {
     "name": "stderr",
     "output_type": "stream",
     "text": [
      "                                                                               "
     ]
    },
    {
     "name": "stdout",
     "output_type": "stream",
     "text": [
      "Epoch 198/400 | Train Loss: 1.133936 | Val Loss: 1.067875\n"
     ]
    },
    {
     "name": "stderr",
     "output_type": "stream",
     "text": [
      "                                                                               "
     ]
    },
    {
     "name": "stdout",
     "output_type": "stream",
     "text": [
      "Epoch 199/400 | Train Loss: 1.135578 | Val Loss: 1.072850\n"
     ]
    },
    {
     "name": "stderr",
     "output_type": "stream",
     "text": [
      "                                                                               "
     ]
    },
    {
     "name": "stdout",
     "output_type": "stream",
     "text": [
      "Epoch 200/400 | Train Loss: 1.142704 | Val Loss: 1.072631\n"
     ]
    },
    {
     "name": "stderr",
     "output_type": "stream",
     "text": [
      "                                                                               "
     ]
    },
    {
     "name": "stdout",
     "output_type": "stream",
     "text": [
      "Epoch 201/400 | Train Loss: 1.131441 | Val Loss: 1.066198\n"
     ]
    },
    {
     "name": "stderr",
     "output_type": "stream",
     "text": [
      "                                                                               "
     ]
    },
    {
     "name": "stdout",
     "output_type": "stream",
     "text": [
      "Epoch 202/400 | Train Loss: 1.135313 | Val Loss: 1.063939\n"
     ]
    },
    {
     "name": "stderr",
     "output_type": "stream",
     "text": [
      "                                                                               "
     ]
    },
    {
     "name": "stdout",
     "output_type": "stream",
     "text": [
      "Epoch 203/400 | Train Loss: 1.134029 | Val Loss: 1.068495\n"
     ]
    },
    {
     "name": "stderr",
     "output_type": "stream",
     "text": [
      "                                                                               "
     ]
    },
    {
     "name": "stdout",
     "output_type": "stream",
     "text": [
      "Epoch 204/400 | Train Loss: 1.139399 | Val Loss: 1.086989\n"
     ]
    },
    {
     "name": "stderr",
     "output_type": "stream",
     "text": [
      "                                                                               "
     ]
    },
    {
     "name": "stdout",
     "output_type": "stream",
     "text": [
      "Epoch 205/400 | Train Loss: 1.135433 | Val Loss: 1.078770\n"
     ]
    },
    {
     "name": "stderr",
     "output_type": "stream",
     "text": [
      "                                                                               "
     ]
    },
    {
     "name": "stdout",
     "output_type": "stream",
     "text": [
      "Epoch 206/400 | Train Loss: 1.139826 | Val Loss: 1.062689\n"
     ]
    },
    {
     "name": "stderr",
     "output_type": "stream",
     "text": [
      "                                                                               "
     ]
    },
    {
     "name": "stdout",
     "output_type": "stream",
     "text": [
      "Epoch 207/400 | Train Loss: 1.144154 | Val Loss: 1.066189\n"
     ]
    },
    {
     "name": "stderr",
     "output_type": "stream",
     "text": [
      "                                                                               "
     ]
    },
    {
     "name": "stdout",
     "output_type": "stream",
     "text": [
      "Epoch 208/400 | Train Loss: 1.140037 | Val Loss: 1.069269\n"
     ]
    },
    {
     "name": "stderr",
     "output_type": "stream",
     "text": [
      "                                                                               "
     ]
    },
    {
     "name": "stdout",
     "output_type": "stream",
     "text": [
      "Epoch 209/400 | Train Loss: 1.142178 | Val Loss: 1.078130\n"
     ]
    },
    {
     "name": "stderr",
     "output_type": "stream",
     "text": [
      "                                                                               "
     ]
    },
    {
     "name": "stdout",
     "output_type": "stream",
     "text": [
      "Epoch 210/400 | Train Loss: 1.141072 | Val Loss: 1.068021\n"
     ]
    },
    {
     "name": "stderr",
     "output_type": "stream",
     "text": [
      "                                                                               "
     ]
    },
    {
     "name": "stdout",
     "output_type": "stream",
     "text": [
      "Epoch 211/400 | Train Loss: 1.128956 | Val Loss: 1.071186\n"
     ]
    },
    {
     "name": "stderr",
     "output_type": "stream",
     "text": [
      "                                                                               "
     ]
    },
    {
     "name": "stdout",
     "output_type": "stream",
     "text": [
      "Epoch 212/400 | Train Loss: 1.136818 | Val Loss: 1.078553\n"
     ]
    },
    {
     "name": "stderr",
     "output_type": "stream",
     "text": [
      "                                                                               "
     ]
    },
    {
     "name": "stdout",
     "output_type": "stream",
     "text": [
      "Epoch 213/400 | Train Loss: 1.124076 | Val Loss: 1.078170\n"
     ]
    },
    {
     "name": "stderr",
     "output_type": "stream",
     "text": [
      "                                                                               "
     ]
    },
    {
     "name": "stdout",
     "output_type": "stream",
     "text": [
      "Epoch 214/400 | Train Loss: 1.138428 | Val Loss: 1.086850\n"
     ]
    },
    {
     "name": "stderr",
     "output_type": "stream",
     "text": [
      "                                                                               "
     ]
    },
    {
     "name": "stdout",
     "output_type": "stream",
     "text": [
      "Epoch 215/400 | Train Loss: 1.142405 | Val Loss: 1.086423\n"
     ]
    },
    {
     "name": "stderr",
     "output_type": "stream",
     "text": [
      "                                                                               "
     ]
    },
    {
     "name": "stdout",
     "output_type": "stream",
     "text": [
      "Epoch 216/400 | Train Loss: 1.132865 | Val Loss: 1.073752\n"
     ]
    },
    {
     "name": "stderr",
     "output_type": "stream",
     "text": [
      "                                                                               "
     ]
    },
    {
     "name": "stdout",
     "output_type": "stream",
     "text": [
      "Epoch 217/400 | Train Loss: 1.141810 | Val Loss: 1.073104\n"
     ]
    },
    {
     "name": "stderr",
     "output_type": "stream",
     "text": [
      "                                                                               "
     ]
    },
    {
     "name": "stdout",
     "output_type": "stream",
     "text": [
      "Epoch 218/400 | Train Loss: 1.139179 | Val Loss: 1.076198\n"
     ]
    },
    {
     "name": "stderr",
     "output_type": "stream",
     "text": [
      "                                                                               "
     ]
    },
    {
     "name": "stdout",
     "output_type": "stream",
     "text": [
      "Epoch 219/400 | Train Loss: 1.130645 | Val Loss: 1.073192\n"
     ]
    },
    {
     "name": "stderr",
     "output_type": "stream",
     "text": [
      "                                                                               "
     ]
    },
    {
     "name": "stdout",
     "output_type": "stream",
     "text": [
      "Epoch 220/400 | Train Loss: 1.135863 | Val Loss: 1.078131\n"
     ]
    },
    {
     "name": "stderr",
     "output_type": "stream",
     "text": [
      "                                                                               "
     ]
    },
    {
     "name": "stdout",
     "output_type": "stream",
     "text": [
      "Epoch 221/400 | Train Loss: 1.132454 | Val Loss: 1.079387\n"
     ]
    },
    {
     "name": "stderr",
     "output_type": "stream",
     "text": [
      "                                                                               "
     ]
    },
    {
     "name": "stdout",
     "output_type": "stream",
     "text": [
      "Epoch 222/400 | Train Loss: 1.131749 | Val Loss: 1.064694\n"
     ]
    },
    {
     "name": "stderr",
     "output_type": "stream",
     "text": [
      "                                                                               "
     ]
    },
    {
     "name": "stdout",
     "output_type": "stream",
     "text": [
      "Epoch 223/400 | Train Loss: 1.140765 | Val Loss: 1.068271\n"
     ]
    },
    {
     "name": "stderr",
     "output_type": "stream",
     "text": [
      "                                                                               "
     ]
    },
    {
     "name": "stdout",
     "output_type": "stream",
     "text": [
      "Epoch 224/400 | Train Loss: 1.135904 | Val Loss: 1.071172\n"
     ]
    },
    {
     "name": "stderr",
     "output_type": "stream",
     "text": [
      "                                                                               "
     ]
    },
    {
     "name": "stdout",
     "output_type": "stream",
     "text": [
      "Epoch 225/400 | Train Loss: 1.143547 | Val Loss: 1.071637\n"
     ]
    },
    {
     "name": "stderr",
     "output_type": "stream",
     "text": [
      "                                                                               "
     ]
    },
    {
     "name": "stdout",
     "output_type": "stream",
     "text": [
      "Epoch 226/400 | Train Loss: 1.138245 | Val Loss: 1.084407\n"
     ]
    },
    {
     "name": "stderr",
     "output_type": "stream",
     "text": [
      "                                                                               "
     ]
    },
    {
     "name": "stdout",
     "output_type": "stream",
     "text": [
      "Epoch 227/400 | Train Loss: 1.144187 | Val Loss: 1.075629\n"
     ]
    },
    {
     "name": "stderr",
     "output_type": "stream",
     "text": [
      "                                                                               "
     ]
    },
    {
     "name": "stdout",
     "output_type": "stream",
     "text": [
      "Epoch 228/400 | Train Loss: 1.136461 | Val Loss: 1.076188\n"
     ]
    },
    {
     "name": "stderr",
     "output_type": "stream",
     "text": [
      "                                                                               "
     ]
    },
    {
     "name": "stdout",
     "output_type": "stream",
     "text": [
      "Epoch 229/400 | Train Loss: 1.148009 | Val Loss: 1.071661\n"
     ]
    },
    {
     "name": "stderr",
     "output_type": "stream",
     "text": [
      "                                                                               "
     ]
    },
    {
     "name": "stdout",
     "output_type": "stream",
     "text": [
      "Epoch 230/400 | Train Loss: 1.136886 | Val Loss: 1.079401\n"
     ]
    },
    {
     "name": "stderr",
     "output_type": "stream",
     "text": [
      "                                                                               "
     ]
    },
    {
     "name": "stdout",
     "output_type": "stream",
     "text": [
      "Epoch 231/400 | Train Loss: 1.134683 | Val Loss: 1.073533\n"
     ]
    },
    {
     "name": "stderr",
     "output_type": "stream",
     "text": [
      "                                                                               "
     ]
    },
    {
     "name": "stdout",
     "output_type": "stream",
     "text": [
      "Epoch 232/400 | Train Loss: 1.136557 | Val Loss: 1.076321\n"
     ]
    },
    {
     "name": "stderr",
     "output_type": "stream",
     "text": [
      "                                                                               "
     ]
    },
    {
     "name": "stdout",
     "output_type": "stream",
     "text": [
      "Epoch 233/400 | Train Loss: 1.133417 | Val Loss: 1.065478\n"
     ]
    },
    {
     "name": "stderr",
     "output_type": "stream",
     "text": [
      "                                                                               "
     ]
    },
    {
     "name": "stdout",
     "output_type": "stream",
     "text": [
      "Epoch 234/400 | Train Loss: 1.133411 | Val Loss: 1.067726\n"
     ]
    },
    {
     "name": "stderr",
     "output_type": "stream",
     "text": [
      "                                                                               "
     ]
    },
    {
     "name": "stdout",
     "output_type": "stream",
     "text": [
      "Epoch 235/400 | Train Loss: 1.133727 | Val Loss: 1.068543\n"
     ]
    },
    {
     "name": "stderr",
     "output_type": "stream",
     "text": [
      "                                                                               "
     ]
    },
    {
     "name": "stdout",
     "output_type": "stream",
     "text": [
      "Epoch 236/400 | Train Loss: 1.129845 | Val Loss: 1.071877\n"
     ]
    },
    {
     "name": "stderr",
     "output_type": "stream",
     "text": [
      "                                                                               "
     ]
    },
    {
     "name": "stdout",
     "output_type": "stream",
     "text": [
      "Epoch 237/400 | Train Loss: 1.140799 | Val Loss: 1.063449\n"
     ]
    },
    {
     "name": "stderr",
     "output_type": "stream",
     "text": [
      "                                                                               "
     ]
    },
    {
     "name": "stdout",
     "output_type": "stream",
     "text": [
      "Epoch 238/400 | Train Loss: 1.129683 | Val Loss: 1.085659\n"
     ]
    },
    {
     "name": "stderr",
     "output_type": "stream",
     "text": [
      "                                                                               "
     ]
    },
    {
     "name": "stdout",
     "output_type": "stream",
     "text": [
      "Epoch 239/400 | Train Loss: 1.138672 | Val Loss: 1.075008\n"
     ]
    },
    {
     "name": "stderr",
     "output_type": "stream",
     "text": [
      "                                                                               "
     ]
    },
    {
     "name": "stdout",
     "output_type": "stream",
     "text": [
      "Epoch 240/400 | Train Loss: 1.135926 | Val Loss: 1.075002\n"
     ]
    },
    {
     "name": "stderr",
     "output_type": "stream",
     "text": [
      "                                                                               "
     ]
    },
    {
     "name": "stdout",
     "output_type": "stream",
     "text": [
      "Epoch 241/400 | Train Loss: 1.134665 | Val Loss: 1.074928\n"
     ]
    },
    {
     "name": "stderr",
     "output_type": "stream",
     "text": [
      "                                                                               "
     ]
    },
    {
     "name": "stdout",
     "output_type": "stream",
     "text": [
      "Epoch 242/400 | Train Loss: 1.133079 | Val Loss: 1.071797\n"
     ]
    },
    {
     "name": "stderr",
     "output_type": "stream",
     "text": [
      "                                                                               "
     ]
    },
    {
     "name": "stdout",
     "output_type": "stream",
     "text": [
      "Epoch 243/400 | Train Loss: 1.141198 | Val Loss: 1.065235\n",
      "Early stopping at epoch 243 (best val loss: 1.062594)\n"
     ]
    },
    {
     "name": "stderr",
     "output_type": "stream",
     "text": []
    }
   ],
   "source": [
    "train_losses_dense, val_losses_dense = train_model(model=StarTrack_Dense_V1, \n",
    "                                       criterion=loss_fn, \n",
    "                                       optimizer=optimizer_dense, \n",
    "                                       epochs=400, \n",
    "                                       train_loader=train_loader_tabular, \n",
    "                                       val_loader=val_loader_tabular,\n",
    "                                       scheduler=scheduler_dense)"
   ]
  },
  {
   "cell_type": "markdown",
   "id": "9832b3b0-0bfd-41fa-993d-9f1b4fa7b029",
   "metadata": {},
   "source": [
    "1e-5 looks like we got into a local minimum. "
   ]
  },
  {
   "cell_type": "code",
   "execution_count": 25,
   "id": "b88876b1-b986-42ee-a0e2-261c0e32c531",
   "metadata": {},
   "outputs": [
    {
     "data": {
      "image/png": "[encoded data removed]",
      "text/plain": [
       "<Figure size 1000x600 with 1 Axes>"
      ]
     },
     "metadata": {},
     "output_type": "display_data"
    }
   ],
   "source": [
    "def plot_losses(train_losses, val_losses):\n",
    "    epochs = range(1, len(train_losses) + 1)\n",
    "    plt.figure(figsize=(10,6))\n",
    "    plt.plot(epochs, train_losses, label='Train Loss', color='blue')\n",
    "    plt.plot(epochs, val_losses, label='Validation Loss', color='orange')\n",
    "    plt.xlabel('Epoch')\n",
    "    plt.ylabel('Loss')\n",
    "    plt.title('Training and Validation Loss over Epochs')\n",
    "    plt.legend()\n",
    "    plt.grid(True)\n",
    "    plt.show()\n",
    "\n",
    "plot_losses(train_losses_dense, val_losses_dense)"
   ]
  },
  {
   "cell_type": "code",
   "execution_count": 26,
   "id": "3b692b56-cce5-48f2-86d1-5e20e6f8067c",
   "metadata": {},
   "outputs": [],
   "source": [
    "def get_preds_labels(model, dataloader, device):\n",
    "    model.eval()\n",
    "    all_preds = []\n",
    "    all_labels = []\n",
    "    with torch.no_grad():\n",
    "        for inputs, labels in dataloader:\n",
    "            inputs = inputs.to(device)\n",
    "            labels = labels.to(device)\n",
    "\n",
    "            outputs = model(inputs)\n",
    "            _, preds = torch.max(outputs, 1)\n",
    "            all_preds.append(preds.cpu())\n",
    "            all_labels.append(labels.cpu())\n",
    "\n",
    "    return torch.cat(all_preds), torch.cat(all_labels)"
   ]
  },
  {
   "cell_type": "code",
   "execution_count": 27,
   "id": "7ba4b1d6-6a9c-4434-b6fd-16975d92c582",
   "metadata": {},
   "outputs": [],
   "source": [
    "def plot_confusion_matrix(y_true, y_pred, class_names=None):\n",
    "    cm = confusion_matrix(y_true, y_pred)\n",
    "    plt.figure(figsize=(10, 8))\n",
    "\n",
    "    if class_names is None:\n",
    "        class_names = [str(i) for i in range(cm.shape[0])]\n",
    "        \n",
    "    sns.heatmap(cm, annot=True, fmt='d', cmap='Blues', xticklabels=class_names, yticklabels=class_names)\n",
    "    plt.xlabel('Predicted')\n",
    "    plt.ylabel('True')\n",
    "    plt.title('Confusion Matrix')\n",
    "    plt.show()"
   ]
  },
  {
   "cell_type": "code",
   "execution_count": 28,
   "id": "90ef5d04-536b-4644-8e11-332c00f501b9",
   "metadata": {},
   "outputs": [
    {
     "data": {
      "image/png": "[encoded data removed]",
      "text/plain": [
       "<Figure size 1000x800 with 2 Axes>"
      ]
     },
     "metadata": {},
     "output_type": "display_data"
    }
   ],
   "source": [
    "y_pred, y_true = get_preds_labels(StarTrack_Dense_V1, val_loader_tabular, device)\n",
    "\n",
    "plot_confusion_matrix(y_true, y_pred)"
   ]
  },
  {
   "cell_type": "code",
   "execution_count": 29,
   "id": "dff5a832-ba5c-46ef-9a7d-6fa5b630eb04",
   "metadata": {},
   "outputs": [],
   "source": [
    "def evaluate_model(model, data_loader, device, label_encoder):\n",
    "    model.eval()\n",
    "    all_preds = []\n",
    "    all_labels = []\n",
    "    \n",
    "    with torch.no_grad():\n",
    "        for X_batch, y_batch in data_loader:\n",
    "            X_batch = X_batch.to(device)\n",
    "            y_batch = y_batch.to(device)\n",
    "            \n",
    "            outputs = model(X_batch)\n",
    "            _, preds = torch.max(outputs, 1)\n",
    "            \n",
    "            all_preds.extend(preds.cpu().numpy())\n",
    "            all_labels.extend(y_batch.cpu().numpy())\n",
    "    \n",
    "    acc = accuracy_score(all_labels, all_preds)\n",
    "    print(f'Accuracy: {acc:.4f}')\n",
    "    print('Classification Report:')\n",
    "    print(classification_report(all_labels, all_preds, target_names=label_encoder.classes_))\n",
    "    return all_labels, all_preds "
   ]
  },
  {
   "cell_type": "code",
   "execution_count": 30,
   "id": "b167c747-07f2-444c-99ce-10047cef2cfa",
   "metadata": {},
   "outputs": [
    {
     "name": "stdout",
     "output_type": "stream",
     "text": [
      "Accuracy: 0.6363\n",
      "Classification Report:\n",
      "              precision    recall  f1-score   support\n",
      "\n",
      "           A       0.44      0.25      0.32       609\n",
      "           B       0.08      0.32      0.12        82\n",
      "          CV       0.50      0.66      0.57       298\n",
      "           F       0.81      0.70      0.75      2042\n",
      "           G       0.38      0.58      0.46       300\n",
      "           K       0.91      0.70      0.79       621\n",
      "           L       0.26      0.67      0.37        54\n",
      "           M       0.89      0.80      0.84       730\n",
      "          WD       0.31      0.54      0.39       221\n",
      "\n",
      "    accuracy                           0.64      4957\n",
      "   macro avg       0.51      0.58      0.51      4957\n",
      "weighted avg       0.71      0.64      0.66      4957\n",
      "\n"
     ]
    }
   ],
   "source": [
    "y_table_true, y_table_pred = evaluate_model(StarTrack_Dense_V1, test_loader_tabular, device, le_tabular)"
   ]
  },
  {
   "cell_type": "markdown",
   "id": "e00bcfbc-0a6a-4812-8603-54754781374c",
   "metadata": {},
   "source": [
    "# Training The LSTM (Spectrogram) Branch"
   ]
  },
  {
   "cell_type": "code",
   "execution_count": 44,
   "id": "b3df82de-e34a-4594-8577-ade7e4409518",
   "metadata": {},
   "outputs": [
    {
     "name": "stdout",
     "output_type": "stream",
     "text": [
      "X shape: (24782, 1024, 1)\n",
      "Total samples: 24782\n",
      "Unique classes: ['A' 'B' 'CV' 'F' 'G' 'K' 'L' 'M' 'WD']\n"
     ]
    }
   ],
   "source": [
    "le_spect = LabelEncoder()\n",
    "labels_encoded_spect = le_spect.fit_transform(labels_spect)\n",
    "X = spectrograms\n",
    "X = X.reshape((X.shape[0], X.shape[1], 1))\n",
    "y = labels_encoded_spect\n",
    "print(\"X shape:\", X.shape)\n",
    "print(f'Total samples: {X.shape[0]}')\n",
    "print(f'Unique classes: {le_spect.classes_}')"
   ]
  },
  {
   "cell_type": "code",
   "execution_count": 47,
   "id": "e4b5b88b-d3d2-4a58-989a-e9d97204f9a1",
   "metadata": {},
   "outputs": [
    {
     "name": "stdout",
     "output_type": "stream",
     "text": [
      "Train shape: (14868, 1024, 1), (14868,)\n",
      "Validation shape: (4957, 1024, 1), (4957,)\n",
      "Test shape: (4957, 1024, 1), (4957,)\n"
     ]
    }
   ],
   "source": [
    "X_spect_train, y_spect_train, X_spect_val, y_spect_val, X_spect_test, y_spect_test = split_sets(X, y)"
   ]
  },
  {
   "cell_type": "code",
   "execution_count": 48,
   "id": "beba80f3-86b2-4e87-bdb0-8c6979f94aba",
   "metadata": {},
   "outputs": [],
   "source": [
    "X_spect_train_fusion = X_spect_train.copy()\n",
    "X_spect_val_fusion = X_spect_val.copy()\n",
    "X_spect_test_fusion = X_spect_test.copy()\n",
    "\n",
    "y_spect_train_fusion = y_spect_train.copy()\n",
    "y_spect_val_fusion = y_spect_val.copy()\n",
    "y_spect_test_fusion = y_spect_test.copy()"
   ]
  },
  {
   "cell_type": "code",
   "execution_count": 68,
   "id": "c65a697b-b234-4558-8be5-f84d83b34749",
   "metadata": {},
   "outputs": [],
   "source": [
    "train_dataset_spect = TensorDataset(torch.tensor(X_spect_train, dtype=torch.float32), torch.tensor(y_spect_train, dtype=torch.long))\n",
    "val_dataset_spect = TensorDataset(torch.tensor(X_spect_val, dtype=torch.float32), torch.tensor(y_spect_val, dtype=torch.long))\n",
    "test_dataset_spect = TensorDataset(torch.tensor(X_spect_test, dtype=torch.float32), torch.tensor(y_spect_test, dtype=torch.long))\n",
    "\n",
    "train_loader_spect = DataLoader(train_dataset_time, batch_size=64, shuffle=True)\n",
    "val_loader_spect = DataLoader(val_dataset_time, batch_size=64, shuffle=False)\n",
    "test_loader_spect = DataLoader(test_dataset_time, batch_size=64, shuffle=False)"
   ]
  },
  {
   "cell_type": "code",
   "execution_count": 65,
   "id": "667fc7ed-07f5-4513-8028-1e588aa5570b",
   "metadata": {},
   "outputs": [],
   "source": [
    "# Dataloader needs (B, 1024, 1) shape\n",
    "class StarTrack_LSTM(nn.Module):\n",
    "    def __init__(self, input_size=1, hidden_size=256, output_size=9, num_layers=3):\n",
    "        super().__init__()\n",
    "        self.lstm = nn.LSTM(\n",
    "            input_size=input_size,\n",
    "            hidden_size=hidden_size,\n",
    "            num_layers=num_layers,\n",
    "            bidirectional=True,\n",
    "            dropout=0.5, # Lower/Increase based off testing results\n",
    "            batch_first=True\n",
    "        )\n",
    "        self.bn = nn.BatchNorm1d(hidden_size*2)\n",
    "        self.fc1 = nn.Linear(hidden_size*2, hidden_size)\n",
    "        self.fc2 = nn.Linear(hidden_size, output_size)\n",
    "        self.dropout = nn.Dropout(0.5)\n",
    "        \n",
    "    def forward(self, x):\n",
    "        x, _ = self.lstm(x)\n",
    "        x = x[:, -1, :]\n",
    "        x = self.bn(x)\n",
    "        x = F.relu(self.fc1(x))\n",
    "        x = self.dropout(x)\n",
    "        x = self.fc2(x)\n",
    "        return x\n",
    "    \n",
    "    def extract_features(self, x):\n",
    "        x, _ = self.lstm(x)\n",
    "        x = x[:, -1, :]\n",
    "        x = self.bn(x)\n",
    "        x = F.relu(self.fc1(x))\n",
    "        return x\n",
    "        \n",
    "# Number of classes after grouping = 9"
   ]
  },
  {
   "cell_type": "code",
   "execution_count": 66,
   "id": "78b47032-e624-4c0f-8a9f-1194e237c29e",
   "metadata": {},
   "outputs": [],
   "source": [
    "StarTrack_LSTM_V1 = StarTrack_LSTM()\n",
    "StarTrack_LSTM_V1 = StarTrack_LSTM_V1 .to(device)"
   ]
  },
  {
   "cell_type": "code",
   "execution_count": 67,
   "id": "64f83968-dd5e-4983-b87b-eb13516168eb",
   "metadata": {},
   "outputs": [
    {
     "name": "stderr",
     "output_type": "stream",
     "text": [
      "C:\\Users\\radiant\\AppData\\Local\\Temp\\ipykernel_13024\\3703655229.py:2: UserWarning: To copy construct from a tensor, it is recommended to use sourceTensor.detach().clone() or sourceTensor.detach().clone().requires_grad_(True), rather than torch.tensor(sourceTensor).\n",
      "  class_weights_LSTM = torch.tensor(class_weights, dtype=torch.float).to(device)\n"
     ]
    }
   ],
   "source": [
    "class_weights_LSTM = compute_class_weight('balanced', classes=np.unique(y_spect_train), y=y_spect_train)\n",
    "class_weights_LSTM = torch.tensor(class_weights, dtype=torch.float).to(device)\n",
    "loss_fn = nn.CrossEntropyLoss(weight=class_weights_LSTM)\n",
    "optimizer_LSTM = torch.optim.Adam(StarTrack_LSTM_V1.parameters(), lr=1e-4, weight_decay=1e-4)"
   ]
  },
  {
   "cell_type": "code",
   "execution_count": null,
   "id": "58b6e71d-449b-4858-82af-137bd2ad5061",
   "metadata": {},
   "outputs": [],
   "source": [
    "train_losses_LSTM, val_losses_LSTM= train_model(model=StarTrack_LSTM_V1, \n",
    "                                       criterion=loss_fn, \n",
    "                                       optimizer=optimizer_LSTM, \n",
    "                                       epochs=15, \n",
    "                                       train_loader=train_loader_spect, \n",
    "                                       val_loader=val_loader_spect)"
   ]
  },
  {
   "cell_type": "markdown",
   "id": "d6d0fe52-fd72-4dde-8299-d3e0b8766691",
   "metadata": {},
   "source": [
    "# Training The Fusion Branch"
   ]
  },
  {
   "cell_type": "code",
   "execution_count": null,
   "id": "1a40c370-198a-4b03-ba17-ea9425edcb53",
   "metadata": {},
   "outputs": [],
   "source": [
    "class StarTrack_Fusion(nn.Module):\n",
    "    def __init__(self, lstm_model: nn.Module, dense_model: nn.Module,\n",
    "                 fused_hidden_dim=512, num_classes=9): \n",
    "        super().__init__()\n",
    "        self.lstm_branch = lstm_model\n",
    "        self.dense_branch = dense_model\n",
    "\n",
    "        for param in self.lstm_branch.parameters():\n",
    "            param.requires_grad = False\n",
    "        for param in self.dense_branch.parameters():\n",
    "            param.requires_grad = False\n",
    "            \n",
    "        for param in self.lstm_branch.fc1.parameters():\n",
    "            param.requires_grad = True\n",
    "        for param in self.dense_branch.fc1.parameters():\n",
    "            param.requires_grad = True\n",
    "\n",
    "        lstm_output_dim = 256\n",
    "        dense_output_dim = 64\n",
    "        \n",
    "        self.cross_attn = nn.MultiheadAttention(embed_dim=lstm_output_dim, num_heads=4)\n",
    "        self.fusion = nn.Sequential(\n",
    "            nn.Linear(lstm_output_dim + dense_output_dim, fused_hidden_dim),\n",
    "            nn.GELU(),  \n",
    "            nn.BatchNorm1d(fused_hidden_dim),\n",
    "            nn.Linear(fused_hidden_dim, fused_hidden_dim//2),\n",
    "            nn.GELU(),\n",
    "            nn.Dropout(0.3), \n",
    "            nn.Linear(fused_hidden_dim//2, num_classes)\n",
    "        )\n",
    "        \n",
    "        self.lstm_classifier = nn.Linear(lstm_output_dim, num_classes)\n",
    "        self.dense_classifier = nn.Linear(dense_output_dim, num_classes)\n",
    "        self.dense_proj = nn.Linear(dense_output_dim, lstm_output_dim)\n",
    "\n",
    "    def forward(self, lstm_input, dense_input):\n",
    "            lstm_feat = self.lstm_branch.extract_features(lstm_input)\n",
    "            dense_feat = self.dense_branch.extract_features(dense_input)\n",
    "        \n",
    "            lstm_q = lstm_feat.unsqueeze(0)  \n",
    "            dense_kv = dense_proj.unsqueeze(0)  \n",
    "\n",
    "            dense_proj = self.dense_proj(dense_feat) \n",
    "           \n",
    "            attn_out, _ = self.cross_attn(query=lstm_q, key=dense_kv, value=dense_kv)\n",
    "            attn_out = attn_out.squeeze(0)\n",
    "        \n",
    "            lstm_feat = lstm_feat + attn_out      \n",
    "            fused = torch.cat([lstm_feat, dense_feat], dim=1) \n",
    "            out = self.fusion(fused)\n",
    "        \n",
    "            lstm_out = self.lstm_classifier(lstm_feat)\n",
    "            dense_out = self.dense_classifier(dense_feat)\n",
    "            return out, lstm_out, dense_out\n"
   ]
  },
  {
   "cell_type": "code",
   "execution_count": null,
   "id": "e34ce593-8293-412b-8d77-0de497cbdd02",
   "metadata": {},
   "outputs": [],
   "source": []
  }
 ],
 "metadata": {
  "kernelspec": {
   "display_name": "Python 3 (ipykernel)",
   "language": "python",
   "name": "python3"
  },
  "language_info": {
   "codemirror_mode": {
    "name": "ipython",
    "version": 3
   },
   "file_extension": ".py",
   "mimetype": "text/x-python",
   "name": "python",
   "nbconvert_exporter": "python",
   "pygments_lexer": "ipython3",
   "version": "3.13.1"
  }
 },
 "nbformat": 4,
 "nbformat_minor": 5
}
