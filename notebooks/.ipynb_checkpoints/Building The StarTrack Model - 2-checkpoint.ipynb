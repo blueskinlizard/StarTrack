{
 "cells": [
  {
   "cell_type": "markdown",
   "id": "ae55e43b-2f36-4038-8bfc-cf3d4b6e4511",
   "metadata": {},
   "source": [
    "# Building The StarTrack Model - 2"
   ]
  },
  {
   "cell_type": "code",
   "execution_count": 1,
   "id": "134bd825-bad2-43f8-9192-edfbd756e58f",
   "metadata": {},
   "outputs": [],
   "source": [
    "import numpy as np\n",
    "import pandas as pd\n",
    "import torch\n",
    "import torch.nn as nn\n",
    "import matplotlib.pyplot as plt\n",
    "from sklearn.model_selection import train_test_split\n",
    "from sklearn.preprocessing import LabelEncoder, StandardScaler\n",
    "from torch.utils.data import DataLoader, TensorDataset, Dataset\n",
    "from sklearn.manifold import TSNE\n",
    "from sklearn.preprocessing import LabelEncoder\n",
    "from sklearn.utils.class_weight import compute_class_weight\n",
    "from tqdm import tqdm\n",
    "import torch.nn.functional as F\n",
    "import copy\n",
    "from sklearn.metrics import confusion_matrix, accuracy_score, classification_report\n",
    "import seaborn as sns"
   ]
  },
  {
   "cell_type": "code",
   "execution_count": 2,
   "id": "79e77679-0feb-4047-9e15-9a2a2101710e",
   "metadata": {},
   "outputs": [
    {
     "data": {
      "text/plain": [
       "'cuda'"
      ]
     },
     "execution_count": 2,
     "metadata": {},
     "output_type": "execute_result"
    }
   ],
   "source": [
    "device = \"cuda\" if torch.cuda.is_available() else \"cpu\"\n",
    "device"
   ]
  },
  {
   "cell_type": "code",
   "execution_count": 3,
   "id": "b24cea5d-66b0-4327-b5c0-a8889dbcebe1",
   "metadata": {},
   "outputs": [
    {
     "data": {
      "text/html": [
       "<div>\n",
       "<style scoped>\n",
       "    .dataframe tbody tr th:only-of-type {\n",
       "        vertical-align: middle;\n",
       "    }\n",
       "\n",
       "    .dataframe tbody tr th {\n",
       "        vertical-align: top;\n",
       "    }\n",
       "\n",
       "    .dataframe thead th {\n",
       "        text-align: right;\n",
       "    }\n",
       "</style>\n",
       "<table border=\"1\" class=\"dataframe\">\n",
       "  <thead>\n",
       "    <tr style=\"text-align: right;\">\n",
       "      <th></th>\n",
       "      <th>Unnamed: 0.1</th>\n",
       "      <th>Unnamed: 0</th>\n",
       "      <th>PLATE</th>\n",
       "      <th>MJD</th>\n",
       "      <th>FIBERID</th>\n",
       "      <th>CLASS</th>\n",
       "      <th>SUBCLASS</th>\n",
       "      <th>ELODIE_SPTYPE</th>\n",
       "      <th>ELODIE_TEFF</th>\n",
       "      <th>ELODIE_LOGG</th>\n",
       "      <th>ELODIE_FEH</th>\n",
       "      <th>Z</th>\n",
       "      <th>Z_ERR</th>\n",
       "      <th>ZWARNING</th>\n",
       "      <th>VDISP</th>\n",
       "      <th>VDISP_ERR</th>\n",
       "      <th>SN_MEDIAN_ALL</th>\n",
       "      <th>RCHI2</th>\n",
       "      <th>DOF</th>\n",
       "      <th>SUBCLASS_CLEAN</th>\n",
       "      <th>SPECTRAL_GROUP</th>\n",
       "      <th>SNR_Bin</th>\n",
       "      <th>High_Quality</th>\n",
       "      <th>Mean_Flux</th>\n",
       "      <th>Flux_to_Noise</th>\n",
       "      <th>u_flux</th>\n",
       "      <th>g_flux</th>\n",
       "      <th>r_flux</th>\n",
       "      <th>i_flux</th>\n",
       "      <th>z_flux</th>\n",
       "      <th>flux_mean</th>\n",
       "      <th>flux_std</th>\n",
       "      <th>flux_min</th>\n",
       "      <th>flux_max</th>\n",
       "      <th>flux_median</th>\n",
       "      <th>flux_p25</th>\n",
       "      <th>flux_p75</th>\n",
       "    </tr>\n",
       "  </thead>\n",
       "  <tbody>\n",
       "    <tr>\n",
       "      <th>0</th>\n",
       "      <td>1</td>\n",
       "      <td>21</td>\n",
       "      <td>266</td>\n",
       "      <td>51602</td>\n",
       "      <td>22</td>\n",
       "      <td>STAR</td>\n",
       "      <td>WD</td>\n",
       "      <td>A0</td>\n",
       "      <td>7652.0</td>\n",
       "      <td>4.287</td>\n",
       "      <td>0.06</td>\n",
       "      <td>-0.000203</td>\n",
       "      <td>0.000017</td>\n",
       "      <td>0</td>\n",
       "      <td>0.0</td>\n",
       "      <td>0.0</td>\n",
       "      <td>35.487301</td>\n",
       "      <td>1.592232</td>\n",
       "      <td>3763</td>\n",
       "      <td>WD</td>\n",
       "      <td>WD</td>\n",
       "      <td>Good</td>\n",
       "      <td>False</td>\n",
       "      <td>186.603329</td>\n",
       "      <td>5.258313</td>\n",
       "      <td>0.122004</td>\n",
       "      <td>0.019352</td>\n",
       "      <td>-0.022279</td>\n",
       "      <td>-0.025010</td>\n",
       "      <td>-0.018879</td>\n",
       "      <td>186.603329</td>\n",
       "      <td>31.226214</td>\n",
       "      <td>142.713699</td>\n",
       "      <td>225.408386</td>\n",
       "      <td>189.586014</td>\n",
       "      <td>160.894745</td>\n",
       "      <td>214.413803</td>\n",
       "    </tr>\n",
       "    <tr>\n",
       "      <th>1</th>\n",
       "      <td>2</td>\n",
       "      <td>27</td>\n",
       "      <td>266</td>\n",
       "      <td>51602</td>\n",
       "      <td>28</td>\n",
       "      <td>STAR</td>\n",
       "      <td>F2</td>\n",
       "      <td>F9V</td>\n",
       "      <td>6038.0</td>\n",
       "      <td>4.370</td>\n",
       "      <td>-0.08</td>\n",
       "      <td>-0.000031</td>\n",
       "      <td>0.000008</td>\n",
       "      <td>0</td>\n",
       "      <td>0.0</td>\n",
       "      <td>0.0</td>\n",
       "      <td>35.359707</td>\n",
       "      <td>1.594363</td>\n",
       "      <td>3750</td>\n",
       "      <td>F2</td>\n",
       "      <td>F</td>\n",
       "      <td>Good</td>\n",
       "      <td>False</td>\n",
       "      <td>241.821964</td>\n",
       "      <td>6.838913</td>\n",
       "      <td>0.163460</td>\n",
       "      <td>0.027785</td>\n",
       "      <td>-0.014652</td>\n",
       "      <td>-0.018542</td>\n",
       "      <td>-0.014578</td>\n",
       "      <td>241.821964</td>\n",
       "      <td>35.124660</td>\n",
       "      <td>172.687210</td>\n",
       "      <td>265.467377</td>\n",
       "      <td>261.459534</td>\n",
       "      <td>247.324982</td>\n",
       "      <td>262.170715</td>\n",
       "    </tr>\n",
       "    <tr>\n",
       "      <th>2</th>\n",
       "      <td>3</td>\n",
       "      <td>28</td>\n",
       "      <td>266</td>\n",
       "      <td>51602</td>\n",
       "      <td>29</td>\n",
       "      <td>STAR</td>\n",
       "      <td>WD</td>\n",
       "      <td>unknown</td>\n",
       "      <td>9000.0</td>\n",
       "      <td>4.000</td>\n",
       "      <td>-2.50</td>\n",
       "      <td>0.000603</td>\n",
       "      <td>0.000177</td>\n",
       "      <td>0</td>\n",
       "      <td>0.0</td>\n",
       "      <td>0.0</td>\n",
       "      <td>2.225974</td>\n",
       "      <td>1.139563</td>\n",
       "      <td>3742</td>\n",
       "      <td>WD</td>\n",
       "      <td>WD</td>\n",
       "      <td>Very Low</td>\n",
       "      <td>False</td>\n",
       "      <td>4.449317</td>\n",
       "      <td>1.998818</td>\n",
       "      <td>-0.070436</td>\n",
       "      <td>-0.064762</td>\n",
       "      <td>-0.055695</td>\n",
       "      <td>-0.040814</td>\n",
       "      <td>-0.025653</td>\n",
       "      <td>4.449317</td>\n",
       "      <td>1.465356</td>\n",
       "      <td>2.503016</td>\n",
       "      <td>6.811224</td>\n",
       "      <td>4.174976</td>\n",
       "      <td>3.577307</td>\n",
       "      <td>5.180061</td>\n",
       "    </tr>\n",
       "    <tr>\n",
       "      <th>3</th>\n",
       "      <td>4</td>\n",
       "      <td>30</td>\n",
       "      <td>266</td>\n",
       "      <td>51602</td>\n",
       "      <td>31</td>\n",
       "      <td>STAR</td>\n",
       "      <td>WD</td>\n",
       "      <td>unknown</td>\n",
       "      <td>9000.0</td>\n",
       "      <td>4.000</td>\n",
       "      <td>-2.50</td>\n",
       "      <td>-0.000037</td>\n",
       "      <td>0.000088</td>\n",
       "      <td>0</td>\n",
       "      <td>0.0</td>\n",
       "      <td>0.0</td>\n",
       "      <td>7.260117</td>\n",
       "      <td>1.147462</td>\n",
       "      <td>3771</td>\n",
       "      <td>WD</td>\n",
       "      <td>WD</td>\n",
       "      <td>Low</td>\n",
       "      <td>False</td>\n",
       "      <td>20.110715</td>\n",
       "      <td>2.770026</td>\n",
       "      <td>-0.054230</td>\n",
       "      <td>-0.057813</td>\n",
       "      <td>-0.052901</td>\n",
       "      <td>-0.039429</td>\n",
       "      <td>-0.025021</td>\n",
       "      <td>20.110715</td>\n",
       "      <td>3.477413</td>\n",
       "      <td>15.293794</td>\n",
       "      <td>24.869940</td>\n",
       "      <td>20.418892</td>\n",
       "      <td>17.294498</td>\n",
       "      <td>22.676453</td>\n",
       "    </tr>\n",
       "    <tr>\n",
       "      <th>4</th>\n",
       "      <td>5</td>\n",
       "      <td>31</td>\n",
       "      <td>266</td>\n",
       "      <td>51602</td>\n",
       "      <td>32</td>\n",
       "      <td>STAR</td>\n",
       "      <td>G2</td>\n",
       "      <td>G1V</td>\n",
       "      <td>5613.0</td>\n",
       "      <td>4.110</td>\n",
       "      <td>-0.94</td>\n",
       "      <td>0.000218</td>\n",
       "      <td>0.000010</td>\n",
       "      <td>0</td>\n",
       "      <td>0.0</td>\n",
       "      <td>0.0</td>\n",
       "      <td>36.094147</td>\n",
       "      <td>1.042492</td>\n",
       "      <td>3764</td>\n",
       "      <td>G2</td>\n",
       "      <td>G</td>\n",
       "      <td>Good</td>\n",
       "      <td>True</td>\n",
       "      <td>246.397417</td>\n",
       "      <td>6.826520</td>\n",
       "      <td>0.015442</td>\n",
       "      <td>-0.008332</td>\n",
       "      <td>-0.013022</td>\n",
       "      <td>-0.011457</td>\n",
       "      <td>-0.009000</td>\n",
       "      <td>246.397417</td>\n",
       "      <td>121.315114</td>\n",
       "      <td>65.667641</td>\n",
       "      <td>391.897797</td>\n",
       "      <td>272.376373</td>\n",
       "      <td>153.463730</td>\n",
       "      <td>348.581543</td>\n",
       "    </tr>\n",
       "  </tbody>\n",
       "</table>\n",
       "</div>"
      ],
      "text/plain": [
       "   Unnamed: 0.1  Unnamed: 0  PLATE    MJD  FIBERID   CLASS  \\\n",
       "0             1          21    266  51602       22  STAR     \n",
       "1             2          27    266  51602       28  STAR     \n",
       "2             3          28    266  51602       29  STAR     \n",
       "3             4          30    266  51602       31  STAR     \n",
       "4             5          31    266  51602       32  STAR     \n",
       "\n",
       "                SUBCLASS ELODIE_SPTYPE  ELODIE_TEFF  ELODIE_LOGG  ELODIE_FEH  \\\n",
       "0  WD                     A0                 7652.0        4.287        0.06   \n",
       "1  F2                     F9V                6038.0        4.370       -0.08   \n",
       "2  WD                     unknown            9000.0        4.000       -2.50   \n",
       "3  WD                     unknown            9000.0        4.000       -2.50   \n",
       "4  G2                     G1V                5613.0        4.110       -0.94   \n",
       "\n",
       "          Z     Z_ERR  ZWARNING  VDISP  VDISP_ERR  SN_MEDIAN_ALL     RCHI2  \\\n",
       "0 -0.000203  0.000017         0    0.0        0.0      35.487301  1.592232   \n",
       "1 -0.000031  0.000008         0    0.0        0.0      35.359707  1.594363   \n",
       "2  0.000603  0.000177         0    0.0        0.0       2.225974  1.139563   \n",
       "3 -0.000037  0.000088         0    0.0        0.0       7.260117  1.147462   \n",
       "4  0.000218  0.000010         0    0.0        0.0      36.094147  1.042492   \n",
       "\n",
       "    DOF SUBCLASS_CLEAN SPECTRAL_GROUP   SNR_Bin  High_Quality   Mean_Flux  \\\n",
       "0  3763             WD             WD      Good         False  186.603329   \n",
       "1  3750             F2              F      Good         False  241.821964   \n",
       "2  3742             WD             WD  Very Low         False    4.449317   \n",
       "3  3771             WD             WD       Low         False   20.110715   \n",
       "4  3764             G2              G      Good          True  246.397417   \n",
       "\n",
       "   Flux_to_Noise    u_flux    g_flux    r_flux    i_flux    z_flux  \\\n",
       "0       5.258313  0.122004  0.019352 -0.022279 -0.025010 -0.018879   \n",
       "1       6.838913  0.163460  0.027785 -0.014652 -0.018542 -0.014578   \n",
       "2       1.998818 -0.070436 -0.064762 -0.055695 -0.040814 -0.025653   \n",
       "3       2.770026 -0.054230 -0.057813 -0.052901 -0.039429 -0.025021   \n",
       "4       6.826520  0.015442 -0.008332 -0.013022 -0.011457 -0.009000   \n",
       "\n",
       "    flux_mean    flux_std    flux_min    flux_max  flux_median    flux_p25  \\\n",
       "0  186.603329   31.226214  142.713699  225.408386   189.586014  160.894745   \n",
       "1  241.821964   35.124660  172.687210  265.467377   261.459534  247.324982   \n",
       "2    4.449317    1.465356    2.503016    6.811224     4.174976    3.577307   \n",
       "3   20.110715    3.477413   15.293794   24.869940    20.418892   17.294498   \n",
       "4  246.397417  121.315114   65.667641  391.897797   272.376373  153.463730   \n",
       "\n",
       "     flux_p75  \n",
       "0  214.413803  \n",
       "1  262.170715  \n",
       "2    5.180061  \n",
       "3   22.676453  \n",
       "4  348.581543  "
      ]
     },
     "execution_count": 3,
     "metadata": {},
     "output_type": "execute_result"
    }
   ],
   "source": [
    "tabular_data = pd.read_csv('../data/processed_data.csv')\n",
    "pd.set_option('display.max_columns', None)\n",
    "tabular_data.head()"
   ]
  },
  {
   "cell_type": "code",
   "execution_count": 4,
   "id": "e332ba8f-6aec-4fe1-a850-bf2f7282ee49",
   "metadata": {},
   "outputs": [
    {
     "data": {
      "text/html": [
       "<div>\n",
       "<style scoped>\n",
       "    .dataframe tbody tr th:only-of-type {\n",
       "        vertical-align: middle;\n",
       "    }\n",
       "\n",
       "    .dataframe tbody tr th {\n",
       "        vertical-align: top;\n",
       "    }\n",
       "\n",
       "    .dataframe thead th {\n",
       "        text-align: right;\n",
       "    }\n",
       "</style>\n",
       "<table border=\"1\" class=\"dataframe\">\n",
       "  <thead>\n",
       "    <tr style=\"text-align: right;\">\n",
       "      <th></th>\n",
       "      <th>ELODIE_TEFF</th>\n",
       "      <th>ELODIE_LOGG</th>\n",
       "      <th>ELODIE_FEH</th>\n",
       "      <th>Z</th>\n",
       "      <th>Z_ERR</th>\n",
       "      <th>ZWARNING</th>\n",
       "      <th>VDISP</th>\n",
       "      <th>VDISP_ERR</th>\n",
       "      <th>SN_MEDIAN_ALL</th>\n",
       "      <th>RCHI2</th>\n",
       "      <th>DOF</th>\n",
       "      <th>SNR_Bin</th>\n",
       "      <th>High_Quality</th>\n",
       "      <th>Mean_Flux</th>\n",
       "      <th>Flux_to_Noise</th>\n",
       "      <th>u_flux</th>\n",
       "      <th>g_flux</th>\n",
       "      <th>r_flux</th>\n",
       "      <th>i_flux</th>\n",
       "      <th>z_flux</th>\n",
       "      <th>flux_mean</th>\n",
       "      <th>flux_std</th>\n",
       "      <th>flux_min</th>\n",
       "      <th>flux_max</th>\n",
       "      <th>flux_median</th>\n",
       "      <th>flux_p25</th>\n",
       "      <th>flux_p75</th>\n",
       "    </tr>\n",
       "  </thead>\n",
       "  <tbody>\n",
       "    <tr>\n",
       "      <th>0</th>\n",
       "      <td>7652.0</td>\n",
       "      <td>4.287</td>\n",
       "      <td>0.06</td>\n",
       "      <td>-0.000203</td>\n",
       "      <td>0.000017</td>\n",
       "      <td>0</td>\n",
       "      <td>0.0</td>\n",
       "      <td>0.0</td>\n",
       "      <td>35.487301</td>\n",
       "      <td>1.592232</td>\n",
       "      <td>3763</td>\n",
       "      <td>3</td>\n",
       "      <td>0</td>\n",
       "      <td>186.603329</td>\n",
       "      <td>5.258313</td>\n",
       "      <td>0.122004</td>\n",
       "      <td>0.019352</td>\n",
       "      <td>-0.022279</td>\n",
       "      <td>-0.025010</td>\n",
       "      <td>-0.018879</td>\n",
       "      <td>186.603329</td>\n",
       "      <td>31.226214</td>\n",
       "      <td>142.713699</td>\n",
       "      <td>225.408386</td>\n",
       "      <td>189.586014</td>\n",
       "      <td>160.894745</td>\n",
       "      <td>214.413803</td>\n",
       "    </tr>\n",
       "    <tr>\n",
       "      <th>1</th>\n",
       "      <td>6038.0</td>\n",
       "      <td>4.370</td>\n",
       "      <td>-0.08</td>\n",
       "      <td>-0.000031</td>\n",
       "      <td>0.000008</td>\n",
       "      <td>0</td>\n",
       "      <td>0.0</td>\n",
       "      <td>0.0</td>\n",
       "      <td>35.359707</td>\n",
       "      <td>1.594363</td>\n",
       "      <td>3750</td>\n",
       "      <td>3</td>\n",
       "      <td>0</td>\n",
       "      <td>241.821964</td>\n",
       "      <td>6.838913</td>\n",
       "      <td>0.163460</td>\n",
       "      <td>0.027785</td>\n",
       "      <td>-0.014652</td>\n",
       "      <td>-0.018542</td>\n",
       "      <td>-0.014578</td>\n",
       "      <td>241.821964</td>\n",
       "      <td>35.124660</td>\n",
       "      <td>172.687210</td>\n",
       "      <td>265.467377</td>\n",
       "      <td>261.459534</td>\n",
       "      <td>247.324982</td>\n",
       "      <td>262.170715</td>\n",
       "    </tr>\n",
       "    <tr>\n",
       "      <th>2</th>\n",
       "      <td>9000.0</td>\n",
       "      <td>4.000</td>\n",
       "      <td>-2.50</td>\n",
       "      <td>0.000603</td>\n",
       "      <td>0.000177</td>\n",
       "      <td>0</td>\n",
       "      <td>0.0</td>\n",
       "      <td>0.0</td>\n",
       "      <td>2.225974</td>\n",
       "      <td>1.139563</td>\n",
       "      <td>3742</td>\n",
       "      <td>0</td>\n",
       "      <td>0</td>\n",
       "      <td>4.449317</td>\n",
       "      <td>1.998818</td>\n",
       "      <td>-0.070436</td>\n",
       "      <td>-0.064762</td>\n",
       "      <td>-0.055695</td>\n",
       "      <td>-0.040814</td>\n",
       "      <td>-0.025653</td>\n",
       "      <td>4.449317</td>\n",
       "      <td>1.465356</td>\n",
       "      <td>2.503016</td>\n",
       "      <td>6.811224</td>\n",
       "      <td>4.174976</td>\n",
       "      <td>3.577307</td>\n",
       "      <td>5.180061</td>\n",
       "    </tr>\n",
       "    <tr>\n",
       "      <th>3</th>\n",
       "      <td>9000.0</td>\n",
       "      <td>4.000</td>\n",
       "      <td>-2.50</td>\n",
       "      <td>-0.000037</td>\n",
       "      <td>0.000088</td>\n",
       "      <td>0</td>\n",
       "      <td>0.0</td>\n",
       "      <td>0.0</td>\n",
       "      <td>7.260117</td>\n",
       "      <td>1.147462</td>\n",
       "      <td>3771</td>\n",
       "      <td>1</td>\n",
       "      <td>0</td>\n",
       "      <td>20.110715</td>\n",
       "      <td>2.770026</td>\n",
       "      <td>-0.054230</td>\n",
       "      <td>-0.057813</td>\n",
       "      <td>-0.052901</td>\n",
       "      <td>-0.039429</td>\n",
       "      <td>-0.025021</td>\n",
       "      <td>20.110715</td>\n",
       "      <td>3.477413</td>\n",
       "      <td>15.293794</td>\n",
       "      <td>24.869940</td>\n",
       "      <td>20.418892</td>\n",
       "      <td>17.294498</td>\n",
       "      <td>22.676453</td>\n",
       "    </tr>\n",
       "    <tr>\n",
       "      <th>4</th>\n",
       "      <td>5613.0</td>\n",
       "      <td>4.110</td>\n",
       "      <td>-0.94</td>\n",
       "      <td>0.000218</td>\n",
       "      <td>0.000010</td>\n",
       "      <td>0</td>\n",
       "      <td>0.0</td>\n",
       "      <td>0.0</td>\n",
       "      <td>36.094147</td>\n",
       "      <td>1.042492</td>\n",
       "      <td>3764</td>\n",
       "      <td>3</td>\n",
       "      <td>1</td>\n",
       "      <td>246.397417</td>\n",
       "      <td>6.826520</td>\n",
       "      <td>0.015442</td>\n",
       "      <td>-0.008332</td>\n",
       "      <td>-0.013022</td>\n",
       "      <td>-0.011457</td>\n",
       "      <td>-0.009000</td>\n",
       "      <td>246.397417</td>\n",
       "      <td>121.315114</td>\n",
       "      <td>65.667641</td>\n",
       "      <td>391.897797</td>\n",
       "      <td>272.376373</td>\n",
       "      <td>153.463730</td>\n",
       "      <td>348.581543</td>\n",
       "    </tr>\n",
       "  </tbody>\n",
       "</table>\n",
       "</div>"
      ],
      "text/plain": [
       "   ELODIE_TEFF  ELODIE_LOGG  ELODIE_FEH         Z     Z_ERR  ZWARNING  VDISP  \\\n",
       "0       7652.0        4.287        0.06 -0.000203  0.000017         0    0.0   \n",
       "1       6038.0        4.370       -0.08 -0.000031  0.000008         0    0.0   \n",
       "2       9000.0        4.000       -2.50  0.000603  0.000177         0    0.0   \n",
       "3       9000.0        4.000       -2.50 -0.000037  0.000088         0    0.0   \n",
       "4       5613.0        4.110       -0.94  0.000218  0.000010         0    0.0   \n",
       "\n",
       "   VDISP_ERR  SN_MEDIAN_ALL     RCHI2   DOF  SNR_Bin  High_Quality  \\\n",
       "0        0.0      35.487301  1.592232  3763        3             0   \n",
       "1        0.0      35.359707  1.594363  3750        3             0   \n",
       "2        0.0       2.225974  1.139563  3742        0             0   \n",
       "3        0.0       7.260117  1.147462  3771        1             0   \n",
       "4        0.0      36.094147  1.042492  3764        3             1   \n",
       "\n",
       "    Mean_Flux  Flux_to_Noise    u_flux    g_flux    r_flux    i_flux  \\\n",
       "0  186.603329       5.258313  0.122004  0.019352 -0.022279 -0.025010   \n",
       "1  241.821964       6.838913  0.163460  0.027785 -0.014652 -0.018542   \n",
       "2    4.449317       1.998818 -0.070436 -0.064762 -0.055695 -0.040814   \n",
       "3   20.110715       2.770026 -0.054230 -0.057813 -0.052901 -0.039429   \n",
       "4  246.397417       6.826520  0.015442 -0.008332 -0.013022 -0.011457   \n",
       "\n",
       "     z_flux   flux_mean    flux_std    flux_min    flux_max  flux_median  \\\n",
       "0 -0.018879  186.603329   31.226214  142.713699  225.408386   189.586014   \n",
       "1 -0.014578  241.821964   35.124660  172.687210  265.467377   261.459534   \n",
       "2 -0.025653    4.449317    1.465356    2.503016    6.811224     4.174976   \n",
       "3 -0.025021   20.110715    3.477413   15.293794   24.869940    20.418892   \n",
       "4 -0.009000  246.397417  121.315114   65.667641  391.897797   272.376373   \n",
       "\n",
       "     flux_p25    flux_p75  \n",
       "0  160.894745  214.413803  \n",
       "1  247.324982  262.170715  \n",
       "2    3.577307    5.180061  \n",
       "3   17.294498   22.676453  \n",
       "4  153.463730  348.581543  "
      ]
     },
     "execution_count": 4,
     "metadata": {},
     "output_type": "execute_result"
    }
   ],
   "source": [
    "columns_to_drop = [\"Unnamed: 0\", \"Unnamed: 0.1\", \n",
    "                   \"CLASS\", \"SUBCLASS\", \"SUBCLASS_CLEAN\", \"SPECTRAL_GROUP\", \n",
    "                   \"PLATE\", \"MJD\", \"FIBERID\", \"ELODIE_SPTYPE\" ]\n",
    "labels_tabular = tabular_data[\"SPECTRAL_GROUP\"]\n",
    "tabular_data = tabular_data.drop(columns=columns_to_drop)\n",
    "pd.set_option('display.max_columns', None)\n",
    "bin_dict = {'Below 0': -1, 'Very Low': 0, 'Low': 1, 'Moderate': 2, 'Good': 3, 'High': 4, 'Very High': 5}\n",
    "tabular_data[\"SNR_Bin\"] = tabular_data[\"SNR_Bin\"].map(bin_dict)\n",
    "qual_dict = {False: 0, True: 1} # There's probably a better way to do this not going to lie\n",
    "tabular_data[\"High_Quality\"] = tabular_data[\"High_Quality\"].map(qual_dict)\n",
    "tabular_data.head()"
   ]
  },
  {
   "cell_type": "code",
   "execution_count": 5,
   "id": "e6068313-5ffa-4b70-a75b-8eafac200817",
   "metadata": {},
   "outputs": [
    {
     "name": "stdout",
     "output_type": "stream",
     "text": [
      "   ELODIE_TEFF  ELODIE_LOGG  ELODIE_FEH         Z     Z_ERR  ZWARNING  VDISP  \\\n",
      "0     1.701294     0.399468    0.793453 -0.168372 -0.002112         0    0.0   \n",
      "1     0.527703     0.480184    0.620273  0.080864 -0.002112         0    0.0   \n",
      "2     2.681467     0.120365   -2.373272  0.996701 -0.002106         0    0.0   \n",
      "3     2.681467     0.120365   -2.373272  0.071959 -0.002109         0    0.0   \n",
      "4     0.218672     0.227338   -0.443549  0.440732 -0.002112         0    0.0   \n",
      "\n",
      "   VDISP_ERR  SN_MEDIAN_ALL     RCHI2   DOF  SNR_Bin  High_Quality  Mean_Flux  \\\n",
      "0        0.0       0.681625  0.024548  3763        3             0  -0.017712   \n",
      "1        0.0       0.675176  0.025592  3750        3             0  -0.011066   \n",
      "2        0.0      -0.999324 -0.197186  3742        0             0  -0.039636   \n",
      "3        0.0      -0.744910 -0.193316  3771        1             0  -0.037751   \n",
      "4        0.0       0.712293 -0.244735  3764        3             1  -0.010516   \n",
      "\n",
      "   Flux_to_Noise    u_flux    g_flux    r_flux    i_flux    z_flux  flux_mean  \\\n",
      "0      -0.020948  0.122004  0.019352 -0.022279 -0.025010 -0.018879  -0.017712   \n",
      "1      -0.007886  0.163460  0.027785 -0.014652 -0.018542 -0.014578  -0.011066   \n",
      "2      -0.047884 -0.070436 -0.064762 -0.055695 -0.040814 -0.025653  -0.039636   \n",
      "3      -0.041511 -0.054231 -0.057813 -0.052901 -0.039429 -0.025021  -0.037751   \n",
      "4      -0.007988  0.015441 -0.008332 -0.013022 -0.011457 -0.009000  -0.010516   \n",
      "\n",
      "   flux_std  flux_min  flux_max  flux_median  flux_p25  flux_p75  \n",
      "0 -0.020036  0.123975 -0.016260    -0.026045 -0.005106 -0.022939  \n",
      "1 -0.019593  0.165438 -0.014547    -0.014549  0.028155 -0.018868  \n",
      "2 -0.023425 -0.069980 -0.025608    -0.055700 -0.065647 -0.040775  \n",
      "3 -0.023196 -0.052286 -0.024836    -0.053102 -0.060368 -0.039284  \n",
      "4 -0.009778  0.017396 -0.009141    -0.012803 -0.007966 -0.011502  \n"
     ]
    }
   ],
   "source": [
    "cat_cols = ['ZWARNING', 'SNR_Bin', 'High_Quality', 'DOF']\n",
    "numeric_cols = [col for col in tabular_data.columns if col not in cat_cols]\n",
    "scaler = StandardScaler()\n",
    "tabular_data_scaled_numeric = pd.DataFrame(scaler.fit_transform(tabular_data[numeric_cols]), columns=numeric_cols)\n",
    "tabular_data_cat = tabular_data[cat_cols].reset_index(drop=True)\n",
    "\n",
    "tabular_data_processed = pd.concat([tabular_data_scaled_numeric, tabular_data_cat], axis=1)\n",
    "tabular_data_processed = tabular_data_processed[tabular_data.columns]\n",
    "\n",
    "print(tabular_data_processed.head())"
   ]
  },
  {
   "cell_type": "code",
   "execution_count": 6,
   "id": "8e7cbe93-539b-46af-8096-5feaede2a486",
   "metadata": {},
   "outputs": [
    {
     "data": {
      "text/plain": [
       "(802836, 27)"
      ]
     },
     "execution_count": 6,
     "metadata": {},
     "output_type": "execute_result"
    }
   ],
   "source": [
    "tabular_data_processed.shape"
   ]
  },
  {
   "cell_type": "code",
   "execution_count": 7,
   "id": "e5cb02e9-db13-4055-b610-01ad063619e9",
   "metadata": {},
   "outputs": [
    {
     "name": "stdout",
     "output_type": "stream",
     "text": [
      "Series([], dtype: int64)\n"
     ]
    }
   ],
   "source": [
    "missing_per_column = tabular_data.isnull().sum()\n",
    "print(missing_per_column[missing_per_column > 0]) "
   ]
  },
  {
   "cell_type": "code",
   "execution_count": 8,
   "id": "ef478b36-8b05-4be6-b351-62e2d9a2c090",
   "metadata": {},
   "outputs": [
    {
     "data": {
      "text/plain": [
       "0    WD\n",
       "1     F\n",
       "2    WD\n",
       "3    WD\n",
       "4     G\n",
       "Name: SPECTRAL_GROUP, dtype: object"
      ]
     },
     "execution_count": 8,
     "metadata": {},
     "output_type": "execute_result"
    }
   ],
   "source": [
    "labels_tabular.head()"
   ]
  },
  {
   "cell_type": "code",
   "execution_count": 33,
   "id": "e3b28d3e-18dc-41ac-95c1-75258ff2f220",
   "metadata": {},
   "outputs": [],
   "source": [
    "# All of the following functions are taken from my EchoScope project, check it out here: https://github.com/blueskinlizard/EchoScope/tree/main\n",
    "def split_sets(X, y):\n",
    "    X_train_val, X_test, y_train_val, y_test = train_test_split(\n",
    "    X, y, test_size=0.2, random_state=42, stratify=y)\n",
    "\n",
    "    X_train, X_val, y_train, y_val = train_test_split(\n",
    "        X_train_val, y_train_val, test_size=0.2, random_state=42, stratify=y_train_val)\n",
    "    \n",
    "    print(f'Train shape: {X_train.shape}, {y_train.shape}')\n",
    "    print(f'Validation shape: {X_val.shape}, {y_val.shape}')\n",
    "    print(f'Test shape: {X_test.shape}, {y_test.shape}')\n",
    "    return X_train, y_train, X_val, y_val, X_test, y_test"
   ]
  },
  {
   "cell_type": "code",
   "execution_count": 34,
   "id": "f0b1fa7e-7e66-4582-9f14-9c6bee61af88",
   "metadata": {},
   "outputs": [],
   "source": [
    "def train_model(model, criterion, optimizer, epochs, train_loader, val_loader, patience=100, scheduler=None, clip_value=1.0):\n",
    "    best_val_loss = float('inf')\n",
    "    best_model_state = None\n",
    "    no_improve_epochs = 0\n",
    "\n",
    "    train_losses = []\n",
    "    val_losses = []\n",
    "\n",
    "    for epoch in range(1, epochs + 1):\n",
    "        model.train()\n",
    "        train_loss = 0.0\n",
    "        train_bar = tqdm(train_loader, desc=f\"Epoch {epoch}/{epochs} [Train]\", leave=False)\n",
    "\n",
    "        with torch.autograd.set_detect_anomaly(True):\n",
    "            for X_batch, y_batch in train_bar:\n",
    "                X_batch, y_batch = X_batch.to(device), y_batch.to(device)\n",
    "                optimizer.zero_grad()\n",
    "                outputs = model(X_batch)\n",
    "                loss = criterion(outputs, y_batch)\n",
    "                loss.backward()\n",
    "\n",
    "                # Gradient clipping, as a lr of 1e-3 experienced gradient explosion💔\n",
    "                torch.nn.utils.clip_grad_norm_(model.parameters(), clip_value)\n",
    "\n",
    "                optimizer.step()\n",
    "                train_loss += loss.item() * X_batch.size(0)\n",
    "                train_bar.set_postfix(loss=loss.item())\n",
    "\n",
    "        train_loss /= len(train_loader.dataset)\n",
    "\n",
    "        model.eval()\n",
    "        val_loss = 0.0\n",
    "        val_bar = tqdm(val_loader, desc=f\"Epoch {epoch}/{epochs} [Val]\", leave=False)\n",
    "        with torch.no_grad():\n",
    "            for X_batch, y_batch in val_bar:\n",
    "                X_batch, y_batch = X_batch.to(device), y_batch.to(device)\n",
    "                outputs = model(X_batch)\n",
    "                loss = criterion(outputs, y_batch)\n",
    "                val_loss += loss.item() * X_batch.size(0)\n",
    "                val_bar.set_postfix(loss=loss.item())\n",
    "        val_loss /= len(val_loader.dataset)\n",
    "\n",
    "        train_losses.append(train_loss)\n",
    "        val_losses.append(val_loss)\n",
    "\n",
    "        print(f\"Epoch {epoch}/{epochs} | Train Loss: {train_loss:.6f} | Val Loss: {val_loss:.6f}\")\n",
    "\n",
    "        if val_loss < best_val_loss:\n",
    "            best_val_loss = val_loss\n",
    "            best_model_state = copy.deepcopy(model.state_dict())\n",
    "            no_improve_epochs = 0\n",
    "        else:\n",
    "            no_improve_epochs += 1\n",
    "            if no_improve_epochs >= patience:\n",
    "                print(f\"Early stopping at epoch {epoch} (best val loss: {best_val_loss:.6f})\")\n",
    "                break\n",
    "\n",
    "        if scheduler:\n",
    "            scheduler.step(val_loss)\n",
    "\n",
    "    model.load_state_dict(best_model_state)\n",
    "    return train_losses, val_losses\n"
   ]
  },
  {
   "cell_type": "code",
   "execution_count": 35,
   "id": "f56ecbb9-19e9-4dcb-8d2f-425f9f438d5a",
   "metadata": {},
   "outputs": [],
   "source": [
    "def set_seed(seed=1):\n",
    "    torch.manual_seed(seed)\n",
    "    np.random.seed(seed)\n",
    "    torch.cuda.manual_seed(seed)\n",
    "    torch.cuda.manual_seed_all(seed)\n",
    "    torch.backends.cudnn.deterministic = True\n",
    "    torch.backends.cudnn.benchmark = False\n",
    "set_seed()"
   ]
  },
  {
   "cell_type": "code",
   "execution_count": 36,
   "id": "a7596272-fecd-47f6-9b7a-2d79a068d100",
   "metadata": {},
   "outputs": [],
   "source": [
    "def plot_losses(train_losses, val_losses):\n",
    "    epochs = range(1, len(train_losses) + 1)\n",
    "    plt.figure(figsize=(10,6))\n",
    "    plt.plot(epochs, train_losses, label='Train Loss', color='blue')\n",
    "    plt.plot(epochs, val_losses, label='Validation Loss', color='orange')\n",
    "    plt.xlabel('Epoch')\n",
    "    plt.ylabel('Loss')\n",
    "    plt.title('Training and Validation Loss over Epochs')\n",
    "    plt.legend()\n",
    "    plt.grid(True)\n",
    "    plt.show()"
   ]
  },
  {
   "cell_type": "code",
   "execution_count": 37,
   "id": "85180e68-f4fd-4bb3-985a-bb8e39ebd091",
   "metadata": {},
   "outputs": [],
   "source": [
    "def evaluate_model(model, data_loader, device, label_encoder):\n",
    "    model.eval()\n",
    "    all_preds = []\n",
    "    all_labels = []\n",
    "    \n",
    "    with torch.no_grad():\n",
    "        for X_batch, y_batch in data_loader:\n",
    "            X_batch = X_batch.to(device)\n",
    "            y_batch = y_batch.to(device)\n",
    "            \n",
    "            outputs = model(X_batch)\n",
    "            _, preds = torch.max(outputs, 1)\n",
    "            \n",
    "            all_preds.extend(preds.cpu().numpy())\n",
    "            all_labels.extend(y_batch.cpu().numpy())\n",
    "    \n",
    "    acc = accuracy_score(all_labels, all_preds)\n",
    "    print(f'Accuracy: {acc:.4f}')\n",
    "    print('Classification Report:')\n",
    "    print(classification_report(all_labels, all_preds, target_names=label_encoder.classes_))\n",
    "    return all_labels, all_preds "
   ]
  },
  {
   "cell_type": "code",
   "execution_count": 38,
   "id": "aa6ba4ad-84cd-4428-b230-e900493f9760",
   "metadata": {},
   "outputs": [],
   "source": [
    "def get_preds_labels(model, dataloader, device):\n",
    "    model.eval()\n",
    "    all_preds = []\n",
    "    all_labels = []\n",
    "    with torch.no_grad():\n",
    "        for inputs, labels in dataloader:\n",
    "            inputs = inputs.to(device)\n",
    "            labels = labels.to(device)\n",
    "\n",
    "            outputs = model(inputs)\n",
    "            _, preds = torch.max(outputs, 1)\n",
    "            all_preds.append(preds.cpu())\n",
    "            all_labels.append(labels.cpu())\n",
    "\n",
    "    return torch.cat(all_preds), torch.cat(all_labels)"
   ]
  },
  {
   "cell_type": "code",
   "execution_count": 39,
   "id": "ec10233c-7880-489a-8c8d-4464fd9b36b2",
   "metadata": {},
   "outputs": [],
   "source": [
    "def plot_confusion_matrix(y_true, y_pred, class_names=None):\n",
    "    cm = confusion_matrix(y_true, y_pred)\n",
    "    plt.figure(figsize=(10, 8))\n",
    "\n",
    "    if class_names is None:\n",
    "        class_names = [str(i) for i in range(cm.shape[0])]\n",
    "        \n",
    "    sns.heatmap(cm, annot=True, fmt='d', cmap='Blues', xticklabels=class_names, yticklabels=class_names)\n",
    "    plt.xlabel('Predicted')\n",
    "    plt.ylabel('True')\n",
    "    plt.title('Confusion Matrix')\n",
    "    plt.show()"
   ]
  },
  {
   "cell_type": "markdown",
   "id": "8b9ad8e7-0681-4dfa-a46a-3885e28655b2",
   "metadata": {},
   "source": [
    "# Training The Dense (Tabular Data) branch"
   ]
  },
  {
   "cell_type": "code",
   "execution_count": 40,
   "id": "70d35bb9-1092-4375-87e4-22a51fa4a1d1",
   "metadata": {},
   "outputs": [
    {
     "name": "stdout",
     "output_type": "stream",
     "text": [
      "X shape: (802836, 27)\n",
      "Total samples: 802836\n",
      "Unique classes: ['A' 'B' 'F' 'G' 'K' 'L' 'M' 'WD']\n"
     ]
    }
   ],
   "source": [
    "le_tabular = LabelEncoder()\n",
    "labels_encoded_tabular = le_tabular.fit_transform(labels_tabular)\n",
    "X = tabular_data_processed\n",
    "y = labels_encoded_tabular\n",
    "print(\"X shape:\", X.shape)\n",
    "print(f'Total samples: {X.shape[0]}')\n",
    "print(f'Unique classes: {le_tabular.classes_}')"
   ]
  },
  {
   "cell_type": "code",
   "execution_count": 41,
   "id": "ad0e7f47-5cf3-401b-8217-ba251e980ac3",
   "metadata": {},
   "outputs": [
    {
     "name": "stdout",
     "output_type": "stream",
     "text": [
      "X shape: (802836, 27), y shape: 802836\n"
     ]
    }
   ],
   "source": [
    "print(f'X shape: {X.shape}, y shape: {len(y)}')"
   ]
  },
  {
   "cell_type": "code",
   "execution_count": 42,
   "id": "6cecd38a-4be5-48f9-9d04-0d6d2be9a756",
   "metadata": {},
   "outputs": [
    {
     "name": "stdout",
     "output_type": "stream",
     "text": [
      "Train shape: (513814, 27), (513814,)\n",
      "Validation shape: (128454, 27), (128454,)\n",
      "Test shape: (160568, 27), (160568,)\n"
     ]
    }
   ],
   "source": [
    "X_table_train, y_table_train, X_table_val, y_table_val, X_table_test, y_table_test = split_sets(X, y)"
   ]
  },
  {
   "cell_type": "code",
   "execution_count": 43,
   "id": "17913a10-2f9e-46a7-b0a9-99925117e6c1",
   "metadata": {},
   "outputs": [],
   "source": [
    "X_table_train_fusion = X_table_train.copy()\n",
    "X_table_val_fusion = X_table_val.copy()\n",
    "X_table_test_fusion = X_table_test.copy()\n",
    "\n",
    "y_table_train_fusion = y_table_train.copy()\n",
    "y_table_val_fusion = y_table_val.copy()\n",
    "y_table_test_fusion = y_table_test.copy()"
   ]
  },
  {
   "cell_type": "code",
   "execution_count": 44,
   "id": "1fe42595-1ea9-4329-ba6a-6422c69c2c4e",
   "metadata": {},
   "outputs": [],
   "source": [
    "train_dataset_table_np = torch.utils.data.TensorDataset(\n",
    "    torch.tensor(X_table_train.values, dtype=torch.float32),\n",
    "    torch.tensor(y_table_train, dtype=torch.long)\n",
    ")\n",
    "\n",
    "val_dataset_table_np = torch.utils.data.TensorDataset(\n",
    "    torch.tensor(X_table_val.values, dtype=torch.float32),\n",
    "    torch.tensor(y_table_val, dtype=torch.long)\n",
    ")\n",
    "\n",
    "test_dataset_table_np = torch.utils.data.TensorDataset(\n",
    "    torch.tensor(X_table_test.values, dtype=torch.float32),\n",
    "    torch.tensor(y_table_test, dtype=torch.long)\n",
    ")"
   ]
  },
  {
   "cell_type": "code",
   "execution_count": 45,
   "id": "0a10c6ab-e5e8-4953-9c2d-62a1d585c347",
   "metadata": {},
   "outputs": [],
   "source": [
    "train_loader_tabular = DataLoader(train_dataset_table_np, batch_size=512, shuffle=True)\n",
    "val_loader_tabular = DataLoader(val_dataset_table_np, batch_size=512, shuffle=False)\n",
    "test_loader_tabular = DataLoader(test_dataset_table_np, batch_size=512, shuffle=True)"
   ]
  },
  {
   "cell_type": "code",
   "execution_count": 46,
   "id": "fdb61258-aafd-4f9e-8bda-03061af68fb8",
   "metadata": {},
   "outputs": [],
   "source": [
    "class StarTrack_Dense(nn.Module):\n",
    "    def __init__(self, input_size=27, hidden_sizes=[1024, 512, 512, 256, 128], output_size=8):\n",
    "        super().__init__()\n",
    "        self.fc1 = nn.Linear(input_size, hidden_sizes[0])\n",
    "        self.bn1 = nn.BatchNorm1d(hidden_sizes[0])\n",
    "\n",
    "        self.fc2 = nn.Linear(hidden_sizes[0], hidden_sizes[1])\n",
    "        self.bn2 = nn.BatchNorm1d(hidden_sizes[1])\n",
    "\n",
    "        self.fc3 = nn.Linear(hidden_sizes[1], hidden_sizes[2])\n",
    "        self.bn3 = nn.BatchNorm1d(hidden_sizes[2])\n",
    "        self.dropout = nn.Dropout(0.3)\n",
    "        self.out = nn.Linear(hidden_sizes[2], output_size)\n",
    "        self.act = nn.LeakyReLU(negative_slope=0.01)\n",
    "\n",
    "    def forward(self, x):\n",
    "        x1 = self.act(self.bn1(self.fc1(x)))\n",
    "        x1 = self.dropout(x1)\n",
    "        x2 = self.act(self.bn2(self.fc2(x1)))\n",
    "        x2 = self.dropout(x2)\n",
    "        x3 = self.act(self.bn3(self.fc3(x2)))\n",
    "        x3 = self.dropout(x3)\n",
    "\n",
    "        return self.out(x3)\n"
   ]
  },
  {
   "cell_type": "code",
   "execution_count": 47,
   "id": "898b85b5-b7ce-4544-84f4-d4a822f3ef00",
   "metadata": {},
   "outputs": [],
   "source": [
    "StarTrack_Dense_V1 = StarTrack_Dense()\n",
    "StarTrack_Dense_V1 = StarTrack_Dense_V1 .to(device)"
   ]
  },
  {
   "cell_type": "code",
   "execution_count": 20,
   "id": "a2718405-1895-4d15-91b7-311031f455e6",
   "metadata": {},
   "outputs": [
    {
     "name": "stdout",
     "output_type": "stream",
     "text": [
      "[3.26123439, 8.32599819, 1.23, 1.50887445, 1.03, 6.5624553, 1.33, 3.30963362]\n"
     ]
    }
   ],
   "source": [
    "class_weights_dense = [3.26123439, 8.32599819, 1.23, 1.50887445, 1.03, 6.5624553, 1.33, 3.30963362]\n",
    "print(class_weights_dense)\n",
    "class_weights_dense = torch.tensor(class_weights_dense, dtype=torch.float32).to(device)\n",
    "loss_fn = nn.CrossEntropyLoss(weight=class_weights_dense)\n",
    "optimizer_dense = torch.optim.Adam(StarTrack_Dense_V1.parameters(), lr=5e-4, weight_decay=5e-4)\n",
    "scheduler_dense = torch.optim.lr_scheduler.ReduceLROnPlateau(optimizer_dense, mode='min', factor=0.1, patience=5)"
   ]
  },
  {
   "cell_type": "code",
   "execution_count": 26,
   "id": "1fc9bcee-2472-4c5b-bb58-c1ae82e9e799",
   "metadata": {
    "scrolled": true
   },
   "outputs": [
    {
     "name": "stderr",
     "output_type": "stream",
     "text": [
      "                                                                               "
     ]
    },
    {
     "name": "stdout",
     "output_type": "stream",
     "text": [
      "Epoch 1/50 | Train Loss: 1.006136 | Val Loss: 2.697069\n"
     ]
    },
    {
     "name": "stderr",
     "output_type": "stream",
     "text": [
      "                                                                               "
     ]
    },
    {
     "name": "stdout",
     "output_type": "stream",
     "text": [
      "Epoch 2/50 | Train Loss: 0.841421 | Val Loss: 1.957824\n"
     ]
    },
    {
     "name": "stderr",
     "output_type": "stream",
     "text": [
      "                                                                               "
     ]
    },
    {
     "name": "stdout",
     "output_type": "stream",
     "text": [
      "Epoch 3/50 | Train Loss: 0.806705 | Val Loss: 1.273688\n"
     ]
    },
    {
     "name": "stderr",
     "output_type": "stream",
     "text": [
      "                                                                               "
     ]
    },
    {
     "name": "stdout",
     "output_type": "stream",
     "text": [
      "Epoch 4/50 | Train Loss: 0.782881 | Val Loss: 2.289467\n"
     ]
    },
    {
     "name": "stderr",
     "output_type": "stream",
     "text": [
      "                                                                               "
     ]
    },
    {
     "name": "stdout",
     "output_type": "stream",
     "text": [
      "Epoch 5/50 | Train Loss: 0.768949 | Val Loss: 4.098403\n"
     ]
    },
    {
     "name": "stderr",
     "output_type": "stream",
     "text": [
      "                                                                               "
     ]
    },
    {
     "name": "stdout",
     "output_type": "stream",
     "text": [
      "Epoch 6/50 | Train Loss: 0.754068 | Val Loss: 3.287696\n"
     ]
    },
    {
     "name": "stderr",
     "output_type": "stream",
     "text": [
      "                                                                               "
     ]
    },
    {
     "name": "stdout",
     "output_type": "stream",
     "text": [
      "Epoch 7/50 | Train Loss: 0.746564 | Val Loss: 1.839757\n"
     ]
    },
    {
     "name": "stderr",
     "output_type": "stream",
     "text": [
      "                                                                               "
     ]
    },
    {
     "name": "stdout",
     "output_type": "stream",
     "text": [
      "Epoch 8/50 | Train Loss: 0.742738 | Val Loss: 2.136098\n"
     ]
    },
    {
     "name": "stderr",
     "output_type": "stream",
     "text": [
      "                                                                               "
     ]
    },
    {
     "name": "stdout",
     "output_type": "stream",
     "text": [
      "Epoch 9/50 | Train Loss: 0.735715 | Val Loss: 3.359197\n"
     ]
    },
    {
     "name": "stderr",
     "output_type": "stream",
     "text": [
      "                                                                               "
     ]
    },
    {
     "name": "stdout",
     "output_type": "stream",
     "text": [
      "Epoch 10/50 | Train Loss: 0.697520 | Val Loss: 0.709798\n"
     ]
    },
    {
     "name": "stderr",
     "output_type": "stream",
     "text": [
      "                                                                               "
     ]
    },
    {
     "name": "stdout",
     "output_type": "stream",
     "text": [
      "Epoch 11/50 | Train Loss: 0.686864 | Val Loss: 0.750152\n"
     ]
    },
    {
     "name": "stderr",
     "output_type": "stream",
     "text": [
      "                                                                               "
     ]
    },
    {
     "name": "stdout",
     "output_type": "stream",
     "text": [
      "Epoch 12/50 | Train Loss: 0.681434 | Val Loss: 0.909592\n"
     ]
    },
    {
     "name": "stderr",
     "output_type": "stream",
     "text": [
      "                                                                               "
     ]
    },
    {
     "name": "stdout",
     "output_type": "stream",
     "text": [
      "Epoch 13/50 | Train Loss: 0.681176 | Val Loss: 0.679768\n"
     ]
    },
    {
     "name": "stderr",
     "output_type": "stream",
     "text": [
      "                                                                               "
     ]
    },
    {
     "name": "stdout",
     "output_type": "stream",
     "text": [
      "Epoch 14/50 | Train Loss: 0.675984 | Val Loss: 0.825783\n"
     ]
    },
    {
     "name": "stderr",
     "output_type": "stream",
     "text": [
      "                                                                               "
     ]
    },
    {
     "name": "stdout",
     "output_type": "stream",
     "text": [
      "Epoch 15/50 | Train Loss: 0.674202 | Val Loss: 0.787497\n"
     ]
    },
    {
     "name": "stderr",
     "output_type": "stream",
     "text": [
      "                                                                               "
     ]
    },
    {
     "name": "stdout",
     "output_type": "stream",
     "text": [
      "Epoch 16/50 | Train Loss: 0.672885 | Val Loss: 0.827055\n"
     ]
    },
    {
     "name": "stderr",
     "output_type": "stream",
     "text": [
      "                                                                               "
     ]
    },
    {
     "name": "stdout",
     "output_type": "stream",
     "text": [
      "Epoch 17/50 | Train Loss: 0.670045 | Val Loss: 0.880297\n"
     ]
    },
    {
     "name": "stderr",
     "output_type": "stream",
     "text": [
      "                                                                               "
     ]
    },
    {
     "name": "stdout",
     "output_type": "stream",
     "text": [
      "Epoch 18/50 | Train Loss: 0.667097 | Val Loss: 0.700229\n"
     ]
    },
    {
     "name": "stderr",
     "output_type": "stream",
     "text": [
      "                                                                               "
     ]
    },
    {
     "name": "stdout",
     "output_type": "stream",
     "text": [
      "Epoch 19/50 | Train Loss: 0.666445 | Val Loss: 0.803665\n"
     ]
    },
    {
     "name": "stderr",
     "output_type": "stream",
     "text": [
      "                                                                               "
     ]
    },
    {
     "name": "stdout",
     "output_type": "stream",
     "text": [
      "Epoch 20/50 | Train Loss: 0.661523 | Val Loss: 0.623679\n"
     ]
    },
    {
     "name": "stderr",
     "output_type": "stream",
     "text": [
      "                                                                               "
     ]
    },
    {
     "name": "stdout",
     "output_type": "stream",
     "text": [
      "Epoch 21/50 | Train Loss: 0.659326 | Val Loss: 0.624332\n"
     ]
    },
    {
     "name": "stderr",
     "output_type": "stream",
     "text": [
      "                                                                               "
     ]
    },
    {
     "name": "stdout",
     "output_type": "stream",
     "text": [
      "Epoch 22/50 | Train Loss: 0.658528 | Val Loss: 0.620301\n"
     ]
    },
    {
     "name": "stderr",
     "output_type": "stream",
     "text": [
      "                                                                               "
     ]
    },
    {
     "name": "stdout",
     "output_type": "stream",
     "text": [
      "Epoch 23/50 | Train Loss: 0.658469 | Val Loss: 0.623500\n"
     ]
    },
    {
     "name": "stderr",
     "output_type": "stream",
     "text": [
      "                                                                               "
     ]
    },
    {
     "name": "stdout",
     "output_type": "stream",
     "text": [
      "Epoch 24/50 | Train Loss: 0.657362 | Val Loss: 0.619859\n"
     ]
    },
    {
     "name": "stderr",
     "output_type": "stream",
     "text": [
      "                                                                               "
     ]
    },
    {
     "name": "stdout",
     "output_type": "stream",
     "text": [
      "Epoch 25/50 | Train Loss: 0.657730 | Val Loss: 0.622581\n"
     ]
    },
    {
     "name": "stderr",
     "output_type": "stream",
     "text": [
      "                                                                               "
     ]
    },
    {
     "name": "stdout",
     "output_type": "stream",
     "text": [
      "Epoch 26/50 | Train Loss: 0.656571 | Val Loss: 0.629457\n"
     ]
    },
    {
     "name": "stderr",
     "output_type": "stream",
     "text": [
      "                                                                               "
     ]
    },
    {
     "name": "stdout",
     "output_type": "stream",
     "text": [
      "Epoch 27/50 | Train Loss: 0.656540 | Val Loss: 0.620563\n"
     ]
    },
    {
     "name": "stderr",
     "output_type": "stream",
     "text": [
      "                                                                               "
     ]
    },
    {
     "name": "stdout",
     "output_type": "stream",
     "text": [
      "Epoch 28/50 | Train Loss: 0.656371 | Val Loss: 0.624093\n"
     ]
    },
    {
     "name": "stderr",
     "output_type": "stream",
     "text": [
      "                                                                               "
     ]
    },
    {
     "name": "stdout",
     "output_type": "stream",
     "text": [
      "Epoch 29/50 | Train Loss: 0.655637 | Val Loss: 0.620822\n"
     ]
    },
    {
     "name": "stderr",
     "output_type": "stream",
     "text": [
      "                                                                               "
     ]
    },
    {
     "name": "stdout",
     "output_type": "stream",
     "text": [
      "Epoch 30/50 | Train Loss: 0.655884 | Val Loss: 0.615242\n"
     ]
    },
    {
     "name": "stderr",
     "output_type": "stream",
     "text": [
      "                                                                               "
     ]
    },
    {
     "name": "stdout",
     "output_type": "stream",
     "text": [
      "Epoch 31/50 | Train Loss: 0.656536 | Val Loss: 0.627664\n"
     ]
    },
    {
     "name": "stderr",
     "output_type": "stream",
     "text": [
      "                                                                               "
     ]
    },
    {
     "name": "stdout",
     "output_type": "stream",
     "text": [
      "Epoch 32/50 | Train Loss: 0.655624 | Val Loss: 0.626232\n"
     ]
    },
    {
     "name": "stderr",
     "output_type": "stream",
     "text": [
      "                                                                               "
     ]
    },
    {
     "name": "stdout",
     "output_type": "stream",
     "text": [
      "Epoch 33/50 | Train Loss: 0.655560 | Val Loss: 0.619873\n"
     ]
    },
    {
     "name": "stderr",
     "output_type": "stream",
     "text": [
      "                                                                               "
     ]
    },
    {
     "name": "stdout",
     "output_type": "stream",
     "text": [
      "Epoch 34/50 | Train Loss: 0.655077 | Val Loss: 0.624190\n"
     ]
    },
    {
     "name": "stderr",
     "output_type": "stream",
     "text": [
      "                                                                               "
     ]
    },
    {
     "name": "stdout",
     "output_type": "stream",
     "text": [
      "Epoch 35/50 | Train Loss: 0.656307 | Val Loss: 0.617147\n"
     ]
    },
    {
     "name": "stderr",
     "output_type": "stream",
     "text": [
      "                                                                               "
     ]
    },
    {
     "name": "stdout",
     "output_type": "stream",
     "text": [
      "Epoch 36/50 | Train Loss: 0.654462 | Val Loss: 0.621622\n"
     ]
    },
    {
     "name": "stderr",
     "output_type": "stream",
     "text": [
      "                                                                               "
     ]
    },
    {
     "name": "stdout",
     "output_type": "stream",
     "text": [
      "Epoch 37/50 | Train Loss: 0.653815 | Val Loss: 0.616366\n"
     ]
    },
    {
     "name": "stderr",
     "output_type": "stream",
     "text": [
      "                                                                               "
     ]
    },
    {
     "name": "stdout",
     "output_type": "stream",
     "text": [
      "Epoch 38/50 | Train Loss: 0.653877 | Val Loss: 0.616860\n"
     ]
    },
    {
     "name": "stderr",
     "output_type": "stream",
     "text": [
      "                                                                               "
     ]
    },
    {
     "name": "stdout",
     "output_type": "stream",
     "text": [
      "Epoch 39/50 | Train Loss: 0.654011 | Val Loss: 0.617387\n"
     ]
    },
    {
     "name": "stderr",
     "output_type": "stream",
     "text": [
      "                                                                               "
     ]
    },
    {
     "name": "stdout",
     "output_type": "stream",
     "text": [
      "Epoch 40/50 | Train Loss: 0.652960 | Val Loss: 0.616440\n"
     ]
    },
    {
     "name": "stderr",
     "output_type": "stream",
     "text": [
      "                                                                               "
     ]
    },
    {
     "name": "stdout",
     "output_type": "stream",
     "text": [
      "Epoch 41/50 | Train Loss: 0.653504 | Val Loss: 0.615780\n"
     ]
    },
    {
     "name": "stderr",
     "output_type": "stream",
     "text": [
      "                                                                               "
     ]
    },
    {
     "name": "stdout",
     "output_type": "stream",
     "text": [
      "Epoch 42/50 | Train Loss: 0.652833 | Val Loss: 0.638975\n"
     ]
    },
    {
     "name": "stderr",
     "output_type": "stream",
     "text": [
      "                                                                               "
     ]
    },
    {
     "name": "stdout",
     "output_type": "stream",
     "text": [
      "Epoch 43/50 | Train Loss: 0.654364 | Val Loss: 0.615403\n"
     ]
    },
    {
     "name": "stderr",
     "output_type": "stream",
     "text": [
      "                                                                               "
     ]
    },
    {
     "name": "stdout",
     "output_type": "stream",
     "text": [
      "Epoch 44/50 | Train Loss: 0.653662 | Val Loss: 0.615317\n"
     ]
    },
    {
     "name": "stderr",
     "output_type": "stream",
     "text": [
      "                                                                               "
     ]
    },
    {
     "name": "stdout",
     "output_type": "stream",
     "text": [
      "Epoch 45/50 | Train Loss: 0.653691 | Val Loss: 0.616125\n"
     ]
    },
    {
     "name": "stderr",
     "output_type": "stream",
     "text": [
      "                                                                               "
     ]
    },
    {
     "name": "stdout",
     "output_type": "stream",
     "text": [
      "Epoch 46/50 | Train Loss: 0.652845 | Val Loss: 0.617751\n"
     ]
    },
    {
     "name": "stderr",
     "output_type": "stream",
     "text": [
      "                                                                               "
     ]
    },
    {
     "name": "stdout",
     "output_type": "stream",
     "text": [
      "Epoch 47/50 | Train Loss: 0.653883 | Val Loss: 0.624867\n"
     ]
    },
    {
     "name": "stderr",
     "output_type": "stream",
     "text": [
      "                                                                               "
     ]
    },
    {
     "name": "stdout",
     "output_type": "stream",
     "text": [
      "Epoch 48/50 | Train Loss: 0.654395 | Val Loss: 0.615947\n"
     ]
    },
    {
     "name": "stderr",
     "output_type": "stream",
     "text": [
      "                                                                               "
     ]
    },
    {
     "name": "stdout",
     "output_type": "stream",
     "text": [
      "Epoch 49/50 | Train Loss: 0.653831 | Val Loss: 0.614474\n"
     ]
    },
    {
     "name": "stderr",
     "output_type": "stream",
     "text": [
      "                                                                               "
     ]
    },
    {
     "name": "stdout",
     "output_type": "stream",
     "text": [
      "Epoch 50/50 | Train Loss: 0.653957 | Val Loss: 0.628526\n"
     ]
    },
    {
     "name": "stderr",
     "output_type": "stream",
     "text": []
    }
   ],
   "source": [
    "train_losses_dense, val_losses_dense = train_model(model=StarTrack_Dense_V1, \n",
    "                                       criterion=loss_fn, \n",
    "                                       optimizer=optimizer_dense, \n",
    "                                       epochs=50, \n",
    "                                       train_loader=train_loader_tabular, \n",
    "                                       val_loader=val_loader_tabular,\n",
    "                                       scheduler=scheduler_dense)"
   ]
  },
  {
   "cell_type": "code",
   "execution_count": 27,
   "id": "b88876b1-b986-42ee-a0e2-261c0e32c531",
   "metadata": {},
   "outputs": [
    {
     "data": {
      "image/png": "[encoded data removed]",
      "text/plain": [
       "<Figure size 1000x600 with 1 Axes>"
      ]
     },
     "metadata": {},
     "output_type": "display_data"
    }
   ],
   "source": [
    "plot_losses(train_losses_dense, val_losses_dense)"
   ]
  },
  {
   "cell_type": "code",
   "execution_count": 29,
   "id": "b167c747-07f2-444c-99ce-10047cef2cfa",
   "metadata": {},
   "outputs": [
    {
     "name": "stdout",
     "output_type": "stream",
     "text": [
      "Accuracy: 0.7980\n",
      "Classification Report:\n",
      "              precision    recall  f1-score   support\n",
      "\n",
      "           A       0.36      0.58      0.44      6155\n",
      "           B       0.36      0.48      0.41      2411\n",
      "           F       0.87      0.83      0.85     71213\n",
      "           G       0.54      0.58      0.56     13302\n",
      "           K       0.90      0.83      0.87     30126\n",
      "           L       0.44      0.75      0.56      3058\n",
      "           M       0.94      0.88      0.91     28238\n",
      "          WD       0.72      0.67      0.69      6065\n",
      "\n",
      "    accuracy                           0.80    160568\n",
      "   macro avg       0.64      0.70      0.66    160568\n",
      "weighted avg       0.82      0.80      0.81    160568\n",
      "\n"
     ]
    }
   ],
   "source": [
    "y_table_true, y_table_pred = evaluate_model(StarTrack_Dense_V1, test_loader_tabular, device, le_tabular)"
   ]
  },
  {
   "cell_type": "code",
   "execution_count": 32,
   "id": "dc52aecf-9a71-4f2c-9614-f2fbef7dfa38",
   "metadata": {},
   "outputs": [
    {
     "data": {
      "image/png": "[encoded data removed]",
      "text/plain": [
       "<Figure size 1000x800 with 2 Axes>"
      ]
     },
     "metadata": {},
     "output_type": "display_data"
    }
   ],
   "source": [
    "y_pred, y_true = get_preds_labels(StarTrack_Dense_V1, val_loader_tabular, device)\n",
    "\n",
    "plot_confusion_matrix(y_true, y_pred)"
   ]
  },
  {
   "cell_type": "code",
   "execution_count": 33,
   "id": "a8863219-3c70-48ad-8a5f-aad48464dba8",
   "metadata": {},
   "outputs": [],
   "source": [
    "torch.save(StarTrack_Dense_V1.state_dict(), 'dense_model_full.pth')"
   ]
  },
  {
   "cell_type": "markdown",
   "id": "e00bcfbc-0a6a-4812-8603-54754781374c",
   "metadata": {},
   "source": [
    "# Training The LSTM (Spectrogram) Branch"
   ]
  },
  {
   "cell_type": "code",
   "execution_count": 48,
   "id": "b0a1dd7d-c6be-40ca-89ab-5186aa98bd1c",
   "metadata": {},
   "outputs": [
    {
     "name": "stdout",
     "output_type": "stream",
     "text": [
      "['spectrograms', 'labels']\n"
     ]
    }
   ],
   "source": [
    "spectrogram_data = np.load('../data/startrack_spectrograms.npz', allow_pickle=True)\n",
    "print(spectrogram_data.files)"
   ]
  },
  {
   "cell_type": "code",
   "execution_count": 49,
   "id": "b3df82de-e34a-4594-8577-ade7e4409518",
   "metadata": {},
   "outputs": [
    {
     "name": "stdout",
     "output_type": "stream",
     "text": [
      "X shape before filtering: (24782, 1024, 1)\n",
      "Total samples: 24782\n",
      "Unique classes: ['A' 'B' 'CV' 'F' 'G' 'K' 'L' 'M' 'WD']\n",
      "X shape after filtering: (23293, 1024, 1)\n",
      "Filtered total samples: 23293\n",
      "Filtered unique classes: ['A' 'B' 'F' 'G' 'K' 'L' 'M' 'WD']\n"
     ]
    }
   ],
   "source": [
    "X = spectrogram_data['spectrograms']\n",
    "labels = spectrogram_data['labels']\n",
    "X = X.reshape((X.shape[0], X.shape[1], 1))\n",
    "\n",
    "le_spect = LabelEncoder()\n",
    "y = le_spect.fit_transform(labels)\n",
    "\n",
    "print(\"X shape before filtering:\", X.shape)\n",
    "print(f'Total samples: {X.shape[0]}')\n",
    "print(f'Unique classes: {le_spect.classes_}')\n",
    "\n",
    "cv_index = np.where(le_spect.classes_ == 'CV')[0][0]\n",
    "mask = y != cv_index\n",
    "X_filtered = X[mask]\n",
    "y_filtered_raw = y[mask]\n",
    "\n",
    "labels_filtered_str = le_spect.inverse_transform(y_filtered_raw)\n",
    "le_spect_filtered = LabelEncoder()\n",
    "y_filtered = le_spect_filtered.fit_transform(labels_filtered_str)\n",
    "\n",
    "print(\"X shape after filtering:\", X_filtered.shape)\n",
    "print(f'Filtered total samples: {X_filtered.shape[0]}')\n",
    "print(f'Filtered unique classes: {le_spect_filtered.classes_}')"
   ]
  },
  {
   "cell_type": "code",
   "execution_count": 50,
   "id": "e4b5b88b-d3d2-4a58-989a-e9d97204f9a1",
   "metadata": {},
   "outputs": [
    {
     "name": "stdout",
     "output_type": "stream",
     "text": [
      "Train shape: (14907, 1024, 1), (14907,)\n",
      "Validation shape: (3727, 1024, 1), (3727,)\n",
      "Test shape: (4659, 1024, 1), (4659,)\n"
     ]
    }
   ],
   "source": [
    "X_spect_train, y_spect_train, X_spect_val, y_spect_val, X_spect_test, y_spect_test = split_sets(X_filtered, y_filtered)"
   ]
  },
  {
   "cell_type": "code",
   "execution_count": 51,
   "id": "beba80f3-86b2-4e87-bdb0-8c6979f94aba",
   "metadata": {},
   "outputs": [],
   "source": [
    "X_spect_train_fusion = X_spect_train.copy()\n",
    "X_spect_val_fusion = X_spect_val.copy()\n",
    "X_spect_test_fusion = X_spect_test.copy()\n",
    "\n",
    "y_spect_train_fusion = y_spect_train.copy()\n",
    "y_spect_val_fusion = y_spect_val.copy()\n",
    "y_spect_test_fusion = y_spect_test.copy()"
   ]
  },
  {
   "cell_type": "code",
   "execution_count": 52,
   "id": "c65a697b-b234-4558-8be5-f84d83b34749",
   "metadata": {},
   "outputs": [],
   "source": [
    "train_dataset_spect = TensorDataset(torch.tensor(X_spect_train, dtype=torch.float32), torch.tensor(y_spect_train, dtype=torch.long))\n",
    "val_dataset_spect = TensorDataset(torch.tensor(X_spect_val, dtype=torch.float32), torch.tensor(y_spect_val, dtype=torch.long))\n",
    "test_dataset_spect = TensorDataset(torch.tensor(X_spect_test, dtype=torch.float32), torch.tensor(y_spect_test, dtype=torch.long))\n",
    "\n",
    "train_loader_spect = DataLoader(train_dataset_spect, batch_size=64, shuffle=True)\n",
    "val_loader_spect = DataLoader(val_dataset_spect, batch_size=64, shuffle=False)\n",
    "test_loader_spect = DataLoader(test_dataset_spect, batch_size=64, shuffle=False)"
   ]
  },
  {
   "cell_type": "code",
   "execution_count": 53,
   "id": "667fc7ed-07f5-4513-8028-1e588aa5570b",
   "metadata": {},
   "outputs": [],
   "source": [
    "# Dataloader needs (B, 1024, 1) shape\n",
    "class StarTrack_LSTM(nn.Module):\n",
    "    def __init__(self, input_size=1, hidden_size=256, output_size=8, num_layers=3):\n",
    "        super().__init__()\n",
    "        self.lstm = nn.LSTM(\n",
    "            input_size=input_size,\n",
    "            hidden_size=hidden_size,\n",
    "            num_layers=num_layers,\n",
    "            bidirectional=True,\n",
    "            dropout=0.5, # Lower/Increase based off testing results\n",
    "            batch_first=True\n",
    "        )\n",
    "        self.bn = nn.BatchNorm1d(hidden_size*2)\n",
    "        self.fc1 = nn.Linear(hidden_size*2, hidden_size)\n",
    "        self.fc2 = nn.Linear(hidden_size, output_size)\n",
    "        self.dropout = nn.Dropout(0.5)\n",
    "        \n",
    "    def forward(self, x):\n",
    "        x, _ = self.lstm(x)\n",
    "        x = x[:, -1, :]\n",
    "        x = self.bn(x)\n",
    "        x = F.relu(self.fc1(x))\n",
    "        x = self.dropout(x)\n",
    "        x = self.fc2(x)\n",
    "        return x\n",
    "    \n",
    "    def extract_features(self, x):\n",
    "        x, _ = self.lstm(x)\n",
    "        x = x[:, -1, :]\n",
    "        x = self.bn(x)\n",
    "        x = F.relu(self.fc1(x))\n",
    "        return x"
   ]
  },
  {
   "cell_type": "code",
   "execution_count": 22,
   "id": "78b47032-e624-4c0f-8a9f-1194e237c29e",
   "metadata": {},
   "outputs": [],
   "source": [
    "StarTrack_LSTM_V1 = StarTrack_LSTM()\n",
    "StarTrack_LSTM_V1 = StarTrack_LSTM_V1 .to(device)"
   ]
  },
  {
   "cell_type": "code",
   "execution_count": 23,
   "id": "64f83968-dd5e-4983-b87b-eb13516168eb",
   "metadata": {},
   "outputs": [
    {
     "name": "stdout",
     "output_type": "stream",
     "text": [
      "[1.15, 7.3, 0.83, 1.83183183, 1.7, 9, 1.8, 2.35]\n"
     ]
    }
   ],
   "source": [
    "class_weights_LSTM = [1.15, 7.3, 0.83, 1.83183183, 1.7, 9, 1.8, 2.35]\n",
    "print(class_weights_LSTM)\n",
    "class_weights_LSTM = torch.tensor(class_weights_LSTM, dtype=torch.float).to(device)\n",
    "loss_fn = nn.CrossEntropyLoss(weight=class_weights_LSTM)\n",
    "optimizer_LSTM = torch.optim.Adam(StarTrack_LSTM_V1.parameters(), lr=1e-3, weight_decay=1e-4)"
   ]
  },
  {
   "cell_type": "code",
   "execution_count": 24,
   "id": "58b6e71d-449b-4858-82af-137bd2ad5061",
   "metadata": {
    "scrolled": true
   },
   "outputs": [
    {
     "name": "stderr",
     "output_type": "stream",
     "text": [
      "                                                                               "
     ]
    },
    {
     "name": "stdout",
     "output_type": "stream",
     "text": [
      "Epoch 1/100 | Train Loss: 1.507422 | Val Loss: 2.788530\n"
     ]
    },
    {
     "name": "stderr",
     "output_type": "stream",
     "text": [
      "                                                                               "
     ]
    },
    {
     "name": "stdout",
     "output_type": "stream",
     "text": [
      "Epoch 2/100 | Train Loss: 1.260489 | Val Loss: 2.406235\n"
     ]
    },
    {
     "name": "stderr",
     "output_type": "stream",
     "text": [
      "                                                                               "
     ]
    },
    {
     "name": "stdout",
     "output_type": "stream",
     "text": [
      "Epoch 3/100 | Train Loss: 1.161606 | Val Loss: 1.892495\n"
     ]
    },
    {
     "name": "stderr",
     "output_type": "stream",
     "text": [
      "                                                                               "
     ]
    },
    {
     "name": "stdout",
     "output_type": "stream",
     "text": [
      "Epoch 4/100 | Train Loss: 1.043131 | Val Loss: 1.973697\n"
     ]
    },
    {
     "name": "stderr",
     "output_type": "stream",
     "text": [
      "                                                                               "
     ]
    },
    {
     "name": "stdout",
     "output_type": "stream",
     "text": [
      "Epoch 5/100 | Train Loss: 0.949574 | Val Loss: 0.982853\n"
     ]
    },
    {
     "name": "stderr",
     "output_type": "stream",
     "text": [
      "                                                                               "
     ]
    },
    {
     "name": "stdout",
     "output_type": "stream",
     "text": [
      "Epoch 6/100 | Train Loss: 0.976816 | Val Loss: 0.942649\n"
     ]
    },
    {
     "name": "stderr",
     "output_type": "stream",
     "text": [
      "                                                                               "
     ]
    },
    {
     "name": "stdout",
     "output_type": "stream",
     "text": [
      "Epoch 7/100 | Train Loss: 0.904644 | Val Loss: 1.146572\n"
     ]
    },
    {
     "name": "stderr",
     "output_type": "stream",
     "text": [
      "                                                                               "
     ]
    },
    {
     "name": "stdout",
     "output_type": "stream",
     "text": [
      "Epoch 8/100 | Train Loss: 0.876942 | Val Loss: 0.969231\n"
     ]
    },
    {
     "name": "stderr",
     "output_type": "stream",
     "text": [
      "                                                                               "
     ]
    },
    {
     "name": "stdout",
     "output_type": "stream",
     "text": [
      "Epoch 9/100 | Train Loss: 0.890866 | Val Loss: 0.892447\n"
     ]
    },
    {
     "name": "stderr",
     "output_type": "stream",
     "text": [
      "                                                                               "
     ]
    },
    {
     "name": "stdout",
     "output_type": "stream",
     "text": [
      "Epoch 10/100 | Train Loss: 0.857780 | Val Loss: 0.843418\n"
     ]
    },
    {
     "name": "stderr",
     "output_type": "stream",
     "text": [
      "                                                                               "
     ]
    },
    {
     "name": "stdout",
     "output_type": "stream",
     "text": [
      "Epoch 11/100 | Train Loss: 0.831716 | Val Loss: 0.872632\n"
     ]
    },
    {
     "name": "stderr",
     "output_type": "stream",
     "text": [
      "                                                                               "
     ]
    },
    {
     "name": "stdout",
     "output_type": "stream",
     "text": [
      "Epoch 12/100 | Train Loss: 0.821414 | Val Loss: 0.841555\n"
     ]
    },
    {
     "name": "stderr",
     "output_type": "stream",
     "text": [
      "                                                                               "
     ]
    },
    {
     "name": "stdout",
     "output_type": "stream",
     "text": [
      "Epoch 13/100 | Train Loss: 0.795780 | Val Loss: 0.811932\n"
     ]
    },
    {
     "name": "stderr",
     "output_type": "stream",
     "text": [
      "                                                                               "
     ]
    },
    {
     "name": "stdout",
     "output_type": "stream",
     "text": [
      "Epoch 14/100 | Train Loss: 0.795713 | Val Loss: 0.827230\n"
     ]
    },
    {
     "name": "stderr",
     "output_type": "stream",
     "text": [
      "                                                                               "
     ]
    },
    {
     "name": "stdout",
     "output_type": "stream",
     "text": [
      "Epoch 15/100 | Train Loss: 0.783330 | Val Loss: 0.880322\n"
     ]
    },
    {
     "name": "stderr",
     "output_type": "stream",
     "text": [
      "                                                                               "
     ]
    },
    {
     "name": "stdout",
     "output_type": "stream",
     "text": [
      "Epoch 16/100 | Train Loss: 0.779433 | Val Loss: 0.837503\n"
     ]
    },
    {
     "name": "stderr",
     "output_type": "stream",
     "text": [
      "                                                                               "
     ]
    },
    {
     "name": "stdout",
     "output_type": "stream",
     "text": [
      "Epoch 17/100 | Train Loss: 0.766347 | Val Loss: 1.033329\n"
     ]
    },
    {
     "name": "stderr",
     "output_type": "stream",
     "text": [
      "                                                                               "
     ]
    },
    {
     "name": "stdout",
     "output_type": "stream",
     "text": [
      "Epoch 18/100 | Train Loss: 0.754779 | Val Loss: 0.831260\n"
     ]
    },
    {
     "name": "stderr",
     "output_type": "stream",
     "text": [
      "                                                                               "
     ]
    },
    {
     "name": "stdout",
     "output_type": "stream",
     "text": [
      "Epoch 19/100 | Train Loss: 0.741430 | Val Loss: 1.042037\n"
     ]
    },
    {
     "name": "stderr",
     "output_type": "stream",
     "text": [
      "                                                                               "
     ]
    },
    {
     "name": "stdout",
     "output_type": "stream",
     "text": [
      "Epoch 20/100 | Train Loss: 0.737888 | Val Loss: 0.757997\n"
     ]
    },
    {
     "name": "stderr",
     "output_type": "stream",
     "text": [
      "                                                                               "
     ]
    },
    {
     "name": "stdout",
     "output_type": "stream",
     "text": [
      "Epoch 21/100 | Train Loss: 0.720738 | Val Loss: 0.770047\n"
     ]
    },
    {
     "name": "stderr",
     "output_type": "stream",
     "text": [
      "                                                                               "
     ]
    },
    {
     "name": "stdout",
     "output_type": "stream",
     "text": [
      "Epoch 22/100 | Train Loss: 0.720213 | Val Loss: 0.752347\n"
     ]
    },
    {
     "name": "stderr",
     "output_type": "stream",
     "text": [
      "                                                                               "
     ]
    },
    {
     "name": "stdout",
     "output_type": "stream",
     "text": [
      "Epoch 23/100 | Train Loss: 0.696287 | Val Loss: 0.722986\n"
     ]
    },
    {
     "name": "stderr",
     "output_type": "stream",
     "text": [
      "                                                                               "
     ]
    },
    {
     "name": "stdout",
     "output_type": "stream",
     "text": [
      "Epoch 24/100 | Train Loss: 0.701842 | Val Loss: 0.705781\n"
     ]
    },
    {
     "name": "stderr",
     "output_type": "stream",
     "text": [
      "                                                                               "
     ]
    },
    {
     "name": "stdout",
     "output_type": "stream",
     "text": [
      "Epoch 25/100 | Train Loss: 0.691375 | Val Loss: 0.830106\n"
     ]
    },
    {
     "name": "stderr",
     "output_type": "stream",
     "text": [
      "                                                                               "
     ]
    },
    {
     "name": "stdout",
     "output_type": "stream",
     "text": [
      "Epoch 26/100 | Train Loss: 0.735607 | Val Loss: 0.844851\n"
     ]
    },
    {
     "name": "stderr",
     "output_type": "stream",
     "text": [
      "                                                                               "
     ]
    },
    {
     "name": "stdout",
     "output_type": "stream",
     "text": [
      "Epoch 27/100 | Train Loss: 0.725762 | Val Loss: 0.746829\n"
     ]
    },
    {
     "name": "stderr",
     "output_type": "stream",
     "text": [
      "                                                                               "
     ]
    },
    {
     "name": "stdout",
     "output_type": "stream",
     "text": [
      "Epoch 28/100 | Train Loss: 0.722540 | Val Loss: 0.792249\n"
     ]
    },
    {
     "name": "stderr",
     "output_type": "stream",
     "text": [
      "                                                                               "
     ]
    },
    {
     "name": "stdout",
     "output_type": "stream",
     "text": [
      "Epoch 29/100 | Train Loss: 0.716636 | Val Loss: 0.737311\n"
     ]
    },
    {
     "name": "stderr",
     "output_type": "stream",
     "text": [
      "                                                                               "
     ]
    },
    {
     "name": "stdout",
     "output_type": "stream",
     "text": [
      "Epoch 30/100 | Train Loss: 0.673475 | Val Loss: 0.808714\n"
     ]
    },
    {
     "name": "stderr",
     "output_type": "stream",
     "text": [
      "                                                                               "
     ]
    },
    {
     "name": "stdout",
     "output_type": "stream",
     "text": [
      "Epoch 31/100 | Train Loss: 0.682554 | Val Loss: 0.764653\n"
     ]
    },
    {
     "name": "stderr",
     "output_type": "stream",
     "text": [
      "                                                                               "
     ]
    },
    {
     "name": "stdout",
     "output_type": "stream",
     "text": [
      "Epoch 32/100 | Train Loss: 0.664919 | Val Loss: 0.711741\n"
     ]
    },
    {
     "name": "stderr",
     "output_type": "stream",
     "text": [
      "                                                                               "
     ]
    },
    {
     "name": "stdout",
     "output_type": "stream",
     "text": [
      "Epoch 33/100 | Train Loss: 0.650171 | Val Loss: 0.673194\n"
     ]
    },
    {
     "name": "stderr",
     "output_type": "stream",
     "text": [
      "                                                                               "
     ]
    },
    {
     "name": "stdout",
     "output_type": "stream",
     "text": [
      "Epoch 34/100 | Train Loss: 0.634165 | Val Loss: 0.827987\n"
     ]
    },
    {
     "name": "stderr",
     "output_type": "stream",
     "text": [
      "                                                                               "
     ]
    },
    {
     "name": "stdout",
     "output_type": "stream",
     "text": [
      "Epoch 35/100 | Train Loss: 0.630989 | Val Loss: 0.624672\n"
     ]
    },
    {
     "name": "stderr",
     "output_type": "stream",
     "text": [
      "                                                                               "
     ]
    },
    {
     "name": "stdout",
     "output_type": "stream",
     "text": [
      "Epoch 36/100 | Train Loss: 0.602767 | Val Loss: 0.784753\n"
     ]
    },
    {
     "name": "stderr",
     "output_type": "stream",
     "text": [
      "                                                                               "
     ]
    },
    {
     "name": "stdout",
     "output_type": "stream",
     "text": [
      "Epoch 37/100 | Train Loss: 0.618888 | Val Loss: 0.624602\n"
     ]
    },
    {
     "name": "stderr",
     "output_type": "stream",
     "text": [
      "                                                                               "
     ]
    },
    {
     "name": "stdout",
     "output_type": "stream",
     "text": [
      "Epoch 38/100 | Train Loss: 0.597300 | Val Loss: 0.642294\n"
     ]
    },
    {
     "name": "stderr",
     "output_type": "stream",
     "text": [
      "                                                                               "
     ]
    },
    {
     "name": "stdout",
     "output_type": "stream",
     "text": [
      "Epoch 39/100 | Train Loss: 0.593551 | Val Loss: 0.619826\n"
     ]
    },
    {
     "name": "stderr",
     "output_type": "stream",
     "text": [
      "                                                                               "
     ]
    },
    {
     "name": "stdout",
     "output_type": "stream",
     "text": [
      "Epoch 40/100 | Train Loss: 0.581203 | Val Loss: 0.899139\n"
     ]
    },
    {
     "name": "stderr",
     "output_type": "stream",
     "text": [
      "                                                                               "
     ]
    },
    {
     "name": "stdout",
     "output_type": "stream",
     "text": [
      "Epoch 41/100 | Train Loss: 0.654778 | Val Loss: 0.646740\n"
     ]
    },
    {
     "name": "stderr",
     "output_type": "stream",
     "text": [
      "                                                                               "
     ]
    },
    {
     "name": "stdout",
     "output_type": "stream",
     "text": [
      "Epoch 42/100 | Train Loss: 0.564659 | Val Loss: 0.618244\n"
     ]
    },
    {
     "name": "stderr",
     "output_type": "stream",
     "text": [
      "                                                                               "
     ]
    },
    {
     "name": "stdout",
     "output_type": "stream",
     "text": [
      "Epoch 43/100 | Train Loss: 0.657230 | Val Loss: 0.931610\n"
     ]
    },
    {
     "name": "stderr",
     "output_type": "stream",
     "text": [
      "                                                                               "
     ]
    },
    {
     "name": "stdout",
     "output_type": "stream",
     "text": [
      "Epoch 44/100 | Train Loss: 0.617913 | Val Loss: 0.722857\n"
     ]
    },
    {
     "name": "stderr",
     "output_type": "stream",
     "text": [
      "                                                                               "
     ]
    },
    {
     "name": "stdout",
     "output_type": "stream",
     "text": [
      "Epoch 45/100 | Train Loss: 0.578442 | Val Loss: 0.598185\n"
     ]
    },
    {
     "name": "stderr",
     "output_type": "stream",
     "text": [
      "                                                                               "
     ]
    },
    {
     "name": "stdout",
     "output_type": "stream",
     "text": [
      "Epoch 46/100 | Train Loss: 0.585290 | Val Loss: 0.666070\n"
     ]
    },
    {
     "name": "stderr",
     "output_type": "stream",
     "text": [
      "                                                                               "
     ]
    },
    {
     "name": "stdout",
     "output_type": "stream",
     "text": [
      "Epoch 47/100 | Train Loss: 0.577523 | Val Loss: 0.733988\n"
     ]
    },
    {
     "name": "stderr",
     "output_type": "stream",
     "text": [
      "                                                                               "
     ]
    },
    {
     "name": "stdout",
     "output_type": "stream",
     "text": [
      "Epoch 48/100 | Train Loss: 0.553259 | Val Loss: 0.634232\n"
     ]
    },
    {
     "name": "stderr",
     "output_type": "stream",
     "text": [
      "                                                                               "
     ]
    },
    {
     "name": "stdout",
     "output_type": "stream",
     "text": [
      "Epoch 49/100 | Train Loss: 0.552731 | Val Loss: 0.614918\n"
     ]
    },
    {
     "name": "stderr",
     "output_type": "stream",
     "text": [
      "                                                                               "
     ]
    },
    {
     "name": "stdout",
     "output_type": "stream",
     "text": [
      "Epoch 50/100 | Train Loss: 0.552558 | Val Loss: 0.668656\n"
     ]
    },
    {
     "name": "stderr",
     "output_type": "stream",
     "text": [
      "                                                                               "
     ]
    },
    {
     "name": "stdout",
     "output_type": "stream",
     "text": [
      "Epoch 51/100 | Train Loss: 0.543388 | Val Loss: 0.564262\n"
     ]
    },
    {
     "name": "stderr",
     "output_type": "stream",
     "text": [
      "                                                                               "
     ]
    },
    {
     "name": "stdout",
     "output_type": "stream",
     "text": [
      "Epoch 52/100 | Train Loss: 0.549721 | Val Loss: 0.606310\n"
     ]
    },
    {
     "name": "stderr",
     "output_type": "stream",
     "text": [
      "                                                                               "
     ]
    },
    {
     "name": "stdout",
     "output_type": "stream",
     "text": [
      "Epoch 53/100 | Train Loss: 0.542072 | Val Loss: 0.637840\n"
     ]
    },
    {
     "name": "stderr",
     "output_type": "stream",
     "text": [
      "                                                                               "
     ]
    },
    {
     "name": "stdout",
     "output_type": "stream",
     "text": [
      "Epoch 54/100 | Train Loss: 0.531876 | Val Loss: 0.552869\n"
     ]
    },
    {
     "name": "stderr",
     "output_type": "stream",
     "text": [
      "                                                                               "
     ]
    },
    {
     "name": "stdout",
     "output_type": "stream",
     "text": [
      "Epoch 55/100 | Train Loss: 0.533652 | Val Loss: 0.646112\n"
     ]
    },
    {
     "name": "stderr",
     "output_type": "stream",
     "text": [
      "                                                                               "
     ]
    },
    {
     "name": "stdout",
     "output_type": "stream",
     "text": [
      "Epoch 56/100 | Train Loss: 0.527180 | Val Loss: 0.572890\n"
     ]
    },
    {
     "name": "stderr",
     "output_type": "stream",
     "text": [
      "                                                                               "
     ]
    },
    {
     "name": "stdout",
     "output_type": "stream",
     "text": [
      "Epoch 57/100 | Train Loss: 0.527946 | Val Loss: 0.590073\n"
     ]
    },
    {
     "name": "stderr",
     "output_type": "stream",
     "text": [
      "                                                                               "
     ]
    },
    {
     "name": "stdout",
     "output_type": "stream",
     "text": [
      "Epoch 58/100 | Train Loss: 0.532573 | Val Loss: 0.591765\n"
     ]
    },
    {
     "name": "stderr",
     "output_type": "stream",
     "text": [
      "                                                                               "
     ]
    },
    {
     "name": "stdout",
     "output_type": "stream",
     "text": [
      "Epoch 59/100 | Train Loss: 0.516521 | Val Loss: 0.569862\n"
     ]
    },
    {
     "name": "stderr",
     "output_type": "stream",
     "text": [
      "                                                                               "
     ]
    },
    {
     "name": "stdout",
     "output_type": "stream",
     "text": [
      "Epoch 60/100 | Train Loss: 0.526936 | Val Loss: 0.616924\n"
     ]
    },
    {
     "name": "stderr",
     "output_type": "stream",
     "text": [
      "                                                                               "
     ]
    },
    {
     "name": "stdout",
     "output_type": "stream",
     "text": [
      "Epoch 61/100 | Train Loss: 0.507952 | Val Loss: 0.726217\n"
     ]
    },
    {
     "name": "stderr",
     "output_type": "stream",
     "text": [
      "                                                                               "
     ]
    },
    {
     "name": "stdout",
     "output_type": "stream",
     "text": [
      "Epoch 62/100 | Train Loss: 0.521071 | Val Loss: 0.620677\n"
     ]
    },
    {
     "name": "stderr",
     "output_type": "stream",
     "text": [
      "                                                                               "
     ]
    },
    {
     "name": "stdout",
     "output_type": "stream",
     "text": [
      "Epoch 63/100 | Train Loss: 0.525963 | Val Loss: 0.607464\n"
     ]
    },
    {
     "name": "stderr",
     "output_type": "stream",
     "text": [
      "                                                                               "
     ]
    },
    {
     "name": "stdout",
     "output_type": "stream",
     "text": [
      "Epoch 64/100 | Train Loss: 0.535381 | Val Loss: 0.596513\n"
     ]
    },
    {
     "name": "stderr",
     "output_type": "stream",
     "text": [
      "                                                                               "
     ]
    },
    {
     "name": "stdout",
     "output_type": "stream",
     "text": [
      "Epoch 65/100 | Train Loss: 0.520117 | Val Loss: 0.575402\n"
     ]
    },
    {
     "name": "stderr",
     "output_type": "stream",
     "text": [
      "                                                                               "
     ]
    },
    {
     "name": "stdout",
     "output_type": "stream",
     "text": [
      "Epoch 66/100 | Train Loss: 0.496638 | Val Loss: 0.875682\n"
     ]
    },
    {
     "name": "stderr",
     "output_type": "stream",
     "text": [
      "                                                                               "
     ]
    },
    {
     "name": "stdout",
     "output_type": "stream",
     "text": [
      "Epoch 67/100 | Train Loss: 0.506506 | Val Loss: 0.709545\n"
     ]
    },
    {
     "name": "stderr",
     "output_type": "stream",
     "text": [
      "                                                                               "
     ]
    },
    {
     "name": "stdout",
     "output_type": "stream",
     "text": [
      "Epoch 68/100 | Train Loss: 0.505142 | Val Loss: 0.575121\n"
     ]
    },
    {
     "name": "stderr",
     "output_type": "stream",
     "text": [
      "                                                                               "
     ]
    },
    {
     "name": "stdout",
     "output_type": "stream",
     "text": [
      "Epoch 69/100 | Train Loss: 0.501231 | Val Loss: 0.628400\n"
     ]
    },
    {
     "name": "stderr",
     "output_type": "stream",
     "text": [
      "                                                                               "
     ]
    },
    {
     "name": "stdout",
     "output_type": "stream",
     "text": [
      "Epoch 70/100 | Train Loss: 0.501185 | Val Loss: 0.627592\n"
     ]
    },
    {
     "name": "stderr",
     "output_type": "stream",
     "text": [
      "                                                                               "
     ]
    },
    {
     "name": "stdout",
     "output_type": "stream",
     "text": [
      "Epoch 71/100 | Train Loss: 0.503807 | Val Loss: 0.611577\n"
     ]
    },
    {
     "name": "stderr",
     "output_type": "stream",
     "text": [
      "                                                                               "
     ]
    },
    {
     "name": "stdout",
     "output_type": "stream",
     "text": [
      "Epoch 72/100 | Train Loss: 0.496218 | Val Loss: 0.778149\n"
     ]
    },
    {
     "name": "stderr",
     "output_type": "stream",
     "text": [
      "                                                                               "
     ]
    },
    {
     "name": "stdout",
     "output_type": "stream",
     "text": [
      "Epoch 73/100 | Train Loss: 0.762468 | Val Loss: 0.599134\n"
     ]
    },
    {
     "name": "stderr",
     "output_type": "stream",
     "text": [
      "                                                                               "
     ]
    },
    {
     "name": "stdout",
     "output_type": "stream",
     "text": [
      "Epoch 74/100 | Train Loss: 0.495145 | Val Loss: 0.591257\n"
     ]
    },
    {
     "name": "stderr",
     "output_type": "stream",
     "text": [
      "                                                                               "
     ]
    },
    {
     "name": "stdout",
     "output_type": "stream",
     "text": [
      "Epoch 75/100 | Train Loss: 0.493527 | Val Loss: 0.609964\n"
     ]
    },
    {
     "name": "stderr",
     "output_type": "stream",
     "text": [
      "                                                                               "
     ]
    },
    {
     "name": "stdout",
     "output_type": "stream",
     "text": [
      "Epoch 76/100 | Train Loss: 0.502686 | Val Loss: 0.573179\n"
     ]
    },
    {
     "name": "stderr",
     "output_type": "stream",
     "text": [
      "                                                                               "
     ]
    },
    {
     "name": "stdout",
     "output_type": "stream",
     "text": [
      "Epoch 77/100 | Train Loss: 0.493996 | Val Loss: 0.562933\n"
     ]
    },
    {
     "name": "stderr",
     "output_type": "stream",
     "text": [
      "                                                                               "
     ]
    },
    {
     "name": "stdout",
     "output_type": "stream",
     "text": [
      "Epoch 78/100 | Train Loss: 0.498378 | Val Loss: 0.581465\n"
     ]
    },
    {
     "name": "stderr",
     "output_type": "stream",
     "text": [
      "                                                                               "
     ]
    },
    {
     "name": "stdout",
     "output_type": "stream",
     "text": [
      "Epoch 79/100 | Train Loss: 0.811562 | Val Loss: 2.249995\n"
     ]
    },
    {
     "name": "stderr",
     "output_type": "stream",
     "text": [
      "                                                                               "
     ]
    },
    {
     "name": "stdout",
     "output_type": "stream",
     "text": [
      "Epoch 80/100 | Train Loss: 1.420741 | Val Loss: 1.625314\n"
     ]
    },
    {
     "name": "stderr",
     "output_type": "stream",
     "text": [
      "                                                                               "
     ]
    },
    {
     "name": "stdout",
     "output_type": "stream",
     "text": [
      "Epoch 81/100 | Train Loss: 1.054265 | Val Loss: 4.168713\n"
     ]
    },
    {
     "name": "stderr",
     "output_type": "stream",
     "text": [
      "                                                                               "
     ]
    },
    {
     "name": "stdout",
     "output_type": "stream",
     "text": [
      "Epoch 82/100 | Train Loss: 0.978249 | Val Loss: 1.050017\n"
     ]
    },
    {
     "name": "stderr",
     "output_type": "stream",
     "text": [
      "                                                                               "
     ]
    },
    {
     "name": "stdout",
     "output_type": "stream",
     "text": [
      "Epoch 83/100 | Train Loss: 0.895306 | Val Loss: 1.065069\n"
     ]
    },
    {
     "name": "stderr",
     "output_type": "stream",
     "text": [
      "                                                                               "
     ]
    },
    {
     "name": "stdout",
     "output_type": "stream",
     "text": [
      "Epoch 84/100 | Train Loss: 0.858176 | Val Loss: 1.154857\n"
     ]
    },
    {
     "name": "stderr",
     "output_type": "stream",
     "text": [
      "                                                                               "
     ]
    },
    {
     "name": "stdout",
     "output_type": "stream",
     "text": [
      "Epoch 85/100 | Train Loss: 0.839466 | Val Loss: 0.863564\n"
     ]
    },
    {
     "name": "stderr",
     "output_type": "stream",
     "text": [
      "                                                                               "
     ]
    },
    {
     "name": "stdout",
     "output_type": "stream",
     "text": [
      "Epoch 86/100 | Train Loss: 0.832165 | Val Loss: 0.867938\n"
     ]
    },
    {
     "name": "stderr",
     "output_type": "stream",
     "text": [
      "                                                                               "
     ]
    },
    {
     "name": "stdout",
     "output_type": "stream",
     "text": [
      "Epoch 87/100 | Train Loss: 0.805097 | Val Loss: 1.016617\n"
     ]
    },
    {
     "name": "stderr",
     "output_type": "stream",
     "text": [
      "                                                                               "
     ]
    },
    {
     "name": "stdout",
     "output_type": "stream",
     "text": [
      "Epoch 88/100 | Train Loss: 0.781848 | Val Loss: 0.790327\n"
     ]
    },
    {
     "name": "stderr",
     "output_type": "stream",
     "text": [
      "                                                                               "
     ]
    },
    {
     "name": "stdout",
     "output_type": "stream",
     "text": [
      "Epoch 89/100 | Train Loss: 0.782372 | Val Loss: 0.948212\n"
     ]
    },
    {
     "name": "stderr",
     "output_type": "stream",
     "text": [
      "                                                                               "
     ]
    },
    {
     "name": "stdout",
     "output_type": "stream",
     "text": [
      "Epoch 90/100 | Train Loss: 0.792611 | Val Loss: 1.006633\n"
     ]
    },
    {
     "name": "stderr",
     "output_type": "stream",
     "text": [
      "                                                                               "
     ]
    },
    {
     "name": "stdout",
     "output_type": "stream",
     "text": [
      "Epoch 91/100 | Train Loss: 0.786653 | Val Loss: 0.775835\n"
     ]
    },
    {
     "name": "stderr",
     "output_type": "stream",
     "text": [
      "                                                                               "
     ]
    },
    {
     "name": "stdout",
     "output_type": "stream",
     "text": [
      "Epoch 92/100 | Train Loss: 0.751387 | Val Loss: 0.803198\n"
     ]
    },
    {
     "name": "stderr",
     "output_type": "stream",
     "text": [
      "                                                                               "
     ]
    },
    {
     "name": "stdout",
     "output_type": "stream",
     "text": [
      "Epoch 93/100 | Train Loss: 0.739855 | Val Loss: 0.745152\n"
     ]
    },
    {
     "name": "stderr",
     "output_type": "stream",
     "text": [
      "                                                                               "
     ]
    },
    {
     "name": "stdout",
     "output_type": "stream",
     "text": [
      "Epoch 94/100 | Train Loss: 1.004615 | Val Loss: 1.513813\n"
     ]
    },
    {
     "name": "stderr",
     "output_type": "stream",
     "text": [
      "                                                                               "
     ]
    },
    {
     "name": "stdout",
     "output_type": "stream",
     "text": [
      "Epoch 95/100 | Train Loss: 0.820425 | Val Loss: 0.855192\n"
     ]
    },
    {
     "name": "stderr",
     "output_type": "stream",
     "text": [
      "                                                                               "
     ]
    },
    {
     "name": "stdout",
     "output_type": "stream",
     "text": [
      "Epoch 96/100 | Train Loss: 0.745907 | Val Loss: 0.729381\n"
     ]
    },
    {
     "name": "stderr",
     "output_type": "stream",
     "text": [
      "                                                                               "
     ]
    },
    {
     "name": "stdout",
     "output_type": "stream",
     "text": [
      "Epoch 97/100 | Train Loss: 0.730351 | Val Loss: 0.785956\n"
     ]
    },
    {
     "name": "stderr",
     "output_type": "stream",
     "text": [
      "                                                                               "
     ]
    },
    {
     "name": "stdout",
     "output_type": "stream",
     "text": [
      "Epoch 98/100 | Train Loss: 0.739348 | Val Loss: 0.723402\n"
     ]
    },
    {
     "name": "stderr",
     "output_type": "stream",
     "text": [
      "                                                                               "
     ]
    },
    {
     "name": "stdout",
     "output_type": "stream",
     "text": [
      "Epoch 99/100 | Train Loss: 0.706734 | Val Loss: 0.731985\n"
     ]
    },
    {
     "name": "stderr",
     "output_type": "stream",
     "text": [
      "                                                                               "
     ]
    },
    {
     "name": "stdout",
     "output_type": "stream",
     "text": [
      "Epoch 100/100 | Train Loss: 0.691528 | Val Loss: 0.701486\n"
     ]
    },
    {
     "name": "stderr",
     "output_type": "stream",
     "text": []
    }
   ],
   "source": [
    "train_losses_LSTM, val_losses_LSTM= train_model(model=StarTrack_LSTM_V1, \n",
    "                                       criterion=loss_fn, \n",
    "                                       optimizer=optimizer_LSTM, \n",
    "                                       epochs=100, \n",
    "                                       train_loader=train_loader_spect, \n",
    "                                       val_loader=val_loader_spect)"
   ]
  },
  {
   "cell_type": "code",
   "execution_count": 25,
   "id": "b4a7cf5c-39fb-497f-8ca6-ed171ce16093",
   "metadata": {},
   "outputs": [
    {
     "data": {
      "image/png": "[encoded data removed]",
      "text/plain": [
       "<Figure size 1000x600 with 1 Axes>"
      ]
     },
     "metadata": {},
     "output_type": "display_data"
    }
   ],
   "source": [
    "plot_losses(train_losses_LSTM, val_losses_LSTM)"
   ]
  },
  {
   "cell_type": "code",
   "execution_count": 29,
   "id": "52374c5b-66d6-478e-9384-68423c5a6b7f",
   "metadata": {},
   "outputs": [
    {
     "name": "stdout",
     "output_type": "stream",
     "text": [
      "Accuracy: 0.7929\n",
      "Classification Report:\n",
      "              precision    recall  f1-score   support\n",
      "\n",
      "           A       0.71      0.39      0.51       609\n",
      "           B       0.17      0.61      0.27        82\n",
      "           F       0.82      0.87      0.85      2041\n",
      "           G       0.60      0.59      0.59       301\n",
      "           K       0.92      0.85      0.88       621\n",
      "           L       0.64      0.85      0.73        54\n",
      "           M       0.96      0.96      0.96       730\n",
      "          WD       0.84      0.82      0.83       221\n",
      "\n",
      "    accuracy                           0.79      4659\n",
      "   macro avg       0.71      0.74      0.70      4659\n",
      "weighted avg       0.82      0.79      0.80      4659\n",
      "\n"
     ]
    }
   ],
   "source": [
    "y_spect_true, y_spect_pred = evaluate_model(StarTrack_LSTM_V1, test_loader_spect, device, le_spect_filtered)"
   ]
  },
  {
   "cell_type": "code",
   "execution_count": 30,
   "id": "4a582f6e-dd46-4e43-abb7-70ff2b6ad9e3",
   "metadata": {},
   "outputs": [
    {
     "data": {
      "image/png": "[encoded data removed]",
      "text/plain": [
       "<Figure size 1000x800 with 2 Axes>"
      ]
     },
     "metadata": {},
     "output_type": "display_data"
    }
   ],
   "source": [
    "y_pred_lstm, y_true_lstm = get_preds_labels(StarTrack_LSTM_V1, val_loader_spect, device)\n",
    "\n",
    "plot_confusion_matrix(y_true_lstm, y_pred_lstm)"
   ]
  },
  {
   "cell_type": "markdown",
   "id": "30b7be4d-5903-4b64-84d8-0de9ce8602d7",
   "metadata": {},
   "source": [
    "1e-3 had exploding gradient issue. Gradient clipping was implemented for a 77% accuracy."
   ]
  },
  {
   "cell_type": "code",
   "execution_count": 60,
   "id": "b1e94648-959c-4433-afec-914134484265",
   "metadata": {},
   "outputs": [],
   "source": [
    "torch.save(StarTrack_LSTM_V1.state_dict(), 'lstm_model_full.pth')"
   ]
  },
  {
   "cell_type": "markdown",
   "id": "d6d0fe52-fd72-4dde-8299-d3e0b8766691",
   "metadata": {},
   "source": [
    "# Training The Fusion Branch"
   ]
  },
  {
   "cell_type": "code",
   "execution_count": 31,
   "id": "ca2026c4-48e9-4a75-99a9-33c778de2d63",
   "metadata": {},
   "outputs": [],
   "source": [
    "class FusionDataset(Dataset):\n",
    "    def __init__(self, spect_data, tabular_data, labels):\n",
    "        if isinstance(tabular_data, pd.DataFrame):\n",
    "            tabular_data = tabular_data.values\n",
    "        self.spect_data = torch.tensor(spect_data, dtype=torch.float32)\n",
    "        self.tabular_data = torch.tensor(tabular_data, dtype=torch.float32)\n",
    "        self.labels = torch.tensor(labels, dtype=torch.long)\n",
    "\n",
    "    def __len__(self):\n",
    "        return len(self.labels)\n",
    "\n",
    "    def __getitem__(self, idx):\n",
    "        spect = self.spect_data[idx]  \n",
    "        tabular = self.tabular_data[idx]  \n",
    "        label = self.labels[idx]\n",
    "        return spect, tabular, label"
   ]
  },
  {
   "cell_type": "code",
   "execution_count": 54,
   "id": "e2eb6f65-d6b2-40cb-a85b-4f8d0c5627c3",
   "metadata": {},
   "outputs": [],
   "source": [
    "train_dataset_fusion = FusionDataset(X_spect_train_fusion, X_table_train_fusion, y_spect_train_fusion)\n",
    "val_dataset_fusion = FusionDataset(X_spect_val_fusion, X_table_val_fusion, y_spect_val_fusion)\n",
    "test_dataset_fusion = FusionDataset(X_spect_test_fusion, X_table_test_fusion, y_spect_test_fusion)"
   ]
  },
  {
   "cell_type": "code",
   "execution_count": 55,
   "id": "577920ea-be02-455e-9f9c-1f62050098fe",
   "metadata": {},
   "outputs": [],
   "source": [
    "train_loader_fusion = DataLoader(train_dataset_fusion, batch_size=128, shuffle=True)\n",
    "val_loader_fusion = DataLoader(val_dataset_fusion, batch_size=128)\n",
    "test_loader_fusion = DataLoader(test_dataset_fusion, batch_size=128)"
   ]
  },
  {
   "cell_type": "code",
   "execution_count": 57,
   "id": "1a40c370-198a-4b03-ba17-ea9425edcb53",
   "metadata": {},
   "outputs": [],
   "source": [
    "class StarTrack_Fusion(nn.Module):\n",
    "    def __init__(self, lstm_model: nn.Module, dense_model: nn.Module,\n",
    "                 fused_hidden_dim=512, num_classes=8): \n",
    "        super().__init__()\n",
    "        self.lstm_branch = lstm_model\n",
    "        self.dense_branch = dense_model\n",
    "\n",
    "        for param in self.lstm_branch.parameters():\n",
    "            param.requires_grad = False\n",
    "        for param in self.dense_branch.parameters():\n",
    "            param.requires_grad = False\n",
    "            \n",
    "        for param in self.lstm_branch.fc1.parameters():\n",
    "            param.requires_grad = True\n",
    "        for param in self.dense_branch.fc1.parameters():\n",
    "            param.requires_grad = True\n",
    "\n",
    "        lstm_output_dim = 256\n",
    "        dense_output_dim = 64\n",
    "        \n",
    "        self.cross_attn = nn.MultiheadAttention(embed_dim=lstm_output_dim, num_heads=4)\n",
    "        self.fusion = nn.Sequential(\n",
    "            nn.Linear(lstm_output_dim + dense_output_dim, fused_hidden_dim),\n",
    "            nn.GELU(),  \n",
    "            nn.BatchNorm1d(fused_hidden_dim),\n",
    "            nn.Linear(fused_hidden_dim, fused_hidden_dim//2),\n",
    "            nn.GELU(),\n",
    "            nn.Dropout(0.3), \n",
    "            nn.Linear(fused_hidden_dim//2, num_classes)\n",
    "        )\n",
    "        \n",
    "        self.lstm_classifier = nn.Linear(lstm_output_dim, num_classes)\n",
    "        self.dense_classifier = nn.Linear(dense_output_dim, num_classes)\n",
    "        self.dense_proj = nn.Linear(dense_output_dim, lstm_output_dim)\n",
    "\n",
    "    def forward(self, lstm_input, dense_input):\n",
    "            lstm_feat = self.lstm_branch.extract_features(lstm_input)\n",
    "            dense_feat = self.dense_branch.extract_features(dense_input)\n",
    "        \n",
    "            lstm_q = lstm_feat.unsqueeze(0)  \n",
    "            dense_kv = dense_proj.unsqueeze(0)  \n",
    "\n",
    "            dense_proj = self.dense_proj(dense_feat) \n",
    "           \n",
    "            attn_out, _ = self.cross_attn(query=lstm_q, key=dense_kv, value=dense_kv)\n",
    "            attn_out = attn_out.squeeze(0)\n",
    "        \n",
    "            lstm_feat = lstm_feat + attn_out      \n",
    "            fused = torch.cat([lstm_feat, dense_feat], dim=1) \n",
    "            out = self.fusion(fused)\n",
    "        \n",
    "            lstm_out = self.lstm_classifier(lstm_feat)\n",
    "            dense_out = self.dense_classifier(dense_feat)\n",
    "            return out, lstm_out, dense_out\n"
   ]
  },
  {
   "cell_type": "code",
   "execution_count": 58,
   "id": "9e3d66a1-cd60-4168-85bf-5ff93375d5e1",
   "metadata": {},
   "outputs": [],
   "source": [
    "StarTrack_Fusion_V1 = StarTrack_Fusion(StarTrack_LSTM_V1, StarTrack_Dense_V1)\n",
    "StarTrack_Fusion_V1 = StarTrack_Fusion_V1.to(device)"
   ]
  },
  {
   "cell_type": "code",
   "execution_count": 59,
   "id": "a6d85427-c1ea-454c-9c5b-3780511216e5",
   "metadata": {},
   "outputs": [
    {
     "name": "stdout",
     "output_type": "stream",
     "text": [
      "Class weights (fusion): tensor([ 0.9556,  7.1121,  0.2853,  1.9390,  0.9383, 10.7091,  0.7984,  2.6319],\n",
      "       device='cuda:0')\n"
     ]
    }
   ],
   "source": [
    "labels_fusion = y_spect_train_fusion  \n",
    "num_classes = len(np.unique(labels_fusion))\n",
    "\n",
    "class_weights_fusion = compute_class_weight(class_weight='balanced', classes=np.unique(labels_fusion), y=labels_fusion)\n",
    "class_weights_fusion = torch.tensor(class_weights_fusion, dtype=torch.float32).to(device)\n",
    "print(\"Class weights (fusion):\", class_weights_fusion)\n",
    "optimizer_fusion = torch.optim.Adam(StarTrack_Dense_V1.parameters(), lr=5e-4, weight_decay=5e-4)\n",
    "scheduler_fusion = torch.optim.lr_scheduler.ReduceLROnPlateau(optimizer_fusion, mode='min', factor=0.1, patience=5)"
   ]
  },
  {
   "cell_type": "code",
   "execution_count": null,
   "id": "f431df20-d4b7-44e9-a5f9-10da753752e7",
   "metadata": {},
   "outputs": [],
   "source": []
  }
 ],
 "metadata": {
  "kernelspec": {
   "display_name": "Python 3 (ipykernel)",
   "language": "python",
   "name": "python3"
  },
  "language_info": {
   "codemirror_mode": {
    "name": "ipython",
    "version": 3
   },
   "file_extension": ".py",
   "mimetype": "text/x-python",
   "name": "python",
   "nbconvert_exporter": "python",
   "pygments_lexer": "ipython3",
   "version": "3.13.1"
  }
 },
 "nbformat": 4,
 "nbformat_minor": 5
}
