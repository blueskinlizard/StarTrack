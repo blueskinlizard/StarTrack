{
 "cells": [
  {
   "cell_type": "markdown",
   "id": "ae55e43b-2f36-4038-8bfc-cf3d4b6e4511",
   "metadata": {},
   "source": [
    "# Building The StarTrack Model - 2"
   ]
  },
  {
   "cell_type": "code",
   "execution_count": 1,
   "id": "134bd825-bad2-43f8-9192-edfbd756e58f",
   "metadata": {},
   "outputs": [],
   "source": [
    "import numpy as np\n",
    "import pandas as pd\n",
    "import torch\n",
    "import torch.nn as nn\n",
    "import matplotlib.pyplot as plt\n",
    "from sklearn.model_selection import train_test_split\n",
    "from sklearn.preprocessing import LabelEncoder, StandardScaler\n",
    "from torch.utils.data import DataLoader, TensorDataset, Dataset\n",
    "from sklearn.manifold import TSNE\n",
    "from sklearn.preprocessing import LabelEncoder\n",
    "from sklearn.utils.class_weight import compute_class_weight\n",
    "from tqdm import tqdm\n",
    "import torch.nn.functional as F\n",
    "import copy\n",
    "from sklearn.metrics import confusion_matrix, accuracy_score, classification_report\n",
    "import seaborn as sns"
   ]
  },
  {
   "cell_type": "code",
   "execution_count": 2,
   "id": "79e77679-0feb-4047-9e15-9a2a2101710e",
   "metadata": {},
   "outputs": [
    {
     "data": {
      "text/plain": [
       "'cuda'"
      ]
     },
     "execution_count": 2,
     "metadata": {},
     "output_type": "execute_result"
    }
   ],
   "source": [
    "device = \"cuda\" if torch.cuda.is_available() else \"cpu\"\n",
    "device"
   ]
  },
  {
   "cell_type": "code",
   "execution_count": 3,
   "id": "b24cea5d-66b0-4327-b5c0-a8889dbcebe1",
   "metadata": {},
   "outputs": [
    {
     "data": {
      "text/html": [
       "<div>\n",
       "<style scoped>\n",
       "    .dataframe tbody tr th:only-of-type {\n",
       "        vertical-align: middle;\n",
       "    }\n",
       "\n",
       "    .dataframe tbody tr th {\n",
       "        vertical-align: top;\n",
       "    }\n",
       "\n",
       "    .dataframe thead th {\n",
       "        text-align: right;\n",
       "    }\n",
       "</style>\n",
       "<table border=\"1\" class=\"dataframe\">\n",
       "  <thead>\n",
       "    <tr style=\"text-align: right;\">\n",
       "      <th></th>\n",
       "      <th>Unnamed: 0.1</th>\n",
       "      <th>Unnamed: 0</th>\n",
       "      <th>PLATE</th>\n",
       "      <th>MJD</th>\n",
       "      <th>FIBERID</th>\n",
       "      <th>CLASS</th>\n",
       "      <th>SUBCLASS</th>\n",
       "      <th>ELODIE_SPTYPE</th>\n",
       "      <th>ELODIE_TEFF</th>\n",
       "      <th>ELODIE_LOGG</th>\n",
       "      <th>ELODIE_FEH</th>\n",
       "      <th>Z</th>\n",
       "      <th>Z_ERR</th>\n",
       "      <th>ZWARNING</th>\n",
       "      <th>VDISP</th>\n",
       "      <th>VDISP_ERR</th>\n",
       "      <th>SN_MEDIAN_ALL</th>\n",
       "      <th>RCHI2</th>\n",
       "      <th>DOF</th>\n",
       "      <th>SUBCLASS_CLEAN</th>\n",
       "      <th>SPECTRAL_GROUP</th>\n",
       "      <th>SNR_Bin</th>\n",
       "      <th>High_Quality</th>\n",
       "      <th>Mean_Flux</th>\n",
       "      <th>Flux_to_Noise</th>\n",
       "      <th>u_flux</th>\n",
       "      <th>g_flux</th>\n",
       "      <th>r_flux</th>\n",
       "      <th>i_flux</th>\n",
       "      <th>z_flux</th>\n",
       "      <th>flux_mean</th>\n",
       "      <th>flux_std</th>\n",
       "      <th>flux_min</th>\n",
       "      <th>flux_max</th>\n",
       "      <th>flux_median</th>\n",
       "      <th>flux_p25</th>\n",
       "      <th>flux_p75</th>\n",
       "    </tr>\n",
       "  </thead>\n",
       "  <tbody>\n",
       "    <tr>\n",
       "      <th>0</th>\n",
       "      <td>1</td>\n",
       "      <td>21</td>\n",
       "      <td>266</td>\n",
       "      <td>51602</td>\n",
       "      <td>22</td>\n",
       "      <td>STAR</td>\n",
       "      <td>WD</td>\n",
       "      <td>A0</td>\n",
       "      <td>7652.0</td>\n",
       "      <td>4.287</td>\n",
       "      <td>0.06</td>\n",
       "      <td>-0.000203</td>\n",
       "      <td>0.000017</td>\n",
       "      <td>0</td>\n",
       "      <td>0.0</td>\n",
       "      <td>0.0</td>\n",
       "      <td>35.487301</td>\n",
       "      <td>1.592232</td>\n",
       "      <td>3763</td>\n",
       "      <td>WD</td>\n",
       "      <td>WD</td>\n",
       "      <td>Good</td>\n",
       "      <td>False</td>\n",
       "      <td>186.603329</td>\n",
       "      <td>5.258313</td>\n",
       "      <td>0.122004</td>\n",
       "      <td>0.019352</td>\n",
       "      <td>-0.022279</td>\n",
       "      <td>-0.025010</td>\n",
       "      <td>-0.018879</td>\n",
       "      <td>186.603329</td>\n",
       "      <td>31.226214</td>\n",
       "      <td>142.713699</td>\n",
       "      <td>225.408386</td>\n",
       "      <td>189.586014</td>\n",
       "      <td>160.894745</td>\n",
       "      <td>214.413803</td>\n",
       "    </tr>\n",
       "    <tr>\n",
       "      <th>1</th>\n",
       "      <td>2</td>\n",
       "      <td>27</td>\n",
       "      <td>266</td>\n",
       "      <td>51602</td>\n",
       "      <td>28</td>\n",
       "      <td>STAR</td>\n",
       "      <td>F2</td>\n",
       "      <td>F9V</td>\n",
       "      <td>6038.0</td>\n",
       "      <td>4.370</td>\n",
       "      <td>-0.08</td>\n",
       "      <td>-0.000031</td>\n",
       "      <td>0.000008</td>\n",
       "      <td>0</td>\n",
       "      <td>0.0</td>\n",
       "      <td>0.0</td>\n",
       "      <td>35.359707</td>\n",
       "      <td>1.594363</td>\n",
       "      <td>3750</td>\n",
       "      <td>F2</td>\n",
       "      <td>F</td>\n",
       "      <td>Good</td>\n",
       "      <td>False</td>\n",
       "      <td>241.821964</td>\n",
       "      <td>6.838913</td>\n",
       "      <td>0.163460</td>\n",
       "      <td>0.027785</td>\n",
       "      <td>-0.014652</td>\n",
       "      <td>-0.018542</td>\n",
       "      <td>-0.014578</td>\n",
       "      <td>241.821964</td>\n",
       "      <td>35.124660</td>\n",
       "      <td>172.687210</td>\n",
       "      <td>265.467377</td>\n",
       "      <td>261.459534</td>\n",
       "      <td>247.324982</td>\n",
       "      <td>262.170715</td>\n",
       "    </tr>\n",
       "    <tr>\n",
       "      <th>2</th>\n",
       "      <td>3</td>\n",
       "      <td>28</td>\n",
       "      <td>266</td>\n",
       "      <td>51602</td>\n",
       "      <td>29</td>\n",
       "      <td>STAR</td>\n",
       "      <td>WD</td>\n",
       "      <td>unknown</td>\n",
       "      <td>9000.0</td>\n",
       "      <td>4.000</td>\n",
       "      <td>-2.50</td>\n",
       "      <td>0.000603</td>\n",
       "      <td>0.000177</td>\n",
       "      <td>0</td>\n",
       "      <td>0.0</td>\n",
       "      <td>0.0</td>\n",
       "      <td>2.225974</td>\n",
       "      <td>1.139563</td>\n",
       "      <td>3742</td>\n",
       "      <td>WD</td>\n",
       "      <td>WD</td>\n",
       "      <td>Very Low</td>\n",
       "      <td>False</td>\n",
       "      <td>4.449317</td>\n",
       "      <td>1.998818</td>\n",
       "      <td>-0.070436</td>\n",
       "      <td>-0.064762</td>\n",
       "      <td>-0.055695</td>\n",
       "      <td>-0.040814</td>\n",
       "      <td>-0.025653</td>\n",
       "      <td>4.449317</td>\n",
       "      <td>1.465356</td>\n",
       "      <td>2.503016</td>\n",
       "      <td>6.811224</td>\n",
       "      <td>4.174976</td>\n",
       "      <td>3.577307</td>\n",
       "      <td>5.180061</td>\n",
       "    </tr>\n",
       "    <tr>\n",
       "      <th>3</th>\n",
       "      <td>4</td>\n",
       "      <td>30</td>\n",
       "      <td>266</td>\n",
       "      <td>51602</td>\n",
       "      <td>31</td>\n",
       "      <td>STAR</td>\n",
       "      <td>WD</td>\n",
       "      <td>unknown</td>\n",
       "      <td>9000.0</td>\n",
       "      <td>4.000</td>\n",
       "      <td>-2.50</td>\n",
       "      <td>-0.000037</td>\n",
       "      <td>0.000088</td>\n",
       "      <td>0</td>\n",
       "      <td>0.0</td>\n",
       "      <td>0.0</td>\n",
       "      <td>7.260117</td>\n",
       "      <td>1.147462</td>\n",
       "      <td>3771</td>\n",
       "      <td>WD</td>\n",
       "      <td>WD</td>\n",
       "      <td>Low</td>\n",
       "      <td>False</td>\n",
       "      <td>20.110715</td>\n",
       "      <td>2.770026</td>\n",
       "      <td>-0.054230</td>\n",
       "      <td>-0.057813</td>\n",
       "      <td>-0.052901</td>\n",
       "      <td>-0.039429</td>\n",
       "      <td>-0.025021</td>\n",
       "      <td>20.110715</td>\n",
       "      <td>3.477413</td>\n",
       "      <td>15.293794</td>\n",
       "      <td>24.869940</td>\n",
       "      <td>20.418892</td>\n",
       "      <td>17.294498</td>\n",
       "      <td>22.676453</td>\n",
       "    </tr>\n",
       "    <tr>\n",
       "      <th>4</th>\n",
       "      <td>5</td>\n",
       "      <td>31</td>\n",
       "      <td>266</td>\n",
       "      <td>51602</td>\n",
       "      <td>32</td>\n",
       "      <td>STAR</td>\n",
       "      <td>G2</td>\n",
       "      <td>G1V</td>\n",
       "      <td>5613.0</td>\n",
       "      <td>4.110</td>\n",
       "      <td>-0.94</td>\n",
       "      <td>0.000218</td>\n",
       "      <td>0.000010</td>\n",
       "      <td>0</td>\n",
       "      <td>0.0</td>\n",
       "      <td>0.0</td>\n",
       "      <td>36.094147</td>\n",
       "      <td>1.042492</td>\n",
       "      <td>3764</td>\n",
       "      <td>G2</td>\n",
       "      <td>G</td>\n",
       "      <td>Good</td>\n",
       "      <td>True</td>\n",
       "      <td>246.397417</td>\n",
       "      <td>6.826520</td>\n",
       "      <td>0.015442</td>\n",
       "      <td>-0.008332</td>\n",
       "      <td>-0.013022</td>\n",
       "      <td>-0.011457</td>\n",
       "      <td>-0.009000</td>\n",
       "      <td>246.397417</td>\n",
       "      <td>121.315114</td>\n",
       "      <td>65.667641</td>\n",
       "      <td>391.897797</td>\n",
       "      <td>272.376373</td>\n",
       "      <td>153.463730</td>\n",
       "      <td>348.581543</td>\n",
       "    </tr>\n",
       "  </tbody>\n",
       "</table>\n",
       "</div>"
      ],
      "text/plain": [
       "   Unnamed: 0.1  Unnamed: 0  PLATE    MJD  FIBERID   CLASS  \\\n",
       "0             1          21    266  51602       22  STAR     \n",
       "1             2          27    266  51602       28  STAR     \n",
       "2             3          28    266  51602       29  STAR     \n",
       "3             4          30    266  51602       31  STAR     \n",
       "4             5          31    266  51602       32  STAR     \n",
       "\n",
       "                SUBCLASS ELODIE_SPTYPE  ELODIE_TEFF  ELODIE_LOGG  ELODIE_FEH  \\\n",
       "0  WD                     A0                 7652.0        4.287        0.06   \n",
       "1  F2                     F9V                6038.0        4.370       -0.08   \n",
       "2  WD                     unknown            9000.0        4.000       -2.50   \n",
       "3  WD                     unknown            9000.0        4.000       -2.50   \n",
       "4  G2                     G1V                5613.0        4.110       -0.94   \n",
       "\n",
       "          Z     Z_ERR  ZWARNING  VDISP  VDISP_ERR  SN_MEDIAN_ALL     RCHI2  \\\n",
       "0 -0.000203  0.000017         0    0.0        0.0      35.487301  1.592232   \n",
       "1 -0.000031  0.000008         0    0.0        0.0      35.359707  1.594363   \n",
       "2  0.000603  0.000177         0    0.0        0.0       2.225974  1.139563   \n",
       "3 -0.000037  0.000088         0    0.0        0.0       7.260117  1.147462   \n",
       "4  0.000218  0.000010         0    0.0        0.0      36.094147  1.042492   \n",
       "\n",
       "    DOF SUBCLASS_CLEAN SPECTRAL_GROUP   SNR_Bin  High_Quality   Mean_Flux  \\\n",
       "0  3763             WD             WD      Good         False  186.603329   \n",
       "1  3750             F2              F      Good         False  241.821964   \n",
       "2  3742             WD             WD  Very Low         False    4.449317   \n",
       "3  3771             WD             WD       Low         False   20.110715   \n",
       "4  3764             G2              G      Good          True  246.397417   \n",
       "\n",
       "   Flux_to_Noise    u_flux    g_flux    r_flux    i_flux    z_flux  \\\n",
       "0       5.258313  0.122004  0.019352 -0.022279 -0.025010 -0.018879   \n",
       "1       6.838913  0.163460  0.027785 -0.014652 -0.018542 -0.014578   \n",
       "2       1.998818 -0.070436 -0.064762 -0.055695 -0.040814 -0.025653   \n",
       "3       2.770026 -0.054230 -0.057813 -0.052901 -0.039429 -0.025021   \n",
       "4       6.826520  0.015442 -0.008332 -0.013022 -0.011457 -0.009000   \n",
       "\n",
       "    flux_mean    flux_std    flux_min    flux_max  flux_median    flux_p25  \\\n",
       "0  186.603329   31.226214  142.713699  225.408386   189.586014  160.894745   \n",
       "1  241.821964   35.124660  172.687210  265.467377   261.459534  247.324982   \n",
       "2    4.449317    1.465356    2.503016    6.811224     4.174976    3.577307   \n",
       "3   20.110715    3.477413   15.293794   24.869940    20.418892   17.294498   \n",
       "4  246.397417  121.315114   65.667641  391.897797   272.376373  153.463730   \n",
       "\n",
       "     flux_p75  \n",
       "0  214.413803  \n",
       "1  262.170715  \n",
       "2    5.180061  \n",
       "3   22.676453  \n",
       "4  348.581543  "
      ]
     },
     "execution_count": 3,
     "metadata": {},
     "output_type": "execute_result"
    }
   ],
   "source": [
    "tabular_data = pd.read_csv('../data/processed_data.csv')\n",
    "pd.set_option('display.max_columns', None)\n",
    "tabular_data.head()"
   ]
  },
  {
   "cell_type": "code",
   "execution_count": 4,
   "id": "e332ba8f-6aec-4fe1-a850-bf2f7282ee49",
   "metadata": {},
   "outputs": [
    {
     "data": {
      "text/html": [
       "<div>\n",
       "<style scoped>\n",
       "    .dataframe tbody tr th:only-of-type {\n",
       "        vertical-align: middle;\n",
       "    }\n",
       "\n",
       "    .dataframe tbody tr th {\n",
       "        vertical-align: top;\n",
       "    }\n",
       "\n",
       "    .dataframe thead th {\n",
       "        text-align: right;\n",
       "    }\n",
       "</style>\n",
       "<table border=\"1\" class=\"dataframe\">\n",
       "  <thead>\n",
       "    <tr style=\"text-align: right;\">\n",
       "      <th></th>\n",
       "      <th>ELODIE_TEFF</th>\n",
       "      <th>ELODIE_LOGG</th>\n",
       "      <th>ELODIE_FEH</th>\n",
       "      <th>Z</th>\n",
       "      <th>Z_ERR</th>\n",
       "      <th>ZWARNING</th>\n",
       "      <th>VDISP</th>\n",
       "      <th>VDISP_ERR</th>\n",
       "      <th>SN_MEDIAN_ALL</th>\n",
       "      <th>RCHI2</th>\n",
       "      <th>DOF</th>\n",
       "      <th>SNR_Bin</th>\n",
       "      <th>High_Quality</th>\n",
       "      <th>Mean_Flux</th>\n",
       "      <th>Flux_to_Noise</th>\n",
       "      <th>u_flux</th>\n",
       "      <th>g_flux</th>\n",
       "      <th>r_flux</th>\n",
       "      <th>i_flux</th>\n",
       "      <th>z_flux</th>\n",
       "      <th>flux_mean</th>\n",
       "      <th>flux_std</th>\n",
       "      <th>flux_min</th>\n",
       "      <th>flux_max</th>\n",
       "      <th>flux_median</th>\n",
       "      <th>flux_p25</th>\n",
       "      <th>flux_p75</th>\n",
       "    </tr>\n",
       "  </thead>\n",
       "  <tbody>\n",
       "    <tr>\n",
       "      <th>0</th>\n",
       "      <td>7652.0</td>\n",
       "      <td>4.287</td>\n",
       "      <td>0.06</td>\n",
       "      <td>-0.000203</td>\n",
       "      <td>0.000017</td>\n",
       "      <td>0</td>\n",
       "      <td>0.0</td>\n",
       "      <td>0.0</td>\n",
       "      <td>35.487301</td>\n",
       "      <td>1.592232</td>\n",
       "      <td>3763</td>\n",
       "      <td>3</td>\n",
       "      <td>0</td>\n",
       "      <td>186.603329</td>\n",
       "      <td>5.258313</td>\n",
       "      <td>0.122004</td>\n",
       "      <td>0.019352</td>\n",
       "      <td>-0.022279</td>\n",
       "      <td>-0.025010</td>\n",
       "      <td>-0.018879</td>\n",
       "      <td>186.603329</td>\n",
       "      <td>31.226214</td>\n",
       "      <td>142.713699</td>\n",
       "      <td>225.408386</td>\n",
       "      <td>189.586014</td>\n",
       "      <td>160.894745</td>\n",
       "      <td>214.413803</td>\n",
       "    </tr>\n",
       "    <tr>\n",
       "      <th>1</th>\n",
       "      <td>6038.0</td>\n",
       "      <td>4.370</td>\n",
       "      <td>-0.08</td>\n",
       "      <td>-0.000031</td>\n",
       "      <td>0.000008</td>\n",
       "      <td>0</td>\n",
       "      <td>0.0</td>\n",
       "      <td>0.0</td>\n",
       "      <td>35.359707</td>\n",
       "      <td>1.594363</td>\n",
       "      <td>3750</td>\n",
       "      <td>3</td>\n",
       "      <td>0</td>\n",
       "      <td>241.821964</td>\n",
       "      <td>6.838913</td>\n",
       "      <td>0.163460</td>\n",
       "      <td>0.027785</td>\n",
       "      <td>-0.014652</td>\n",
       "      <td>-0.018542</td>\n",
       "      <td>-0.014578</td>\n",
       "      <td>241.821964</td>\n",
       "      <td>35.124660</td>\n",
       "      <td>172.687210</td>\n",
       "      <td>265.467377</td>\n",
       "      <td>261.459534</td>\n",
       "      <td>247.324982</td>\n",
       "      <td>262.170715</td>\n",
       "    </tr>\n",
       "    <tr>\n",
       "      <th>2</th>\n",
       "      <td>9000.0</td>\n",
       "      <td>4.000</td>\n",
       "      <td>-2.50</td>\n",
       "      <td>0.000603</td>\n",
       "      <td>0.000177</td>\n",
       "      <td>0</td>\n",
       "      <td>0.0</td>\n",
       "      <td>0.0</td>\n",
       "      <td>2.225974</td>\n",
       "      <td>1.139563</td>\n",
       "      <td>3742</td>\n",
       "      <td>0</td>\n",
       "      <td>0</td>\n",
       "      <td>4.449317</td>\n",
       "      <td>1.998818</td>\n",
       "      <td>-0.070436</td>\n",
       "      <td>-0.064762</td>\n",
       "      <td>-0.055695</td>\n",
       "      <td>-0.040814</td>\n",
       "      <td>-0.025653</td>\n",
       "      <td>4.449317</td>\n",
       "      <td>1.465356</td>\n",
       "      <td>2.503016</td>\n",
       "      <td>6.811224</td>\n",
       "      <td>4.174976</td>\n",
       "      <td>3.577307</td>\n",
       "      <td>5.180061</td>\n",
       "    </tr>\n",
       "    <tr>\n",
       "      <th>3</th>\n",
       "      <td>9000.0</td>\n",
       "      <td>4.000</td>\n",
       "      <td>-2.50</td>\n",
       "      <td>-0.000037</td>\n",
       "      <td>0.000088</td>\n",
       "      <td>0</td>\n",
       "      <td>0.0</td>\n",
       "      <td>0.0</td>\n",
       "      <td>7.260117</td>\n",
       "      <td>1.147462</td>\n",
       "      <td>3771</td>\n",
       "      <td>1</td>\n",
       "      <td>0</td>\n",
       "      <td>20.110715</td>\n",
       "      <td>2.770026</td>\n",
       "      <td>-0.054230</td>\n",
       "      <td>-0.057813</td>\n",
       "      <td>-0.052901</td>\n",
       "      <td>-0.039429</td>\n",
       "      <td>-0.025021</td>\n",
       "      <td>20.110715</td>\n",
       "      <td>3.477413</td>\n",
       "      <td>15.293794</td>\n",
       "      <td>24.869940</td>\n",
       "      <td>20.418892</td>\n",
       "      <td>17.294498</td>\n",
       "      <td>22.676453</td>\n",
       "    </tr>\n",
       "    <tr>\n",
       "      <th>4</th>\n",
       "      <td>5613.0</td>\n",
       "      <td>4.110</td>\n",
       "      <td>-0.94</td>\n",
       "      <td>0.000218</td>\n",
       "      <td>0.000010</td>\n",
       "      <td>0</td>\n",
       "      <td>0.0</td>\n",
       "      <td>0.0</td>\n",
       "      <td>36.094147</td>\n",
       "      <td>1.042492</td>\n",
       "      <td>3764</td>\n",
       "      <td>3</td>\n",
       "      <td>1</td>\n",
       "      <td>246.397417</td>\n",
       "      <td>6.826520</td>\n",
       "      <td>0.015442</td>\n",
       "      <td>-0.008332</td>\n",
       "      <td>-0.013022</td>\n",
       "      <td>-0.011457</td>\n",
       "      <td>-0.009000</td>\n",
       "      <td>246.397417</td>\n",
       "      <td>121.315114</td>\n",
       "      <td>65.667641</td>\n",
       "      <td>391.897797</td>\n",
       "      <td>272.376373</td>\n",
       "      <td>153.463730</td>\n",
       "      <td>348.581543</td>\n",
       "    </tr>\n",
       "  </tbody>\n",
       "</table>\n",
       "</div>"
      ],
      "text/plain": [
       "   ELODIE_TEFF  ELODIE_LOGG  ELODIE_FEH         Z     Z_ERR  ZWARNING  VDISP  \\\n",
       "0       7652.0        4.287        0.06 -0.000203  0.000017         0    0.0   \n",
       "1       6038.0        4.370       -0.08 -0.000031  0.000008         0    0.0   \n",
       "2       9000.0        4.000       -2.50  0.000603  0.000177         0    0.0   \n",
       "3       9000.0        4.000       -2.50 -0.000037  0.000088         0    0.0   \n",
       "4       5613.0        4.110       -0.94  0.000218  0.000010         0    0.0   \n",
       "\n",
       "   VDISP_ERR  SN_MEDIAN_ALL     RCHI2   DOF  SNR_Bin  High_Quality  \\\n",
       "0        0.0      35.487301  1.592232  3763        3             0   \n",
       "1        0.0      35.359707  1.594363  3750        3             0   \n",
       "2        0.0       2.225974  1.139563  3742        0             0   \n",
       "3        0.0       7.260117  1.147462  3771        1             0   \n",
       "4        0.0      36.094147  1.042492  3764        3             1   \n",
       "\n",
       "    Mean_Flux  Flux_to_Noise    u_flux    g_flux    r_flux    i_flux  \\\n",
       "0  186.603329       5.258313  0.122004  0.019352 -0.022279 -0.025010   \n",
       "1  241.821964       6.838913  0.163460  0.027785 -0.014652 -0.018542   \n",
       "2    4.449317       1.998818 -0.070436 -0.064762 -0.055695 -0.040814   \n",
       "3   20.110715       2.770026 -0.054230 -0.057813 -0.052901 -0.039429   \n",
       "4  246.397417       6.826520  0.015442 -0.008332 -0.013022 -0.011457   \n",
       "\n",
       "     z_flux   flux_mean    flux_std    flux_min    flux_max  flux_median  \\\n",
       "0 -0.018879  186.603329   31.226214  142.713699  225.408386   189.586014   \n",
       "1 -0.014578  241.821964   35.124660  172.687210  265.467377   261.459534   \n",
       "2 -0.025653    4.449317    1.465356    2.503016    6.811224     4.174976   \n",
       "3 -0.025021   20.110715    3.477413   15.293794   24.869940    20.418892   \n",
       "4 -0.009000  246.397417  121.315114   65.667641  391.897797   272.376373   \n",
       "\n",
       "     flux_p25    flux_p75  \n",
       "0  160.894745  214.413803  \n",
       "1  247.324982  262.170715  \n",
       "2    3.577307    5.180061  \n",
       "3   17.294498   22.676453  \n",
       "4  153.463730  348.581543  "
      ]
     },
     "execution_count": 4,
     "metadata": {},
     "output_type": "execute_result"
    }
   ],
   "source": [
    "columns_to_drop = [\"Unnamed: 0\", \"Unnamed: 0.1\", \n",
    "                   \"CLASS\", \"SUBCLASS\", \"SUBCLASS_CLEAN\", \"SPECTRAL_GROUP\", \n",
    "                   \"PLATE\", \"MJD\", \"FIBERID\", \"ELODIE_SPTYPE\" ]\n",
    "labels_tabular = tabular_data[\"SPECTRAL_GROUP\"]\n",
    "tabular_data = tabular_data.drop(columns=columns_to_drop)\n",
    "pd.set_option('display.max_columns', None)\n",
    "bin_dict = {'Below 0': -1, 'Very Low': 0, 'Low': 1, 'Moderate': 2, 'Good': 3, 'High': 4, 'Very High': 5}\n",
    "tabular_data[\"SNR_Bin\"] = tabular_data[\"SNR_Bin\"].map(bin_dict)\n",
    "qual_dict = {False: 0, True: 1} # There's probably a better way to do this not going to lie\n",
    "tabular_data[\"High_Quality\"] = tabular_data[\"High_Quality\"].map(qual_dict)\n",
    "tabular_data.head()"
   ]
  },
  {
   "cell_type": "code",
   "execution_count": 5,
   "id": "e6068313-5ffa-4b70-a75b-8eafac200817",
   "metadata": {},
   "outputs": [
    {
     "name": "stdout",
     "output_type": "stream",
     "text": [
      "   ELODIE_TEFF  ELODIE_LOGG  ELODIE_FEH         Z     Z_ERR  ZWARNING  VDISP  \\\n",
      "0     1.701294     0.399468    0.793453 -0.168372 -0.002112         0    0.0   \n",
      "1     0.527703     0.480184    0.620273  0.080864 -0.002112         0    0.0   \n",
      "2     2.681467     0.120365   -2.373272  0.996701 -0.002106         0    0.0   \n",
      "3     2.681467     0.120365   -2.373272  0.071959 -0.002109         0    0.0   \n",
      "4     0.218672     0.227338   -0.443549  0.440732 -0.002112         0    0.0   \n",
      "\n",
      "   VDISP_ERR  SN_MEDIAN_ALL     RCHI2   DOF  SNR_Bin  High_Quality  Mean_Flux  \\\n",
      "0        0.0       0.681625  0.024548  3763        3             0  -0.017712   \n",
      "1        0.0       0.675176  0.025592  3750        3             0  -0.011066   \n",
      "2        0.0      -0.999324 -0.197186  3742        0             0  -0.039636   \n",
      "3        0.0      -0.744910 -0.193316  3771        1             0  -0.037751   \n",
      "4        0.0       0.712293 -0.244735  3764        3             1  -0.010516   \n",
      "\n",
      "   Flux_to_Noise    u_flux    g_flux    r_flux    i_flux    z_flux  flux_mean  \\\n",
      "0      -0.020948  0.122004  0.019352 -0.022279 -0.025010 -0.018879  -0.017712   \n",
      "1      -0.007886  0.163460  0.027785 -0.014652 -0.018542 -0.014578  -0.011066   \n",
      "2      -0.047884 -0.070436 -0.064762 -0.055695 -0.040814 -0.025653  -0.039636   \n",
      "3      -0.041511 -0.054231 -0.057813 -0.052901 -0.039429 -0.025021  -0.037751   \n",
      "4      -0.007988  0.015441 -0.008332 -0.013022 -0.011457 -0.009000  -0.010516   \n",
      "\n",
      "   flux_std  flux_min  flux_max  flux_median  flux_p25  flux_p75  \n",
      "0 -0.020036  0.123975 -0.016260    -0.026045 -0.005106 -0.022939  \n",
      "1 -0.019593  0.165438 -0.014547    -0.014549  0.028155 -0.018868  \n",
      "2 -0.023425 -0.069980 -0.025608    -0.055700 -0.065647 -0.040775  \n",
      "3 -0.023196 -0.052286 -0.024836    -0.053102 -0.060368 -0.039284  \n",
      "4 -0.009778  0.017396 -0.009141    -0.012803 -0.007966 -0.011502  \n"
     ]
    }
   ],
   "source": [
    "cat_cols = ['ZWARNING', 'SNR_Bin', 'High_Quality', 'DOF']\n",
    "numeric_cols = [col for col in tabular_data.columns if col not in cat_cols]\n",
    "scaler = StandardScaler()\n",
    "tabular_data_scaled_numeric = pd.DataFrame(scaler.fit_transform(tabular_data[numeric_cols]), columns=numeric_cols)\n",
    "tabular_data_cat = tabular_data[cat_cols].reset_index(drop=True)\n",
    "\n",
    "tabular_data_processed = pd.concat([tabular_data_scaled_numeric, tabular_data_cat], axis=1)\n",
    "tabular_data_processed = tabular_data_processed[tabular_data.columns]\n",
    "\n",
    "print(tabular_data_processed.head())"
   ]
  },
  {
   "cell_type": "code",
   "execution_count": 6,
   "id": "8e7cbe93-539b-46af-8096-5feaede2a486",
   "metadata": {},
   "outputs": [
    {
     "data": {
      "text/plain": [
       "(802836, 27)"
      ]
     },
     "execution_count": 6,
     "metadata": {},
     "output_type": "execute_result"
    }
   ],
   "source": [
    "tabular_data_processed.shape"
   ]
  },
  {
   "cell_type": "code",
   "execution_count": 7,
   "id": "e5cb02e9-db13-4055-b610-01ad063619e9",
   "metadata": {},
   "outputs": [
    {
     "name": "stdout",
     "output_type": "stream",
     "text": [
      "Series([], dtype: int64)\n"
     ]
    }
   ],
   "source": [
    "missing_per_column = tabular_data.isnull().sum()\n",
    "print(missing_per_column[missing_per_column > 0]) "
   ]
  },
  {
   "cell_type": "code",
   "execution_count": 8,
   "id": "ef478b36-8b05-4be6-b351-62e2d9a2c090",
   "metadata": {},
   "outputs": [
    {
     "data": {
      "text/plain": [
       "0    WD\n",
       "1     F\n",
       "2    WD\n",
       "3    WD\n",
       "4     G\n",
       "Name: SPECTRAL_GROUP, dtype: object"
      ]
     },
     "execution_count": 8,
     "metadata": {},
     "output_type": "execute_result"
    }
   ],
   "source": [
    "labels_tabular.head()"
   ]
  },
  {
   "cell_type": "code",
   "execution_count": 9,
   "id": "e3b28d3e-18dc-41ac-95c1-75258ff2f220",
   "metadata": {},
   "outputs": [],
   "source": [
    "# All of the following functions are taken from my EchoScope project, check it out here: https://github.com/blueskinlizard/EchoScope/tree/main\n",
    "def split_sets(X, y):\n",
    "    X_train_val, X_test, y_train_val, y_test = train_test_split(\n",
    "    X, y, test_size=0.2, random_state=42, stratify=y)\n",
    "\n",
    "    X_train, X_val, y_train, y_val = train_test_split(\n",
    "        X_train_val, y_train_val, test_size=0.2, random_state=42, stratify=y_train_val)\n",
    "    \n",
    "    print(f'Train shape: {X_train.shape}, {y_train.shape}')\n",
    "    print(f'Validation shape: {X_val.shape}, {y_val.shape}')\n",
    "    print(f'Test shape: {X_test.shape}, {y_test.shape}')\n",
    "    return X_train, y_train, X_val, y_val, X_test, y_test"
   ]
  },
  {
   "cell_type": "code",
   "execution_count": 10,
   "id": "f0b1fa7e-7e66-4582-9f14-9c6bee61af88",
   "metadata": {},
   "outputs": [],
   "source": [
    "def train_model(model, criterion, optimizer, epochs, train_loader, val_loader, patience=100, scheduler=None):\n",
    "    best_val_loss = float('inf')\n",
    "    best_model_state = None\n",
    "    no_improve_epochs = 0\n",
    "    \n",
    "    train_losses = []\n",
    "    val_losses = []\n",
    "\n",
    "    for epoch in range(1, epochs + 1):\n",
    "        model.train()\n",
    "        train_loss = 0.0\n",
    "        train_bar = tqdm(train_loader, desc=f\"Epoch {epoch}/{epochs} [Train]\", leave=False)\n",
    "        for X_batch, y_batch in train_bar:\n",
    "            X_batch, y_batch = X_batch.to(device), y_batch.to(device)\n",
    "            optimizer.zero_grad()\n",
    "            outputs = model(X_batch)\n",
    "            loss = criterion(outputs, y_batch)\n",
    "            loss.backward()\n",
    "            optimizer.step()\n",
    "            train_loss += loss.item() * X_batch.size(0)\n",
    "            train_bar.set_postfix(loss=loss.item())\n",
    "        train_loss /= len(train_loader.dataset)\n",
    "\n",
    "        model.eval()\n",
    "        val_loss = 0.0\n",
    "        val_bar = tqdm(val_loader, desc=f\"Epoch {epoch}/{epochs} [Val]\", leave=False)\n",
    "        with torch.no_grad():\n",
    "            for X_batch, y_batch in val_bar:\n",
    "                X_batch, y_batch = X_batch.to(device), y_batch.to(device)\n",
    "                outputs = model(X_batch)\n",
    "                loss = criterion(outputs, y_batch)\n",
    "                val_loss += loss.item() * X_batch.size(0)\n",
    "                val_bar.set_postfix(loss=loss.item())\n",
    "        val_loss /= len(val_loader.dataset)\n",
    "\n",
    "        train_losses.append(train_loss)\n",
    "        val_losses.append(val_loss)\n",
    "\n",
    "        print(f\"Epoch {epoch}/{epochs} | Train Loss: {train_loss:.6f} | Val Loss: {val_loss:.6f}\")\n",
    "\n",
    "        if val_loss < best_val_loss:\n",
    "            best_val_loss = val_loss\n",
    "            best_model_state = copy.deepcopy(model.state_dict())\n",
    "            no_improve_epochs = 0\n",
    "        else:\n",
    "            no_improve_epochs += 1\n",
    "            if no_improve_epochs >= patience:\n",
    "                print(f\"Early stopping at epoch {epoch} (best val loss: {best_val_loss:.6f})\")\n",
    "                break\n",
    "        if scheduler:\n",
    "            scheduler.step(val_loss)\n",
    "            \n",
    "    model.load_state_dict(best_model_state)\n",
    "    return train_losses, val_losses"
   ]
  },
  {
   "cell_type": "code",
   "execution_count": 11,
   "id": "f56ecbb9-19e9-4dcb-8d2f-425f9f438d5a",
   "metadata": {},
   "outputs": [],
   "source": [
    "def set_seed(seed=1):\n",
    "    torch.manual_seed(seed)\n",
    "    np.random.seed(seed)\n",
    "    torch.cuda.manual_seed(seed)\n",
    "    torch.cuda.manual_seed_all(seed)\n",
    "    torch.backends.cudnn.deterministic = True\n",
    "    torch.backends.cudnn.benchmark = False\n",
    "set_seed()"
   ]
  },
  {
   "cell_type": "code",
   "execution_count": 12,
   "id": "a7596272-fecd-47f6-9b7a-2d79a068d100",
   "metadata": {},
   "outputs": [],
   "source": [
    "def plot_losses(train_losses, val_losses):\n",
    "    epochs = range(1, len(train_losses) + 1)\n",
    "    plt.figure(figsize=(10,6))\n",
    "    plt.plot(epochs, train_losses, label='Train Loss', color='blue')\n",
    "    plt.plot(epochs, val_losses, label='Validation Loss', color='orange')\n",
    "    plt.xlabel('Epoch')\n",
    "    plt.ylabel('Loss')\n",
    "    plt.title('Training and Validation Loss over Epochs')\n",
    "    plt.legend()\n",
    "    plt.grid(True)\n",
    "    plt.show()"
   ]
  },
  {
   "cell_type": "code",
   "execution_count": 13,
   "id": "85180e68-f4fd-4bb3-985a-bb8e39ebd091",
   "metadata": {},
   "outputs": [],
   "source": [
    "def evaluate_model(model, data_loader, device, label_encoder):\n",
    "    model.eval()\n",
    "    all_preds = []\n",
    "    all_labels = []\n",
    "    \n",
    "    with torch.no_grad():\n",
    "        for X_batch, y_batch in data_loader:\n",
    "            X_batch = X_batch.to(device)\n",
    "            y_batch = y_batch.to(device)\n",
    "            \n",
    "            outputs = model(X_batch)\n",
    "            _, preds = torch.max(outputs, 1)\n",
    "            \n",
    "            all_preds.extend(preds.cpu().numpy())\n",
    "            all_labels.extend(y_batch.cpu().numpy())\n",
    "    \n",
    "    acc = accuracy_score(all_labels, all_preds)\n",
    "    print(f'Accuracy: {acc:.4f}')\n",
    "    print('Classification Report:')\n",
    "    print(classification_report(all_labels, all_preds, target_names=label_encoder.classes_))\n",
    "    return all_labels, all_preds "
   ]
  },
  {
   "cell_type": "code",
   "execution_count": 14,
   "id": "aa6ba4ad-84cd-4428-b230-e900493f9760",
   "metadata": {},
   "outputs": [],
   "source": [
    "def get_preds_labels(model, dataloader, device):\n",
    "    model.eval()\n",
    "    all_preds = []\n",
    "    all_labels = []\n",
    "    with torch.no_grad():\n",
    "        for inputs, labels in dataloader:\n",
    "            inputs = inputs.to(device)\n",
    "            labels = labels.to(device)\n",
    "\n",
    "            outputs = model(inputs)\n",
    "            _, preds = torch.max(outputs, 1)\n",
    "            all_preds.append(preds.cpu())\n",
    "            all_labels.append(labels.cpu())\n",
    "\n",
    "    return torch.cat(all_preds), torch.cat(all_labels)"
   ]
  },
  {
   "cell_type": "code",
   "execution_count": 15,
   "id": "ec10233c-7880-489a-8c8d-4464fd9b36b2",
   "metadata": {},
   "outputs": [],
   "source": [
    "def plot_confusion_matrix(y_true, y_pred, class_names=None):\n",
    "    cm = confusion_matrix(y_true, y_pred)\n",
    "    plt.figure(figsize=(10, 8))\n",
    "\n",
    "    if class_names is None:\n",
    "        class_names = [str(i) for i in range(cm.shape[0])]\n",
    "        \n",
    "    sns.heatmap(cm, annot=True, fmt='d', cmap='Blues', xticklabels=class_names, yticklabels=class_names)\n",
    "    plt.xlabel('Predicted')\n",
    "    plt.ylabel('True')\n",
    "    plt.title('Confusion Matrix')\n",
    "    plt.show()"
   ]
  },
  {
   "cell_type": "markdown",
   "id": "8b9ad8e7-0681-4dfa-a46a-3885e28655b2",
   "metadata": {},
   "source": [
    "# Training The Dense (Tabular Data) branch"
   ]
  },
  {
   "cell_type": "code",
   "execution_count": 19,
   "id": "70d35bb9-1092-4375-87e4-22a51fa4a1d1",
   "metadata": {},
   "outputs": [
    {
     "name": "stdout",
     "output_type": "stream",
     "text": [
      "X shape: (802836, 27)\n",
      "Total samples: 802836\n",
      "Unique classes: ['A' 'B' 'F' 'G' 'K' 'L' 'M' 'WD']\n"
     ]
    }
   ],
   "source": [
    "le_tabular = LabelEncoder()\n",
    "labels_encoded_tabular = le_tabular.fit_transform(labels_tabular)\n",
    "X = tabular_data_processed\n",
    "y = labels_encoded_tabular\n",
    "print(\"X shape:\", X.shape)\n",
    "print(f'Total samples: {X.shape[0]}')\n",
    "print(f'Unique classes: {le_tabular.classes_}')"
   ]
  },
  {
   "cell_type": "code",
   "execution_count": 13,
   "id": "ad0e7f47-5cf3-401b-8217-ba251e980ac3",
   "metadata": {},
   "outputs": [
    {
     "name": "stdout",
     "output_type": "stream",
     "text": [
      "X shape: (802836, 27), y shape: 802836\n"
     ]
    }
   ],
   "source": [
    "print(f'X shape: {X.shape}, y shape: {len(y)}')"
   ]
  },
  {
   "cell_type": "code",
   "execution_count": 14,
   "id": "6cecd38a-4be5-48f9-9d04-0d6d2be9a756",
   "metadata": {},
   "outputs": [
    {
     "name": "stdout",
     "output_type": "stream",
     "text": [
      "Train shape: (513814, 27), (513814,)\n",
      "Validation shape: (128454, 27), (128454,)\n",
      "Test shape: (160568, 27), (160568,)\n"
     ]
    }
   ],
   "source": [
    "X_table_train, y_table_train, X_table_val, y_table_val, X_table_test, y_table_test = split_sets(X, y)"
   ]
  },
  {
   "cell_type": "code",
   "execution_count": 15,
   "id": "17913a10-2f9e-46a7-b0a9-99925117e6c1",
   "metadata": {},
   "outputs": [],
   "source": [
    "X_table_train_fusion = X_table_train.copy()\n",
    "X_table_val_fusion = X_table_val.copy()\n",
    "X_table_test_fusion = X_table_test.copy()\n",
    "\n",
    "y_table_train_fusion = y_table_train.copy()\n",
    "y_table_val_fusion = y_table_val.copy()\n",
    "y_table_test_fusion = y_table_test.copy()"
   ]
  },
  {
   "cell_type": "code",
   "execution_count": 16,
   "id": "1fe42595-1ea9-4329-ba6a-6422c69c2c4e",
   "metadata": {},
   "outputs": [],
   "source": [
    "train_dataset_table_np = torch.utils.data.TensorDataset(\n",
    "    torch.tensor(X_table_train.values, dtype=torch.float32),\n",
    "    torch.tensor(y_table_train, dtype=torch.long)\n",
    ")\n",
    "\n",
    "val_dataset_table_np = torch.utils.data.TensorDataset(\n",
    "    torch.tensor(X_table_val.values, dtype=torch.float32),\n",
    "    torch.tensor(y_table_val, dtype=torch.long)\n",
    ")\n",
    "\n",
    "test_dataset_table_np = torch.utils.data.TensorDataset(\n",
    "    torch.tensor(X_table_test.values, dtype=torch.float32),\n",
    "    torch.tensor(y_table_test, dtype=torch.long)\n",
    ")"
   ]
  },
  {
   "cell_type": "code",
   "execution_count": 17,
   "id": "0a10c6ab-e5e8-4953-9c2d-62a1d585c347",
   "metadata": {},
   "outputs": [],
   "source": [
    "train_loader_tabular = DataLoader(train_dataset_table_np, batch_size=512, shuffle=True)\n",
    "val_loader_tabular = DataLoader(val_dataset_table_np, batch_size=512, shuffle=False)\n",
    "test_loader_tabular = DataLoader(test_dataset_table_np, batch_size=512, shuffle=True)"
   ]
  },
  {
   "cell_type": "code",
   "execution_count": 18,
   "id": "fdb61258-aafd-4f9e-8bda-03061af68fb8",
   "metadata": {},
   "outputs": [],
   "source": [
    "class StarTrack_Dense(nn.Module):\n",
    "    def __init__(self, input_size=27, hidden_sizes=[1024, 512, 512, 256, 128], output_size=8):\n",
    "        super().__init__()\n",
    "        self.fc1 = nn.Linear(input_size, hidden_sizes[0])\n",
    "        self.bn1 = nn.BatchNorm1d(hidden_sizes[0])\n",
    "\n",
    "        self.fc2 = nn.Linear(hidden_sizes[0], hidden_sizes[1])\n",
    "        self.bn2 = nn.BatchNorm1d(hidden_sizes[1])\n",
    "\n",
    "        self.fc3 = nn.Linear(hidden_sizes[1], hidden_sizes[2])\n",
    "        self.bn3 = nn.BatchNorm1d(hidden_sizes[2])\n",
    "        self.dropout = nn.Dropout(0.3)\n",
    "        self.out = nn.Linear(hidden_sizes[2], output_size)\n",
    "        self.act = nn.LeakyReLU(negative_slope=0.01)\n",
    "\n",
    "    def forward(self, x):\n",
    "        x1 = self.act(self.bn1(self.fc1(x)))\n",
    "        x1 = self.dropout(x1)\n",
    "        x2 = self.act(self.bn2(self.fc2(x1)))\n",
    "        x2 = self.dropout(x2)\n",
    "        x3 = self.act(self.bn3(self.fc3(x2)))\n",
    "        x3 = self.dropout(x3)\n",
    "\n",
    "        return self.out(x3)\n"
   ]
  },
  {
   "cell_type": "code",
   "execution_count": 19,
   "id": "898b85b5-b7ce-4544-84f4-d4a822f3ef00",
   "metadata": {},
   "outputs": [],
   "source": [
    "StarTrack_Dense_V1 = StarTrack_Dense()\n",
    "StarTrack_Dense_V1 = StarTrack_Dense_V1 .to(device)"
   ]
  },
  {
   "cell_type": "code",
   "execution_count": 20,
   "id": "a2718405-1895-4d15-91b7-311031f455e6",
   "metadata": {},
   "outputs": [
    {
     "name": "stdout",
     "output_type": "stream",
     "text": [
      "[3.26123439, 8.32599819, 1.23, 1.50887445, 1.03, 6.5624553, 1.33, 3.30963362]\n"
     ]
    }
   ],
   "source": [
    "class_weights_dense = [3.26123439, 8.32599819, 1.23, 1.50887445, 1.03, 6.5624553, 1.33, 3.30963362]\n",
    "print(class_weights_dense)\n",
    "class_weights_dense = torch.tensor(class_weights_dense, dtype=torch.float32).to(device)\n",
    "loss_fn = nn.CrossEntropyLoss(weight=class_weights_dense)\n",
    "optimizer_dense = torch.optim.Adam(StarTrack_Dense_V1.parameters(), lr=5e-4, weight_decay=5e-4)\n",
    "scheduler_dense = torch.optim.lr_scheduler.ReduceLROnPlateau(optimizer_dense, mode='min', factor=0.1, patience=5)"
   ]
  },
  {
   "cell_type": "code",
   "execution_count": 26,
   "id": "1fc9bcee-2472-4c5b-bb58-c1ae82e9e799",
   "metadata": {
    "scrolled": true
   },
   "outputs": [
    {
     "name": "stderr",
     "output_type": "stream",
     "text": [
      "                                                                               "
     ]
    },
    {
     "name": "stdout",
     "output_type": "stream",
     "text": [
      "Epoch 1/50 | Train Loss: 1.006136 | Val Loss: 2.697069\n"
     ]
    },
    {
     "name": "stderr",
     "output_type": "stream",
     "text": [
      "                                                                               "
     ]
    },
    {
     "name": "stdout",
     "output_type": "stream",
     "text": [
      "Epoch 2/50 | Train Loss: 0.841421 | Val Loss: 1.957824\n"
     ]
    },
    {
     "name": "stderr",
     "output_type": "stream",
     "text": [
      "                                                                               "
     ]
    },
    {
     "name": "stdout",
     "output_type": "stream",
     "text": [
      "Epoch 3/50 | Train Loss: 0.806705 | Val Loss: 1.273688\n"
     ]
    },
    {
     "name": "stderr",
     "output_type": "stream",
     "text": [
      "                                                                               "
     ]
    },
    {
     "name": "stdout",
     "output_type": "stream",
     "text": [
      "Epoch 4/50 | Train Loss: 0.782881 | Val Loss: 2.289467\n"
     ]
    },
    {
     "name": "stderr",
     "output_type": "stream",
     "text": [
      "                                                                               "
     ]
    },
    {
     "name": "stdout",
     "output_type": "stream",
     "text": [
      "Epoch 5/50 | Train Loss: 0.768949 | Val Loss: 4.098403\n"
     ]
    },
    {
     "name": "stderr",
     "output_type": "stream",
     "text": [
      "                                                                               "
     ]
    },
    {
     "name": "stdout",
     "output_type": "stream",
     "text": [
      "Epoch 6/50 | Train Loss: 0.754068 | Val Loss: 3.287696\n"
     ]
    },
    {
     "name": "stderr",
     "output_type": "stream",
     "text": [
      "                                                                               "
     ]
    },
    {
     "name": "stdout",
     "output_type": "stream",
     "text": [
      "Epoch 7/50 | Train Loss: 0.746564 | Val Loss: 1.839757\n"
     ]
    },
    {
     "name": "stderr",
     "output_type": "stream",
     "text": [
      "                                                                               "
     ]
    },
    {
     "name": "stdout",
     "output_type": "stream",
     "text": [
      "Epoch 8/50 | Train Loss: 0.742738 | Val Loss: 2.136098\n"
     ]
    },
    {
     "name": "stderr",
     "output_type": "stream",
     "text": [
      "                                                                               "
     ]
    },
    {
     "name": "stdout",
     "output_type": "stream",
     "text": [
      "Epoch 9/50 | Train Loss: 0.735715 | Val Loss: 3.359197\n"
     ]
    },
    {
     "name": "stderr",
     "output_type": "stream",
     "text": [
      "                                                                               "
     ]
    },
    {
     "name": "stdout",
     "output_type": "stream",
     "text": [
      "Epoch 10/50 | Train Loss: 0.697520 | Val Loss: 0.709798\n"
     ]
    },
    {
     "name": "stderr",
     "output_type": "stream",
     "text": [
      "                                                                               "
     ]
    },
    {
     "name": "stdout",
     "output_type": "stream",
     "text": [
      "Epoch 11/50 | Train Loss: 0.686864 | Val Loss: 0.750152\n"
     ]
    },
    {
     "name": "stderr",
     "output_type": "stream",
     "text": [
      "                                                                               "
     ]
    },
    {
     "name": "stdout",
     "output_type": "stream",
     "text": [
      "Epoch 12/50 | Train Loss: 0.681434 | Val Loss: 0.909592\n"
     ]
    },
    {
     "name": "stderr",
     "output_type": "stream",
     "text": [
      "                                                                               "
     ]
    },
    {
     "name": "stdout",
     "output_type": "stream",
     "text": [
      "Epoch 13/50 | Train Loss: 0.681176 | Val Loss: 0.679768\n"
     ]
    },
    {
     "name": "stderr",
     "output_type": "stream",
     "text": [
      "                                                                               "
     ]
    },
    {
     "name": "stdout",
     "output_type": "stream",
     "text": [
      "Epoch 14/50 | Train Loss: 0.675984 | Val Loss: 0.825783\n"
     ]
    },
    {
     "name": "stderr",
     "output_type": "stream",
     "text": [
      "                                                                               "
     ]
    },
    {
     "name": "stdout",
     "output_type": "stream",
     "text": [
      "Epoch 15/50 | Train Loss: 0.674202 | Val Loss: 0.787497\n"
     ]
    },
    {
     "name": "stderr",
     "output_type": "stream",
     "text": [
      "                                                                               "
     ]
    },
    {
     "name": "stdout",
     "output_type": "stream",
     "text": [
      "Epoch 16/50 | Train Loss: 0.672885 | Val Loss: 0.827055\n"
     ]
    },
    {
     "name": "stderr",
     "output_type": "stream",
     "text": [
      "                                                                               "
     ]
    },
    {
     "name": "stdout",
     "output_type": "stream",
     "text": [
      "Epoch 17/50 | Train Loss: 0.670045 | Val Loss: 0.880297\n"
     ]
    },
    {
     "name": "stderr",
     "output_type": "stream",
     "text": [
      "                                                                               "
     ]
    },
    {
     "name": "stdout",
     "output_type": "stream",
     "text": [
      "Epoch 18/50 | Train Loss: 0.667097 | Val Loss: 0.700229\n"
     ]
    },
    {
     "name": "stderr",
     "output_type": "stream",
     "text": [
      "                                                                               "
     ]
    },
    {
     "name": "stdout",
     "output_type": "stream",
     "text": [
      "Epoch 19/50 | Train Loss: 0.666445 | Val Loss: 0.803665\n"
     ]
    },
    {
     "name": "stderr",
     "output_type": "stream",
     "text": [
      "                                                                               "
     ]
    },
    {
     "name": "stdout",
     "output_type": "stream",
     "text": [
      "Epoch 20/50 | Train Loss: 0.661523 | Val Loss: 0.623679\n"
     ]
    },
    {
     "name": "stderr",
     "output_type": "stream",
     "text": [
      "                                                                               "
     ]
    },
    {
     "name": "stdout",
     "output_type": "stream",
     "text": [
      "Epoch 21/50 | Train Loss: 0.659326 | Val Loss: 0.624332\n"
     ]
    },
    {
     "name": "stderr",
     "output_type": "stream",
     "text": [
      "                                                                               "
     ]
    },
    {
     "name": "stdout",
     "output_type": "stream",
     "text": [
      "Epoch 22/50 | Train Loss: 0.658528 | Val Loss: 0.620301\n"
     ]
    },
    {
     "name": "stderr",
     "output_type": "stream",
     "text": [
      "                                                                               "
     ]
    },
    {
     "name": "stdout",
     "output_type": "stream",
     "text": [
      "Epoch 23/50 | Train Loss: 0.658469 | Val Loss: 0.623500\n"
     ]
    },
    {
     "name": "stderr",
     "output_type": "stream",
     "text": [
      "                                                                               "
     ]
    },
    {
     "name": "stdout",
     "output_type": "stream",
     "text": [
      "Epoch 24/50 | Train Loss: 0.657362 | Val Loss: 0.619859\n"
     ]
    },
    {
     "name": "stderr",
     "output_type": "stream",
     "text": [
      "                                                                               "
     ]
    },
    {
     "name": "stdout",
     "output_type": "stream",
     "text": [
      "Epoch 25/50 | Train Loss: 0.657730 | Val Loss: 0.622581\n"
     ]
    },
    {
     "name": "stderr",
     "output_type": "stream",
     "text": [
      "                                                                               "
     ]
    },
    {
     "name": "stdout",
     "output_type": "stream",
     "text": [
      "Epoch 26/50 | Train Loss: 0.656571 | Val Loss: 0.629457\n"
     ]
    },
    {
     "name": "stderr",
     "output_type": "stream",
     "text": [
      "                                                                               "
     ]
    },
    {
     "name": "stdout",
     "output_type": "stream",
     "text": [
      "Epoch 27/50 | Train Loss: 0.656540 | Val Loss: 0.620563\n"
     ]
    },
    {
     "name": "stderr",
     "output_type": "stream",
     "text": [
      "                                                                               "
     ]
    },
    {
     "name": "stdout",
     "output_type": "stream",
     "text": [
      "Epoch 28/50 | Train Loss: 0.656371 | Val Loss: 0.624093\n"
     ]
    },
    {
     "name": "stderr",
     "output_type": "stream",
     "text": [
      "                                                                               "
     ]
    },
    {
     "name": "stdout",
     "output_type": "stream",
     "text": [
      "Epoch 29/50 | Train Loss: 0.655637 | Val Loss: 0.620822\n"
     ]
    },
    {
     "name": "stderr",
     "output_type": "stream",
     "text": [
      "                                                                               "
     ]
    },
    {
     "name": "stdout",
     "output_type": "stream",
     "text": [
      "Epoch 30/50 | Train Loss: 0.655884 | Val Loss: 0.615242\n"
     ]
    },
    {
     "name": "stderr",
     "output_type": "stream",
     "text": [
      "                                                                               "
     ]
    },
    {
     "name": "stdout",
     "output_type": "stream",
     "text": [
      "Epoch 31/50 | Train Loss: 0.656536 | Val Loss: 0.627664\n"
     ]
    },
    {
     "name": "stderr",
     "output_type": "stream",
     "text": [
      "                                                                               "
     ]
    },
    {
     "name": "stdout",
     "output_type": "stream",
     "text": [
      "Epoch 32/50 | Train Loss: 0.655624 | Val Loss: 0.626232\n"
     ]
    },
    {
     "name": "stderr",
     "output_type": "stream",
     "text": [
      "                                                                               "
     ]
    },
    {
     "name": "stdout",
     "output_type": "stream",
     "text": [
      "Epoch 33/50 | Train Loss: 0.655560 | Val Loss: 0.619873\n"
     ]
    },
    {
     "name": "stderr",
     "output_type": "stream",
     "text": [
      "                                                                               "
     ]
    },
    {
     "name": "stdout",
     "output_type": "stream",
     "text": [
      "Epoch 34/50 | Train Loss: 0.655077 | Val Loss: 0.624190\n"
     ]
    },
    {
     "name": "stderr",
     "output_type": "stream",
     "text": [
      "                                                                               "
     ]
    },
    {
     "name": "stdout",
     "output_type": "stream",
     "text": [
      "Epoch 35/50 | Train Loss: 0.656307 | Val Loss: 0.617147\n"
     ]
    },
    {
     "name": "stderr",
     "output_type": "stream",
     "text": [
      "                                                                               "
     ]
    },
    {
     "name": "stdout",
     "output_type": "stream",
     "text": [
      "Epoch 36/50 | Train Loss: 0.654462 | Val Loss: 0.621622\n"
     ]
    },
    {
     "name": "stderr",
     "output_type": "stream",
     "text": [
      "                                                                               "
     ]
    },
    {
     "name": "stdout",
     "output_type": "stream",
     "text": [
      "Epoch 37/50 | Train Loss: 0.653815 | Val Loss: 0.616366\n"
     ]
    },
    {
     "name": "stderr",
     "output_type": "stream",
     "text": [
      "                                                                               "
     ]
    },
    {
     "name": "stdout",
     "output_type": "stream",
     "text": [
      "Epoch 38/50 | Train Loss: 0.653877 | Val Loss: 0.616860\n"
     ]
    },
    {
     "name": "stderr",
     "output_type": "stream",
     "text": [
      "                                                                               "
     ]
    },
    {
     "name": "stdout",
     "output_type": "stream",
     "text": [
      "Epoch 39/50 | Train Loss: 0.654011 | Val Loss: 0.617387\n"
     ]
    },
    {
     "name": "stderr",
     "output_type": "stream",
     "text": [
      "                                                                               "
     ]
    },
    {
     "name": "stdout",
     "output_type": "stream",
     "text": [
      "Epoch 40/50 | Train Loss: 0.652960 | Val Loss: 0.616440\n"
     ]
    },
    {
     "name": "stderr",
     "output_type": "stream",
     "text": [
      "                                                                               "
     ]
    },
    {
     "name": "stdout",
     "output_type": "stream",
     "text": [
      "Epoch 41/50 | Train Loss: 0.653504 | Val Loss: 0.615780\n"
     ]
    },
    {
     "name": "stderr",
     "output_type": "stream",
     "text": [
      "                                                                               "
     ]
    },
    {
     "name": "stdout",
     "output_type": "stream",
     "text": [
      "Epoch 42/50 | Train Loss: 0.652833 | Val Loss: 0.638975\n"
     ]
    },
    {
     "name": "stderr",
     "output_type": "stream",
     "text": [
      "                                                                               "
     ]
    },
    {
     "name": "stdout",
     "output_type": "stream",
     "text": [
      "Epoch 43/50 | Train Loss: 0.654364 | Val Loss: 0.615403\n"
     ]
    },
    {
     "name": "stderr",
     "output_type": "stream",
     "text": [
      "                                                                               "
     ]
    },
    {
     "name": "stdout",
     "output_type": "stream",
     "text": [
      "Epoch 44/50 | Train Loss: 0.653662 | Val Loss: 0.615317\n"
     ]
    },
    {
     "name": "stderr",
     "output_type": "stream",
     "text": [
      "                                                                               "
     ]
    },
    {
     "name": "stdout",
     "output_type": "stream",
     "text": [
      "Epoch 45/50 | Train Loss: 0.653691 | Val Loss: 0.616125\n"
     ]
    },
    {
     "name": "stderr",
     "output_type": "stream",
     "text": [
      "                                                                               "
     ]
    },
    {
     "name": "stdout",
     "output_type": "stream",
     "text": [
      "Epoch 46/50 | Train Loss: 0.652845 | Val Loss: 0.617751\n"
     ]
    },
    {
     "name": "stderr",
     "output_type": "stream",
     "text": [
      "                                                                               "
     ]
    },
    {
     "name": "stdout",
     "output_type": "stream",
     "text": [
      "Epoch 47/50 | Train Loss: 0.653883 | Val Loss: 0.624867\n"
     ]
    },
    {
     "name": "stderr",
     "output_type": "stream",
     "text": [
      "                                                                               "
     ]
    },
    {
     "name": "stdout",
     "output_type": "stream",
     "text": [
      "Epoch 48/50 | Train Loss: 0.654395 | Val Loss: 0.615947\n"
     ]
    },
    {
     "name": "stderr",
     "output_type": "stream",
     "text": [
      "                                                                               "
     ]
    },
    {
     "name": "stdout",
     "output_type": "stream",
     "text": [
      "Epoch 49/50 | Train Loss: 0.653831 | Val Loss: 0.614474\n"
     ]
    },
    {
     "name": "stderr",
     "output_type": "stream",
     "text": [
      "                                                                               "
     ]
    },
    {
     "name": "stdout",
     "output_type": "stream",
     "text": [
      "Epoch 50/50 | Train Loss: 0.653957 | Val Loss: 0.628526\n"
     ]
    },
    {
     "name": "stderr",
     "output_type": "stream",
     "text": []
    }
   ],
   "source": [
    "train_losses_dense, val_losses_dense = train_model(model=StarTrack_Dense_V1, \n",
    "                                       criterion=loss_fn, \n",
    "                                       optimizer=optimizer_dense, \n",
    "                                       epochs=50, \n",
    "                                       train_loader=train_loader_tabular, \n",
    "                                       val_loader=val_loader_tabular,\n",
    "                                       scheduler=scheduler_dense)"
   ]
  },
  {
   "cell_type": "code",
   "execution_count": 27,
   "id": "b88876b1-b986-42ee-a0e2-261c0e32c531",
   "metadata": {},
   "outputs": [
    {
     "data": {
      "image/png": "[encoded data removed]",
      "text/plain": [
       "<Figure size 1000x600 with 1 Axes>"
      ]
     },
     "metadata": {},
     "output_type": "display_data"
    }
   ],
   "source": [
    "plot_losses(train_losses_dense, val_losses_dense)"
   ]
  },
  {
   "cell_type": "code",
   "execution_count": 29,
   "id": "b167c747-07f2-444c-99ce-10047cef2cfa",
   "metadata": {},
   "outputs": [
    {
     "name": "stdout",
     "output_type": "stream",
     "text": [
      "Accuracy: 0.7980\n",
      "Classification Report:\n",
      "              precision    recall  f1-score   support\n",
      "\n",
      "           A       0.36      0.58      0.44      6155\n",
      "           B       0.36      0.48      0.41      2411\n",
      "           F       0.87      0.83      0.85     71213\n",
      "           G       0.54      0.58      0.56     13302\n",
      "           K       0.90      0.83      0.87     30126\n",
      "           L       0.44      0.75      0.56      3058\n",
      "           M       0.94      0.88      0.91     28238\n",
      "          WD       0.72      0.67      0.69      6065\n",
      "\n",
      "    accuracy                           0.80    160568\n",
      "   macro avg       0.64      0.70      0.66    160568\n",
      "weighted avg       0.82      0.80      0.81    160568\n",
      "\n"
     ]
    }
   ],
   "source": [
    "y_table_true, y_table_pred = evaluate_model(StarTrack_Dense_V1, test_loader_tabular, device, le_tabular)"
   ]
  },
  {
   "cell_type": "code",
   "execution_count": 32,
   "id": "dc52aecf-9a71-4f2c-9614-f2fbef7dfa38",
   "metadata": {},
   "outputs": [
    {
     "data": {
      "image/png": "[encoded data removed]",
      "text/plain": [
       "<Figure size 1000x800 with 2 Axes>"
      ]
     },
     "metadata": {},
     "output_type": "display_data"
    }
   ],
   "source": [
    "y_pred, y_true = get_preds_labels(StarTrack_Dense_V1, val_loader_tabular, device)\n",
    "\n",
    "plot_confusion_matrix(y_true, y_pred)"
   ]
  },
  {
   "cell_type": "code",
   "execution_count": 33,
   "id": "a8863219-3c70-48ad-8a5f-aad48464dba8",
   "metadata": {},
   "outputs": [],
   "source": [
    "torch.save(StarTrack_Dense_V1.state_dict(), 'dense_model_full.pth')"
   ]
  },
  {
   "cell_type": "markdown",
   "id": "e00bcfbc-0a6a-4812-8603-54754781374c",
   "metadata": {},
   "source": [
    "# Training The LSTM (Spectrogram) Branch"
   ]
  },
  {
   "cell_type": "code",
   "execution_count": 16,
   "id": "b0a1dd7d-c6be-40ca-89ab-5186aa98bd1c",
   "metadata": {},
   "outputs": [
    {
     "name": "stdout",
     "output_type": "stream",
     "text": [
      "['spectrograms', 'labels']\n"
     ]
    }
   ],
   "source": [
    "spectrogram_data = np.load('../data/startrack_spectrograms.npz', allow_pickle=True)\n",
    "print(spectrogram_data.files)"
   ]
  },
  {
   "cell_type": "code",
   "execution_count": 17,
   "id": "b3df82de-e34a-4594-8577-ade7e4409518",
   "metadata": {},
   "outputs": [
    {
     "name": "stdout",
     "output_type": "stream",
     "text": [
      "X shape: (24782, 1024, 1)\n",
      "Total samples: 24782\n",
      "Unique classes: ['A' 'B' 'CV' 'F' 'G' 'K' 'L' 'M' 'WD']\n"
     ]
    }
   ],
   "source": [
    "le_spect = LabelEncoder()\n",
    "labels_encoded_spect = le_spect.fit_transform(spectrogram_data['labels'])\n",
    "X = spectrogram_data['spectrograms']\n",
    "X = X.reshape((X.shape[0], X.shape[1], 1))\n",
    "y = labels_encoded_spect\n",
    "print(\"X shape:\", X.shape)\n",
    "print(f'Total samples: {X.shape[0]}')\n",
    "print(f'Unique classes: {le_spect.classes_}')"
   ]
  },
  {
   "cell_type": "code",
   "execution_count": 18,
   "id": "e4b5b88b-d3d2-4a58-989a-e9d97204f9a1",
   "metadata": {},
   "outputs": [
    {
     "name": "stdout",
     "output_type": "stream",
     "text": [
      "Train shape: (15860, 1024, 1), (15860,)\n",
      "Validation shape: (3965, 1024, 1), (3965,)\n",
      "Test shape: (4957, 1024, 1), (4957,)\n"
     ]
    }
   ],
   "source": [
    "X_spect_train, y_spect_train, X_spect_val, y_spect_val, X_spect_test, y_spect_test = split_sets(X, y)"
   ]
  },
  {
   "cell_type": "code",
   "execution_count": 19,
   "id": "beba80f3-86b2-4e87-bdb0-8c6979f94aba",
   "metadata": {},
   "outputs": [],
   "source": [
    "X_spect_train_fusion = X_spect_train.copy()\n",
    "X_spect_val_fusion = X_spect_val.copy()\n",
    "X_spect_test_fusion = X_spect_test.copy()\n",
    "\n",
    "y_spect_train_fusion = y_spect_train.copy()\n",
    "y_spect_val_fusion = y_spect_val.copy()\n",
    "y_spect_test_fusion = y_spect_test.copy()"
   ]
  },
  {
   "cell_type": "code",
   "execution_count": 20,
   "id": "c65a697b-b234-4558-8be5-f84d83b34749",
   "metadata": {},
   "outputs": [],
   "source": [
    "train_dataset_spect = TensorDataset(torch.tensor(X_spect_train, dtype=torch.float32), torch.tensor(y_spect_train, dtype=torch.long))\n",
    "val_dataset_spect = TensorDataset(torch.tensor(X_spect_val, dtype=torch.float32), torch.tensor(y_spect_val, dtype=torch.long))\n",
    "test_dataset_spect = TensorDataset(torch.tensor(X_spect_test, dtype=torch.float32), torch.tensor(y_spect_test, dtype=torch.long))\n",
    "\n",
    "train_loader_spect = DataLoader(train_dataset_spect, batch_size=64, shuffle=True)\n",
    "val_loader_spect = DataLoader(val_dataset_spect, batch_size=64, shuffle=False)\n",
    "test_loader_spect = DataLoader(test_dataset_spect, batch_size=64, shuffle=False)"
   ]
  },
  {
   "cell_type": "code",
   "execution_count": 21,
   "id": "667fc7ed-07f5-4513-8028-1e588aa5570b",
   "metadata": {},
   "outputs": [],
   "source": [
    "# Dataloader needs (B, 1024, 1) shape\n",
    "class StarTrack_LSTM(nn.Module):\n",
    "    def __init__(self, input_size=1, hidden_size=256, output_size=9, num_layers=3):\n",
    "        super().__init__()\n",
    "        self.lstm = nn.LSTM(\n",
    "            input_size=input_size,\n",
    "            hidden_size=hidden_size,\n",
    "            num_layers=num_layers,\n",
    "            bidirectional=True,\n",
    "            dropout=0.5, # Lower/Increase based off testing results\n",
    "            batch_first=True\n",
    "        )\n",
    "        self.bn = nn.BatchNorm1d(hidden_size*2)\n",
    "        self.fc1 = nn.Linear(hidden_size*2, hidden_size)\n",
    "        self.fc2 = nn.Linear(hidden_size, output_size)\n",
    "        self.dropout = nn.Dropout(0.5)\n",
    "        \n",
    "    def forward(self, x):\n",
    "        x, _ = self.lstm(x)\n",
    "        x = x[:, -1, :]\n",
    "        x = self.bn(x)\n",
    "        x = F.relu(self.fc1(x))\n",
    "        x = self.dropout(x)\n",
    "        x = self.fc2(x)\n",
    "        return x\n",
    "    \n",
    "    def extract_features(self, x):\n",
    "        x, _ = self.lstm(x)\n",
    "        x = x[:, -1, :]\n",
    "        x = self.bn(x)\n",
    "        x = F.relu(self.fc1(x))\n",
    "        return x\n",
    "        \n",
    "# Number of classes after grouping = 9"
   ]
  },
  {
   "cell_type": "code",
   "execution_count": 22,
   "id": "78b47032-e624-4c0f-8a9f-1194e237c29e",
   "metadata": {},
   "outputs": [],
   "source": [
    "StarTrack_LSTM_V1 = StarTrack_LSTM()\n",
    "StarTrack_LSTM_V1 = StarTrack_LSTM_V1 .to(device)"
   ]
  },
  {
   "cell_type": "code",
   "execution_count": 23,
   "id": "64f83968-dd5e-4983-b87b-eb13516168eb",
   "metadata": {},
   "outputs": [
    {
     "name": "stdout",
     "output_type": "stream",
     "text": [
      "[1.15, 7.3, 2.5, 0.75, 1.83183183, 1.45, 10.12771392, 1.5, 2.35]\n"
     ]
    }
   ],
   "source": [
    "class_weights_LSTM = [1.15, 7.3, 2.7, 0.83, 1.83183183, 1.45, 9, 1.7, 2.35]\n",
    "print(class_weights_LSTM)\n",
    "class_weights_LSTM = torch.tensor(class_weights_LSTM, dtype=torch.float).to(device)\n",
    "loss_fn = nn.CrossEntropyLoss(weight=class_weights_LSTM)\n",
    "optimizer_LSTM = torch.optim.Adam(StarTrack_LSTM_V1.parameters(), lr=5e-4, weight_decay=1e-4)"
   ]
  },
  {
   "cell_type": "code",
   "execution_count": 24,
   "id": "58b6e71d-449b-4858-82af-137bd2ad5061",
   "metadata": {
    "scrolled": true
   },
   "outputs": [
    {
     "name": "stderr",
     "output_type": "stream",
     "text": [
      "                                                                               "
     ]
    },
    {
     "name": "stdout",
     "output_type": "stream",
     "text": [
      "Epoch 1/50 | Train Loss: 1.672678 | Val Loss: 1.929392\n"
     ]
    },
    {
     "name": "stderr",
     "output_type": "stream",
     "text": [
      "                                                                               "
     ]
    },
    {
     "name": "stdout",
     "output_type": "stream",
     "text": [
      "Epoch 2/50 | Train Loss: 1.466969 | Val Loss: 1.409215\n"
     ]
    },
    {
     "name": "stderr",
     "output_type": "stream",
     "text": [
      "                                                                               "
     ]
    },
    {
     "name": "stdout",
     "output_type": "stream",
     "text": [
      "Epoch 3/50 | Train Loss: 1.464782 | Val Loss: 1.339891\n"
     ]
    },
    {
     "name": "stderr",
     "output_type": "stream",
     "text": [
      "                                                                               "
     ]
    },
    {
     "name": "stdout",
     "output_type": "stream",
     "text": [
      "Epoch 4/50 | Train Loss: 1.303040 | Val Loss: 1.216958\n"
     ]
    },
    {
     "name": "stderr",
     "output_type": "stream",
     "text": [
      "                                                                               "
     ]
    },
    {
     "name": "stdout",
     "output_type": "stream",
     "text": [
      "Epoch 5/50 | Train Loss: 1.257041 | Val Loss: 1.190421\n"
     ]
    },
    {
     "name": "stderr",
     "output_type": "stream",
     "text": [
      "                                                                               "
     ]
    },
    {
     "name": "stdout",
     "output_type": "stream",
     "text": [
      "Epoch 6/50 | Train Loss: 1.177743 | Val Loss: 1.301505\n"
     ]
    },
    {
     "name": "stderr",
     "output_type": "stream",
     "text": [
      "                                                                               "
     ]
    },
    {
     "name": "stdout",
     "output_type": "stream",
     "text": [
      "Epoch 7/50 | Train Loss: 1.129057 | Val Loss: 1.057095\n"
     ]
    },
    {
     "name": "stderr",
     "output_type": "stream",
     "text": [
      "                                                                               "
     ]
    },
    {
     "name": "stdout",
     "output_type": "stream",
     "text": [
      "Epoch 8/50 | Train Loss: 1.121044 | Val Loss: 1.474663\n"
     ]
    },
    {
     "name": "stderr",
     "output_type": "stream",
     "text": [
      "                                                                               "
     ]
    },
    {
     "name": "stdout",
     "output_type": "stream",
     "text": [
      "Epoch 9/50 | Train Loss: 1.122511 | Val Loss: 1.055829\n"
     ]
    },
    {
     "name": "stderr",
     "output_type": "stream",
     "text": [
      "                                                                               "
     ]
    },
    {
     "name": "stdout",
     "output_type": "stream",
     "text": [
      "Epoch 10/50 | Train Loss: 1.043057 | Val Loss: 1.005061\n"
     ]
    },
    {
     "name": "stderr",
     "output_type": "stream",
     "text": [
      "                                                                               "
     ]
    },
    {
     "name": "stdout",
     "output_type": "stream",
     "text": [
      "Epoch 11/50 | Train Loss: 1.037508 | Val Loss: 1.057851\n"
     ]
    },
    {
     "name": "stderr",
     "output_type": "stream",
     "text": [
      "                                                                               "
     ]
    },
    {
     "name": "stdout",
     "output_type": "stream",
     "text": [
      "Epoch 12/50 | Train Loss: 1.004845 | Val Loss: 1.229090\n"
     ]
    },
    {
     "name": "stderr",
     "output_type": "stream",
     "text": [
      "                                                                               "
     ]
    },
    {
     "name": "stdout",
     "output_type": "stream",
     "text": [
      "Epoch 13/50 | Train Loss: 1.010667 | Val Loss: 1.889163\n"
     ]
    },
    {
     "name": "stderr",
     "output_type": "stream",
     "text": [
      "                                                                               "
     ]
    },
    {
     "name": "stdout",
     "output_type": "stream",
     "text": [
      "Epoch 14/50 | Train Loss: 0.992644 | Val Loss: 0.924976\n"
     ]
    },
    {
     "name": "stderr",
     "output_type": "stream",
     "text": [
      "                                                                               "
     ]
    },
    {
     "name": "stdout",
     "output_type": "stream",
     "text": [
      "Epoch 15/50 | Train Loss: 0.974318 | Val Loss: 1.164856\n"
     ]
    },
    {
     "name": "stderr",
     "output_type": "stream",
     "text": [
      "                                                                               "
     ]
    },
    {
     "name": "stdout",
     "output_type": "stream",
     "text": [
      "Epoch 16/50 | Train Loss: 0.973868 | Val Loss: 0.952417\n"
     ]
    },
    {
     "name": "stderr",
     "output_type": "stream",
     "text": [
      "                                                                               "
     ]
    },
    {
     "name": "stdout",
     "output_type": "stream",
     "text": [
      "Epoch 17/50 | Train Loss: 0.958786 | Val Loss: 0.911961\n"
     ]
    },
    {
     "name": "stderr",
     "output_type": "stream",
     "text": [
      "                                                                               "
     ]
    },
    {
     "name": "stdout",
     "output_type": "stream",
     "text": [
      "Epoch 18/50 | Train Loss: 0.953008 | Val Loss: 1.451084\n"
     ]
    },
    {
     "name": "stderr",
     "output_type": "stream",
     "text": [
      "                                                                               "
     ]
    },
    {
     "name": "stdout",
     "output_type": "stream",
     "text": [
      "Epoch 19/50 | Train Loss: 0.941820 | Val Loss: 0.931166\n"
     ]
    },
    {
     "name": "stderr",
     "output_type": "stream",
     "text": [
      "                                                                               "
     ]
    },
    {
     "name": "stdout",
     "output_type": "stream",
     "text": [
      "Epoch 20/50 | Train Loss: 0.939867 | Val Loss: 1.057086\n"
     ]
    },
    {
     "name": "stderr",
     "output_type": "stream",
     "text": [
      "                                                                               "
     ]
    },
    {
     "name": "stdout",
     "output_type": "stream",
     "text": [
      "Epoch 21/50 | Train Loss: 0.933428 | Val Loss: 0.887250\n"
     ]
    },
    {
     "name": "stderr",
     "output_type": "stream",
     "text": [
      "                                                                               "
     ]
    },
    {
     "name": "stdout",
     "output_type": "stream",
     "text": [
      "Epoch 22/50 | Train Loss: 0.924602 | Val Loss: 0.869743\n"
     ]
    },
    {
     "name": "stderr",
     "output_type": "stream",
     "text": [
      "                                                                               "
     ]
    },
    {
     "name": "stdout",
     "output_type": "stream",
     "text": [
      "Epoch 23/50 | Train Loss: 0.919558 | Val Loss: 0.949797\n"
     ]
    },
    {
     "name": "stderr",
     "output_type": "stream",
     "text": [
      "                                                                               "
     ]
    },
    {
     "name": "stdout",
     "output_type": "stream",
     "text": [
      "Epoch 24/50 | Train Loss: 0.916570 | Val Loss: 0.891092\n"
     ]
    },
    {
     "name": "stderr",
     "output_type": "stream",
     "text": [
      "                                                                               "
     ]
    },
    {
     "name": "stdout",
     "output_type": "stream",
     "text": [
      "Epoch 25/50 | Train Loss: 0.919059 | Val Loss: 0.908727\n"
     ]
    },
    {
     "name": "stderr",
     "output_type": "stream",
     "text": [
      "                                                                               "
     ]
    },
    {
     "name": "stdout",
     "output_type": "stream",
     "text": [
      "Epoch 26/50 | Train Loss: 0.903460 | Val Loss: 0.870420\n"
     ]
    },
    {
     "name": "stderr",
     "output_type": "stream",
     "text": [
      "                                                                               "
     ]
    },
    {
     "name": "stdout",
     "output_type": "stream",
     "text": [
      "Epoch 27/50 | Train Loss: 0.886518 | Val Loss: 1.027830\n"
     ]
    },
    {
     "name": "stderr",
     "output_type": "stream",
     "text": [
      "                                                                               "
     ]
    },
    {
     "name": "stdout",
     "output_type": "stream",
     "text": [
      "Epoch 28/50 | Train Loss: 0.877370 | Val Loss: 0.904093\n"
     ]
    },
    {
     "name": "stderr",
     "output_type": "stream",
     "text": [
      "                                                                               "
     ]
    },
    {
     "name": "stdout",
     "output_type": "stream",
     "text": [
      "Epoch 29/50 | Train Loss: 0.874881 | Val Loss: 0.917268\n"
     ]
    },
    {
     "name": "stderr",
     "output_type": "stream",
     "text": [
      "                                                                               "
     ]
    },
    {
     "name": "stdout",
     "output_type": "stream",
     "text": [
      "Epoch 30/50 | Train Loss: 0.874557 | Val Loss: 0.876420\n"
     ]
    },
    {
     "name": "stderr",
     "output_type": "stream",
     "text": [
      "                                                                               "
     ]
    },
    {
     "name": "stdout",
     "output_type": "stream",
     "text": [
      "Epoch 31/50 | Train Loss: 0.858624 | Val Loss: 0.843376\n"
     ]
    },
    {
     "name": "stderr",
     "output_type": "stream",
     "text": [
      "                                                                               "
     ]
    },
    {
     "name": "stdout",
     "output_type": "stream",
     "text": [
      "Epoch 32/50 | Train Loss: 0.852065 | Val Loss: 0.865125\n"
     ]
    },
    {
     "name": "stderr",
     "output_type": "stream",
     "text": [
      "                                                                               "
     ]
    },
    {
     "name": "stdout",
     "output_type": "stream",
     "text": [
      "Epoch 33/50 | Train Loss: 0.865197 | Val Loss: 0.868922\n"
     ]
    },
    {
     "name": "stderr",
     "output_type": "stream",
     "text": [
      "                                                                               "
     ]
    },
    {
     "name": "stdout",
     "output_type": "stream",
     "text": [
      "Epoch 34/50 | Train Loss: 0.834393 | Val Loss: 0.842455\n"
     ]
    },
    {
     "name": "stderr",
     "output_type": "stream",
     "text": [
      "                                                                               "
     ]
    },
    {
     "name": "stdout",
     "output_type": "stream",
     "text": [
      "Epoch 35/50 | Train Loss: 0.957833 | Val Loss: 1.045098\n"
     ]
    },
    {
     "name": "stderr",
     "output_type": "stream",
     "text": [
      "                                                                               "
     ]
    },
    {
     "name": "stdout",
     "output_type": "stream",
     "text": [
      "Epoch 36/50 | Train Loss: 0.945794 | Val Loss: 1.038117\n"
     ]
    },
    {
     "name": "stderr",
     "output_type": "stream",
     "text": [
      "                                                                               "
     ]
    },
    {
     "name": "stdout",
     "output_type": "stream",
     "text": [
      "Epoch 37/50 | Train Loss: 0.918245 | Val Loss: 0.871583\n"
     ]
    },
    {
     "name": "stderr",
     "output_type": "stream",
     "text": [
      "                                                                               "
     ]
    },
    {
     "name": "stdout",
     "output_type": "stream",
     "text": [
      "Epoch 38/50 | Train Loss: 0.890544 | Val Loss: 0.859144\n"
     ]
    },
    {
     "name": "stderr",
     "output_type": "stream",
     "text": [
      "                                                                               "
     ]
    },
    {
     "name": "stdout",
     "output_type": "stream",
     "text": [
      "Epoch 39/50 | Train Loss: 0.876858 | Val Loss: 0.961690\n"
     ]
    },
    {
     "name": "stderr",
     "output_type": "stream",
     "text": [
      "                                                                               "
     ]
    },
    {
     "name": "stdout",
     "output_type": "stream",
     "text": [
      "Epoch 40/50 | Train Loss: 0.880776 | Val Loss: 0.852373\n"
     ]
    },
    {
     "name": "stderr",
     "output_type": "stream",
     "text": [
      "                                                                               "
     ]
    },
    {
     "name": "stdout",
     "output_type": "stream",
     "text": [
      "Epoch 41/50 | Train Loss: 0.865260 | Val Loss: 0.862442\n"
     ]
    },
    {
     "name": "stderr",
     "output_type": "stream",
     "text": [
      "                                                                               "
     ]
    },
    {
     "name": "stdout",
     "output_type": "stream",
     "text": [
      "Epoch 42/50 | Train Loss: 0.864622 | Val Loss: 0.884691\n"
     ]
    },
    {
     "name": "stderr",
     "output_type": "stream",
     "text": [
      "                                                                               "
     ]
    },
    {
     "name": "stdout",
     "output_type": "stream",
     "text": [
      "Epoch 43/50 | Train Loss: 0.856327 | Val Loss: 0.965169\n"
     ]
    },
    {
     "name": "stderr",
     "output_type": "stream",
     "text": [
      "                                                                               "
     ]
    },
    {
     "name": "stdout",
     "output_type": "stream",
     "text": [
      "Epoch 44/50 | Train Loss: 0.860898 | Val Loss: 0.920787\n"
     ]
    },
    {
     "name": "stderr",
     "output_type": "stream",
     "text": [
      "                                                                               "
     ]
    },
    {
     "name": "stdout",
     "output_type": "stream",
     "text": [
      "Epoch 45/50 | Train Loss: 0.856279 | Val Loss: 0.914754\n"
     ]
    },
    {
     "name": "stderr",
     "output_type": "stream",
     "text": [
      "                                                                               "
     ]
    },
    {
     "name": "stdout",
     "output_type": "stream",
     "text": [
      "Epoch 46/50 | Train Loss: 0.843195 | Val Loss: 0.812436\n"
     ]
    },
    {
     "name": "stderr",
     "output_type": "stream",
     "text": [
      "                                                                               "
     ]
    },
    {
     "name": "stdout",
     "output_type": "stream",
     "text": [
      "Epoch 47/50 | Train Loss: 0.824957 | Val Loss: 0.826328\n"
     ]
    },
    {
     "name": "stderr",
     "output_type": "stream",
     "text": [
      "                                                                               "
     ]
    },
    {
     "name": "stdout",
     "output_type": "stream",
     "text": [
      "Epoch 48/50 | Train Loss: 0.831088 | Val Loss: 0.844448\n"
     ]
    },
    {
     "name": "stderr",
     "output_type": "stream",
     "text": [
      "                                                                               "
     ]
    },
    {
     "name": "stdout",
     "output_type": "stream",
     "text": [
      "Epoch 49/50 | Train Loss: 0.821971 | Val Loss: 0.831356\n"
     ]
    },
    {
     "name": "stderr",
     "output_type": "stream",
     "text": [
      "                                                                               "
     ]
    },
    {
     "name": "stdout",
     "output_type": "stream",
     "text": [
      "Epoch 50/50 | Train Loss: 0.822663 | Val Loss: 0.846028\n"
     ]
    },
    {
     "name": "stderr",
     "output_type": "stream",
     "text": []
    }
   ],
   "source": [
    "train_losses_LSTM, val_losses_LSTM= train_model(model=StarTrack_LSTM_V1, \n",
    "                                       criterion=loss_fn, \n",
    "                                       optimizer=optimizer_LSTM, \n",
    "                                       epochs=50, \n",
    "                                       train_loader=train_loader_spect, \n",
    "                                       val_loader=val_loader_spect)"
   ]
  },
  {
   "cell_type": "code",
   "execution_count": 25,
   "id": "91e0268a-9e3a-4efb-bf45-73e04a085d2e",
   "metadata": {},
   "outputs": [
    {
     "data": {
      "image/png": "[encoded data removed]",
      "text/plain": [
       "<Figure size 1000x600 with 1 Axes>"
      ]
     },
     "metadata": {},
     "output_type": "display_data"
    }
   ],
   "source": [
    "plot_losses(train_losses_LSTM, val_losses_LSTM)"
   ]
  },
  {
   "cell_type": "code",
   "execution_count": 26,
   "id": "52374c5b-66d6-478e-9384-68423c5a6b7f",
   "metadata": {},
   "outputs": [
    {
     "name": "stdout",
     "output_type": "stream",
     "text": [
      "Accuracy: 0.7394\n",
      "Classification Report:\n",
      "              precision    recall  f1-score   support\n",
      "\n",
      "           A       0.54      0.31      0.39       609\n",
      "           B       0.21      0.27      0.24        82\n",
      "          CV       0.73      0.66      0.69       298\n",
      "           F       0.80      0.82      0.81      2042\n",
      "           G       0.42      0.59      0.49       300\n",
      "           K       0.85      0.91      0.88       621\n",
      "           L       0.38      0.78      0.51        54\n",
      "           M       0.97      0.88      0.92       730\n",
      "          WD       0.57      0.73      0.64       221\n",
      "\n",
      "    accuracy                           0.74      4957\n",
      "   macro avg       0.61      0.66      0.62      4957\n",
      "weighted avg       0.75      0.74      0.74      4957\n",
      "\n"
     ]
    }
   ],
   "source": [
    "y_spect_true, y_spect_pred = evaluate_model(StarTrack_LSTM_V1, test_loader_spect, device, le_spect)"
   ]
  },
  {
   "cell_type": "code",
   "execution_count": 27,
   "id": "4a582f6e-dd46-4e43-abb7-70ff2b6ad9e3",
   "metadata": {},
   "outputs": [
    {
     "data": {
      "image/png": "[encoded data removed]",
      "text/plain": [
       "<Figure size 1000x800 with 2 Axes>"
      ]
     },
     "metadata": {},
     "output_type": "display_data"
    }
   ],
   "source": [
    "y_pred_lstm, y_true_lstm = get_preds_labels(StarTrack_LSTM_V1, val_loader_spect, device)\n",
    "\n",
    "plot_confusion_matrix(y_true_lstm, y_pred_lstm)"
   ]
  },
  {
   "cell_type": "code",
   "execution_count": 28,
   "id": "b1e94648-959c-4433-afec-914134484265",
   "metadata": {},
   "outputs": [],
   "source": [
    "torch.save(StarTrack_LSTM_V1.state_dict(), 'lstm_model_full.pth')"
   ]
  },
  {
   "cell_type": "markdown",
   "id": "d6d0fe52-fd72-4dde-8299-d3e0b8766691",
   "metadata": {},
   "source": [
    "# Training The Fusion Branch"
   ]
  },
  {
   "cell_type": "code",
   "execution_count": null,
   "id": "1a40c370-198a-4b03-ba17-ea9425edcb53",
   "metadata": {},
   "outputs": [],
   "source": [
    "class StarTrack_Fusion(nn.Module):\n",
    "    def __init__(self, lstm_model: nn.Module, dense_model: nn.Module,\n",
    "                 fused_hidden_dim=512, num_classes=9): \n",
    "        super().__init__()\n",
    "        self.lstm_branch = lstm_model\n",
    "        self.dense_branch = dense_model\n",
    "\n",
    "        for param in self.lstm_branch.parameters():\n",
    "            param.requires_grad = False\n",
    "        for param in self.dense_branch.parameters():\n",
    "            param.requires_grad = False\n",
    "            \n",
    "        for param in self.lstm_branch.fc1.parameters():\n",
    "            param.requires_grad = True\n",
    "        for param in self.dense_branch.fc1.parameters():\n",
    "            param.requires_grad = True\n",
    "\n",
    "        lstm_output_dim = 256\n",
    "        dense_output_dim = 64\n",
    "        \n",
    "        self.cross_attn = nn.MultiheadAttention(embed_dim=lstm_output_dim, num_heads=4)\n",
    "        self.fusion = nn.Sequential(\n",
    "            nn.Linear(lstm_output_dim + dense_output_dim, fused_hidden_dim),\n",
    "            nn.GELU(),  \n",
    "            nn.BatchNorm1d(fused_hidden_dim),\n",
    "            nn.Linear(fused_hidden_dim, fused_hidden_dim//2),\n",
    "            nn.GELU(),\n",
    "            nn.Dropout(0.3), \n",
    "            nn.Linear(fused_hidden_dim//2, num_classes)\n",
    "        )\n",
    "        \n",
    "        self.lstm_classifier = nn.Linear(lstm_output_dim, num_classes)\n",
    "        self.dense_classifier = nn.Linear(dense_output_dim, num_classes)\n",
    "        self.dense_proj = nn.Linear(dense_output_dim, lstm_output_dim)\n",
    "\n",
    "    def forward(self, lstm_input, dense_input):\n",
    "            lstm_feat = self.lstm_branch.extract_features(lstm_input)\n",
    "            dense_feat = self.dense_branch.extract_features(dense_input)\n",
    "        \n",
    "            lstm_q = lstm_feat.unsqueeze(0)  \n",
    "            dense_kv = dense_proj.unsqueeze(0)  \n",
    "\n",
    "            dense_proj = self.dense_proj(dense_feat) \n",
    "           \n",
    "            attn_out, _ = self.cross_attn(query=lstm_q, key=dense_kv, value=dense_kv)\n",
    "            attn_out = attn_out.squeeze(0)\n",
    "        \n",
    "            lstm_feat = lstm_feat + attn_out      \n",
    "            fused = torch.cat([lstm_feat, dense_feat], dim=1) \n",
    "            out = self.fusion(fused)\n",
    "        \n",
    "            lstm_out = self.lstm_classifier(lstm_feat)\n",
    "            dense_out = self.dense_classifier(dense_feat)\n",
    "            return out, lstm_out, dense_out\n"
   ]
  },
  {
   "cell_type": "code",
   "execution_count": null,
   "id": "e34ce593-8293-412b-8d77-0de497cbdd02",
   "metadata": {},
   "outputs": [],
   "source": []
  }
 ],
 "metadata": {
  "kernelspec": {
   "display_name": "Python 3 (ipykernel)",
   "language": "python",
   "name": "python3"
  },
  "language_info": {
   "codemirror_mode": {
    "name": "ipython",
    "version": 3
   },
   "file_extension": ".py",
   "mimetype": "text/x-python",
   "name": "python",
   "nbconvert_exporter": "python",
   "pygments_lexer": "ipython3",
   "version": "3.13.1"
  }
 },
 "nbformat": 4,
 "nbformat_minor": 5
}
