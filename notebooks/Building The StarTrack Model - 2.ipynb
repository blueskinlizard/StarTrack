{
 "cells": [
  {
   "cell_type": "markdown",
   "id": "ae55e43b-2f36-4038-8bfc-cf3d4b6e4511",
   "metadata": {},
   "source": [
    "# Building The StarTrack Model - 2"
   ]
  },
  {
   "cell_type": "code",
   "execution_count": null,
   "id": "134bd825-bad2-43f8-9192-edfbd756e58f",
   "metadata": {},
   "outputs": [],
   "source": []
  }
 ],
 "metadata": {
  "kernelspec": {
   "display_name": "Python 3 (ipykernel)",
   "language": "python",
   "name": "python3"
  },
  "language_info": {
   "codemirror_mode": {
    "name": "ipython",
    "version": 3
   },
   "file_extension": ".py",
   "mimetype": "text/x-python",
   "name": "python",
   "nbconvert_exporter": "python",
   "pygments_lexer": "ipython3",
   "version": "3.13.1"
  }
 },
 "nbformat": 4,
 "nbformat_minor": 5
}
