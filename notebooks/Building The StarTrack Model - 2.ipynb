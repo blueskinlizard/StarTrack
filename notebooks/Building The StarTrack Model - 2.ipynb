{
 "cells": [
  {
   "cell_type": "markdown",
   "id": "ae55e43b-2f36-4038-8bfc-cf3d4b6e4511",
   "metadata": {},
   "source": [
    "# Building The StarTrack Model - 2"
   ]
  },
  {
   "cell_type": "code",
   "execution_count": 14,
   "id": "134bd825-bad2-43f8-9192-edfbd756e58f",
   "metadata": {},
   "outputs": [],
   "source": [
    "import numpy as np\n",
    "import pandas as pd\n",
    "import torch\n",
    "import torch.nn as nn\n",
    "import matplotlib.pyplot as plt\n",
    "from sklearn.model_selection import train_test_split\n",
    "from sklearn.preprocessing import LabelEncoder\n",
    "from torch.utils.data import DataLoader\n",
    "from sklearn.manifold import TSNE\n",
    "from sklearn.preprocessing import LabelEncoder"
   ]
  },
  {
   "cell_type": "code",
   "execution_count": 3,
   "id": "79e77679-0feb-4047-9e15-9a2a2101710e",
   "metadata": {},
   "outputs": [
    {
     "data": {
      "text/plain": [
       "'cuda'"
      ]
     },
     "execution_count": 3,
     "metadata": {},
     "output_type": "execute_result"
    }
   ],
   "source": [
    "device = \"cuda\" if torch.cuda.is_available() else \"cpu\"\n",
    "device"
   ]
  },
  {
   "cell_type": "code",
   "execution_count": 20,
   "id": "b24cea5d-66b0-4327-b5c0-a8889dbcebe1",
   "metadata": {},
   "outputs": [],
   "source": [
    "tabular_data = pd.read_csv('../data/processed_data.csv')\n",
    "spectrogram_data = np.load('../data/startrack_spectrograms.npz', allow_pickle=True)"
   ]
  },
  {
   "cell_type": "code",
   "execution_count": 21,
   "id": "e332ba8f-6aec-4fe1-a850-bf2f7282ee49",
   "metadata": {},
   "outputs": [
    {
     "data": {
      "text/html": [
       "<div>\n",
       "<style scoped>\n",
       "    .dataframe tbody tr th:only-of-type {\n",
       "        vertical-align: middle;\n",
       "    }\n",
       "\n",
       "    .dataframe tbody tr th {\n",
       "        vertical-align: top;\n",
       "    }\n",
       "\n",
       "    .dataframe thead th {\n",
       "        text-align: right;\n",
       "    }\n",
       "</style>\n",
       "<table border=\"1\" class=\"dataframe\">\n",
       "  <thead>\n",
       "    <tr style=\"text-align: right;\">\n",
       "      <th></th>\n",
       "      <th>PLATE</th>\n",
       "      <th>MJD</th>\n",
       "      <th>FIBERID</th>\n",
       "      <th>ELODIE_SPTYPE</th>\n",
       "      <th>ELODIE_TEFF</th>\n",
       "      <th>ELODIE_LOGG</th>\n",
       "      <th>ELODIE_FEH</th>\n",
       "      <th>Z</th>\n",
       "      <th>Z_ERR</th>\n",
       "      <th>ZWARNING</th>\n",
       "      <th>VDISP</th>\n",
       "      <th>VDISP_ERR</th>\n",
       "      <th>SN_MEDIAN_ALL</th>\n",
       "      <th>RCHI2</th>\n",
       "      <th>DOF</th>\n",
       "      <th>SPECTROFLUX</th>\n",
       "      <th>url</th>\n",
       "      <th>SNR_Bin</th>\n",
       "      <th>High_Quality</th>\n",
       "      <th>Mean_Flux</th>\n",
       "      <th>Flux_to_Noise</th>\n",
       "      <th>u_flux</th>\n",
       "      <th>g_flux</th>\n",
       "      <th>r_flux</th>\n",
       "      <th>i_flux</th>\n",
       "      <th>z_flux</th>\n",
       "    </tr>\n",
       "  </thead>\n",
       "  <tbody>\n",
       "    <tr>\n",
       "      <th>0</th>\n",
       "      <td>6051</td>\n",
       "      <td>56093</td>\n",
       "      <td>932</td>\n",
       "      <td>M1V</td>\n",
       "      <td>3705.0</td>\n",
       "      <td>4.800</td>\n",
       "      <td>0.60</td>\n",
       "      <td>-0.000485</td>\n",
       "      <td>0.000014</td>\n",
       "      <td>0</td>\n",
       "      <td>0.0</td>\n",
       "      <td>0.0</td>\n",
       "      <td>19.021759</td>\n",
       "      <td>0.880377</td>\n",
       "      <td>4542</td>\n",
       "      <td>[19.371477127075195, 31.882356643676758, 42.20...</td>\n",
       "      <td>https://data.sdss.org/sas/dr17/eboss/spectro/r...</td>\n",
       "      <td>Moderate</td>\n",
       "      <td>False</td>\n",
       "      <td>37.168239</td>\n",
       "      <td>1.953985</td>\n",
       "      <td>0.269059</td>\n",
       "      <td>0.268631</td>\n",
       "      <td>0.195929</td>\n",
       "      <td>0.125402</td>\n",
       "      <td>0.047316</td>\n",
       "    </tr>\n",
       "    <tr>\n",
       "      <th>1</th>\n",
       "      <td>4287</td>\n",
       "      <td>55483</td>\n",
       "      <td>210</td>\n",
       "      <td>M1V</td>\n",
       "      <td>3705.0</td>\n",
       "      <td>4.800</td>\n",
       "      <td>0.60</td>\n",
       "      <td>-0.000195</td>\n",
       "      <td>0.000015</td>\n",
       "      <td>0</td>\n",
       "      <td>0.0</td>\n",
       "      <td>0.0</td>\n",
       "      <td>22.828102</td>\n",
       "      <td>1.034391</td>\n",
       "      <td>4487</td>\n",
       "      <td>[20.819482803344727, 33.85621643066406, 44.854...</td>\n",
       "      <td>https://data.sdss.org/sas/dr17/eboss/spectro/r...</td>\n",
       "      <td>Good</td>\n",
       "      <td>True</td>\n",
       "      <td>40.272045</td>\n",
       "      <td>1.764143</td>\n",
       "      <td>0.313935</td>\n",
       "      <td>0.310882</td>\n",
       "      <td>0.236147</td>\n",
       "      <td>0.178934</td>\n",
       "      <td>0.105151</td>\n",
       "    </tr>\n",
       "    <tr>\n",
       "      <th>2</th>\n",
       "      <td>4569</td>\n",
       "      <td>55631</td>\n",
       "      <td>889</td>\n",
       "      <td>M1V</td>\n",
       "      <td>3705.0</td>\n",
       "      <td>4.800</td>\n",
       "      <td>0.60</td>\n",
       "      <td>0.000728</td>\n",
       "      <td>0.000011</td>\n",
       "      <td>0</td>\n",
       "      <td>0.0</td>\n",
       "      <td>0.0</td>\n",
       "      <td>28.743233</td>\n",
       "      <td>0.948585</td>\n",
       "      <td>4505</td>\n",
       "      <td>[31.04962921142578, 56.28861999511719, 76.5466...</td>\n",
       "      <td>https://data.sdss.org/sas/dr17/eboss/spectro/r...</td>\n",
       "      <td>Good</td>\n",
       "      <td>True</td>\n",
       "      <td>67.842227</td>\n",
       "      <td>2.360285</td>\n",
       "      <td>0.630979</td>\n",
       "      <td>0.791056</td>\n",
       "      <td>0.716503</td>\n",
       "      <td>0.637338</td>\n",
       "      <td>0.519138</td>\n",
       "    </tr>\n",
       "    <tr>\n",
       "      <th>3</th>\n",
       "      <td>5770</td>\n",
       "      <td>56014</td>\n",
       "      <td>694</td>\n",
       "      <td>M1V</td>\n",
       "      <td>3705.0</td>\n",
       "      <td>4.800</td>\n",
       "      <td>0.60</td>\n",
       "      <td>0.000277</td>\n",
       "      <td>0.000016</td>\n",
       "      <td>0</td>\n",
       "      <td>0.0</td>\n",
       "      <td>0.0</td>\n",
       "      <td>23.706001</td>\n",
       "      <td>0.875567</td>\n",
       "      <td>4568</td>\n",
       "      <td>[19.188594818115234, 33.665863037109375, 45.82...</td>\n",
       "      <td>https://data.sdss.org/sas/dr17/eboss/spectro/r...</td>\n",
       "      <td>Good</td>\n",
       "      <td>True</td>\n",
       "      <td>40.974394</td>\n",
       "      <td>1.728440</td>\n",
       "      <td>0.263392</td>\n",
       "      <td>0.306808</td>\n",
       "      <td>0.250842</td>\n",
       "      <td>0.196867</td>\n",
       "      <td>0.137755</td>\n",
       "    </tr>\n",
       "    <tr>\n",
       "      <th>4</th>\n",
       "      <td>3784</td>\n",
       "      <td>55269</td>\n",
       "      <td>200</td>\n",
       "      <td>O9.5Ib...</td>\n",
       "      <td>9899.0</td>\n",
       "      <td>2.924</td>\n",
       "      <td>0.09</td>\n",
       "      <td>0.000616</td>\n",
       "      <td>0.000081</td>\n",
       "      <td>0</td>\n",
       "      <td>0.0</td>\n",
       "      <td>0.0</td>\n",
       "      <td>2.716969</td>\n",
       "      <td>0.984394</td>\n",
       "      <td>4395</td>\n",
       "      <td>[1.5342345237731934, 2.4548885822296143, 3.740...</td>\n",
       "      <td>https://data.sdss.org/sas/dr17/eboss/spectro/r...</td>\n",
       "      <td>Very Low</td>\n",
       "      <td>False</td>\n",
       "      <td>2.968928</td>\n",
       "      <td>1.092735</td>\n",
       "      <td>-0.283738</td>\n",
       "      <td>-0.361274</td>\n",
       "      <td>-0.387023</td>\n",
       "      <td>-0.406692</td>\n",
       "      <td>-0.432778</td>\n",
       "    </tr>\n",
       "  </tbody>\n",
       "</table>\n",
       "</div>"
      ],
      "text/plain": [
       "   PLATE    MJD  FIBERID ELODIE_SPTYPE  ELODIE_TEFF  ELODIE_LOGG  ELODIE_FEH  \\\n",
       "0   6051  56093      932  M1V                3705.0        4.800        0.60   \n",
       "1   4287  55483      210  M1V                3705.0        4.800        0.60   \n",
       "2   4569  55631      889  M1V                3705.0        4.800        0.60   \n",
       "3   5770  56014      694  M1V                3705.0        4.800        0.60   \n",
       "4   3784  55269      200  O9.5Ib...          9899.0        2.924        0.09   \n",
       "\n",
       "          Z     Z_ERR  ZWARNING  VDISP  VDISP_ERR  SN_MEDIAN_ALL     RCHI2  \\\n",
       "0 -0.000485  0.000014         0    0.0        0.0      19.021759  0.880377   \n",
       "1 -0.000195  0.000015         0    0.0        0.0      22.828102  1.034391   \n",
       "2  0.000728  0.000011         0    0.0        0.0      28.743233  0.948585   \n",
       "3  0.000277  0.000016         0    0.0        0.0      23.706001  0.875567   \n",
       "4  0.000616  0.000081         0    0.0        0.0       2.716969  0.984394   \n",
       "\n",
       "    DOF                                        SPECTROFLUX  \\\n",
       "0  4542  [19.371477127075195, 31.882356643676758, 42.20...   \n",
       "1  4487  [20.819482803344727, 33.85621643066406, 44.854...   \n",
       "2  4505  [31.04962921142578, 56.28861999511719, 76.5466...   \n",
       "3  4568  [19.188594818115234, 33.665863037109375, 45.82...   \n",
       "4  4395  [1.5342345237731934, 2.4548885822296143, 3.740...   \n",
       "\n",
       "                                                 url   SNR_Bin  High_Quality  \\\n",
       "0  https://data.sdss.org/sas/dr17/eboss/spectro/r...  Moderate         False   \n",
       "1  https://data.sdss.org/sas/dr17/eboss/spectro/r...      Good          True   \n",
       "2  https://data.sdss.org/sas/dr17/eboss/spectro/r...      Good          True   \n",
       "3  https://data.sdss.org/sas/dr17/eboss/spectro/r...      Good          True   \n",
       "4  https://data.sdss.org/sas/dr17/eboss/spectro/r...  Very Low         False   \n",
       "\n",
       "   Mean_Flux  Flux_to_Noise    u_flux    g_flux    r_flux    i_flux    z_flux  \n",
       "0  37.168239       1.953985  0.269059  0.268631  0.195929  0.125402  0.047316  \n",
       "1  40.272045       1.764143  0.313935  0.310882  0.236147  0.178934  0.105151  \n",
       "2  67.842227       2.360285  0.630979  0.791056  0.716503  0.637338  0.519138  \n",
       "3  40.974394       1.728440  0.263392  0.306808  0.250842  0.196867  0.137755  \n",
       "4   2.968928       1.092735 -0.283738 -0.361274 -0.387023 -0.406692 -0.432778  "
      ]
     },
     "execution_count": 21,
     "metadata": {},
     "output_type": "execute_result"
    }
   ],
   "source": [
    "columns_to_drop = [\"Unnamed: 0\", \"CLASS\", \"SUBCLASS\", \"SUBCLASS_CLEAN\", \"SPECTRAL_GROUP\"]\n",
    "labels_tabular = tabular_data[\"SPECTRAL_GROUP\"]\n",
    "tabular_data = tabular_data.drop(columns=columns_to_drop)\n",
    "pd.set_option('display.max_columns', None)\n",
    "tabular_data.head()"
   ]
  },
  {
   "cell_type": "code",
   "execution_count": 37,
   "id": "8e7cbe93-539b-46af-8096-5feaede2a486",
   "metadata": {},
   "outputs": [
    {
     "data": {
      "text/plain": [
       "(26743, 26)"
      ]
     },
     "execution_count": 37,
     "metadata": {},
     "output_type": "execute_result"
    }
   ],
   "source": [
    "tabular_data.shape"
   ]
  },
  {
   "cell_type": "code",
   "execution_count": 22,
   "id": "ef478b36-8b05-4be6-b351-62e2d9a2c090",
   "metadata": {},
   "outputs": [
    {
     "data": {
      "text/plain": [
       "0    F\n",
       "1    F\n",
       "2    F\n",
       "3    F\n",
       "4    F\n",
       "Name: SPECTRAL_GROUP, dtype: object"
      ]
     },
     "execution_count": 22,
     "metadata": {},
     "output_type": "execute_result"
    }
   ],
   "source": [
    "labels.head()"
   ]
  },
  {
   "cell_type": "code",
   "execution_count": 29,
   "id": "ff694b91-10f9-4bf0-b2c0-05d454a1dd3f",
   "metadata": {},
   "outputs": [
    {
     "data": {
      "text/plain": [
       "(24889, 1024)"
      ]
     },
     "execution_count": 29,
     "metadata": {},
     "output_type": "execute_result"
    }
   ],
   "source": [
    "spectrograms = spectrogram_data[\"spectrograms\"] \n",
    "labels_spect = spectrogram_data[\"labels\"] \n",
    "spectrograms.shape"
   ]
  },
  {
   "cell_type": "markdown",
   "id": "8b9ad8e7-0681-4dfa-a46a-3885e28655b2",
   "metadata": {},
   "source": [
    "# Training The LSTM (Tabular Data) branch"
   ]
  },
  {
   "cell_type": "code",
   "execution_count": 33,
   "id": "70d35bb9-1092-4375-87e4-22a51fa4a1d1",
   "metadata": {},
   "outputs": [
    {
     "name": "stdout",
     "output_type": "stream",
     "text": [
      "X shape: (24889, 1024, 1)\n",
      "Total samples: 24889\n",
      "Unique classes: ['A' 'B' 'CV' 'F' 'G' 'K' 'L' 'M' 'WD']\n"
     ]
    }
   ],
   "source": [
    "le_tabular = LabelEncoder()\n",
    "labels_encoded_tabular = le_tabular.fit_transform(labels)\n",
    "X = spectrograms\n",
    "X = X.reshape((X.shape[0], X.shape[1], 1))\n",
    "y = labels\n",
    "print(\"X shape:\", X.shape)\n",
    "print(f'Total samples: {X.shape[0]}')\n",
    "print(f'Unique classes: {le_tabular.classes_}')"
   ]
  },
  {
   "cell_type": "code",
   "execution_count": 34,
   "id": "e3b28d3e-18dc-41ac-95c1-75258ff2f220",
   "metadata": {},
   "outputs": [],
   "source": [
    "# Method taken from my EchoScope project, check it out here: https://github.com/blueskinlizard/EchoScope/tree/main\n",
    "def split_sets(X, y):\n",
    "    X_train_val, X_test, y_train_val, y_test = train_test_split(\n",
    "    X, y, test_size=0.2, random_state=42, stratify=y)\n",
    "\n",
    "    X_train, X_val, y_train, y_val = train_test_split(\n",
    "        X_train_val, y_train_val, test_size=0.25, random_state=42, stratify=y_train_val)\n",
    "    \n",
    "    print(f'Train shape: {X_train.shape}, {y_train.shape}')\n",
    "    print(f'Validation shape: {X_val.shape}, {y_val.shape}')\n",
    "    print(f'Test shape: {X_test.shape}, {y_test.shape}')\n",
    "    return X_train, y_train, X_val, y_val, X_test, y_test"
   ]
  },
  {
   "cell_type": "code",
   "execution_count": 35,
   "id": "6cecd38a-4be5-48f9-9d04-0d6d2be9a756",
   "metadata": {},
   "outputs": [
    {
     "ename": "ValueError",
     "evalue": "Found input variables with inconsistent numbers of samples: [24889, 26743]",
     "output_type": "error",
     "traceback": [
      "\u001b[31m---------------------------------------------------------------------------\u001b[39m",
      "\u001b[31mValueError\u001b[39m                                Traceback (most recent call last)",
      "\u001b[36mCell\u001b[39m\u001b[36m \u001b[39m\u001b[32mIn[35]\u001b[39m\u001b[32m, line 1\u001b[39m\n\u001b[32m----> \u001b[39m\u001b[32m1\u001b[39m X_train, y_train, X_val, y_val, X_test, y_test = \u001b[43msplit_sets\u001b[49m\u001b[43m(\u001b[49m\u001b[43mX\u001b[49m\u001b[43m,\u001b[49m\u001b[43m \u001b[49m\u001b[43my\u001b[49m\u001b[43m)\u001b[49m\n",
      "\u001b[36mCell\u001b[39m\u001b[36m \u001b[39m\u001b[32mIn[34]\u001b[39m\u001b[32m, line 3\u001b[39m, in \u001b[36msplit_sets\u001b[39m\u001b[34m(X, y)\u001b[39m\n\u001b[32m      2\u001b[39m \u001b[38;5;28;01mdef\u001b[39;00m\u001b[38;5;250m \u001b[39m\u001b[34msplit_sets\u001b[39m(X, y):\n\u001b[32m----> \u001b[39m\u001b[32m3\u001b[39m     X_train_val, X_test, y_train_val, y_test = \u001b[43mtrain_test_split\u001b[49m\u001b[43m(\u001b[49m\n\u001b[32m      4\u001b[39m \u001b[43m    \u001b[49m\u001b[43mX\u001b[49m\u001b[43m,\u001b[49m\u001b[43m \u001b[49m\u001b[43my\u001b[49m\u001b[43m,\u001b[49m\u001b[43m \u001b[49m\u001b[43mtest_size\u001b[49m\u001b[43m=\u001b[49m\u001b[32;43m0.2\u001b[39;49m\u001b[43m,\u001b[49m\u001b[43m \u001b[49m\u001b[43mrandom_state\u001b[49m\u001b[43m=\u001b[49m\u001b[32;43m42\u001b[39;49m\u001b[43m,\u001b[49m\u001b[43m \u001b[49m\u001b[43mstratify\u001b[49m\u001b[43m=\u001b[49m\u001b[43my\u001b[49m\u001b[43m)\u001b[49m\n\u001b[32m      6\u001b[39m     X_train, X_val, y_train, y_val = train_test_split(\n\u001b[32m      7\u001b[39m         X_train_val, y_train_val, test_size=\u001b[32m0.25\u001b[39m, random_state=\u001b[32m42\u001b[39m, stratify=y_train_val)\n\u001b[32m      9\u001b[39m     \u001b[38;5;28mprint\u001b[39m(\u001b[33mf\u001b[39m\u001b[33m'\u001b[39m\u001b[33mTrain shape: \u001b[39m\u001b[38;5;132;01m{\u001b[39;00mX_train.shape\u001b[38;5;132;01m}\u001b[39;00m\u001b[33m, \u001b[39m\u001b[38;5;132;01m{\u001b[39;00my_train.shape\u001b[38;5;132;01m}\u001b[39;00m\u001b[33m'\u001b[39m)\n",
      "\u001b[36mFile \u001b[39m\u001b[32m~\\AppData\\Local\\Programs\\Git\\venv\\Lib\\site-packages\\sklearn\\utils\\_param_validation.py:216\u001b[39m, in \u001b[36mvalidate_params.<locals>.decorator.<locals>.wrapper\u001b[39m\u001b[34m(*args, **kwargs)\u001b[39m\n\u001b[32m    210\u001b[39m \u001b[38;5;28;01mtry\u001b[39;00m:\n\u001b[32m    211\u001b[39m     \u001b[38;5;28;01mwith\u001b[39;00m config_context(\n\u001b[32m    212\u001b[39m         skip_parameter_validation=(\n\u001b[32m    213\u001b[39m             prefer_skip_nested_validation \u001b[38;5;129;01mor\u001b[39;00m global_skip_validation\n\u001b[32m    214\u001b[39m         )\n\u001b[32m    215\u001b[39m     ):\n\u001b[32m--> \u001b[39m\u001b[32m216\u001b[39m         \u001b[38;5;28;01mreturn\u001b[39;00m \u001b[43mfunc\u001b[49m\u001b[43m(\u001b[49m\u001b[43m*\u001b[49m\u001b[43margs\u001b[49m\u001b[43m,\u001b[49m\u001b[43m \u001b[49m\u001b[43m*\u001b[49m\u001b[43m*\u001b[49m\u001b[43mkwargs\u001b[49m\u001b[43m)\u001b[49m\n\u001b[32m    217\u001b[39m \u001b[38;5;28;01mexcept\u001b[39;00m InvalidParameterError \u001b[38;5;28;01mas\u001b[39;00m e:\n\u001b[32m    218\u001b[39m     \u001b[38;5;66;03m# When the function is just a wrapper around an estimator, we allow\u001b[39;00m\n\u001b[32m    219\u001b[39m     \u001b[38;5;66;03m# the function to delegate validation to the estimator, but we replace\u001b[39;00m\n\u001b[32m    220\u001b[39m     \u001b[38;5;66;03m# the name of the estimator by the name of the function in the error\u001b[39;00m\n\u001b[32m    221\u001b[39m     \u001b[38;5;66;03m# message to avoid confusion.\u001b[39;00m\n\u001b[32m    222\u001b[39m     msg = re.sub(\n\u001b[32m    223\u001b[39m         \u001b[33mr\u001b[39m\u001b[33m\"\u001b[39m\u001b[33mparameter of \u001b[39m\u001b[33m\\\u001b[39m\u001b[33mw+ must be\u001b[39m\u001b[33m\"\u001b[39m,\n\u001b[32m    224\u001b[39m         \u001b[33mf\u001b[39m\u001b[33m\"\u001b[39m\u001b[33mparameter of \u001b[39m\u001b[38;5;132;01m{\u001b[39;00mfunc.\u001b[34m__qualname__\u001b[39m\u001b[38;5;132;01m}\u001b[39;00m\u001b[33m must be\u001b[39m\u001b[33m\"\u001b[39m,\n\u001b[32m    225\u001b[39m         \u001b[38;5;28mstr\u001b[39m(e),\n\u001b[32m    226\u001b[39m     )\n",
      "\u001b[36mFile \u001b[39m\u001b[32m~\\AppData\\Local\\Programs\\Git\\venv\\Lib\\site-packages\\sklearn\\model_selection\\_split.py:2848\u001b[39m, in \u001b[36mtrain_test_split\u001b[39m\u001b[34m(test_size, train_size, random_state, shuffle, stratify, *arrays)\u001b[39m\n\u001b[32m   2845\u001b[39m \u001b[38;5;28;01mif\u001b[39;00m n_arrays == \u001b[32m0\u001b[39m:\n\u001b[32m   2846\u001b[39m     \u001b[38;5;28;01mraise\u001b[39;00m \u001b[38;5;167;01mValueError\u001b[39;00m(\u001b[33m\"\u001b[39m\u001b[33mAt least one array required as input\u001b[39m\u001b[33m\"\u001b[39m)\n\u001b[32m-> \u001b[39m\u001b[32m2848\u001b[39m arrays = \u001b[43mindexable\u001b[49m\u001b[43m(\u001b[49m\u001b[43m*\u001b[49m\u001b[43marrays\u001b[49m\u001b[43m)\u001b[49m\n\u001b[32m   2850\u001b[39m n_samples = _num_samples(arrays[\u001b[32m0\u001b[39m])\n\u001b[32m   2851\u001b[39m n_train, n_test = _validate_shuffle_split(\n\u001b[32m   2852\u001b[39m     n_samples, test_size, train_size, default_test_size=\u001b[32m0.25\u001b[39m\n\u001b[32m   2853\u001b[39m )\n",
      "\u001b[36mFile \u001b[39m\u001b[32m~\\AppData\\Local\\Programs\\Git\\venv\\Lib\\site-packages\\sklearn\\utils\\validation.py:532\u001b[39m, in \u001b[36mindexable\u001b[39m\u001b[34m(*iterables)\u001b[39m\n\u001b[32m    502\u001b[39m \u001b[38;5;250m\u001b[39m\u001b[33;03m\"\"\"Make arrays indexable for cross-validation.\u001b[39;00m\n\u001b[32m    503\u001b[39m \n\u001b[32m    504\u001b[39m \u001b[33;03mChecks consistent length, passes through None, and ensures that everything\u001b[39;00m\n\u001b[32m   (...)\u001b[39m\u001b[32m    528\u001b[39m \u001b[33;03m[[1, 2, 3], array([2, 3, 4]), None, <...Sparse...dtype 'int64'...shape (3, 1)>]\u001b[39;00m\n\u001b[32m    529\u001b[39m \u001b[33;03m\"\"\"\u001b[39;00m\n\u001b[32m    531\u001b[39m result = [_make_indexable(X) \u001b[38;5;28;01mfor\u001b[39;00m X \u001b[38;5;129;01min\u001b[39;00m iterables]\n\u001b[32m--> \u001b[39m\u001b[32m532\u001b[39m \u001b[43mcheck_consistent_length\u001b[49m\u001b[43m(\u001b[49m\u001b[43m*\u001b[49m\u001b[43mresult\u001b[49m\u001b[43m)\u001b[49m\n\u001b[32m    533\u001b[39m \u001b[38;5;28;01mreturn\u001b[39;00m result\n",
      "\u001b[36mFile \u001b[39m\u001b[32m~\\AppData\\Local\\Programs\\Git\\venv\\Lib\\site-packages\\sklearn\\utils\\validation.py:475\u001b[39m, in \u001b[36mcheck_consistent_length\u001b[39m\u001b[34m(*arrays)\u001b[39m\n\u001b[32m    473\u001b[39m uniques = np.unique(lengths)\n\u001b[32m    474\u001b[39m \u001b[38;5;28;01mif\u001b[39;00m \u001b[38;5;28mlen\u001b[39m(uniques) > \u001b[32m1\u001b[39m:\n\u001b[32m--> \u001b[39m\u001b[32m475\u001b[39m     \u001b[38;5;28;01mraise\u001b[39;00m \u001b[38;5;167;01mValueError\u001b[39;00m(\n\u001b[32m    476\u001b[39m         \u001b[33m\"\u001b[39m\u001b[33mFound input variables with inconsistent numbers of samples: \u001b[39m\u001b[38;5;132;01m%r\u001b[39;00m\u001b[33m\"\u001b[39m\n\u001b[32m    477\u001b[39m         % [\u001b[38;5;28mint\u001b[39m(l) \u001b[38;5;28;01mfor\u001b[39;00m l \u001b[38;5;129;01min\u001b[39;00m lengths]\n\u001b[32m    478\u001b[39m     )\n",
      "\u001b[31mValueError\u001b[39m: Found input variables with inconsistent numbers of samples: [24889, 26743]"
     ]
    }
   ],
   "source": [
    "X_train, y_train, X_val, y_val, X_test, y_test = split_sets(X, y)"
   ]
  },
  {
   "cell_type": "code",
   "execution_count": 8,
   "id": "667fc7ed-07f5-4513-8028-1e588aa5570b",
   "metadata": {},
   "outputs": [],
   "source": [
    "# Dataloader needs (B, 1024, 1) shape\n",
    "class StarTrack_LSTM(nn.Module):\n",
    "    def __init__(self, input_size=1, hidden_size=256, output_size=9, num_layers=3):\n",
    "        super().__init__()\n",
    "        self.lstm = nn.LSTM(\n",
    "            input_size=input_size,\n",
    "            hidden_size=hidden_size,\n",
    "            num_layers=num_layers,\n",
    "            bidirectional=True,\n",
    "            dropout=0.5, # Lower/Increase based off testing results\n",
    "            batch_first=True\n",
    "        )\n",
    "        self.bn = nn.BatchNorm1d(hidden_size*2)\n",
    "        self.fc1 = nn.Linear(hidden_size*2, hidden_size)\n",
    "        self.fc2 = nn.Linear(hidden_size, output_size)\n",
    "        self.dropout = nn.Dropout(0.5)\n",
    "        \n",
    "    def forward(self, x):\n",
    "        x, _ = self.lstm(x)\n",
    "        x = x[:, -1, :]\n",
    "        x = self.bn(x)\n",
    "        x = F.relu(self.fc1(x))\n",
    "        x = self.dropout(x)\n",
    "        x = self.fc2(x)\n",
    "        return x\n",
    "    \n",
    "    def extract_features(self, x):\n",
    "        x, _ = self.lstm(x)\n",
    "        x = x[:, -1, :]\n",
    "        x = self.bn(x)\n",
    "        x = F.relu(self.fc1(x))\n",
    "        return x\n",
    "        \n",
    "# Number of classes after grouping = 9"
   ]
  },
  {
   "cell_type": "code",
   "execution_count": 11,
   "id": "fdb61258-aafd-4f9e-8bda-03061af68fb8",
   "metadata": {},
   "outputs": [],
   "source": [
    "class StarTrack_Dense(nn.Module):\n",
    "    def __init__(self, input_size=22, hidden_sizes=[128, 64], output_size=9):\n",
    "        super().__init__()\n",
    "        self.fc1 = nn.Linear(input_size, hidden_sizes[0])\n",
    "        self.bn1 = nn.BatchNorm1d(hidden_sizes[0])\n",
    "        self.dropout1 = nn.Dropout(0.3)\n",
    "\n",
    "        self.fc2 = nn.Linear(hidden_sizes[0], hidden_sizes[1])\n",
    "        self.bn2 = nn.BatchNorm1d(hidden_sizes[1])\n",
    "        self.dropout2 = nn.Dropout(0.3)\n",
    "\n",
    "        self.out = nn.Linear(hidden_sizes[1], output_size)\n",
    "\n",
    "    def forward(self, x):\n",
    "        x = F.relu(self.bn1(self.fc1(x)))\n",
    "        x = self.dropout1(x)\n",
    "\n",
    "        x = F.relu(self.bn2(self.fc2(x)))\n",
    "        x = self.dropout2(x)\n",
    "\n",
    "        x = self.out(x)\n",
    "        return x\n",
    "    def extract_features(self, x):\n",
    "        x = F.relu(self.bn1(self.fc1(x)))\n",
    "        x = self.dropout1(x)\n",
    "        x = F.relu(self.bn2(self.fc2(x)))\n",
    "        return x"
   ]
  },
  {
   "cell_type": "code",
   "execution_count": null,
   "id": "1a40c370-198a-4b03-ba17-ea9425edcb53",
   "metadata": {},
   "outputs": [],
   "source": [
    "class StarTrack_Fusion(nn.Module):\n",
    "    def __init__(self, lstm_model: nn.Module, dense_model: nn.Module,\n",
    "                 fused_hidden_dim=512, num_classes=9): \n",
    "        super().__init__()\n",
    "        self.lstm_branch = lstm_model\n",
    "        self.dense_branch = dense_model\n",
    "\n",
    "        for param in self.lstm_branch.parameters():\n",
    "            param.requires_grad = False\n",
    "        for param in self.dense_branch.parameters():\n",
    "            param.requires_grad = False\n",
    "            \n",
    "        for param in self.lstm_branch.fc1.parameters():\n",
    "            param.requires_grad = True\n",
    "        for param in self.dense_branch.fc1.parameters():\n",
    "            param.requires_grad = True\n",
    "\n",
    "        lstm_output_dim = 256\n",
    "        dense_output_dim = 64\n",
    "        \n",
    "        self.cross_attn = nn.MultiheadAttention(embed_dim=lstm_output_dim, num_heads=4)\n",
    "        self.fusion = nn.Sequential(\n",
    "            nn.Linear(lstm_output_dim + dense_output_dim, fused_hidden_dim),\n",
    "            nn.GELU(),  \n",
    "            nn.BatchNorm1d(fused_hidden_dim),\n",
    "            nn.Linear(fused_hidden_dim, fused_hidden_dim//2),\n",
    "            nn.GELU(),\n",
    "            nn.Dropout(0.3), \n",
    "            nn.Linear(fused_hidden_dim//2, num_classes)\n",
    "        )\n",
    "        \n",
    "        self.lstm_classifier = nn.Linear(lstm_output_dim, num_classes)\n",
    "        self.dense_classifier = nn.Linear(dense_output_dim, num_classes)\n",
    "        self.dense_proj = nn.Linear(dense_output_dim, lstm_output_dim)\n",
    "\n",
    "    def forward(self, lstm_input, dense_input):\n",
    "            lstm_feat = self.lstm_branch.extract_features(lstm_input)\n",
    "            dense_feat = self.dense_branch.extract_features(dense_input)\n",
    "        \n",
    "            lstm_q = lstm_feat.unsqueeze(0)  \n",
    "            dense_kv = dense_proj.unsqueeze(0)  \n",
    "\n",
    "            dense_proj = self.dense_proj(dense_feat) \n",
    "           \n",
    "            attn_out, _ = self.cross_attn(query=lstm_q, key=dense_kv, value=dense_kv)\n",
    "            attn_out = attn_out.squeeze(0)\n",
    "        \n",
    "            lstm_feat = lstm_feat + attn_out      \n",
    "            fused = torch.cat([lstm_feat, dense_feat], dim=1) \n",
    "            out = self.fusion(fused)\n",
    "        \n",
    "            lstm_out = self.lstm_classifier(lstm_feat)\n",
    "            dense_out = self.dense_classifier(dense_feat)\n",
    "            return out, lstm_out, dense_out\n"
   ]
  },
  {
   "cell_type": "code",
   "execution_count": null,
   "id": "e34ce593-8293-412b-8d77-0de497cbdd02",
   "metadata": {},
   "outputs": [],
   "source": []
  }
 ],
 "metadata": {
  "kernelspec": {
   "display_name": "Python 3 (ipykernel)",
   "language": "python",
   "name": "python3"
  },
  "language_info": {
   "codemirror_mode": {
    "name": "ipython",
    "version": 3
   },
   "file_extension": ".py",
   "mimetype": "text/x-python",
   "name": "python",
   "nbconvert_exporter": "python",
   "pygments_lexer": "ipython3",
   "version": "3.13.1"
  }
 },
 "nbformat": 4,
 "nbformat_minor": 5
}
